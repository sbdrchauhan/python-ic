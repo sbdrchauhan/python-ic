{
  "nbformat": 4,
  "nbformat_minor": 0,
  "metadata": {
    "colab": {
      "name": "python_functions.ipynb",
      "provenance": [],
      "authorship_tag": "ABX9TyNcgqYQtzikb1f6oeGRyx9z",
      "include_colab_link": true
    },
    "kernelspec": {
      "name": "python3",
      "display_name": "Python 3"
    }
  },
  "cells": [
    {
      "cell_type": "markdown",
      "metadata": {
        "id": "view-in-github",
        "colab_type": "text"
      },
      "source": [
        "<a href=\"https://colab.research.google.com/github/sbdrchauhan/python-ic/blob/main/python_functions.ipynb\" target=\"_parent\"><img src=\"https://colab.research.google.com/assets/colab-badge.svg\" alt=\"Open In Colab\"/></a>"
      ]
    },
    {
      "cell_type": "markdown",
      "metadata": {
        "id": "FK9_wXlpOGCt"
      },
      "source": [
        "## This notebook consists of the list of python functions that are collected from various sources and are interesting to refer later and solve it."
      ]
    },
    {
      "cell_type": "markdown",
      "metadata": {
        "id": "LuUEJzDzOcZ2"
      },
      "source": [
        "# **FizzBuzz** \r\n",
        "\r\n",
        "The famous FizzBuzz problem you might get asked by your interviewer.\r\n",
        "\r\n",
        "**Problem:** Write a python program that prints the numbers from lets say 1 to 50. But for multiplies of three print \"Fizz\" instead of the number and for multiples of five print \"Buzz\". For numbers that are multiples of both three and five print \"FizzBuzz\"."
      ]
    },
    {
      "cell_type": "code",
      "metadata": {
        "colab": {
          "base_uri": "https://localhost:8080/"
        },
        "id": "ck2sS1yQN-1q",
        "outputId": "13365106-210e-46fe-e55f-e8de62338eb2"
      },
      "source": [
        "for num in range(1,20):\r\n",
        "  if num%3==0 and num%5==0:\r\n",
        "    print(\"FizzBuzz\")\r\n",
        "  elif num%3==0:\r\n",
        "    print(\"Fizz\")\r\n",
        "  elif num%5==0:\r\n",
        "    print(\"Buzz\")\r\n",
        "  else:\r\n",
        "    print(num)\r\n",
        "\r\n",
        "# Note:\r\n",
        "#-------\r\n",
        "# In this method: you need to be careful that your conditions must be this order\r\n",
        "# put your most exhaustive conditional check at the top\r\n",
        "# lower conditions will be lesser and lesser exhaustive cases\r\n",
        "# if you reverse the order, lets say you first check num%3==0, then 15 will be \r\n",
        "# only Fizz and won't reach to check if it was actually divisible by both conditions"
      ],
      "execution_count": null,
      "outputs": [
        {
          "output_type": "stream",
          "text": [
            "1\n",
            "2\n",
            "Fizz\n",
            "4\n",
            "Buzz\n",
            "Fizz\n",
            "7\n",
            "8\n",
            "Fizz\n",
            "Buzz\n",
            "11\n",
            "Fizz\n",
            "13\n",
            "14\n",
            "FizzBuzz\n",
            "16\n",
            "17\n",
            "Fizz\n",
            "19\n"
          ],
          "name": "stdout"
        }
      ]
    },
    {
      "cell_type": "markdown",
      "metadata": {
        "id": "ENM96CKVQn_n"
      },
      "source": [
        "# **Fibonacci Sequence**\r\n",
        "\r\n",
        "**Problem:** Generate the sequence like the following:\r\n",
        "1,1,2,3,5,8,13,21,...\r\n",
        "\r\n",
        "Each number in the series is the addition of two numbers earlier in the series."
      ]
    },
    {
      "cell_type": "code",
      "metadata": {
        "colab": {
          "base_uri": "https://localhost:8080/"
        },
        "id": "Jq9KKZaPPW5X",
        "outputId": "961f6e46-ba00-4938-9a44-4bbe16e16427"
      },
      "source": [
        "# As I know the fibonacci series always starts with two ones, I will initialize my final \r\n",
        "# list with the two ones\r\n",
        "\r\n",
        "lst = [1,1]\r\n",
        "for i in range(2,11): # this for loop will help me to index the elements in the list\r\n",
        "  lst.append(lst[i-2]+lst[i-1])\r\n",
        "print(lst)"
      ],
      "execution_count": null,
      "outputs": [
        {
          "output_type": "stream",
          "text": [
            "[1, 1, 2, 3, 5, 8, 13, 21, 34, 55, 89]\n"
          ],
          "name": "stdout"
        }
      ]
    },
    {
      "cell_type": "markdown",
      "metadata": {
        "id": "VAXQ4BTcSMxm"
      },
      "source": [
        "# **Prime Numbers:**\r\n",
        "\r\n",
        "A prime number can only be divisible by 1 or itself. \r\n",
        "\r\n",
        "Note that 1 is not a prime number.\r\n",
        "\r\n",
        "**Problem** Generate such prime numbers\r\n",
        "\r\n",
        "**Hint** You can check the factors of each number by less than the number and if it has facotr, then it would not be prime.\r\n"
      ]
    },
    {
      "cell_type": "code",
      "metadata": {
        "colab": {
          "base_uri": "https://localhost:8080/"
        },
        "id": "aeWOe59LRmiY",
        "outputId": "cf935eea-fbc1-4604-9bc6-673250f5b5e4"
      },
      "source": [
        "# one-method\r\n",
        "for num in range(2,20):\r\n",
        "  for i in range(2,num): # getting all numbers between 2 to num-1 to see if it is a factor\r\n",
        "    if num%i==0:\r\n",
        "      break # basically, it is a factor of some prime, so won't be next prime for us\r\n",
        "  else:\r\n",
        "    print(num)"
      ],
      "execution_count": null,
      "outputs": [
        {
          "output_type": "stream",
          "text": [
            "2\n",
            "3\n",
            "5\n",
            "7\n",
            "11\n",
            "13\n",
            "17\n",
            "19\n"
          ],
          "name": "stdout"
        }
      ]
    },
    {
      "cell_type": "code",
      "metadata": {
        "colab": {
          "base_uri": "https://localhost:8080/"
        },
        "id": "G_ZhVKVJTaT8",
        "outputId": "caf21b56-11a3-4ae6-935a-37132be76e7c"
      },
      "source": [
        "# second-way (shorter of first-actually)\r\n",
        "for num in range(2,20):\r\n",
        "  if all(num%i!=0 for i in range(2,num)):\r\n",
        "    print(num)"
      ],
      "execution_count": null,
      "outputs": [
        {
          "output_type": "stream",
          "text": [
            "2\n",
            "3\n",
            "5\n",
            "7\n",
            "11\n",
            "13\n",
            "17\n",
            "19\n"
          ],
          "name": "stdout"
        }
      ]
    },
    {
      "cell_type": "code",
      "metadata": {
        "colab": {
          "base_uri": "https://localhost:8080/"
        },
        "id": "aeBjczHGTum5",
        "outputId": "08a20555-e4d8-42f4-883c-57d77d95765b"
      },
      "source": [
        "# third-way:\r\n",
        "# using while\r\n",
        "primes = []\r\n",
        "candidates = list(range(2,20))\r\n",
        "while len(candidates)>0:\r\n",
        "  prime = candidates[0]\r\n",
        "  primes.append(prime)\r\n",
        "  candidates = candidates[1:]\r\n",
        "  for x in candidates:\r\n",
        "    if x%prime==0:\r\n",
        "      candidates.remove(x)\r\n",
        "print(primes)"
      ],
      "execution_count": null,
      "outputs": [
        {
          "output_type": "stream",
          "text": [
            "[2, 3, 5, 7, 11, 13, 17, 19]\n"
          ],
          "name": "stdout"
        }
      ]
    },
    {
      "cell_type": "markdown",
      "metadata": {
        "id": "gop0hG31oizj"
      },
      "source": [
        "### **Bonus**\r\n",
        "To count how many items of a certain kind is present in a list."
      ]
    },
    {
      "cell_type": "code",
      "metadata": {
        "id": "qOumNvCDT7vp",
        "colab": {
          "base_uri": "https://localhost:8080/"
        },
        "outputId": "a7adfa0b-b066-4b2e-c7f9-fd55f94750d4"
      },
      "source": [
        "lst = ['a','b','c','a','d','e','a','l','c','a','g','h','a']\r\n",
        "\r\n",
        "# from the list above lets say we want to know how many 'a' are there\r\n",
        "count = 0\r\n",
        "for item in lst:\r\n",
        "  if item=='a':\r\n",
        "    count += 1\r\n",
        "print(count)"
      ],
      "execution_count": null,
      "outputs": [
        {
          "output_type": "stream",
          "text": [
            "5\n"
          ],
          "name": "stdout"
        }
      ]
    },
    {
      "cell_type": "code",
      "metadata": {
        "id": "ofIIpfWupDRX",
        "colab": {
          "base_uri": "https://localhost:8080/"
        },
        "outputId": "87f80d09-5419-45ca-dd8a-c5a8a15ad9da"
      },
      "source": [
        "# But there is smarter way around to this:\r\n",
        "total_a = sum([1 for i in lst if i=='a'])\r\n",
        "print(total_a)"
      ],
      "execution_count": null,
      "outputs": [
        {
          "output_type": "stream",
          "text": [
            "5\n"
          ],
          "name": "stdout"
        }
      ]
    },
    {
      "cell_type": "markdown",
      "metadata": {
        "id": "BuckG7KHnII1"
      },
      "source": [
        "## **Palindrome**:\r\n",
        "A word or phrase that reads same forward and backward. For example:\r\n",
        "*madam*, *nurses run*, etc.\r\n",
        "\r\n",
        "Write a python program that outputs `True` or `False` based on the palindrome."
      ]
    },
    {
      "cell_type": "code",
      "metadata": {
        "id": "20krgPkWpRFN"
      },
      "source": [
        "# method_1: using the recursion technique\r\n",
        "def palindorme_1(some_string):\r\n",
        "  # first remove the space if it has\r\n",
        "  some_string = some_string.replace(\" \",\"\")\r\n",
        "  if len(some_string)==1:\r\n",
        "    return True\r\n",
        "  if some_string[0] != some_string[-1]:\r\n",
        "    return False\r\n",
        "  return palindorme_1(some_string[1:-1])\r\n",
        "  # here if none of the if staements runs, then it means we need to remove first\r\n",
        "  # and last elements of the string we are looking at\r\n"
      ],
      "execution_count": null,
      "outputs": []
    },
    {
      "cell_type": "code",
      "metadata": {
        "id": "wj77oqBAoa3W",
        "colab": {
          "base_uri": "https://localhost:8080/"
        },
        "outputId": "54af17bf-0fa6-4d7a-fcef-c0b122b13f13"
      },
      "source": [
        "# check the function\r\n",
        "print(palindorme_1(\"nurses run\"))"
      ],
      "execution_count": null,
      "outputs": [
        {
          "output_type": "stream",
          "text": [
            "True\n"
          ],
          "name": "stdout"
        }
      ]
    },
    {
      "cell_type": "code",
      "metadata": {
        "id": "coTksXLKogj0"
      },
      "source": [
        "# method 2: using for loop\r\n",
        "def palindorme_2(some_string):\r\n",
        "  some_string = some_string.replace(\" \",\"\")\r\n",
        "  for i in range(len(some_string)//2):\r\n",
        "    if some_string[i] != some_string[-i-1]:\r\n",
        "      return False\r\n",
        "  return True"
      ],
      "execution_count": null,
      "outputs": []
    },
    {
      "cell_type": "code",
      "metadata": {
        "id": "R39Lkb9tpAwW",
        "colab": {
          "base_uri": "https://localhost:8080/"
        },
        "outputId": "bda37759-cc4c-4f90-8e07-6899d56ceae3"
      },
      "source": [
        "# check the function\r\n",
        "print(palindorme_2(\"nurses run\"))"
      ],
      "execution_count": null,
      "outputs": [
        {
          "output_type": "stream",
          "text": [
            "True\n"
          ],
          "name": "stdout"
        }
      ]
    },
    {
      "cell_type": "markdown",
      "metadata": {
        "id": "JgYaI10Aqdcj"
      },
      "source": [
        "## **Rotate the list number of times specified**\r\n",
        "\r\n",
        "Write a function `rotate()`, with the parameters `my_list` and `num_rotations`. `rotate()` should return the input list rotated `num_rotations` forward.\r\n",
        "\r\n",
        "Example: `rotate(['a','b','c','d','e','f'], 1)` should return \r\n",
        "`['f','a','b','c','d','e']`"
      ]
    },
    {
      "cell_type": "code",
      "metadata": {
        "id": "8okT81VMpFNK"
      },
      "source": [
        "def rotate(my_list, num_rotations):\r\n",
        "  for i in range(num_rotations):\r\n",
        "    my_list.insert(0,my_list.pop()) # both pop() and insert() are inplace method\r\n",
        "  return my_list\r\n"
      ],
      "execution_count": null,
      "outputs": []
    },
    {
      "cell_type": "code",
      "metadata": {
        "id": "xiCM2HWpsUju",
        "colab": {
          "base_uri": "https://localhost:8080/"
        },
        "outputId": "b209d670-ae6f-428e-f216-90cb5e113909"
      },
      "source": [
        "# check the function\r\n",
        "rotate(['a','b','c','d','e','f'],1)"
      ],
      "execution_count": null,
      "outputs": [
        {
          "output_type": "execute_result",
          "data": {
            "text/plain": [
              "['f', 'a', 'b', 'c', 'd', 'e']"
            ]
          },
          "metadata": {
            "tags": []
          },
          "execution_count": 13
        }
      ]
    },
    {
      "cell_type": "markdown",
      "metadata": {
        "id": "6-zUSyzJt6bt"
      },
      "source": [
        "## **Remove duplicates**\r\n",
        "Write a python function `remove_duplicates()` tha removes the duplicates from the list.\r\n",
        "Example: input `['a','a','b','x','x','a','c']` should output `['a','b','c','x']`. you may sort the list at the end."
      ]
    },
    {
      "cell_type": "code",
      "metadata": {
        "id": "iNByEO7ZtHad"
      },
      "source": [
        "def remove_duplicates(lst):\r\n",
        "  unique_list = [] # I will append only unique values here\r\n",
        "  for el in lst: # going through each element and deciding\r\n",
        "    if el not in unique_list:\r\n",
        "      unique_list.append(el)\r\n",
        "      unique_list.sort() # inplace action sorted() doesnot change original list\r\n",
        "  return unique_list"
      ],
      "execution_count": null,
      "outputs": []
    },
    {
      "cell_type": "code",
      "metadata": {
        "id": "aT0YihJBvgFy",
        "colab": {
          "base_uri": "https://localhost:8080/"
        },
        "outputId": "5297a0ed-c749-4535-8bef-96f5e102b5e7"
      },
      "source": [
        "print(remove_duplicates(['a','a','b','x','x','a','c']))"
      ],
      "execution_count": null,
      "outputs": [
        {
          "output_type": "stream",
          "text": [
            "['a', 'b', 'c', 'x']\n"
          ],
          "name": "stdout"
        }
      ]
    },
    {
      "cell_type": "markdown",
      "metadata": {
        "id": "KzyrC3QdlWB4"
      },
      "source": [
        "##Pythagorean-Triplet\r\n",
        "\r\n",
        "Write a function that can tell if the 3 integers are pythagorean triplet (PT) or no. PT are 3 numbers that are the three sides of right angled triangle if $a,b,c$ and they satisfy the $a^2 + b^2 = c^2$ condition where $c>a,b$.\r\n",
        "\r\n",
        "\\>>> p_t([3,4,5])\r\n",
        "\r\n",
        "True\r\n",
        "\r\n",
        "\\>>>p_t([3,4,6])\r\n",
        "\r\n",
        "False"
      ]
    },
    {
      "cell_type": "code",
      "metadata": {
        "id": "d3F2mrKxvnic"
      },
      "source": [
        "def p_t(lst):\r\n",
        "  lst.sort()\r\n",
        "  if lst[0]**2 + lst[1]**2 == lst[2]**2:\r\n",
        "    return True\r\n",
        "  return False\r\n"
      ],
      "execution_count": 2,
      "outputs": []
    },
    {
      "cell_type": "code",
      "metadata": {
        "id": "N60HhDkvnVyd",
        "outputId": "4c969b3e-4729-432f-b8ab-87edcb6508c5",
        "colab": {
          "base_uri": "https://localhost:8080/"
        }
      },
      "source": [
        "p_t([3,4,5])"
      ],
      "execution_count": 3,
      "outputs": [
        {
          "output_type": "execute_result",
          "data": {
            "text/plain": [
              "True"
            ]
          },
          "metadata": {
            "tags": []
          },
          "execution_count": 3
        }
      ]
    },
    {
      "cell_type": "code",
      "metadata": {
        "id": "vlQza04-nfCD",
        "outputId": "942c03eb-0bf1-4fde-fb83-bd78f0337b40",
        "colab": {
          "base_uri": "https://localhost:8080/"
        }
      },
      "source": [
        "p_t([3,4,6])"
      ],
      "execution_count": 4,
      "outputs": [
        {
          "output_type": "execute_result",
          "data": {
            "text/plain": [
              "False"
            ]
          },
          "metadata": {
            "tags": []
          },
          "execution_count": 4
        }
      ]
    },
    {
      "cell_type": "code",
      "metadata": {
        "id": "SKCFcrSznjaK"
      },
      "source": [
        "# if I don't know the sorting, I need to check any combination\r\n",
        "def p_t1(lst):\r\n",
        "  for i in range(len(lst)):\r\n",
        "    for j in range(i+1, len(lst)):\r\n",
        "      for k in range(j+1, len(lst)):\r\n",
        "        if lst[i]**2 + lst[j]**2 == lst[k]**2:\r\n",
        "          return True\r\n",
        "  return False\r\n",
        "  # this returns False only after checking all possible combinations of three ints"
      ],
      "execution_count": 6,
      "outputs": []
    },
    {
      "cell_type": "code",
      "metadata": {
        "id": "YJqeruKHoRDT",
        "outputId": "21fc4af6-7823-4fa3-be30-f8d1795f4939",
        "colab": {
          "base_uri": "https://localhost:8080/"
        }
      },
      "source": [
        "p_t([3,4,5])"
      ],
      "execution_count": 7,
      "outputs": [
        {
          "output_type": "execute_result",
          "data": {
            "text/plain": [
              "True"
            ]
          },
          "metadata": {
            "tags": []
          },
          "execution_count": 7
        }
      ]
    },
    {
      "cell_type": "code",
      "metadata": {
        "id": "dmYJAy0boX_o",
        "outputId": "e5b9a9e6-6282-4b39-94c1-843cab03002e",
        "colab": {
          "base_uri": "https://localhost:8080/"
        }
      },
      "source": [
        "p_t([3,5,4])\r\n",
        "# I changed the order, but still found p_t"
      ],
      "execution_count": 9,
      "outputs": [
        {
          "output_type": "execute_result",
          "data": {
            "text/plain": [
              "True"
            ]
          },
          "metadata": {
            "tags": []
          },
          "execution_count": 9
        }
      ]
    },
    {
      "cell_type": "code",
      "metadata": {
        "id": "hko572PsobTw",
        "outputId": "071bab98-1db1-4d8e-ad44-12b247edc837",
        "colab": {
          "base_uri": "https://localhost:8080/"
        }
      },
      "source": [
        "p_t([10,6,8])"
      ],
      "execution_count": 10,
      "outputs": [
        {
          "output_type": "execute_result",
          "data": {
            "text/plain": [
              "True"
            ]
          },
          "metadata": {
            "tags": []
          },
          "execution_count": 10
        }
      ]
    },
    {
      "cell_type": "code",
      "metadata": {
        "id": "Oj-dVqY8ol_Q",
        "outputId": "41dfc476-757f-4aba-a834-f4279e88b14a",
        "colab": {
          "base_uri": "https://localhost:8080/"
        }
      },
      "source": [
        "p_t([2,1,3])"
      ],
      "execution_count": 11,
      "outputs": [
        {
          "output_type": "execute_result",
          "data": {
            "text/plain": [
              "False"
            ]
          },
          "metadata": {
            "tags": []
          },
          "execution_count": 11
        }
      ]
    },
    {
      "cell_type": "code",
      "metadata": {
        "id": "JosGHYcVooIH"
      },
      "source": [
        ""
      ],
      "execution_count": null,
      "outputs": []
    }
  ]
}