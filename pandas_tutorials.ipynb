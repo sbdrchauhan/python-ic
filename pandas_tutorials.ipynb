{
  "nbformat": 4,
  "nbformat_minor": 0,
  "metadata": {
    "colab": {
      "name": "pandas_tutorials.ipynb",
      "provenance": [],
      "authorship_tag": "ABX9TyNAs8hx01Q6MciPYQZ+aBcP",
      "include_colab_link": true
    },
    "kernelspec": {
      "name": "python3",
      "display_name": "Python 3"
    }
  },
  "cells": [
    {
      "cell_type": "markdown",
      "metadata": {
        "id": "view-in-github",
        "colab_type": "text"
      },
      "source": [
        "<a href=\"https://colab.research.google.com/github/sbdrchauhan/python-ic/blob/main/pandas_tutorials.ipynb\" target=\"_parent\"><img src=\"https://colab.research.google.com/assets/colab-badge.svg\" alt=\"Open In Colab\"/></a>"
      ]
    },
    {
      "cell_type": "markdown",
      "metadata": {
        "id": "vkaz93zYAnGp"
      },
      "source": [
        "I am thankful to different sources for the followowing knowledge. \r\n",
        "- Kevin (Data School)\r\n",
        "- CodeCademy"
      ]
    },
    {
      "cell_type": "code",
      "metadata": {
        "id": "ADGg9yvcsfiT"
      },
      "source": [
        "# lets import pandas \r\n",
        "import pandas as pd"
      ],
      "execution_count": 1,
      "outputs": []
    },
    {
      "cell_type": "code",
      "metadata": {
        "id": "IwB_ck9-2sSY"
      },
      "source": [
        "%matplotlib inline\r\n",
        "# makes plot in Ipython inplace"
      ],
      "execution_count": 2,
      "outputs": []
    },
    {
      "cell_type": "code",
      "metadata": {
        "id": "ZRChGYD9srw0"
      },
      "source": [
        "# lets import matplotlib\r\n",
        "import matplotlib.pyplot as plt"
      ],
      "execution_count": 3,
      "outputs": []
    },
    {
      "cell_type": "code",
      "metadata": {
        "colab": {
          "base_uri": "https://localhost:8080/"
        },
        "id": "h1ZVbqgRsxM7",
        "outputId": "c8710e97-ad65-4be8-a832-e1386ad8e105"
      },
      "source": [
        "# to get the dataset from the google drive saved folders (personal gmail drive)\r\n",
        "from google.colab import drive\r\n",
        "drive.mount('/content/drive')"
      ],
      "execution_count": 4,
      "outputs": [
        {
          "output_type": "stream",
          "text": [
            "Mounted at /content/drive\n"
          ],
          "name": "stdout"
        }
      ]
    },
    {
      "cell_type": "code",
      "metadata": {
        "id": "oE2xwyjFtDbx"
      },
      "source": [
        "ted = pd.read_csv('drive/My Drive/Data/ted.csv')\r\n",
        "# I have created Data folder inside my google drive and inside Data folder\r\n",
        "# there is ted.csv file/dataset "
      ],
      "execution_count": 5,
      "outputs": []
    },
    {
      "cell_type": "code",
      "metadata": {
        "colab": {
          "base_uri": "https://localhost:8080/",
          "height": 608
        },
        "id": "PAQqxvagtb_P",
        "outputId": "717fb1aa-33bf-490a-9379-06b30c7fba56"
      },
      "source": [
        "# we first look at head of dataset  (meaning first five rows from the dataset)\r\n",
        "# but if we say head(10) it will show 10 rows\r\n",
        "# also we have tail() method which shows last 5 rows of the dataset\r\n",
        "ted.head()"
      ],
      "execution_count": 6,
      "outputs": [
        {
          "output_type": "execute_result",
          "data": {
            "text/html": [
              "<div>\n",
              "<style scoped>\n",
              "    .dataframe tbody tr th:only-of-type {\n",
              "        vertical-align: middle;\n",
              "    }\n",
              "\n",
              "    .dataframe tbody tr th {\n",
              "        vertical-align: top;\n",
              "    }\n",
              "\n",
              "    .dataframe thead th {\n",
              "        text-align: right;\n",
              "    }\n",
              "</style>\n",
              "<table border=\"1\" class=\"dataframe\">\n",
              "  <thead>\n",
              "    <tr style=\"text-align: right;\">\n",
              "      <th></th>\n",
              "      <th>comments</th>\n",
              "      <th>description</th>\n",
              "      <th>duration</th>\n",
              "      <th>event</th>\n",
              "      <th>film_date</th>\n",
              "      <th>languages</th>\n",
              "      <th>main_speaker</th>\n",
              "      <th>name</th>\n",
              "      <th>num_speaker</th>\n",
              "      <th>published_date</th>\n",
              "      <th>ratings</th>\n",
              "      <th>related_talks</th>\n",
              "      <th>speaker_occupation</th>\n",
              "      <th>tags</th>\n",
              "      <th>title</th>\n",
              "      <th>url</th>\n",
              "      <th>views</th>\n",
              "    </tr>\n",
              "  </thead>\n",
              "  <tbody>\n",
              "    <tr>\n",
              "      <th>0</th>\n",
              "      <td>4553</td>\n",
              "      <td>Sir Ken Robinson makes an entertaining and pro...</td>\n",
              "      <td>1164</td>\n",
              "      <td>TED2006</td>\n",
              "      <td>1140825600</td>\n",
              "      <td>60</td>\n",
              "      <td>Ken Robinson</td>\n",
              "      <td>Ken Robinson: Do schools kill creativity?</td>\n",
              "      <td>1</td>\n",
              "      <td>1151367060</td>\n",
              "      <td>[{'id': 7, 'name': 'Funny', 'count': 19645}, {...</td>\n",
              "      <td>[{'id': 865, 'hero': 'https://pe.tedcdn.com/im...</td>\n",
              "      <td>Author/educator</td>\n",
              "      <td>['children', 'creativity', 'culture', 'dance',...</td>\n",
              "      <td>Do schools kill creativity?</td>\n",
              "      <td>https://www.ted.com/talks/ken_robinson_says_sc...</td>\n",
              "      <td>47227110</td>\n",
              "    </tr>\n",
              "    <tr>\n",
              "      <th>1</th>\n",
              "      <td>265</td>\n",
              "      <td>With the same humor and humanity he exuded in ...</td>\n",
              "      <td>977</td>\n",
              "      <td>TED2006</td>\n",
              "      <td>1140825600</td>\n",
              "      <td>43</td>\n",
              "      <td>Al Gore</td>\n",
              "      <td>Al Gore: Averting the climate crisis</td>\n",
              "      <td>1</td>\n",
              "      <td>1151367060</td>\n",
              "      <td>[{'id': 7, 'name': 'Funny', 'count': 544}, {'i...</td>\n",
              "      <td>[{'id': 243, 'hero': 'https://pe.tedcdn.com/im...</td>\n",
              "      <td>Climate advocate</td>\n",
              "      <td>['alternative energy', 'cars', 'climate change...</td>\n",
              "      <td>Averting the climate crisis</td>\n",
              "      <td>https://www.ted.com/talks/al_gore_on_averting_...</td>\n",
              "      <td>3200520</td>\n",
              "    </tr>\n",
              "    <tr>\n",
              "      <th>2</th>\n",
              "      <td>124</td>\n",
              "      <td>New York Times columnist David Pogue takes aim...</td>\n",
              "      <td>1286</td>\n",
              "      <td>TED2006</td>\n",
              "      <td>1140739200</td>\n",
              "      <td>26</td>\n",
              "      <td>David Pogue</td>\n",
              "      <td>David Pogue: Simplicity sells</td>\n",
              "      <td>1</td>\n",
              "      <td>1151367060</td>\n",
              "      <td>[{'id': 7, 'name': 'Funny', 'count': 964}, {'i...</td>\n",
              "      <td>[{'id': 1725, 'hero': 'https://pe.tedcdn.com/i...</td>\n",
              "      <td>Technology columnist</td>\n",
              "      <td>['computers', 'entertainment', 'interface desi...</td>\n",
              "      <td>Simplicity sells</td>\n",
              "      <td>https://www.ted.com/talks/david_pogue_says_sim...</td>\n",
              "      <td>1636292</td>\n",
              "    </tr>\n",
              "    <tr>\n",
              "      <th>3</th>\n",
              "      <td>200</td>\n",
              "      <td>In an emotionally charged talk, MacArthur-winn...</td>\n",
              "      <td>1116</td>\n",
              "      <td>TED2006</td>\n",
              "      <td>1140912000</td>\n",
              "      <td>35</td>\n",
              "      <td>Majora Carter</td>\n",
              "      <td>Majora Carter: Greening the ghetto</td>\n",
              "      <td>1</td>\n",
              "      <td>1151367060</td>\n",
              "      <td>[{'id': 3, 'name': 'Courageous', 'count': 760}...</td>\n",
              "      <td>[{'id': 1041, 'hero': 'https://pe.tedcdn.com/i...</td>\n",
              "      <td>Activist for environmental justice</td>\n",
              "      <td>['MacArthur grant', 'activism', 'business', 'c...</td>\n",
              "      <td>Greening the ghetto</td>\n",
              "      <td>https://www.ted.com/talks/majora_carter_s_tale...</td>\n",
              "      <td>1697550</td>\n",
              "    </tr>\n",
              "    <tr>\n",
              "      <th>4</th>\n",
              "      <td>593</td>\n",
              "      <td>You've never seen data presented like this. Wi...</td>\n",
              "      <td>1190</td>\n",
              "      <td>TED2006</td>\n",
              "      <td>1140566400</td>\n",
              "      <td>48</td>\n",
              "      <td>Hans Rosling</td>\n",
              "      <td>Hans Rosling: The best stats you've ever seen</td>\n",
              "      <td>1</td>\n",
              "      <td>1151440680</td>\n",
              "      <td>[{'id': 9, 'name': 'Ingenious', 'count': 3202}...</td>\n",
              "      <td>[{'id': 2056, 'hero': 'https://pe.tedcdn.com/i...</td>\n",
              "      <td>Global health expert; data visionary</td>\n",
              "      <td>['Africa', 'Asia', 'Google', 'demo', 'economic...</td>\n",
              "      <td>The best stats you've ever seen</td>\n",
              "      <td>https://www.ted.com/talks/hans_rosling_shows_t...</td>\n",
              "      <td>12005869</td>\n",
              "    </tr>\n",
              "  </tbody>\n",
              "</table>\n",
              "</div>"
            ],
            "text/plain": [
              "   comments  ...     views\n",
              "0      4553  ...  47227110\n",
              "1       265  ...   3200520\n",
              "2       124  ...   1636292\n",
              "3       200  ...   1697550\n",
              "4       593  ...  12005869\n",
              "\n",
              "[5 rows x 17 columns]"
            ]
          },
          "metadata": {
            "tags": []
          },
          "execution_count": 6
        }
      ]
    },
    {
      "cell_type": "code",
      "metadata": {
        "colab": {
          "base_uri": "https://localhost:8080/"
        },
        "id": "bdaFZgrjtvGX",
        "outputId": "d64b084f-174c-4dc0-a05e-1d63f119a142"
      },
      "source": [
        "# after observing the dataset, I see that each row is each ted talk given by speaker\r\n",
        "# and each columns tells about talks, like how many views, comments, who the speaker\r\n",
        "# what is the title, etc\r\n",
        "\r\n",
        "# another useful attribute to look at is shape, which tells how many rows and columns\r\n",
        "ted.shape\r\n",
        "\r\n",
        "# important: method has parenthesis like head(), while attributes don't like shape"
      ],
      "execution_count": 7,
      "outputs": [
        {
          "output_type": "execute_result",
          "data": {
            "text/plain": [
              "(2550, 17)"
            ]
          },
          "metadata": {
            "tags": []
          },
          "execution_count": 7
        }
      ]
    },
    {
      "cell_type": "code",
      "metadata": {
        "colab": {
          "base_uri": "https://localhost:8080/"
        },
        "id": "SeMRiiaAuU7l",
        "outputId": "ab7d4f8b-d7e3-457a-9daa-5cdb338e5464"
      },
      "source": [
        "# lets look at data types of each column\r\n",
        "ted.dtypes"
      ],
      "execution_count": 8,
      "outputs": [
        {
          "output_type": "execute_result",
          "data": {
            "text/plain": [
              "comments               int64\n",
              "description           object\n",
              "duration               int64\n",
              "event                 object\n",
              "film_date              int64\n",
              "languages              int64\n",
              "main_speaker          object\n",
              "name                  object\n",
              "num_speaker            int64\n",
              "published_date         int64\n",
              "ratings               object\n",
              "related_talks         object\n",
              "speaker_occupation    object\n",
              "tags                  object\n",
              "title                 object\n",
              "url                   object\n",
              "views                  int64\n",
              "dtype: object"
            ]
          },
          "metadata": {
            "tags": []
          },
          "execution_count": 8
        }
      ]
    },
    {
      "cell_type": "code",
      "metadata": {
        "colab": {
          "base_uri": "https://localhost:8080/"
        },
        "id": "Dn8f06SPunzs",
        "outputId": "a70cbfc8-c2db-4196-a716-ee9d2b13fc2b"
      },
      "source": [
        "# we need to check that if any column has the missing values\r\n",
        "ted.isna().sum()"
      ],
      "execution_count": 9,
      "outputs": [
        {
          "output_type": "execute_result",
          "data": {
            "text/plain": [
              "comments              0\n",
              "description           0\n",
              "duration              0\n",
              "event                 0\n",
              "film_date             0\n",
              "languages             0\n",
              "main_speaker          0\n",
              "name                  0\n",
              "num_speaker           0\n",
              "published_date        0\n",
              "ratings               0\n",
              "related_talks         0\n",
              "speaker_occupation    6\n",
              "tags                  0\n",
              "title                 0\n",
              "url                   0\n",
              "views                 0\n",
              "dtype: int64"
            ]
          },
          "metadata": {
            "tags": []
          },
          "execution_count": 9
        }
      ]
    },
    {
      "cell_type": "code",
      "metadata": {
        "id": "bs-1HVIO0iUk"
      },
      "source": [
        "# so we can see that there are 6 instances of speaker_occupation where data is missing"
      ],
      "execution_count": 10,
      "outputs": []
    },
    {
      "cell_type": "markdown",
      "metadata": {
        "id": "k8vL7FEa00IE"
      },
      "source": [
        "**Which talk provoke the most online discussion?**\r\n",
        "\r\n",
        "One way of defining the most online discussion talk as having more comments for less views."
      ]
    },
    {
      "cell_type": "code",
      "metadata": {
        "colab": {
          "base_uri": "https://localhost:8080/"
        },
        "id": "OYcDZs860wom",
        "outputId": "2fa42e20-cfe8-4046-d497-4b3d29689aca"
      },
      "source": [
        "# lets make one column to see this\r\n",
        "# so one which has less views per comment will be the one having most online discussion\r\n",
        "# this will mean there are less views needed for comments\r\n",
        "ted['views_per_comment'] = ted.views/ted.comments\r\n",
        "ted.views_per_comment.sort_values().head()"
      ],
      "execution_count": 11,
      "outputs": [
        {
          "output_type": "execute_result",
          "data": {
            "text/plain": [
              "744    450.531587\n",
              "803    651.739808\n",
              "96     683.134291\n",
              "694    703.886818\n",
              "954    735.525682\n",
              "Name: views_per_comment, dtype: float64"
            ]
          },
          "metadata": {
            "tags": []
          },
          "execution_count": 11
        }
      ]
    },
    {
      "cell_type": "code",
      "metadata": {
        "colab": {
          "base_uri": "https://localhost:8080/",
          "height": 283
        },
        "id": "TPLO7eTg1yLZ",
        "outputId": "85c56a1b-7d7e-4e84-9d78-bf50393226aa"
      },
      "source": [
        "# lets try to see the comments in visually\r\n",
        "ted.comments.plot(kind='hist')"
      ],
      "execution_count": 12,
      "outputs": [
        {
          "output_type": "execute_result",
          "data": {
            "text/plain": [
              "<matplotlib.axes._subplots.AxesSubplot at 0x7f4f1dcd4358>"
            ]
          },
          "metadata": {
            "tags": []
          },
          "execution_count": 12
        },
        {
          "output_type": "display_data",
          "data": {
            "image/png": "[encoded data removed]",
            "text/plain": [
              "<Figure size 432x288 with 1 Axes>"
            ]
          },
          "metadata": {
            "tags": [],
            "needs_background": "light"
          }
        }
      ]
    },
    {
      "cell_type": "code",
      "metadata": {
        "colab": {
          "base_uri": "https://localhost:8080/",
          "height": 283
        },
        "id": "QdRtQI1t2N4r",
        "outputId": "56de444c-b0ca-42c4-ec42-19d61d097b4a"
      },
      "source": [
        "# we can see that most of the comments falls below 1000 so we can scale the graph\r\n",
        "# to see that area more\r\n",
        "ted[ted.comments<1000].comments.plot(kind='hist')"
      ],
      "execution_count": 13,
      "outputs": [
        {
          "output_type": "execute_result",
          "data": {
            "text/plain": [
              "<matplotlib.axes._subplots.AxesSubplot at 0x7f4f1dc1cda0>"
            ]
          },
          "metadata": {
            "tags": []
          },
          "execution_count": 13
        },
        {
          "output_type": "display_data",
          "data": {
            "image/png": "[encoded data removed]",
            "text/plain": [
              "<Figure size 432x288 with 1 Axes>"
            ]
          },
          "metadata": {
            "tags": [],
            "needs_background": "light"
          }
        }
      ]
    },
    {
      "cell_type": "code",
      "metadata": {
        "colab": {
          "base_uri": "https://localhost:8080/",
          "height": 283
        },
        "id": "9B87zudw3EaC",
        "outputId": "e46379a3-0390-4603-da42-4ca37d076e4b"
      },
      "source": [
        "# further if we change the bin number to 20 (default=10)\r\n",
        "ted[ted.comments<1000].comments.plot(kind='hist', bins=20)"
      ],
      "execution_count": 14,
      "outputs": [
        {
          "output_type": "execute_result",
          "data": {
            "text/plain": [
              "<matplotlib.axes._subplots.AxesSubplot at 0x7f4f1d6f5ef0>"
            ]
          },
          "metadata": {
            "tags": []
          },
          "execution_count": 14
        },
        {
          "output_type": "display_data",
          "data": {
            "image/png": "[encoded data removed]",
            "text/plain": [
              "<Figure size 432x288 with 1 Axes>"
            ]
          },
          "metadata": {
            "tags": [],
            "needs_background": "light"
          }
        }
      ]
    },
    {
      "cell_type": "code",
      "metadata": {
        "id": "nEwejiJo3fPA"
      },
      "source": [
        "# so we can see that most of the comments are 100-150 for each talks and few talks \r\n",
        "# has larger comments, above 1000 also but we cut that off.\r\n",
        "# On average, each talk gets 100-150 comments"
      ],
      "execution_count": 15,
      "outputs": []
    },
    {
      "cell_type": "markdown",
      "metadata": {
        "id": "_hxWjqj94QEc"
      },
      "source": [
        "**Plot the number of talks that took place each year**"
      ]
    },
    {
      "cell_type": "code",
      "metadata": {
        "id": "rHBaO5g834In"
      },
      "source": [
        "# For this task we need to look at film_date column. The column time format is in Unix.\r\n",
        "# So we need to change the unix to pandas date_time() object, first\r\n",
        "# lets make new column\r\n",
        "ted['film_datetime'] = pd.to_datetime(ted.film_date, unit='s')"
      ],
      "execution_count": 16,
      "outputs": []
    },
    {
      "cell_type": "code",
      "metadata": {
        "id": "5fazAY506bXo",
        "colab": {
          "base_uri": "https://localhost:8080/",
          "height": 206
        },
        "outputId": "c0ebf3a8-5bd8-4245-b5ce-d420e7dbf1af"
      },
      "source": [
        "# lets check if we were successful doing above task\r\n",
        "ted[['event','film_datetime']].sample(5)"
      ],
      "execution_count": 17,
      "outputs": [
        {
          "output_type": "execute_result",
          "data": {
            "text/html": [
              "<div>\n",
              "<style scoped>\n",
              "    .dataframe tbody tr th:only-of-type {\n",
              "        vertical-align: middle;\n",
              "    }\n",
              "\n",
              "    .dataframe tbody tr th {\n",
              "        vertical-align: top;\n",
              "    }\n",
              "\n",
              "    .dataframe thead th {\n",
              "        text-align: right;\n",
              "    }\n",
              "</style>\n",
              "<table border=\"1\" class=\"dataframe\">\n",
              "  <thead>\n",
              "    <tr style=\"text-align: right;\">\n",
              "      <th></th>\n",
              "      <th>event</th>\n",
              "      <th>film_datetime</th>\n",
              "    </tr>\n",
              "  </thead>\n",
              "  <tbody>\n",
              "    <tr>\n",
              "      <th>1004</th>\n",
              "      <td>TEDGlobal 2011</td>\n",
              "      <td>2011-07-13</td>\n",
              "    </tr>\n",
              "    <tr>\n",
              "      <th>2496</th>\n",
              "      <td>TEDMED 2016</td>\n",
              "      <td>2016-11-30</td>\n",
              "    </tr>\n",
              "    <tr>\n",
              "      <th>111</th>\n",
              "      <td>TED2007</td>\n",
              "      <td>2007-03-03</td>\n",
              "    </tr>\n",
              "    <tr>\n",
              "      <th>1518</th>\n",
              "      <td>TED2013</td>\n",
              "      <td>2013-02-28</td>\n",
              "    </tr>\n",
              "    <tr>\n",
              "      <th>1094</th>\n",
              "      <td>TEDxCanberra</td>\n",
              "      <td>2011-09-24</td>\n",
              "    </tr>\n",
              "  </tbody>\n",
              "</table>\n",
              "</div>"
            ],
            "text/plain": [
              "               event film_datetime\n",
              "1004  TEDGlobal 2011    2011-07-13\n",
              "2496     TEDMED 2016    2016-11-30\n",
              "111          TED2007    2007-03-03\n",
              "1518         TED2013    2013-02-28\n",
              "1094    TEDxCanberra    2011-09-24"
            ]
          },
          "metadata": {
            "tags": []
          },
          "execution_count": 17
        }
      ]
    },
    {
      "cell_type": "code",
      "metadata": {
        "id": "qro24hCx6q-I"
      },
      "source": [
        "# from looking above we can see the date on both column matches at least year\r\n",
        "# so we can be sure that film_datetime is the column we looking now"
      ],
      "execution_count": 18,
      "outputs": []
    },
    {
      "cell_type": "code",
      "metadata": {
        "id": "F0VKSHwI64Yo",
        "colab": {
          "base_uri": "https://localhost:8080/",
          "height": 283
        },
        "outputId": "700d0c77-7a84-4d37-9108-b95f2118f5aa"
      },
      "source": [
        "ted.film_datetime.dt.year.value_counts().plot()"
      ],
      "execution_count": 19,
      "outputs": [
        {
          "output_type": "execute_result",
          "data": {
            "text/plain": [
              "<matplotlib.axes._subplots.AxesSubplot at 0x7f4f1d695630>"
            ]
          },
          "metadata": {
            "tags": []
          },
          "execution_count": 19
        },
        {
          "output_type": "display_data",
          "data": {
            "image/png": "[encoded data removed]",
            "text/plain": [
              "<Figure size 432x288 with 1 Axes>"
            ]
          },
          "metadata": {
            "tags": [],
            "needs_background": "light"
          }
        }
      ]
    },
    {
      "cell_type": "code",
      "metadata": {
        "id": "YiH-9Oyj6-nf",
        "colab": {
          "base_uri": "https://localhost:8080/",
          "height": 283
        },
        "outputId": "a1c91bb4-899e-4390-f704-69ac2b5fc1d6"
      },
      "source": [
        "# we have to sort the index before plotting, else our programming language is not\r\n",
        "# so smart enough to know this subtlety, because we know that\r\n",
        "# while plotting we first look at index (x-axis) and find y axis match\r\n",
        "ted.film_datetime.dt.year.value_counts().sort_index().plot()"
      ],
      "execution_count": 20,
      "outputs": [
        {
          "output_type": "execute_result",
          "data": {
            "text/plain": [
              "<matplotlib.axes._subplots.AxesSubplot at 0x7f4f1d6690b8>"
            ]
          },
          "metadata": {
            "tags": []
          },
          "execution_count": 20
        },
        {
          "output_type": "display_data",
          "data": {
            "image/png": "[encoded data removed]",
            "text/plain": [
              "<Figure size 432x288 with 1 Axes>"
            ]
          },
          "metadata": {
            "tags": [],
            "needs_background": "light"
          }
        }
      ]
    },
    {
      "cell_type": "markdown",
      "metadata": {
        "id": "ewb-Jslg70VT"
      },
      "source": [
        "**What were the \"best\" events in TED history to attend?**"
      ]
    },
    {
      "cell_type": "code",
      "metadata": {
        "id": "mUDZiW5w7h_2",
        "colab": {
          "base_uri": "https://localhost:8080/"
        },
        "outputId": "824579af-1016-4cc3-ddbc-c1cd3d3a9f0e"
      },
      "source": [
        "# lets see the event column with their number of talks\r\n",
        "ted.event.value_counts().head()"
      ],
      "execution_count": 21,
      "outputs": [
        {
          "output_type": "execute_result",
          "data": {
            "text/plain": [
              "TED2014    84\n",
              "TED2009    83\n",
              "TED2016    77\n",
              "TED2013    77\n",
              "TED2015    75\n",
              "Name: event, dtype: int64"
            ]
          },
          "metadata": {
            "tags": []
          },
          "execution_count": 21
        }
      ]
    },
    {
      "cell_type": "code",
      "metadata": {
        "id": "j6oJD3HH8IoM",
        "colab": {
          "base_uri": "https://localhost:8080/",
          "height": 238
        },
        "outputId": "39b3855a-b03f-4d08-e3b5-75ce0647b2c2"
      },
      "source": [
        "ted.groupby('event').views.agg(['count','mean','sum']).sort_values('sum').tail()\r\n",
        "# to use groupby\r\n",
        "# for each \"event\" I want to do some agg function to some column"
      ],
      "execution_count": 22,
      "outputs": [
        {
          "output_type": "execute_result",
          "data": {
            "text/html": [
              "<div>\n",
              "<style scoped>\n",
              "    .dataframe tbody tr th:only-of-type {\n",
              "        vertical-align: middle;\n",
              "    }\n",
              "\n",
              "    .dataframe tbody tr th {\n",
              "        vertical-align: top;\n",
              "    }\n",
              "\n",
              "    .dataframe thead th {\n",
              "        text-align: right;\n",
              "    }\n",
              "</style>\n",
              "<table border=\"1\" class=\"dataframe\">\n",
              "  <thead>\n",
              "    <tr style=\"text-align: right;\">\n",
              "      <th></th>\n",
              "      <th>count</th>\n",
              "      <th>mean</th>\n",
              "      <th>sum</th>\n",
              "    </tr>\n",
              "    <tr>\n",
              "      <th>event</th>\n",
              "      <th></th>\n",
              "      <th></th>\n",
              "      <th></th>\n",
              "    </tr>\n",
              "  </thead>\n",
              "  <tbody>\n",
              "    <tr>\n",
              "      <th>TED2006</th>\n",
              "      <td>45</td>\n",
              "      <td>3.274345e+06</td>\n",
              "      <td>147345533</td>\n",
              "    </tr>\n",
              "    <tr>\n",
              "      <th>TED2015</th>\n",
              "      <td>75</td>\n",
              "      <td>2.011017e+06</td>\n",
              "      <td>150826305</td>\n",
              "    </tr>\n",
              "    <tr>\n",
              "      <th>TEDGlobal 2013</th>\n",
              "      <td>66</td>\n",
              "      <td>2.584163e+06</td>\n",
              "      <td>170554736</td>\n",
              "    </tr>\n",
              "    <tr>\n",
              "      <th>TED2014</th>\n",
              "      <td>84</td>\n",
              "      <td>2.072874e+06</td>\n",
              "      <td>174121423</td>\n",
              "    </tr>\n",
              "    <tr>\n",
              "      <th>TED2013</th>\n",
              "      <td>77</td>\n",
              "      <td>2.302700e+06</td>\n",
              "      <td>177307937</td>\n",
              "    </tr>\n",
              "  </tbody>\n",
              "</table>\n",
              "</div>"
            ],
            "text/plain": [
              "                count          mean        sum\n",
              "event                                         \n",
              "TED2006            45  3.274345e+06  147345533\n",
              "TED2015            75  2.011017e+06  150826305\n",
              "TEDGlobal 2013     66  2.584163e+06  170554736\n",
              "TED2014            84  2.072874e+06  174121423\n",
              "TED2013            77  2.302700e+06  177307937"
            ]
          },
          "metadata": {
            "tags": []
          },
          "execution_count": 22
        }
      ]
    },
    {
      "cell_type": "code",
      "metadata": {
        "id": "36BqubS98Y18"
      },
      "source": [
        "# from above table we can see TED2013 has largest views. Must be a good event"
      ],
      "execution_count": 23,
      "outputs": []
    },
    {
      "cell_type": "markdown",
      "metadata": {
        "id": "roj5gz_GAGGq"
      },
      "source": [
        "**Lets look at the ratings column**"
      ]
    },
    {
      "cell_type": "code",
      "metadata": {
        "id": "NNWMgi6U8_bN",
        "colab": {
          "base_uri": "https://localhost:8080/"
        },
        "outputId": "efc5caca-c059-4e4f-a71f-85ec5c062e89"
      },
      "source": [
        "ted.ratings.head()"
      ],
      "execution_count": 24,
      "outputs": [
        {
          "output_type": "execute_result",
          "data": {
            "text/plain": [
              "0    [{'id': 7, 'name': 'Funny', 'count': 19645}, {...\n",
              "1    [{'id': 7, 'name': 'Funny', 'count': 544}, {'i...\n",
              "2    [{'id': 7, 'name': 'Funny', 'count': 964}, {'i...\n",
              "3    [{'id': 3, 'name': 'Courageous', 'count': 760}...\n",
              "4    [{'id': 9, 'name': 'Ingenious', 'count': 3202}...\n",
              "Name: ratings, dtype: object"
            ]
          },
          "metadata": {
            "tags": []
          },
          "execution_count": 24
        }
      ]
    },
    {
      "cell_type": "code",
      "metadata": {
        "id": "DQJ5ysWfALxE"
      },
      "source": [
        "# we can see each row has a list of dictionaries"
      ],
      "execution_count": 25,
      "outputs": []
    },
    {
      "cell_type": "code",
      "metadata": {
        "id": "LN1jYSLIAedJ",
        "colab": {
          "base_uri": "https://localhost:8080/",
          "height": 109
        },
        "outputId": "8b14d782-866c-48ad-b256-17ebf23048e7"
      },
      "source": [
        "ted.ratings[0]"
      ],
      "execution_count": 26,
      "outputs": [
        {
          "output_type": "execute_result",
          "data": {
            "application/vnd.google.colaboratory.intrinsic+json": {
              "type": "string"
            },
            "text/plain": [
              "\"[{'id': 7, 'name': 'Funny', 'count': 19645}, {'id': 1, 'name': 'Beautiful', 'count': 4573}, {'id': 9, 'name': 'Ingenious', 'count': 6073}, {'id': 3, 'name': 'Courageous', 'count': 3253}, {'id': 11, 'name': 'Longwinded', 'count': 387}, {'id': 2, 'name': 'Confusing', 'count': 242}, {'id': 8, 'name': 'Informative', 'count': 7346}, {'id': 22, 'name': 'Fascinating', 'count': 10581}, {'id': 21, 'name': 'Unconvincing', 'count': 300}, {'id': 24, 'name': 'Persuasive', 'count': 10704}, {'id': 23, 'name': 'Jaw-dropping', 'count': 4439}, {'id': 25, 'name': 'OK', 'count': 1174}, {'id': 26, 'name': 'Obnoxious', 'count': 209}, {'id': 10, 'name': 'Inspiring', 'count': 24924}]\""
            ]
          },
          "metadata": {
            "tags": []
          },
          "execution_count": 26
        }
      ]
    },
    {
      "cell_type": "code",
      "metadata": {
        "id": "f6VViSRLA6Xy"
      },
      "source": [
        "# to make the real python list of dictionaries\r\n",
        "import ast\r\n",
        "ted['ratings_list'] = ted.ratings.apply(lambda x: ast.literal_eval(x))"
      ],
      "execution_count": 27,
      "outputs": []
    },
    {
      "cell_type": "code",
      "metadata": {
        "id": "L-OxV6QhBffn",
        "colab": {
          "base_uri": "https://localhost:8080/"
        },
        "outputId": "dcb2f7df-b3d7-4b72-af62-0d48de438ebe"
      },
      "source": [
        "ted.ratings_list.head()"
      ],
      "execution_count": 28,
      "outputs": [
        {
          "output_type": "execute_result",
          "data": {
            "text/plain": [
              "0    [{'id': 7, 'name': 'Funny', 'count': 19645}, {...\n",
              "1    [{'id': 7, 'name': 'Funny', 'count': 544}, {'i...\n",
              "2    [{'id': 7, 'name': 'Funny', 'count': 964}, {'i...\n",
              "3    [{'id': 3, 'name': 'Courageous', 'count': 760}...\n",
              "4    [{'id': 9, 'name': 'Ingenious', 'count': 3202}...\n",
              "Name: ratings_list, dtype: object"
            ]
          },
          "metadata": {
            "tags": []
          },
          "execution_count": 28
        }
      ]
    },
    {
      "cell_type": "code",
      "metadata": {
        "id": "UVJorU1lBi6Q",
        "colab": {
          "base_uri": "https://localhost:8080/"
        },
        "outputId": "ef2e888f-74ed-45b7-e183-7d1a095e54d8"
      },
      "source": [
        "ted.ratings_list[0]"
      ],
      "execution_count": 29,
      "outputs": [
        {
          "output_type": "execute_result",
          "data": {
            "text/plain": [
              "[{'count': 19645, 'id': 7, 'name': 'Funny'},\n",
              " {'count': 4573, 'id': 1, 'name': 'Beautiful'},\n",
              " {'count': 6073, 'id': 9, 'name': 'Ingenious'},\n",
              " {'count': 3253, 'id': 3, 'name': 'Courageous'},\n",
              " {'count': 387, 'id': 11, 'name': 'Longwinded'},\n",
              " {'count': 242, 'id': 2, 'name': 'Confusing'},\n",
              " {'count': 7346, 'id': 8, 'name': 'Informative'},\n",
              " {'count': 10581, 'id': 22, 'name': 'Fascinating'},\n",
              " {'count': 300, 'id': 21, 'name': 'Unconvincing'},\n",
              " {'count': 10704, 'id': 24, 'name': 'Persuasive'},\n",
              " {'count': 4439, 'id': 23, 'name': 'Jaw-dropping'},\n",
              " {'count': 1174, 'id': 25, 'name': 'OK'},\n",
              " {'count': 209, 'id': 26, 'name': 'Obnoxious'},\n",
              " {'count': 24924, 'id': 10, 'name': 'Inspiring'}]"
            ]
          },
          "metadata": {
            "tags": []
          },
          "execution_count": 29
        }
      ]
    },
    {
      "cell_type": "markdown",
      "metadata": {
        "id": "PsI_9-3MBnCe"
      },
      "source": [
        "**Count the total number of ratings received by each talk**"
      ]
    },
    {
      "cell_type": "code",
      "metadata": {
        "id": "V3SRrXW8Bklm"
      },
      "source": [
        "# we need to retrieve the count for each talk and add them to find total number of ratings\r\n",
        "# lets define such function and apply this to whole column\r\n",
        "def get_num_ratings(list_of_dicts):\r\n",
        "  num = 0\r\n",
        "  for d in list_of_dicts:\r\n",
        "    num += d['count']\r\n",
        "  return num"
      ],
      "execution_count": 30,
      "outputs": []
    },
    {
      "cell_type": "code",
      "metadata": {
        "id": "shCOrK0XCQdM",
        "colab": {
          "base_uri": "https://localhost:8080/"
        },
        "outputId": "f201de6d-bc4e-42a7-b625-f4a74c341e65"
      },
      "source": [
        "# lets check above function with just one row ratings data\r\n",
        "get_num_ratings(ted.ratings_list[0])"
      ],
      "execution_count": 31,
      "outputs": [
        {
          "output_type": "execute_result",
          "data": {
            "text/plain": [
              "93850"
            ]
          },
          "metadata": {
            "tags": []
          },
          "execution_count": 31
        }
      ]
    },
    {
      "cell_type": "code",
      "metadata": {
        "id": "8c5MNhtCCYms"
      },
      "source": [
        "# that number sees right if we just add plain numbers by looking above cells"
      ],
      "execution_count": 32,
      "outputs": []
    },
    {
      "cell_type": "code",
      "metadata": {
        "id": "1NxAPd-KCeOD"
      },
      "source": [
        "# lets make one column that keeps records of counts for each talk\r\n",
        "ted['num_ratings'] = ted.ratings_list.apply(get_num_ratings)"
      ],
      "execution_count": 33,
      "outputs": []
    },
    {
      "cell_type": "code",
      "metadata": {
        "id": "vVoqUeJ9Cqgs",
        "colab": {
          "base_uri": "https://localhost:8080/"
        },
        "outputId": "999b952c-302a-441b-838d-f07cc570046d"
      },
      "source": [
        "# lets see it\r\n",
        "ted.num_ratings.head()"
      ],
      "execution_count": 34,
      "outputs": [
        {
          "output_type": "execute_result",
          "data": {
            "text/plain": [
              "0    93850\n",
              "1     2936\n",
              "2     2824\n",
              "3     3728\n",
              "4    25620\n",
              "Name: num_ratings, dtype: int64"
            ]
          },
          "metadata": {
            "tags": []
          },
          "execution_count": 34
        }
      ]
    },
    {
      "cell_type": "markdown",
      "metadata": {
        "id": "3tZiaOlJDW3J"
      },
      "source": [
        "**All DataFrame**"
      ]
    },
    {
      "cell_type": "code",
      "metadata": {
        "id": "5QBjybOtCuXU"
      },
      "source": [
        "# we need to work on the following dataframe so lets collect them here\r\n",
        "orders = pd.read_table('http://bit.ly/chiporders')\r\n",
        "users = pd.read_table('http://bit.ly/movieusers')\r\n",
        "movies = pd.read_csv('http://bit.ly/imdbratings')"
      ],
      "execution_count": 35,
      "outputs": []
    },
    {
      "cell_type": "markdown",
      "metadata": {
        "id": "5RV5pwR1BTKn"
      },
      "source": [
        "**How to read data from the tabular data?**\r\n",
        "\r\n",
        "`pd.read_table()` has the default of tab as the separator\r\n",
        "\r\n",
        "- `skiprows=` skips the rows we don't want to read\r\n",
        "- `sep=` how the data are separated. Example: comma, tab, space, pip | etc\r\n",
        "- `header=` None means the data don't have the header row\r\n",
        "- `names=` given column names while reading the data if data don't have header"
      ]
    },
    {
      "cell_type": "code",
      "metadata": {
        "id": "9F3JENWICtiD",
        "colab": {
          "base_uri": "https://localhost:8080/",
          "height": 206
        },
        "outputId": "ffe7414b-2380-4509-9db5-4cee18dfdb53"
      },
      "source": [
        "# since we don't have the header row in the following data and also the separator\r\n",
        "# file is | we do following\r\n",
        "user_cols = ['user_id', 'age', 'gender', 'occupation', 'zip_code']\r\n",
        "users = pd.read_table('http://bit.ly/movieusers', sep='|', header=None, names=user_cols)\r\n",
        "users.head()"
      ],
      "execution_count": 36,
      "outputs": [
        {
          "output_type": "execute_result",
          "data": {
            "text/html": [
              "<div>\n",
              "<style scoped>\n",
              "    .dataframe tbody tr th:only-of-type {\n",
              "        vertical-align: middle;\n",
              "    }\n",
              "\n",
              "    .dataframe tbody tr th {\n",
              "        vertical-align: top;\n",
              "    }\n",
              "\n",
              "    .dataframe thead th {\n",
              "        text-align: right;\n",
              "    }\n",
              "</style>\n",
              "<table border=\"1\" class=\"dataframe\">\n",
              "  <thead>\n",
              "    <tr style=\"text-align: right;\">\n",
              "      <th></th>\n",
              "      <th>user_id</th>\n",
              "      <th>age</th>\n",
              "      <th>gender</th>\n",
              "      <th>occupation</th>\n",
              "      <th>zip_code</th>\n",
              "    </tr>\n",
              "  </thead>\n",
              "  <tbody>\n",
              "    <tr>\n",
              "      <th>0</th>\n",
              "      <td>1</td>\n",
              "      <td>24</td>\n",
              "      <td>M</td>\n",
              "      <td>technician</td>\n",
              "      <td>85711</td>\n",
              "    </tr>\n",
              "    <tr>\n",
              "      <th>1</th>\n",
              "      <td>2</td>\n",
              "      <td>53</td>\n",
              "      <td>F</td>\n",
              "      <td>other</td>\n",
              "      <td>94043</td>\n",
              "    </tr>\n",
              "    <tr>\n",
              "      <th>2</th>\n",
              "      <td>3</td>\n",
              "      <td>23</td>\n",
              "      <td>M</td>\n",
              "      <td>writer</td>\n",
              "      <td>32067</td>\n",
              "    </tr>\n",
              "    <tr>\n",
              "      <th>3</th>\n",
              "      <td>4</td>\n",
              "      <td>24</td>\n",
              "      <td>M</td>\n",
              "      <td>technician</td>\n",
              "      <td>43537</td>\n",
              "    </tr>\n",
              "    <tr>\n",
              "      <th>4</th>\n",
              "      <td>5</td>\n",
              "      <td>33</td>\n",
              "      <td>F</td>\n",
              "      <td>other</td>\n",
              "      <td>15213</td>\n",
              "    </tr>\n",
              "  </tbody>\n",
              "</table>\n",
              "</div>"
            ],
            "text/plain": [
              "   user_id  age gender  occupation zip_code\n",
              "0        1   24      M  technician    85711\n",
              "1        2   53      F       other    94043\n",
              "2        3   23      M      writer    32067\n",
              "3        4   24      M  technician    43537\n",
              "4        5   33      F       other    15213"
            ]
          },
          "metadata": {
            "tags": []
          },
          "execution_count": 36
        }
      ]
    },
    {
      "cell_type": "markdown",
      "metadata": {
        "id": "vrXoJuE5DrAt"
      },
      "source": [
        "**How do I select a pandas Series from a DataFrame?**"
      ]
    },
    {
      "cell_type": "code",
      "metadata": {
        "id": "r8juF6qCDRlS"
      },
      "source": [
        "# pandas dataframe has the columns which in other words are also known as Series\r\n",
        "ufo = pd.read_table('http://bit.ly/uforeports', sep=',') # our datafile is csv so we used separateer as the comma.\r\n",
        "# since read_table thinks separater as 'tab' by default.\r\n",
        "# Instead I can just use read_csv command for the csv files.\r\n",
        "ufo = pd.read_csv('http://bit.ly/uforeports')"
      ],
      "execution_count": 37,
      "outputs": []
    },
    {
      "cell_type": "code",
      "metadata": {
        "id": "OAL8LLTsD09A",
        "colab": {
          "base_uri": "https://localhost:8080/"
        },
        "outputId": "9fa3eecd-7d36-46cc-b0c0-7c20417df02f"
      },
      "source": [
        "type(ufo) # to confirm that it is a dataframe"
      ],
      "execution_count": 38,
      "outputs": [
        {
          "output_type": "execute_result",
          "data": {
            "text/plain": [
              "pandas.core.frame.DataFrame"
            ]
          },
          "metadata": {
            "tags": []
          },
          "execution_count": 38
        }
      ]
    },
    {
      "cell_type": "code",
      "metadata": {
        "id": "en_us8B9D3hH",
        "colab": {
          "base_uri": "https://localhost:8080/",
          "height": 206
        },
        "outputId": "e2c2eb03-b829-4f7e-82ea-4b350913551b"
      },
      "source": [
        "ufo.head()"
      ],
      "execution_count": 39,
      "outputs": [
        {
          "output_type": "execute_result",
          "data": {
            "text/html": [
              "<div>\n",
              "<style scoped>\n",
              "    .dataframe tbody tr th:only-of-type {\n",
              "        vertical-align: middle;\n",
              "    }\n",
              "\n",
              "    .dataframe tbody tr th {\n",
              "        vertical-align: top;\n",
              "    }\n",
              "\n",
              "    .dataframe thead th {\n",
              "        text-align: right;\n",
              "    }\n",
              "</style>\n",
              "<table border=\"1\" class=\"dataframe\">\n",
              "  <thead>\n",
              "    <tr style=\"text-align: right;\">\n",
              "      <th></th>\n",
              "      <th>City</th>\n",
              "      <th>Colors Reported</th>\n",
              "      <th>Shape Reported</th>\n",
              "      <th>State</th>\n",
              "      <th>Time</th>\n",
              "    </tr>\n",
              "  </thead>\n",
              "  <tbody>\n",
              "    <tr>\n",
              "      <th>0</th>\n",
              "      <td>Ithaca</td>\n",
              "      <td>NaN</td>\n",
              "      <td>TRIANGLE</td>\n",
              "      <td>NY</td>\n",
              "      <td>6/1/1930 22:00</td>\n",
              "    </tr>\n",
              "    <tr>\n",
              "      <th>1</th>\n",
              "      <td>Willingboro</td>\n",
              "      <td>NaN</td>\n",
              "      <td>OTHER</td>\n",
              "      <td>NJ</td>\n",
              "      <td>6/30/1930 20:00</td>\n",
              "    </tr>\n",
              "    <tr>\n",
              "      <th>2</th>\n",
              "      <td>Holyoke</td>\n",
              "      <td>NaN</td>\n",
              "      <td>OVAL</td>\n",
              "      <td>CO</td>\n",
              "      <td>2/15/1931 14:00</td>\n",
              "    </tr>\n",
              "    <tr>\n",
              "      <th>3</th>\n",
              "      <td>Abilene</td>\n",
              "      <td>NaN</td>\n",
              "      <td>DISK</td>\n",
              "      <td>KS</td>\n",
              "      <td>6/1/1931 13:00</td>\n",
              "    </tr>\n",
              "    <tr>\n",
              "      <th>4</th>\n",
              "      <td>New York Worlds Fair</td>\n",
              "      <td>NaN</td>\n",
              "      <td>LIGHT</td>\n",
              "      <td>NY</td>\n",
              "      <td>4/18/1933 19:00</td>\n",
              "    </tr>\n",
              "  </tbody>\n",
              "</table>\n",
              "</div>"
            ],
            "text/plain": [
              "                   City Colors Reported Shape Reported State             Time\n",
              "0                Ithaca             NaN       TRIANGLE    NY   6/1/1930 22:00\n",
              "1           Willingboro             NaN          OTHER    NJ  6/30/1930 20:00\n",
              "2               Holyoke             NaN           OVAL    CO  2/15/1931 14:00\n",
              "3               Abilene             NaN           DISK    KS   6/1/1931 13:00\n",
              "4  New York Worlds Fair             NaN          LIGHT    NY  4/18/1933 19:00"
            ]
          },
          "metadata": {
            "tags": []
          },
          "execution_count": 39
        }
      ]
    },
    {
      "cell_type": "code",
      "metadata": {
        "id": "EcQlFwtHD6f_",
        "colab": {
          "base_uri": "https://localhost:8080/"
        },
        "outputId": "b5d02ccc-2e31-4772-871c-f9be06f00355"
      },
      "source": [
        "# First method: using a bracket notation\r\n",
        "ufo['City']"
      ],
      "execution_count": 40,
      "outputs": [
        {
          "output_type": "execute_result",
          "data": {
            "text/plain": [
              "0                      Ithaca\n",
              "1                 Willingboro\n",
              "2                     Holyoke\n",
              "3                     Abilene\n",
              "4        New York Worlds Fair\n",
              "                 ...         \n",
              "18236              Grant Park\n",
              "18237             Spirit Lake\n",
              "18238             Eagle River\n",
              "18239             Eagle River\n",
              "18240                    Ybor\n",
              "Name: City, Length: 18241, dtype: object"
            ]
          },
          "metadata": {
            "tags": []
          },
          "execution_count": 40
        }
      ]
    },
    {
      "cell_type": "code",
      "metadata": {
        "id": "3QXEQRRxEExQ",
        "colab": {
          "base_uri": "https://localhost:8080/"
        },
        "outputId": "013b311a-5f60-455d-d59c-7d295301c47a"
      },
      "source": [
        "type(ufo['City'])"
      ],
      "execution_count": 41,
      "outputs": [
        {
          "output_type": "execute_result",
          "data": {
            "text/plain": [
              "pandas.core.series.Series"
            ]
          },
          "metadata": {
            "tags": []
          },
          "execution_count": 41
        }
      ]
    },
    {
      "cell_type": "code",
      "metadata": {
        "id": "CHIfe70iEHrj",
        "colab": {
          "base_uri": "https://localhost:8080/"
        },
        "outputId": "5c89333c-257d-41d8-f582-7fa2eeac3b38"
      },
      "source": [
        "# Second method: using dot notation\r\n",
        "ufo.City"
      ],
      "execution_count": 42,
      "outputs": [
        {
          "output_type": "execute_result",
          "data": {
            "text/plain": [
              "0                      Ithaca\n",
              "1                 Willingboro\n",
              "2                     Holyoke\n",
              "3                     Abilene\n",
              "4        New York Worlds Fair\n",
              "                 ...         \n",
              "18236              Grant Park\n",
              "18237             Spirit Lake\n",
              "18238             Eagle River\n",
              "18239             Eagle River\n",
              "18240                    Ybor\n",
              "Name: City, Length: 18241, dtype: object"
            ]
          },
          "metadata": {
            "tags": []
          },
          "execution_count": 42
        }
      ]
    },
    {
      "cell_type": "code",
      "metadata": {
        "id": "6_FFpJvDENJH"
      },
      "source": [
        "# dot notation use advantage of dataframe as it series becomes attributes"
      ],
      "execution_count": 43,
      "outputs": []
    },
    {
      "cell_type": "code",
      "metadata": {
        "id": "k0c6p2X6EfmX"
      },
      "source": [
        "# concatenate the two columns and create new column\r\n",
        "# if both are strings or numbers\r\n",
        "ufo['Location'] = ufo.City + ', ' + ufo.State # we need to always use bracket notation\r\n",
        "# to create new column"
      ],
      "execution_count": 44,
      "outputs": []
    },
    {
      "cell_type": "code",
      "metadata": {
        "id": "V0VouQP-E2nO",
        "colab": {
          "base_uri": "https://localhost:8080/",
          "height": 206
        },
        "outputId": "9cc83948-f9e7-4c96-b65d-db849e2dcc39"
      },
      "source": [
        "ufo.head()"
      ],
      "execution_count": 45,
      "outputs": [
        {
          "output_type": "execute_result",
          "data": {
            "text/html": [
              "<div>\n",
              "<style scoped>\n",
              "    .dataframe tbody tr th:only-of-type {\n",
              "        vertical-align: middle;\n",
              "    }\n",
              "\n",
              "    .dataframe tbody tr th {\n",
              "        vertical-align: top;\n",
              "    }\n",
              "\n",
              "    .dataframe thead th {\n",
              "        text-align: right;\n",
              "    }\n",
              "</style>\n",
              "<table border=\"1\" class=\"dataframe\">\n",
              "  <thead>\n",
              "    <tr style=\"text-align: right;\">\n",
              "      <th></th>\n",
              "      <th>City</th>\n",
              "      <th>Colors Reported</th>\n",
              "      <th>Shape Reported</th>\n",
              "      <th>State</th>\n",
              "      <th>Time</th>\n",
              "      <th>Location</th>\n",
              "    </tr>\n",
              "  </thead>\n",
              "  <tbody>\n",
              "    <tr>\n",
              "      <th>0</th>\n",
              "      <td>Ithaca</td>\n",
              "      <td>NaN</td>\n",
              "      <td>TRIANGLE</td>\n",
              "      <td>NY</td>\n",
              "      <td>6/1/1930 22:00</td>\n",
              "      <td>Ithaca, NY</td>\n",
              "    </tr>\n",
              "    <tr>\n",
              "      <th>1</th>\n",
              "      <td>Willingboro</td>\n",
              "      <td>NaN</td>\n",
              "      <td>OTHER</td>\n",
              "      <td>NJ</td>\n",
              "      <td>6/30/1930 20:00</td>\n",
              "      <td>Willingboro, NJ</td>\n",
              "    </tr>\n",
              "    <tr>\n",
              "      <th>2</th>\n",
              "      <td>Holyoke</td>\n",
              "      <td>NaN</td>\n",
              "      <td>OVAL</td>\n",
              "      <td>CO</td>\n",
              "      <td>2/15/1931 14:00</td>\n",
              "      <td>Holyoke, CO</td>\n",
              "    </tr>\n",
              "    <tr>\n",
              "      <th>3</th>\n",
              "      <td>Abilene</td>\n",
              "      <td>NaN</td>\n",
              "      <td>DISK</td>\n",
              "      <td>KS</td>\n",
              "      <td>6/1/1931 13:00</td>\n",
              "      <td>Abilene, KS</td>\n",
              "    </tr>\n",
              "    <tr>\n",
              "      <th>4</th>\n",
              "      <td>New York Worlds Fair</td>\n",
              "      <td>NaN</td>\n",
              "      <td>LIGHT</td>\n",
              "      <td>NY</td>\n",
              "      <td>4/18/1933 19:00</td>\n",
              "      <td>New York Worlds Fair, NY</td>\n",
              "    </tr>\n",
              "  </tbody>\n",
              "</table>\n",
              "</div>"
            ],
            "text/plain": [
              "                   City  ...                  Location\n",
              "0                Ithaca  ...                Ithaca, NY\n",
              "1           Willingboro  ...           Willingboro, NJ\n",
              "2               Holyoke  ...               Holyoke, CO\n",
              "3               Abilene  ...               Abilene, KS\n",
              "4  New York Worlds Fair  ...  New York Worlds Fair, NY\n",
              "\n",
              "[5 rows x 6 columns]"
            ]
          },
          "metadata": {
            "tags": []
          },
          "execution_count": 45
        }
      ]
    },
    {
      "cell_type": "code",
      "metadata": {
        "id": "YQ3FF8XlE37u",
        "colab": {
          "base_uri": "https://localhost:8080/",
          "height": 206
        },
        "outputId": "d6fdd101-f02b-4bdb-e450-4afc97d1454f"
      },
      "source": [
        "# lets see another dataframe\r\n",
        "movies = pd.read_csv('http://bit.ly/imdbratings')\r\n",
        "movies.head()"
      ],
      "execution_count": 46,
      "outputs": [
        {
          "output_type": "execute_result",
          "data": {
            "text/html": [
              "<div>\n",
              "<style scoped>\n",
              "    .dataframe tbody tr th:only-of-type {\n",
              "        vertical-align: middle;\n",
              "    }\n",
              "\n",
              "    .dataframe tbody tr th {\n",
              "        vertical-align: top;\n",
              "    }\n",
              "\n",
              "    .dataframe thead th {\n",
              "        text-align: right;\n",
              "    }\n",
              "</style>\n",
              "<table border=\"1\" class=\"dataframe\">\n",
              "  <thead>\n",
              "    <tr style=\"text-align: right;\">\n",
              "      <th></th>\n",
              "      <th>star_rating</th>\n",
              "      <th>title</th>\n",
              "      <th>content_rating</th>\n",
              "      <th>genre</th>\n",
              "      <th>duration</th>\n",
              "      <th>actors_list</th>\n",
              "    </tr>\n",
              "  </thead>\n",
              "  <tbody>\n",
              "    <tr>\n",
              "      <th>0</th>\n",
              "      <td>9.3</td>\n",
              "      <td>The Shawshank Redemption</td>\n",
              "      <td>R</td>\n",
              "      <td>Crime</td>\n",
              "      <td>142</td>\n",
              "      <td>[u'Tim Robbins', u'Morgan Freeman', u'Bob Gunt...</td>\n",
              "    </tr>\n",
              "    <tr>\n",
              "      <th>1</th>\n",
              "      <td>9.2</td>\n",
              "      <td>The Godfather</td>\n",
              "      <td>R</td>\n",
              "      <td>Crime</td>\n",
              "      <td>175</td>\n",
              "      <td>[u'Marlon Brando', u'Al Pacino', u'James Caan']</td>\n",
              "    </tr>\n",
              "    <tr>\n",
              "      <th>2</th>\n",
              "      <td>9.1</td>\n",
              "      <td>The Godfather: Part II</td>\n",
              "      <td>R</td>\n",
              "      <td>Crime</td>\n",
              "      <td>200</td>\n",
              "      <td>[u'Al Pacino', u'Robert De Niro', u'Robert Duv...</td>\n",
              "    </tr>\n",
              "    <tr>\n",
              "      <th>3</th>\n",
              "      <td>9.0</td>\n",
              "      <td>The Dark Knight</td>\n",
              "      <td>PG-13</td>\n",
              "      <td>Action</td>\n",
              "      <td>152</td>\n",
              "      <td>[u'Christian Bale', u'Heath Ledger', u'Aaron E...</td>\n",
              "    </tr>\n",
              "    <tr>\n",
              "      <th>4</th>\n",
              "      <td>8.9</td>\n",
              "      <td>Pulp Fiction</td>\n",
              "      <td>R</td>\n",
              "      <td>Crime</td>\n",
              "      <td>154</td>\n",
              "      <td>[u'John Travolta', u'Uma Thurman', u'Samuel L....</td>\n",
              "    </tr>\n",
              "  </tbody>\n",
              "</table>\n",
              "</div>"
            ],
            "text/plain": [
              "   star_rating  ...                                        actors_list\n",
              "0          9.3  ...  [u'Tim Robbins', u'Morgan Freeman', u'Bob Gunt...\n",
              "1          9.2  ...    [u'Marlon Brando', u'Al Pacino', u'James Caan']\n",
              "2          9.1  ...  [u'Al Pacino', u'Robert De Niro', u'Robert Duv...\n",
              "3          9.0  ...  [u'Christian Bale', u'Heath Ledger', u'Aaron E...\n",
              "4          8.9  ...  [u'John Travolta', u'Uma Thurman', u'Samuel L....\n",
              "\n",
              "[5 rows x 6 columns]"
            ]
          },
          "metadata": {
            "tags": []
          },
          "execution_count": 46
        }
      ]
    },
    {
      "cell_type": "code",
      "metadata": {
        "id": "FLLbHW7YFVvD",
        "colab": {
          "base_uri": "https://localhost:8080/",
          "height": 300
        },
        "outputId": "0d58bc9b-ac7b-4360-81ac-410c3f461b5c"
      },
      "source": [
        "movies.describe() # this method gives descriptive stats of the numeric column"
      ],
      "execution_count": 47,
      "outputs": [
        {
          "output_type": "execute_result",
          "data": {
            "text/html": [
              "<div>\n",
              "<style scoped>\n",
              "    .dataframe tbody tr th:only-of-type {\n",
              "        vertical-align: middle;\n",
              "    }\n",
              "\n",
              "    .dataframe tbody tr th {\n",
              "        vertical-align: top;\n",
              "    }\n",
              "\n",
              "    .dataframe thead th {\n",
              "        text-align: right;\n",
              "    }\n",
              "</style>\n",
              "<table border=\"1\" class=\"dataframe\">\n",
              "  <thead>\n",
              "    <tr style=\"text-align: right;\">\n",
              "      <th></th>\n",
              "      <th>star_rating</th>\n",
              "      <th>duration</th>\n",
              "    </tr>\n",
              "  </thead>\n",
              "  <tbody>\n",
              "    <tr>\n",
              "      <th>count</th>\n",
              "      <td>979.000000</td>\n",
              "      <td>979.000000</td>\n",
              "    </tr>\n",
              "    <tr>\n",
              "      <th>mean</th>\n",
              "      <td>7.889785</td>\n",
              "      <td>120.979571</td>\n",
              "    </tr>\n",
              "    <tr>\n",
              "      <th>std</th>\n",
              "      <td>0.336069</td>\n",
              "      <td>26.218010</td>\n",
              "    </tr>\n",
              "    <tr>\n",
              "      <th>min</th>\n",
              "      <td>7.400000</td>\n",
              "      <td>64.000000</td>\n",
              "    </tr>\n",
              "    <tr>\n",
              "      <th>25%</th>\n",
              "      <td>7.600000</td>\n",
              "      <td>102.000000</td>\n",
              "    </tr>\n",
              "    <tr>\n",
              "      <th>50%</th>\n",
              "      <td>7.800000</td>\n",
              "      <td>117.000000</td>\n",
              "    </tr>\n",
              "    <tr>\n",
              "      <th>75%</th>\n",
              "      <td>8.100000</td>\n",
              "      <td>134.000000</td>\n",
              "    </tr>\n",
              "    <tr>\n",
              "      <th>max</th>\n",
              "      <td>9.300000</td>\n",
              "      <td>242.000000</td>\n",
              "    </tr>\n",
              "  </tbody>\n",
              "</table>\n",
              "</div>"
            ],
            "text/plain": [
              "       star_rating    duration\n",
              "count   979.000000  979.000000\n",
              "mean      7.889785  120.979571\n",
              "std       0.336069   26.218010\n",
              "min       7.400000   64.000000\n",
              "25%       7.600000  102.000000\n",
              "50%       7.800000  117.000000\n",
              "75%       8.100000  134.000000\n",
              "max       9.300000  242.000000"
            ]
          },
          "metadata": {
            "tags": []
          },
          "execution_count": 47
        }
      ]
    },
    {
      "cell_type": "code",
      "metadata": {
        "id": "tmo93g-iFfgk",
        "colab": {
          "base_uri": "https://localhost:8080/"
        },
        "outputId": "5f1000bd-7f33-425c-f665-310af837a946"
      },
      "source": [
        "movies.shape"
      ],
      "execution_count": 48,
      "outputs": [
        {
          "output_type": "execute_result",
          "data": {
            "text/plain": [
              "(979, 6)"
            ]
          },
          "metadata": {
            "tags": []
          },
          "execution_count": 48
        }
      ]
    },
    {
      "cell_type": "code",
      "metadata": {
        "id": "3uILaO_qFkI8",
        "colab": {
          "base_uri": "https://localhost:8080/"
        },
        "outputId": "80bae8bb-9d79-4ac5-f70b-c625b355d9c2"
      },
      "source": [
        "movies.dtypes"
      ],
      "execution_count": 49,
      "outputs": [
        {
          "output_type": "execute_result",
          "data": {
            "text/plain": [
              "star_rating       float64\n",
              "title              object\n",
              "content_rating     object\n",
              "genre              object\n",
              "duration            int64\n",
              "actors_list        object\n",
              "dtype: object"
            ]
          },
          "metadata": {
            "tags": []
          },
          "execution_count": 49
        }
      ]
    },
    {
      "cell_type": "code",
      "metadata": {
        "id": "N2VXtv3VFlr8"
      },
      "source": [
        "# from above we see that there are only two columns that are numeric\r\n",
        "# so our describe() method show only info of those columns"
      ],
      "execution_count": 50,
      "outputs": []
    },
    {
      "cell_type": "code",
      "metadata": {
        "id": "vkSn6jSJFyM9",
        "colab": {
          "base_uri": "https://localhost:8080/",
          "height": 175
        },
        "outputId": "c115ae5b-bd9e-4047-ba74-a51845052771"
      },
      "source": [
        "# but describe() method also can describe of object\r\n",
        "movies.describe(include=['object'])"
      ],
      "execution_count": 51,
      "outputs": [
        {
          "output_type": "execute_result",
          "data": {
            "text/html": [
              "<div>\n",
              "<style scoped>\n",
              "    .dataframe tbody tr th:only-of-type {\n",
              "        vertical-align: middle;\n",
              "    }\n",
              "\n",
              "    .dataframe tbody tr th {\n",
              "        vertical-align: top;\n",
              "    }\n",
              "\n",
              "    .dataframe thead th {\n",
              "        text-align: right;\n",
              "    }\n",
              "</style>\n",
              "<table border=\"1\" class=\"dataframe\">\n",
              "  <thead>\n",
              "    <tr style=\"text-align: right;\">\n",
              "      <th></th>\n",
              "      <th>title</th>\n",
              "      <th>content_rating</th>\n",
              "      <th>genre</th>\n",
              "      <th>actors_list</th>\n",
              "    </tr>\n",
              "  </thead>\n",
              "  <tbody>\n",
              "    <tr>\n",
              "      <th>count</th>\n",
              "      <td>979</td>\n",
              "      <td>976</td>\n",
              "      <td>979</td>\n",
              "      <td>979</td>\n",
              "    </tr>\n",
              "    <tr>\n",
              "      <th>unique</th>\n",
              "      <td>975</td>\n",
              "      <td>12</td>\n",
              "      <td>16</td>\n",
              "      <td>969</td>\n",
              "    </tr>\n",
              "    <tr>\n",
              "      <th>top</th>\n",
              "      <td>The Girl with the Dragon Tattoo</td>\n",
              "      <td>R</td>\n",
              "      <td>Drama</td>\n",
              "      <td>[u'Daniel Radcliffe', u'Emma Watson', u'Rupert...</td>\n",
              "    </tr>\n",
              "    <tr>\n",
              "      <th>freq</th>\n",
              "      <td>2</td>\n",
              "      <td>460</td>\n",
              "      <td>278</td>\n",
              "      <td>6</td>\n",
              "    </tr>\n",
              "  </tbody>\n",
              "</table>\n",
              "</div>"
            ],
            "text/plain": [
              "                                  title  ...                                        actors_list\n",
              "count                               979  ...                                                979\n",
              "unique                              975  ...                                                969\n",
              "top     The Girl with the Dragon Tattoo  ...  [u'Daniel Radcliffe', u'Emma Watson', u'Rupert...\n",
              "freq                                  2  ...                                                  6\n",
              "\n",
              "[4 rows x 4 columns]"
            ]
          },
          "metadata": {
            "tags": []
          },
          "execution_count": 51
        }
      ]
    },
    {
      "cell_type": "markdown",
      "metadata": {
        "id": "hHWxZVNoGYPs"
      },
      "source": [
        "**How do I rename columns in a DataFrame?**"
      ]
    },
    {
      "cell_type": "code",
      "metadata": {
        "id": "4WLL47EzGLOb",
        "colab": {
          "base_uri": "https://localhost:8080/",
          "height": 206
        },
        "outputId": "a1214cff-b773-4077-9a9d-49f4e3efb0f9"
      },
      "source": [
        "# lets loook ufo df\r\n",
        "ufo.head()"
      ],
      "execution_count": 52,
      "outputs": [
        {
          "output_type": "execute_result",
          "data": {
            "text/html": [
              "<div>\n",
              "<style scoped>\n",
              "    .dataframe tbody tr th:only-of-type {\n",
              "        vertical-align: middle;\n",
              "    }\n",
              "\n",
              "    .dataframe tbody tr th {\n",
              "        vertical-align: top;\n",
              "    }\n",
              "\n",
              "    .dataframe thead th {\n",
              "        text-align: right;\n",
              "    }\n",
              "</style>\n",
              "<table border=\"1\" class=\"dataframe\">\n",
              "  <thead>\n",
              "    <tr style=\"text-align: right;\">\n",
              "      <th></th>\n",
              "      <th>City</th>\n",
              "      <th>Colors Reported</th>\n",
              "      <th>Shape Reported</th>\n",
              "      <th>State</th>\n",
              "      <th>Time</th>\n",
              "      <th>Location</th>\n",
              "    </tr>\n",
              "  </thead>\n",
              "  <tbody>\n",
              "    <tr>\n",
              "      <th>0</th>\n",
              "      <td>Ithaca</td>\n",
              "      <td>NaN</td>\n",
              "      <td>TRIANGLE</td>\n",
              "      <td>NY</td>\n",
              "      <td>6/1/1930 22:00</td>\n",
              "      <td>Ithaca, NY</td>\n",
              "    </tr>\n",
              "    <tr>\n",
              "      <th>1</th>\n",
              "      <td>Willingboro</td>\n",
              "      <td>NaN</td>\n",
              "      <td>OTHER</td>\n",
              "      <td>NJ</td>\n",
              "      <td>6/30/1930 20:00</td>\n",
              "      <td>Willingboro, NJ</td>\n",
              "    </tr>\n",
              "    <tr>\n",
              "      <th>2</th>\n",
              "      <td>Holyoke</td>\n",
              "      <td>NaN</td>\n",
              "      <td>OVAL</td>\n",
              "      <td>CO</td>\n",
              "      <td>2/15/1931 14:00</td>\n",
              "      <td>Holyoke, CO</td>\n",
              "    </tr>\n",
              "    <tr>\n",
              "      <th>3</th>\n",
              "      <td>Abilene</td>\n",
              "      <td>NaN</td>\n",
              "      <td>DISK</td>\n",
              "      <td>KS</td>\n",
              "      <td>6/1/1931 13:00</td>\n",
              "      <td>Abilene, KS</td>\n",
              "    </tr>\n",
              "    <tr>\n",
              "      <th>4</th>\n",
              "      <td>New York Worlds Fair</td>\n",
              "      <td>NaN</td>\n",
              "      <td>LIGHT</td>\n",
              "      <td>NY</td>\n",
              "      <td>4/18/1933 19:00</td>\n",
              "      <td>New York Worlds Fair, NY</td>\n",
              "    </tr>\n",
              "  </tbody>\n",
              "</table>\n",
              "</div>"
            ],
            "text/plain": [
              "                   City  ...                  Location\n",
              "0                Ithaca  ...                Ithaca, NY\n",
              "1           Willingboro  ...           Willingboro, NJ\n",
              "2               Holyoke  ...               Holyoke, CO\n",
              "3               Abilene  ...               Abilene, KS\n",
              "4  New York Worlds Fair  ...  New York Worlds Fair, NY\n",
              "\n",
              "[5 rows x 6 columns]"
            ]
          },
          "metadata": {
            "tags": []
          },
          "execution_count": 52
        }
      ]
    },
    {
      "cell_type": "code",
      "metadata": {
        "id": "ZKJkB9GPGhdJ",
        "colab": {
          "base_uri": "https://localhost:8080/"
        },
        "outputId": "60a916dc-aa20-4ecb-9610-32f6224c9d85"
      },
      "source": [
        "ufo.columns # gives the names of all column header"
      ],
      "execution_count": 53,
      "outputs": [
        {
          "output_type": "execute_result",
          "data": {
            "text/plain": [
              "Index(['City', 'Colors Reported', 'Shape Reported', 'State', 'Time',\n",
              "       'Location'],\n",
              "      dtype='object')"
            ]
          },
          "metadata": {
            "tags": []
          },
          "execution_count": 53
        }
      ]
    },
    {
      "cell_type": "code",
      "metadata": {
        "id": "hnDWumaZGmqy"
      },
      "source": [
        "# first method: \r\n",
        "ufo.rename(columns={'Colors Reported':'Colors_Reported',\r\n",
        "                    'Shape Reported':'Shape_Reported'}, inplace=True)"
      ],
      "execution_count": 54,
      "outputs": []
    },
    {
      "cell_type": "code",
      "metadata": {
        "id": "LbzLWPLqHBR4",
        "colab": {
          "base_uri": "https://localhost:8080/",
          "height": 206
        },
        "outputId": "40543915-f7eb-4849-e189-311b3710ca6b"
      },
      "source": [
        "ufo.head()"
      ],
      "execution_count": 55,
      "outputs": [
        {
          "output_type": "execute_result",
          "data": {
            "text/html": [
              "<div>\n",
              "<style scoped>\n",
              "    .dataframe tbody tr th:only-of-type {\n",
              "        vertical-align: middle;\n",
              "    }\n",
              "\n",
              "    .dataframe tbody tr th {\n",
              "        vertical-align: top;\n",
              "    }\n",
              "\n",
              "    .dataframe thead th {\n",
              "        text-align: right;\n",
              "    }\n",
              "</style>\n",
              "<table border=\"1\" class=\"dataframe\">\n",
              "  <thead>\n",
              "    <tr style=\"text-align: right;\">\n",
              "      <th></th>\n",
              "      <th>City</th>\n",
              "      <th>Colors_Reported</th>\n",
              "      <th>Shape_Reported</th>\n",
              "      <th>State</th>\n",
              "      <th>Time</th>\n",
              "      <th>Location</th>\n",
              "    </tr>\n",
              "  </thead>\n",
              "  <tbody>\n",
              "    <tr>\n",
              "      <th>0</th>\n",
              "      <td>Ithaca</td>\n",
              "      <td>NaN</td>\n",
              "      <td>TRIANGLE</td>\n",
              "      <td>NY</td>\n",
              "      <td>6/1/1930 22:00</td>\n",
              "      <td>Ithaca, NY</td>\n",
              "    </tr>\n",
              "    <tr>\n",
              "      <th>1</th>\n",
              "      <td>Willingboro</td>\n",
              "      <td>NaN</td>\n",
              "      <td>OTHER</td>\n",
              "      <td>NJ</td>\n",
              "      <td>6/30/1930 20:00</td>\n",
              "      <td>Willingboro, NJ</td>\n",
              "    </tr>\n",
              "    <tr>\n",
              "      <th>2</th>\n",
              "      <td>Holyoke</td>\n",
              "      <td>NaN</td>\n",
              "      <td>OVAL</td>\n",
              "      <td>CO</td>\n",
              "      <td>2/15/1931 14:00</td>\n",
              "      <td>Holyoke, CO</td>\n",
              "    </tr>\n",
              "    <tr>\n",
              "      <th>3</th>\n",
              "      <td>Abilene</td>\n",
              "      <td>NaN</td>\n",
              "      <td>DISK</td>\n",
              "      <td>KS</td>\n",
              "      <td>6/1/1931 13:00</td>\n",
              "      <td>Abilene, KS</td>\n",
              "    </tr>\n",
              "    <tr>\n",
              "      <th>4</th>\n",
              "      <td>New York Worlds Fair</td>\n",
              "      <td>NaN</td>\n",
              "      <td>LIGHT</td>\n",
              "      <td>NY</td>\n",
              "      <td>4/18/1933 19:00</td>\n",
              "      <td>New York Worlds Fair, NY</td>\n",
              "    </tr>\n",
              "  </tbody>\n",
              "</table>\n",
              "</div>"
            ],
            "text/plain": [
              "                   City  ...                  Location\n",
              "0                Ithaca  ...                Ithaca, NY\n",
              "1           Willingboro  ...           Willingboro, NJ\n",
              "2               Holyoke  ...               Holyoke, CO\n",
              "3               Abilene  ...               Abilene, KS\n",
              "4  New York Worlds Fair  ...  New York Worlds Fair, NY\n",
              "\n",
              "[5 rows x 6 columns]"
            ]
          },
          "metadata": {
            "tags": []
          },
          "execution_count": 55
        }
      ]
    },
    {
      "cell_type": "code",
      "metadata": {
        "id": "ZBSEwUmRHDJA"
      },
      "source": [
        "# second method:\r\n",
        "# lets first call df again\r\n",
        "ufo = pd.read_csv('http://bit.ly/uforeports')"
      ],
      "execution_count": 56,
      "outputs": []
    },
    {
      "cell_type": "code",
      "metadata": {
        "id": "ZcPYumL0Hdjo",
        "colab": {
          "base_uri": "https://localhost:8080/"
        },
        "outputId": "90d9f165-885d-4a25-e554-f63f01d07b80"
      },
      "source": [
        "ufo.columns"
      ],
      "execution_count": 57,
      "outputs": [
        {
          "output_type": "execute_result",
          "data": {
            "text/plain": [
              "Index(['City', 'Colors Reported', 'Shape Reported', 'State', 'Time'], dtype='object')"
            ]
          },
          "metadata": {
            "tags": []
          },
          "execution_count": 57
        }
      ]
    },
    {
      "cell_type": "code",
      "metadata": {
        "id": "yxjTRCEcHfB3"
      },
      "source": [
        "ufo_cols = ['city','colors_reported','shape_reported','state','time']\r\n",
        "ufo.columns = ufo_cols"
      ],
      "execution_count": 58,
      "outputs": []
    },
    {
      "cell_type": "code",
      "metadata": {
        "id": "IE5oxgOOHra-",
        "colab": {
          "base_uri": "https://localhost:8080/"
        },
        "outputId": "1464cbb8-2cb4-4644-ccbe-ecfc2beffc1f"
      },
      "source": [
        "# lets see\r\n",
        "ufo.columns"
      ],
      "execution_count": 59,
      "outputs": [
        {
          "output_type": "execute_result",
          "data": {
            "text/plain": [
              "Index(['city', 'colors_reported', 'shape_reported', 'state', 'time'], dtype='object')"
            ]
          },
          "metadata": {
            "tags": []
          },
          "execution_count": 59
        }
      ]
    },
    {
      "cell_type": "markdown",
      "metadata": {
        "id": "lVUpQGr9IJfu"
      },
      "source": [
        "**How do I remove columns from a DataFrame?**"
      ]
    },
    {
      "cell_type": "code",
      "metadata": {
        "id": "Cn__fNh0HxzN",
        "colab": {
          "base_uri": "https://localhost:8080/",
          "height": 206
        },
        "outputId": "e12845d9-2524-4ce1-bfb8-ed0e10e3ef5f"
      },
      "source": [
        "ufo = pd.read_csv('http://bit.ly/uforeports')\r\n",
        "ufo.head()"
      ],
      "execution_count": 60,
      "outputs": [
        {
          "output_type": "execute_result",
          "data": {
            "text/html": [
              "<div>\n",
              "<style scoped>\n",
              "    .dataframe tbody tr th:only-of-type {\n",
              "        vertical-align: middle;\n",
              "    }\n",
              "\n",
              "    .dataframe tbody tr th {\n",
              "        vertical-align: top;\n",
              "    }\n",
              "\n",
              "    .dataframe thead th {\n",
              "        text-align: right;\n",
              "    }\n",
              "</style>\n",
              "<table border=\"1\" class=\"dataframe\">\n",
              "  <thead>\n",
              "    <tr style=\"text-align: right;\">\n",
              "      <th></th>\n",
              "      <th>City</th>\n",
              "      <th>Colors Reported</th>\n",
              "      <th>Shape Reported</th>\n",
              "      <th>State</th>\n",
              "      <th>Time</th>\n",
              "    </tr>\n",
              "  </thead>\n",
              "  <tbody>\n",
              "    <tr>\n",
              "      <th>0</th>\n",
              "      <td>Ithaca</td>\n",
              "      <td>NaN</td>\n",
              "      <td>TRIANGLE</td>\n",
              "      <td>NY</td>\n",
              "      <td>6/1/1930 22:00</td>\n",
              "    </tr>\n",
              "    <tr>\n",
              "      <th>1</th>\n",
              "      <td>Willingboro</td>\n",
              "      <td>NaN</td>\n",
              "      <td>OTHER</td>\n",
              "      <td>NJ</td>\n",
              "      <td>6/30/1930 20:00</td>\n",
              "    </tr>\n",
              "    <tr>\n",
              "      <th>2</th>\n",
              "      <td>Holyoke</td>\n",
              "      <td>NaN</td>\n",
              "      <td>OVAL</td>\n",
              "      <td>CO</td>\n",
              "      <td>2/15/1931 14:00</td>\n",
              "    </tr>\n",
              "    <tr>\n",
              "      <th>3</th>\n",
              "      <td>Abilene</td>\n",
              "      <td>NaN</td>\n",
              "      <td>DISK</td>\n",
              "      <td>KS</td>\n",
              "      <td>6/1/1931 13:00</td>\n",
              "    </tr>\n",
              "    <tr>\n",
              "      <th>4</th>\n",
              "      <td>New York Worlds Fair</td>\n",
              "      <td>NaN</td>\n",
              "      <td>LIGHT</td>\n",
              "      <td>NY</td>\n",
              "      <td>4/18/1933 19:00</td>\n",
              "    </tr>\n",
              "  </tbody>\n",
              "</table>\n",
              "</div>"
            ],
            "text/plain": [
              "                   City Colors Reported Shape Reported State             Time\n",
              "0                Ithaca             NaN       TRIANGLE    NY   6/1/1930 22:00\n",
              "1           Willingboro             NaN          OTHER    NJ  6/30/1930 20:00\n",
              "2               Holyoke             NaN           OVAL    CO  2/15/1931 14:00\n",
              "3               Abilene             NaN           DISK    KS   6/1/1931 13:00\n",
              "4  New York Worlds Fair             NaN          LIGHT    NY  4/18/1933 19:00"
            ]
          },
          "metadata": {
            "tags": []
          },
          "execution_count": 60
        }
      ]
    },
    {
      "cell_type": "code",
      "metadata": {
        "id": "2FK2j1CaIQoM",
        "colab": {
          "base_uri": "https://localhost:8080/"
        },
        "outputId": "f174f0af-be31-4401-d1d1-e12a8c817e41"
      },
      "source": [
        "ufo.shape"
      ],
      "execution_count": 61,
      "outputs": [
        {
          "output_type": "execute_result",
          "data": {
            "text/plain": [
              "(18241, 5)"
            ]
          },
          "metadata": {
            "tags": []
          },
          "execution_count": 61
        }
      ]
    },
    {
      "cell_type": "code",
      "metadata": {
        "id": "8KgGofYSITnc",
        "colab": {
          "base_uri": "https://localhost:8080/",
          "height": 206
        },
        "outputId": "a721e5fb-e4da-40a5-887e-8fa4bfdecdbf"
      },
      "source": [
        "ufo.drop('Colors Reported', axis=1, inplace=True)\r\n",
        "ufo.head()\r\n",
        "# axis = 0 means rowwise, axis=1 means columnwise"
      ],
      "execution_count": 62,
      "outputs": [
        {
          "output_type": "execute_result",
          "data": {
            "text/html": [
              "<div>\n",
              "<style scoped>\n",
              "    .dataframe tbody tr th:only-of-type {\n",
              "        vertical-align: middle;\n",
              "    }\n",
              "\n",
              "    .dataframe tbody tr th {\n",
              "        vertical-align: top;\n",
              "    }\n",
              "\n",
              "    .dataframe thead th {\n",
              "        text-align: right;\n",
              "    }\n",
              "</style>\n",
              "<table border=\"1\" class=\"dataframe\">\n",
              "  <thead>\n",
              "    <tr style=\"text-align: right;\">\n",
              "      <th></th>\n",
              "      <th>City</th>\n",
              "      <th>Shape Reported</th>\n",
              "      <th>State</th>\n",
              "      <th>Time</th>\n",
              "    </tr>\n",
              "  </thead>\n",
              "  <tbody>\n",
              "    <tr>\n",
              "      <th>0</th>\n",
              "      <td>Ithaca</td>\n",
              "      <td>TRIANGLE</td>\n",
              "      <td>NY</td>\n",
              "      <td>6/1/1930 22:00</td>\n",
              "    </tr>\n",
              "    <tr>\n",
              "      <th>1</th>\n",
              "      <td>Willingboro</td>\n",
              "      <td>OTHER</td>\n",
              "      <td>NJ</td>\n",
              "      <td>6/30/1930 20:00</td>\n",
              "    </tr>\n",
              "    <tr>\n",
              "      <th>2</th>\n",
              "      <td>Holyoke</td>\n",
              "      <td>OVAL</td>\n",
              "      <td>CO</td>\n",
              "      <td>2/15/1931 14:00</td>\n",
              "    </tr>\n",
              "    <tr>\n",
              "      <th>3</th>\n",
              "      <td>Abilene</td>\n",
              "      <td>DISK</td>\n",
              "      <td>KS</td>\n",
              "      <td>6/1/1931 13:00</td>\n",
              "    </tr>\n",
              "    <tr>\n",
              "      <th>4</th>\n",
              "      <td>New York Worlds Fair</td>\n",
              "      <td>LIGHT</td>\n",
              "      <td>NY</td>\n",
              "      <td>4/18/1933 19:00</td>\n",
              "    </tr>\n",
              "  </tbody>\n",
              "</table>\n",
              "</div>"
            ],
            "text/plain": [
              "                   City Shape Reported State             Time\n",
              "0                Ithaca       TRIANGLE    NY   6/1/1930 22:00\n",
              "1           Willingboro          OTHER    NJ  6/30/1930 20:00\n",
              "2               Holyoke           OVAL    CO  2/15/1931 14:00\n",
              "3               Abilene           DISK    KS   6/1/1931 13:00\n",
              "4  New York Worlds Fair          LIGHT    NY  4/18/1933 19:00"
            ]
          },
          "metadata": {
            "tags": []
          },
          "execution_count": 62
        }
      ]
    },
    {
      "cell_type": "code",
      "metadata": {
        "id": "UW3da2dQMFq5",
        "colab": {
          "base_uri": "https://localhost:8080/",
          "height": 206
        },
        "outputId": "56ab1dab-7886-4a4c-cb8e-a06aa31a2926"
      },
      "source": [
        "# now if we like to remove rows\r\n",
        "ufo.drop([0,2], axis=0, inplace=True)\r\n",
        "ufo.head()"
      ],
      "execution_count": 63,
      "outputs": [
        {
          "output_type": "execute_result",
          "data": {
            "text/html": [
              "<div>\n",
              "<style scoped>\n",
              "    .dataframe tbody tr th:only-of-type {\n",
              "        vertical-align: middle;\n",
              "    }\n",
              "\n",
              "    .dataframe tbody tr th {\n",
              "        vertical-align: top;\n",
              "    }\n",
              "\n",
              "    .dataframe thead th {\n",
              "        text-align: right;\n",
              "    }\n",
              "</style>\n",
              "<table border=\"1\" class=\"dataframe\">\n",
              "  <thead>\n",
              "    <tr style=\"text-align: right;\">\n",
              "      <th></th>\n",
              "      <th>City</th>\n",
              "      <th>Shape Reported</th>\n",
              "      <th>State</th>\n",
              "      <th>Time</th>\n",
              "    </tr>\n",
              "  </thead>\n",
              "  <tbody>\n",
              "    <tr>\n",
              "      <th>1</th>\n",
              "      <td>Willingboro</td>\n",
              "      <td>OTHER</td>\n",
              "      <td>NJ</td>\n",
              "      <td>6/30/1930 20:00</td>\n",
              "    </tr>\n",
              "    <tr>\n",
              "      <th>3</th>\n",
              "      <td>Abilene</td>\n",
              "      <td>DISK</td>\n",
              "      <td>KS</td>\n",
              "      <td>6/1/1931 13:00</td>\n",
              "    </tr>\n",
              "    <tr>\n",
              "      <th>4</th>\n",
              "      <td>New York Worlds Fair</td>\n",
              "      <td>LIGHT</td>\n",
              "      <td>NY</td>\n",
              "      <td>4/18/1933 19:00</td>\n",
              "    </tr>\n",
              "    <tr>\n",
              "      <th>5</th>\n",
              "      <td>Valley City</td>\n",
              "      <td>DISK</td>\n",
              "      <td>ND</td>\n",
              "      <td>9/15/1934 15:30</td>\n",
              "    </tr>\n",
              "    <tr>\n",
              "      <th>6</th>\n",
              "      <td>Crater Lake</td>\n",
              "      <td>CIRCLE</td>\n",
              "      <td>CA</td>\n",
              "      <td>6/15/1935 0:00</td>\n",
              "    </tr>\n",
              "  </tbody>\n",
              "</table>\n",
              "</div>"
            ],
            "text/plain": [
              "                   City Shape Reported State             Time\n",
              "1           Willingboro          OTHER    NJ  6/30/1930 20:00\n",
              "3               Abilene           DISK    KS   6/1/1931 13:00\n",
              "4  New York Worlds Fair          LIGHT    NY  4/18/1933 19:00\n",
              "5           Valley City           DISK    ND  9/15/1934 15:30\n",
              "6           Crater Lake         CIRCLE    CA   6/15/1935 0:00"
            ]
          },
          "metadata": {
            "tags": []
          },
          "execution_count": 63
        }
      ]
    },
    {
      "cell_type": "markdown",
      "metadata": {
        "id": "R0WNOxIFMZCV"
      },
      "source": [
        "**How do I sort a pandas DataFrame or Series?**"
      ]
    },
    {
      "cell_type": "code",
      "metadata": {
        "id": "gTDWtKa4MUXd",
        "colab": {
          "base_uri": "https://localhost:8080/",
          "height": 206
        },
        "outputId": "feb10f5c-5632-46d1-9e91-6c56843a5405"
      },
      "source": [
        "movies = pd.read_csv('http://bit.ly/imdbratings')\r\n",
        "movies.head()"
      ],
      "execution_count": 64,
      "outputs": [
        {
          "output_type": "execute_result",
          "data": {
            "text/html": [
              "<div>\n",
              "<style scoped>\n",
              "    .dataframe tbody tr th:only-of-type {\n",
              "        vertical-align: middle;\n",
              "    }\n",
              "\n",
              "    .dataframe tbody tr th {\n",
              "        vertical-align: top;\n",
              "    }\n",
              "\n",
              "    .dataframe thead th {\n",
              "        text-align: right;\n",
              "    }\n",
              "</style>\n",
              "<table border=\"1\" class=\"dataframe\">\n",
              "  <thead>\n",
              "    <tr style=\"text-align: right;\">\n",
              "      <th></th>\n",
              "      <th>star_rating</th>\n",
              "      <th>title</th>\n",
              "      <th>content_rating</th>\n",
              "      <th>genre</th>\n",
              "      <th>duration</th>\n",
              "      <th>actors_list</th>\n",
              "    </tr>\n",
              "  </thead>\n",
              "  <tbody>\n",
              "    <tr>\n",
              "      <th>0</th>\n",
              "      <td>9.3</td>\n",
              "      <td>The Shawshank Redemption</td>\n",
              "      <td>R</td>\n",
              "      <td>Crime</td>\n",
              "      <td>142</td>\n",
              "      <td>[u'Tim Robbins', u'Morgan Freeman', u'Bob Gunt...</td>\n",
              "    </tr>\n",
              "    <tr>\n",
              "      <th>1</th>\n",
              "      <td>9.2</td>\n",
              "      <td>The Godfather</td>\n",
              "      <td>R</td>\n",
              "      <td>Crime</td>\n",
              "      <td>175</td>\n",
              "      <td>[u'Marlon Brando', u'Al Pacino', u'James Caan']</td>\n",
              "    </tr>\n",
              "    <tr>\n",
              "      <th>2</th>\n",
              "      <td>9.1</td>\n",
              "      <td>The Godfather: Part II</td>\n",
              "      <td>R</td>\n",
              "      <td>Crime</td>\n",
              "      <td>200</td>\n",
              "      <td>[u'Al Pacino', u'Robert De Niro', u'Robert Duv...</td>\n",
              "    </tr>\n",
              "    <tr>\n",
              "      <th>3</th>\n",
              "      <td>9.0</td>\n",
              "      <td>The Dark Knight</td>\n",
              "      <td>PG-13</td>\n",
              "      <td>Action</td>\n",
              "      <td>152</td>\n",
              "      <td>[u'Christian Bale', u'Heath Ledger', u'Aaron E...</td>\n",
              "    </tr>\n",
              "    <tr>\n",
              "      <th>4</th>\n",
              "      <td>8.9</td>\n",
              "      <td>Pulp Fiction</td>\n",
              "      <td>R</td>\n",
              "      <td>Crime</td>\n",
              "      <td>154</td>\n",
              "      <td>[u'John Travolta', u'Uma Thurman', u'Samuel L....</td>\n",
              "    </tr>\n",
              "  </tbody>\n",
              "</table>\n",
              "</div>"
            ],
            "text/plain": [
              "   star_rating  ...                                        actors_list\n",
              "0          9.3  ...  [u'Tim Robbins', u'Morgan Freeman', u'Bob Gunt...\n",
              "1          9.2  ...    [u'Marlon Brando', u'Al Pacino', u'James Caan']\n",
              "2          9.1  ...  [u'Al Pacino', u'Robert De Niro', u'Robert Duv...\n",
              "3          9.0  ...  [u'Christian Bale', u'Heath Ledger', u'Aaron E...\n",
              "4          8.9  ...  [u'John Travolta', u'Uma Thurman', u'Samuel L....\n",
              "\n",
              "[5 rows x 6 columns]"
            ]
          },
          "metadata": {
            "tags": []
          },
          "execution_count": 64
        }
      ]
    },
    {
      "cell_type": "code",
      "metadata": {
        "id": "kb5IfIhQMhia",
        "colab": {
          "base_uri": "https://localhost:8080/"
        },
        "outputId": "ab5cce4b-11ad-4f17-d09a-18e1f414b92d"
      },
      "source": [
        "# if we like to sort a single column title in this case\r\n",
        "movies['title'].sort_values()\r\n",
        "# numbers comes first and alphabets"
      ],
      "execution_count": 65,
      "outputs": [
        {
          "output_type": "execute_result",
          "data": {
            "text/plain": [
              "542     (500) Days of Summer\n",
              "5               12 Angry Men\n",
              "201         12 Years a Slave\n",
              "698                127 Hours\n",
              "110    2001: A Space Odyssey\n",
              "               ...          \n",
              "955         Zero Dark Thirty\n",
              "677                   Zodiac\n",
              "615               Zombieland\n",
              "526                     Zulu\n",
              "864                    [Rec]\n",
              "Name: title, Length: 979, dtype: object"
            ]
          },
          "metadata": {
            "tags": []
          },
          "execution_count": 65
        }
      ]
    },
    {
      "cell_type": "code",
      "metadata": {
        "id": "-R1NsyPwM7fy",
        "colab": {
          "base_uri": "https://localhost:8080/"
        },
        "outputId": "1a08e2bc-9b6e-4554-e89f-80cab2d6e2e3"
      },
      "source": [
        "# in descending order\r\n",
        "movies.title.sort_values(ascending=False)"
      ],
      "execution_count": 66,
      "outputs": [
        {
          "output_type": "execute_result",
          "data": {
            "text/plain": [
              "864                    [Rec]\n",
              "526                     Zulu\n",
              "615               Zombieland\n",
              "677                   Zodiac\n",
              "955         Zero Dark Thirty\n",
              "               ...          \n",
              "110    2001: A Space Odyssey\n",
              "698                127 Hours\n",
              "201         12 Years a Slave\n",
              "5               12 Angry Men\n",
              "542     (500) Days of Summer\n",
              "Name: title, Length: 979, dtype: object"
            ]
          },
          "metadata": {
            "tags": []
          },
          "execution_count": 66
        }
      ]
    },
    {
      "cell_type": "code",
      "metadata": {
        "id": "x6MF5dj4NIUQ",
        "colab": {
          "base_uri": "https://localhost:8080/",
          "height": 424
        },
        "outputId": "d1b7a548-4423-47c8-8da4-0c143db007c1"
      },
      "source": [
        "# if we like to see whole df sorted according to some columns\r\n",
        "movies.sort_values('title')"
      ],
      "execution_count": 67,
      "outputs": [
        {
          "output_type": "execute_result",
          "data": {
            "text/html": [
              "<div>\n",
              "<style scoped>\n",
              "    .dataframe tbody tr th:only-of-type {\n",
              "        vertical-align: middle;\n",
              "    }\n",
              "\n",
              "    .dataframe tbody tr th {\n",
              "        vertical-align: top;\n",
              "    }\n",
              "\n",
              "    .dataframe thead th {\n",
              "        text-align: right;\n",
              "    }\n",
              "</style>\n",
              "<table border=\"1\" class=\"dataframe\">\n",
              "  <thead>\n",
              "    <tr style=\"text-align: right;\">\n",
              "      <th></th>\n",
              "      <th>star_rating</th>\n",
              "      <th>title</th>\n",
              "      <th>content_rating</th>\n",
              "      <th>genre</th>\n",
              "      <th>duration</th>\n",
              "      <th>actors_list</th>\n",
              "    </tr>\n",
              "  </thead>\n",
              "  <tbody>\n",
              "    <tr>\n",
              "      <th>542</th>\n",
              "      <td>7.8</td>\n",
              "      <td>(500) Days of Summer</td>\n",
              "      <td>PG-13</td>\n",
              "      <td>Comedy</td>\n",
              "      <td>95</td>\n",
              "      <td>[u'Zooey Deschanel', u'Joseph Gordon-Levitt', ...</td>\n",
              "    </tr>\n",
              "    <tr>\n",
              "      <th>5</th>\n",
              "      <td>8.9</td>\n",
              "      <td>12 Angry Men</td>\n",
              "      <td>NOT RATED</td>\n",
              "      <td>Drama</td>\n",
              "      <td>96</td>\n",
              "      <td>[u'Henry Fonda', u'Lee J. Cobb', u'Martin Bals...</td>\n",
              "    </tr>\n",
              "    <tr>\n",
              "      <th>201</th>\n",
              "      <td>8.1</td>\n",
              "      <td>12 Years a Slave</td>\n",
              "      <td>R</td>\n",
              "      <td>Biography</td>\n",
              "      <td>134</td>\n",
              "      <td>[u'Chiwetel Ejiofor', u'Michael Kenneth Willia...</td>\n",
              "    </tr>\n",
              "    <tr>\n",
              "      <th>698</th>\n",
              "      <td>7.6</td>\n",
              "      <td>127 Hours</td>\n",
              "      <td>R</td>\n",
              "      <td>Adventure</td>\n",
              "      <td>94</td>\n",
              "      <td>[u'James Franco', u'Amber Tamblyn', u'Kate Mara']</td>\n",
              "    </tr>\n",
              "    <tr>\n",
              "      <th>110</th>\n",
              "      <td>8.3</td>\n",
              "      <td>2001: A Space Odyssey</td>\n",
              "      <td>G</td>\n",
              "      <td>Mystery</td>\n",
              "      <td>160</td>\n",
              "      <td>[u'Keir Dullea', u'Gary Lockwood', u'William S...</td>\n",
              "    </tr>\n",
              "    <tr>\n",
              "      <th>...</th>\n",
              "      <td>...</td>\n",
              "      <td>...</td>\n",
              "      <td>...</td>\n",
              "      <td>...</td>\n",
              "      <td>...</td>\n",
              "      <td>...</td>\n",
              "    </tr>\n",
              "    <tr>\n",
              "      <th>955</th>\n",
              "      <td>7.4</td>\n",
              "      <td>Zero Dark Thirty</td>\n",
              "      <td>R</td>\n",
              "      <td>Drama</td>\n",
              "      <td>157</td>\n",
              "      <td>[u'Jessica Chastain', u'Joel Edgerton', u'Chri...</td>\n",
              "    </tr>\n",
              "    <tr>\n",
              "      <th>677</th>\n",
              "      <td>7.7</td>\n",
              "      <td>Zodiac</td>\n",
              "      <td>R</td>\n",
              "      <td>Crime</td>\n",
              "      <td>157</td>\n",
              "      <td>[u'Jake Gyllenhaal', u'Robert Downey Jr.', u'M...</td>\n",
              "    </tr>\n",
              "    <tr>\n",
              "      <th>615</th>\n",
              "      <td>7.7</td>\n",
              "      <td>Zombieland</td>\n",
              "      <td>R</td>\n",
              "      <td>Comedy</td>\n",
              "      <td>88</td>\n",
              "      <td>[u'Jesse Eisenberg', u'Emma Stone', u'Woody Ha...</td>\n",
              "    </tr>\n",
              "    <tr>\n",
              "      <th>526</th>\n",
              "      <td>7.8</td>\n",
              "      <td>Zulu</td>\n",
              "      <td>UNRATED</td>\n",
              "      <td>Drama</td>\n",
              "      <td>138</td>\n",
              "      <td>[u'Stanley Baker', u'Jack Hawkins', u'Ulla Jac...</td>\n",
              "    </tr>\n",
              "    <tr>\n",
              "      <th>864</th>\n",
              "      <td>7.5</td>\n",
              "      <td>[Rec]</td>\n",
              "      <td>R</td>\n",
              "      <td>Horror</td>\n",
              "      <td>78</td>\n",
              "      <td>[u'Manuela Velasco', u'Ferran Terraza', u'Jorg...</td>\n",
              "    </tr>\n",
              "  </tbody>\n",
              "</table>\n",
              "<p>979 rows × 6 columns</p>\n",
              "</div>"
            ],
            "text/plain": [
              "     star_rating  ...                                        actors_list\n",
              "542          7.8  ...  [u'Zooey Deschanel', u'Joseph Gordon-Levitt', ...\n",
              "5            8.9  ...  [u'Henry Fonda', u'Lee J. Cobb', u'Martin Bals...\n",
              "201          8.1  ...  [u'Chiwetel Ejiofor', u'Michael Kenneth Willia...\n",
              "698          7.6  ...  [u'James Franco', u'Amber Tamblyn', u'Kate Mara']\n",
              "110          8.3  ...  [u'Keir Dullea', u'Gary Lockwood', u'William S...\n",
              "..           ...  ...                                                ...\n",
              "955          7.4  ...  [u'Jessica Chastain', u'Joel Edgerton', u'Chri...\n",
              "677          7.7  ...  [u'Jake Gyllenhaal', u'Robert Downey Jr.', u'M...\n",
              "615          7.7  ...  [u'Jesse Eisenberg', u'Emma Stone', u'Woody Ha...\n",
              "526          7.8  ...  [u'Stanley Baker', u'Jack Hawkins', u'Ulla Jac...\n",
              "864          7.5  ...  [u'Manuela Velasco', u'Ferran Terraza', u'Jorg...\n",
              "\n",
              "[979 rows x 6 columns]"
            ]
          },
          "metadata": {
            "tags": []
          },
          "execution_count": 67
        }
      ]
    },
    {
      "cell_type": "code",
      "metadata": {
        "id": "7YBle8jGNWdQ",
        "colab": {
          "base_uri": "https://localhost:8080/",
          "height": 424
        },
        "outputId": "32f6133a-b835-4d2d-c320-3ace8a35aa1f"
      },
      "source": [
        "# sorting by multiple columns\r\n",
        "# the order of sorting matters, in this case\r\n",
        "movies.sort_values(['content_rating','duration'])"
      ],
      "execution_count": 68,
      "outputs": [
        {
          "output_type": "execute_result",
          "data": {
            "text/html": [
              "<div>\n",
              "<style scoped>\n",
              "    .dataframe tbody tr th:only-of-type {\n",
              "        vertical-align: middle;\n",
              "    }\n",
              "\n",
              "    .dataframe tbody tr th {\n",
              "        vertical-align: top;\n",
              "    }\n",
              "\n",
              "    .dataframe thead th {\n",
              "        text-align: right;\n",
              "    }\n",
              "</style>\n",
              "<table border=\"1\" class=\"dataframe\">\n",
              "  <thead>\n",
              "    <tr style=\"text-align: right;\">\n",
              "      <th></th>\n",
              "      <th>star_rating</th>\n",
              "      <th>title</th>\n",
              "      <th>content_rating</th>\n",
              "      <th>genre</th>\n",
              "      <th>duration</th>\n",
              "      <th>actors_list</th>\n",
              "    </tr>\n",
              "  </thead>\n",
              "  <tbody>\n",
              "    <tr>\n",
              "      <th>713</th>\n",
              "      <td>7.6</td>\n",
              "      <td>The Jungle Book</td>\n",
              "      <td>APPROVED</td>\n",
              "      <td>Animation</td>\n",
              "      <td>78</td>\n",
              "      <td>[u'Phil Harris', u'Sebastian Cabot', u'Louis P...</td>\n",
              "    </tr>\n",
              "    <tr>\n",
              "      <th>513</th>\n",
              "      <td>7.8</td>\n",
              "      <td>Invasion of the Body Snatchers</td>\n",
              "      <td>APPROVED</td>\n",
              "      <td>Horror</td>\n",
              "      <td>80</td>\n",
              "      <td>[u'Kevin McCarthy', u'Dana Wynter', u'Larry Ga...</td>\n",
              "    </tr>\n",
              "    <tr>\n",
              "      <th>272</th>\n",
              "      <td>8.1</td>\n",
              "      <td>The Killing</td>\n",
              "      <td>APPROVED</td>\n",
              "      <td>Crime</td>\n",
              "      <td>85</td>\n",
              "      <td>[u'Sterling Hayden', u'Coleen Gray', u'Vince E...</td>\n",
              "    </tr>\n",
              "    <tr>\n",
              "      <th>703</th>\n",
              "      <td>7.6</td>\n",
              "      <td>Dracula</td>\n",
              "      <td>APPROVED</td>\n",
              "      <td>Horror</td>\n",
              "      <td>85</td>\n",
              "      <td>[u'Bela Lugosi', u'Helen Chandler', u'David Ma...</td>\n",
              "    </tr>\n",
              "    <tr>\n",
              "      <th>612</th>\n",
              "      <td>7.7</td>\n",
              "      <td>A Hard Day's Night</td>\n",
              "      <td>APPROVED</td>\n",
              "      <td>Comedy</td>\n",
              "      <td>87</td>\n",
              "      <td>[u'John Lennon', u'Paul McCartney', u'George H...</td>\n",
              "    </tr>\n",
              "    <tr>\n",
              "      <th>...</th>\n",
              "      <td>...</td>\n",
              "      <td>...</td>\n",
              "      <td>...</td>\n",
              "      <td>...</td>\n",
              "      <td>...</td>\n",
              "      <td>...</td>\n",
              "    </tr>\n",
              "    <tr>\n",
              "      <th>387</th>\n",
              "      <td>8.0</td>\n",
              "      <td>Midnight Cowboy</td>\n",
              "      <td>X</td>\n",
              "      <td>Drama</td>\n",
              "      <td>113</td>\n",
              "      <td>[u'Dustin Hoffman', u'Jon Voight', u'Sylvia Mi...</td>\n",
              "    </tr>\n",
              "    <tr>\n",
              "      <th>86</th>\n",
              "      <td>8.4</td>\n",
              "      <td>A Clockwork Orange</td>\n",
              "      <td>X</td>\n",
              "      <td>Crime</td>\n",
              "      <td>136</td>\n",
              "      <td>[u'Malcolm McDowell', u'Patrick Magee', u'Mich...</td>\n",
              "    </tr>\n",
              "    <tr>\n",
              "      <th>187</th>\n",
              "      <td>8.2</td>\n",
              "      <td>Butch Cassidy and the Sundance Kid</td>\n",
              "      <td>NaN</td>\n",
              "      <td>Biography</td>\n",
              "      <td>110</td>\n",
              "      <td>[u'Paul Newman', u'Robert Redford', u'Katharin...</td>\n",
              "    </tr>\n",
              "    <tr>\n",
              "      <th>936</th>\n",
              "      <td>7.4</td>\n",
              "      <td>True Grit</td>\n",
              "      <td>NaN</td>\n",
              "      <td>Adventure</td>\n",
              "      <td>128</td>\n",
              "      <td>[u'John Wayne', u'Kim Darby', u'Glen Campbell']</td>\n",
              "    </tr>\n",
              "    <tr>\n",
              "      <th>649</th>\n",
              "      <td>7.7</td>\n",
              "      <td>Where Eagles Dare</td>\n",
              "      <td>NaN</td>\n",
              "      <td>Action</td>\n",
              "      <td>158</td>\n",
              "      <td>[u'Richard Burton', u'Clint Eastwood', u'Mary ...</td>\n",
              "    </tr>\n",
              "  </tbody>\n",
              "</table>\n",
              "<p>979 rows × 6 columns</p>\n",
              "</div>"
            ],
            "text/plain": [
              "     star_rating  ...                                        actors_list\n",
              "713          7.6  ...  [u'Phil Harris', u'Sebastian Cabot', u'Louis P...\n",
              "513          7.8  ...  [u'Kevin McCarthy', u'Dana Wynter', u'Larry Ga...\n",
              "272          8.1  ...  [u'Sterling Hayden', u'Coleen Gray', u'Vince E...\n",
              "703          7.6  ...  [u'Bela Lugosi', u'Helen Chandler', u'David Ma...\n",
              "612          7.7  ...  [u'John Lennon', u'Paul McCartney', u'George H...\n",
              "..           ...  ...                                                ...\n",
              "387          8.0  ...  [u'Dustin Hoffman', u'Jon Voight', u'Sylvia Mi...\n",
              "86           8.4  ...  [u'Malcolm McDowell', u'Patrick Magee', u'Mich...\n",
              "187          8.2  ...  [u'Paul Newman', u'Robert Redford', u'Katharin...\n",
              "936          7.4  ...    [u'John Wayne', u'Kim Darby', u'Glen Campbell']\n",
              "649          7.7  ...  [u'Richard Burton', u'Clint Eastwood', u'Mary ...\n",
              "\n",
              "[979 rows x 6 columns]"
            ]
          },
          "metadata": {
            "tags": []
          },
          "execution_count": 68
        }
      ]
    },
    {
      "cell_type": "markdown",
      "metadata": {
        "id": "sAW4KKM3Nyhf"
      },
      "source": [
        "**How do I filter rows of a pandas DataFrame by column value?**"
      ]
    },
    {
      "cell_type": "code",
      "metadata": {
        "id": "0h5vCnz9NrI5",
        "colab": {
          "base_uri": "https://localhost:8080/",
          "height": 206
        },
        "outputId": "89f4cd42-7e7a-4eeb-d800-18c594709dc0"
      },
      "source": [
        "movies = pd.read_csv('http://bit.ly/imdbratings')\r\n",
        "movies.head()"
      ],
      "execution_count": 69,
      "outputs": [
        {
          "output_type": "execute_result",
          "data": {
            "text/html": [
              "<div>\n",
              "<style scoped>\n",
              "    .dataframe tbody tr th:only-of-type {\n",
              "        vertical-align: middle;\n",
              "    }\n",
              "\n",
              "    .dataframe tbody tr th {\n",
              "        vertical-align: top;\n",
              "    }\n",
              "\n",
              "    .dataframe thead th {\n",
              "        text-align: right;\n",
              "    }\n",
              "</style>\n",
              "<table border=\"1\" class=\"dataframe\">\n",
              "  <thead>\n",
              "    <tr style=\"text-align: right;\">\n",
              "      <th></th>\n",
              "      <th>star_rating</th>\n",
              "      <th>title</th>\n",
              "      <th>content_rating</th>\n",
              "      <th>genre</th>\n",
              "      <th>duration</th>\n",
              "      <th>actors_list</th>\n",
              "    </tr>\n",
              "  </thead>\n",
              "  <tbody>\n",
              "    <tr>\n",
              "      <th>0</th>\n",
              "      <td>9.3</td>\n",
              "      <td>The Shawshank Redemption</td>\n",
              "      <td>R</td>\n",
              "      <td>Crime</td>\n",
              "      <td>142</td>\n",
              "      <td>[u'Tim Robbins', u'Morgan Freeman', u'Bob Gunt...</td>\n",
              "    </tr>\n",
              "    <tr>\n",
              "      <th>1</th>\n",
              "      <td>9.2</td>\n",
              "      <td>The Godfather</td>\n",
              "      <td>R</td>\n",
              "      <td>Crime</td>\n",
              "      <td>175</td>\n",
              "      <td>[u'Marlon Brando', u'Al Pacino', u'James Caan']</td>\n",
              "    </tr>\n",
              "    <tr>\n",
              "      <th>2</th>\n",
              "      <td>9.1</td>\n",
              "      <td>The Godfather: Part II</td>\n",
              "      <td>R</td>\n",
              "      <td>Crime</td>\n",
              "      <td>200</td>\n",
              "      <td>[u'Al Pacino', u'Robert De Niro', u'Robert Duv...</td>\n",
              "    </tr>\n",
              "    <tr>\n",
              "      <th>3</th>\n",
              "      <td>9.0</td>\n",
              "      <td>The Dark Knight</td>\n",
              "      <td>PG-13</td>\n",
              "      <td>Action</td>\n",
              "      <td>152</td>\n",
              "      <td>[u'Christian Bale', u'Heath Ledger', u'Aaron E...</td>\n",
              "    </tr>\n",
              "    <tr>\n",
              "      <th>4</th>\n",
              "      <td>8.9</td>\n",
              "      <td>Pulp Fiction</td>\n",
              "      <td>R</td>\n",
              "      <td>Crime</td>\n",
              "      <td>154</td>\n",
              "      <td>[u'John Travolta', u'Uma Thurman', u'Samuel L....</td>\n",
              "    </tr>\n",
              "  </tbody>\n",
              "</table>\n",
              "</div>"
            ],
            "text/plain": [
              "   star_rating  ...                                        actors_list\n",
              "0          9.3  ...  [u'Tim Robbins', u'Morgan Freeman', u'Bob Gunt...\n",
              "1          9.2  ...    [u'Marlon Brando', u'Al Pacino', u'James Caan']\n",
              "2          9.1  ...  [u'Al Pacino', u'Robert De Niro', u'Robert Duv...\n",
              "3          9.0  ...  [u'Christian Bale', u'Heath Ledger', u'Aaron E...\n",
              "4          8.9  ...  [u'John Travolta', u'Uma Thurman', u'Samuel L....\n",
              "\n",
              "[5 rows x 6 columns]"
            ]
          },
          "metadata": {
            "tags": []
          },
          "execution_count": 69
        }
      ]
    },
    {
      "cell_type": "code",
      "metadata": {
        "id": "_cVW-L70N7pG",
        "colab": {
          "base_uri": "https://localhost:8080/"
        },
        "outputId": "2112e25a-6a15-45d7-fe2c-28108505bec1"
      },
      "source": [
        "movies.shape"
      ],
      "execution_count": 70,
      "outputs": [
        {
          "output_type": "execute_result",
          "data": {
            "text/plain": [
              "(979, 6)"
            ]
          },
          "metadata": {
            "tags": []
          },
          "execution_count": 70
        }
      ]
    },
    {
      "cell_type": "code",
      "metadata": {
        "id": "p49z7rgrOBh4",
        "colab": {
          "base_uri": "https://localhost:8080/",
          "height": 426
        },
        "outputId": "6a06d67c-d43a-463d-f2d3-e8c9e9f6d35c"
      },
      "source": [
        "# lets filter df by movies that has duration of 200 or more\r\n",
        "movies[movies.duration >= 200]"
      ],
      "execution_count": 71,
      "outputs": [
        {
          "output_type": "execute_result",
          "data": {
            "text/html": [
              "<div>\n",
              "<style scoped>\n",
              "    .dataframe tbody tr th:only-of-type {\n",
              "        vertical-align: middle;\n",
              "    }\n",
              "\n",
              "    .dataframe tbody tr th {\n",
              "        vertical-align: top;\n",
              "    }\n",
              "\n",
              "    .dataframe thead th {\n",
              "        text-align: right;\n",
              "    }\n",
              "</style>\n",
              "<table border=\"1\" class=\"dataframe\">\n",
              "  <thead>\n",
              "    <tr style=\"text-align: right;\">\n",
              "      <th></th>\n",
              "      <th>star_rating</th>\n",
              "      <th>title</th>\n",
              "      <th>content_rating</th>\n",
              "      <th>genre</th>\n",
              "      <th>duration</th>\n",
              "      <th>actors_list</th>\n",
              "    </tr>\n",
              "  </thead>\n",
              "  <tbody>\n",
              "    <tr>\n",
              "      <th>2</th>\n",
              "      <td>9.1</td>\n",
              "      <td>The Godfather: Part II</td>\n",
              "      <td>R</td>\n",
              "      <td>Crime</td>\n",
              "      <td>200</td>\n",
              "      <td>[u'Al Pacino', u'Robert De Niro', u'Robert Duv...</td>\n",
              "    </tr>\n",
              "    <tr>\n",
              "      <th>7</th>\n",
              "      <td>8.9</td>\n",
              "      <td>The Lord of the Rings: The Return of the King</td>\n",
              "      <td>PG-13</td>\n",
              "      <td>Adventure</td>\n",
              "      <td>201</td>\n",
              "      <td>[u'Elijah Wood', u'Viggo Mortensen', u'Ian McK...</td>\n",
              "    </tr>\n",
              "    <tr>\n",
              "      <th>17</th>\n",
              "      <td>8.7</td>\n",
              "      <td>Seven Samurai</td>\n",
              "      <td>UNRATED</td>\n",
              "      <td>Drama</td>\n",
              "      <td>207</td>\n",
              "      <td>[u'Toshir\\xf4 Mifune', u'Takashi Shimura', u'K...</td>\n",
              "    </tr>\n",
              "    <tr>\n",
              "      <th>78</th>\n",
              "      <td>8.4</td>\n",
              "      <td>Once Upon a Time in America</td>\n",
              "      <td>R</td>\n",
              "      <td>Crime</td>\n",
              "      <td>229</td>\n",
              "      <td>[u'Robert De Niro', u'James Woods', u'Elizabet...</td>\n",
              "    </tr>\n",
              "    <tr>\n",
              "      <th>85</th>\n",
              "      <td>8.4</td>\n",
              "      <td>Lawrence of Arabia</td>\n",
              "      <td>PG</td>\n",
              "      <td>Adventure</td>\n",
              "      <td>216</td>\n",
              "      <td>[u\"Peter O'Toole\", u'Alec Guinness', u'Anthony...</td>\n",
              "    </tr>\n",
              "    <tr>\n",
              "      <th>142</th>\n",
              "      <td>8.3</td>\n",
              "      <td>Lagaan: Once Upon a Time in India</td>\n",
              "      <td>PG</td>\n",
              "      <td>Adventure</td>\n",
              "      <td>224</td>\n",
              "      <td>[u'Aamir Khan', u'Gracy Singh', u'Rachel Shell...</td>\n",
              "    </tr>\n",
              "    <tr>\n",
              "      <th>157</th>\n",
              "      <td>8.2</td>\n",
              "      <td>Gone with the Wind</td>\n",
              "      <td>G</td>\n",
              "      <td>Drama</td>\n",
              "      <td>238</td>\n",
              "      <td>[u'Clark Gable', u'Vivien Leigh', u'Thomas Mit...</td>\n",
              "    </tr>\n",
              "    <tr>\n",
              "      <th>204</th>\n",
              "      <td>8.1</td>\n",
              "      <td>Ben-Hur</td>\n",
              "      <td>G</td>\n",
              "      <td>Adventure</td>\n",
              "      <td>212</td>\n",
              "      <td>[u'Charlton Heston', u'Jack Hawkins', u'Stephe...</td>\n",
              "    </tr>\n",
              "    <tr>\n",
              "      <th>445</th>\n",
              "      <td>7.9</td>\n",
              "      <td>The Ten Commandments</td>\n",
              "      <td>APPROVED</td>\n",
              "      <td>Adventure</td>\n",
              "      <td>220</td>\n",
              "      <td>[u'Charlton Heston', u'Yul Brynner', u'Anne Ba...</td>\n",
              "    </tr>\n",
              "    <tr>\n",
              "      <th>476</th>\n",
              "      <td>7.8</td>\n",
              "      <td>Hamlet</td>\n",
              "      <td>PG-13</td>\n",
              "      <td>Drama</td>\n",
              "      <td>242</td>\n",
              "      <td>[u'Kenneth Branagh', u'Julie Christie', u'Dere...</td>\n",
              "    </tr>\n",
              "    <tr>\n",
              "      <th>630</th>\n",
              "      <td>7.7</td>\n",
              "      <td>Malcolm X</td>\n",
              "      <td>PG-13</td>\n",
              "      <td>Biography</td>\n",
              "      <td>202</td>\n",
              "      <td>[u'Denzel Washington', u'Angela Bassett', u'De...</td>\n",
              "    </tr>\n",
              "    <tr>\n",
              "      <th>767</th>\n",
              "      <td>7.6</td>\n",
              "      <td>It's a Mad, Mad, Mad, Mad World</td>\n",
              "      <td>APPROVED</td>\n",
              "      <td>Action</td>\n",
              "      <td>205</td>\n",
              "      <td>[u'Spencer Tracy', u'Milton Berle', u'Ethel Me...</td>\n",
              "    </tr>\n",
              "  </tbody>\n",
              "</table>\n",
              "</div>"
            ],
            "text/plain": [
              "     star_rating  ...                                        actors_list\n",
              "2            9.1  ...  [u'Al Pacino', u'Robert De Niro', u'Robert Duv...\n",
              "7            8.9  ...  [u'Elijah Wood', u'Viggo Mortensen', u'Ian McK...\n",
              "17           8.7  ...  [u'Toshir\\xf4 Mifune', u'Takashi Shimura', u'K...\n",
              "78           8.4  ...  [u'Robert De Niro', u'James Woods', u'Elizabet...\n",
              "85           8.4  ...  [u\"Peter O'Toole\", u'Alec Guinness', u'Anthony...\n",
              "142          8.3  ...  [u'Aamir Khan', u'Gracy Singh', u'Rachel Shell...\n",
              "157          8.2  ...  [u'Clark Gable', u'Vivien Leigh', u'Thomas Mit...\n",
              "204          8.1  ...  [u'Charlton Heston', u'Jack Hawkins', u'Stephe...\n",
              "445          7.9  ...  [u'Charlton Heston', u'Yul Brynner', u'Anne Ba...\n",
              "476          7.8  ...  [u'Kenneth Branagh', u'Julie Christie', u'Dere...\n",
              "630          7.7  ...  [u'Denzel Washington', u'Angela Bassett', u'De...\n",
              "767          7.6  ...  [u'Spencer Tracy', u'Milton Berle', u'Ethel Me...\n",
              "\n",
              "[12 rows x 6 columns]"
            ]
          },
          "metadata": {
            "tags": []
          },
          "execution_count": 71
        }
      ]
    },
    {
      "cell_type": "code",
      "metadata": {
        "id": "N3npm_EIOmJx",
        "colab": {
          "base_uri": "https://localhost:8080/"
        },
        "outputId": "3e2e74c2-9485-4de6-b74e-c4a56d0f3951"
      },
      "source": [
        "# since output of one operation of df is most of the time a df itself\r\n",
        "# or a series. So, we can further work on one output\r\n",
        "movies[movies.duration >= 200].genre\r\n",
        "# this should give me movies that are at least 200 long\r\n",
        "# and their genre"
      ],
      "execution_count": 72,
      "outputs": [
        {
          "output_type": "execute_result",
          "data": {
            "text/plain": [
              "2          Crime\n",
              "7      Adventure\n",
              "17         Drama\n",
              "78         Crime\n",
              "85     Adventure\n",
              "142    Adventure\n",
              "157        Drama\n",
              "204    Adventure\n",
              "445    Adventure\n",
              "476        Drama\n",
              "630    Biography\n",
              "767       Action\n",
              "Name: genre, dtype: object"
            ]
          },
          "metadata": {
            "tags": []
          },
          "execution_count": 72
        }
      ]
    },
    {
      "cell_type": "markdown",
      "metadata": {
        "id": "XAiHFxkZPIX4"
      },
      "source": [
        "**How do I apply multiple filter criteria to a pandas DF?**"
      ]
    },
    {
      "cell_type": "code",
      "metadata": {
        "id": "pimsbjH1PCL1",
        "colab": {
          "base_uri": "https://localhost:8080/",
          "height": 206
        },
        "outputId": "0c3003e6-9ac2-4097-9227-490c1ef3441b"
      },
      "source": [
        "movies = pd.read_csv('http://bit.ly/imdbratings')\r\n",
        "movies.head()"
      ],
      "execution_count": 73,
      "outputs": [
        {
          "output_type": "execute_result",
          "data": {
            "text/html": [
              "<div>\n",
              "<style scoped>\n",
              "    .dataframe tbody tr th:only-of-type {\n",
              "        vertical-align: middle;\n",
              "    }\n",
              "\n",
              "    .dataframe tbody tr th {\n",
              "        vertical-align: top;\n",
              "    }\n",
              "\n",
              "    .dataframe thead th {\n",
              "        text-align: right;\n",
              "    }\n",
              "</style>\n",
              "<table border=\"1\" class=\"dataframe\">\n",
              "  <thead>\n",
              "    <tr style=\"text-align: right;\">\n",
              "      <th></th>\n",
              "      <th>star_rating</th>\n",
              "      <th>title</th>\n",
              "      <th>content_rating</th>\n",
              "      <th>genre</th>\n",
              "      <th>duration</th>\n",
              "      <th>actors_list</th>\n",
              "    </tr>\n",
              "  </thead>\n",
              "  <tbody>\n",
              "    <tr>\n",
              "      <th>0</th>\n",
              "      <td>9.3</td>\n",
              "      <td>The Shawshank Redemption</td>\n",
              "      <td>R</td>\n",
              "      <td>Crime</td>\n",
              "      <td>142</td>\n",
              "      <td>[u'Tim Robbins', u'Morgan Freeman', u'Bob Gunt...</td>\n",
              "    </tr>\n",
              "    <tr>\n",
              "      <th>1</th>\n",
              "      <td>9.2</td>\n",
              "      <td>The Godfather</td>\n",
              "      <td>R</td>\n",
              "      <td>Crime</td>\n",
              "      <td>175</td>\n",
              "      <td>[u'Marlon Brando', u'Al Pacino', u'James Caan']</td>\n",
              "    </tr>\n",
              "    <tr>\n",
              "      <th>2</th>\n",
              "      <td>9.1</td>\n",
              "      <td>The Godfather: Part II</td>\n",
              "      <td>R</td>\n",
              "      <td>Crime</td>\n",
              "      <td>200</td>\n",
              "      <td>[u'Al Pacino', u'Robert De Niro', u'Robert Duv...</td>\n",
              "    </tr>\n",
              "    <tr>\n",
              "      <th>3</th>\n",
              "      <td>9.0</td>\n",
              "      <td>The Dark Knight</td>\n",
              "      <td>PG-13</td>\n",
              "      <td>Action</td>\n",
              "      <td>152</td>\n",
              "      <td>[u'Christian Bale', u'Heath Ledger', u'Aaron E...</td>\n",
              "    </tr>\n",
              "    <tr>\n",
              "      <th>4</th>\n",
              "      <td>8.9</td>\n",
              "      <td>Pulp Fiction</td>\n",
              "      <td>R</td>\n",
              "      <td>Crime</td>\n",
              "      <td>154</td>\n",
              "      <td>[u'John Travolta', u'Uma Thurman', u'Samuel L....</td>\n",
              "    </tr>\n",
              "  </tbody>\n",
              "</table>\n",
              "</div>"
            ],
            "text/plain": [
              "   star_rating  ...                                        actors_list\n",
              "0          9.3  ...  [u'Tim Robbins', u'Morgan Freeman', u'Bob Gunt...\n",
              "1          9.2  ...    [u'Marlon Brando', u'Al Pacino', u'James Caan']\n",
              "2          9.1  ...  [u'Al Pacino', u'Robert De Niro', u'Robert Duv...\n",
              "3          9.0  ...  [u'Christian Bale', u'Heath Ledger', u'Aaron E...\n",
              "4          8.9  ...  [u'John Travolta', u'Uma Thurman', u'Samuel L....\n",
              "\n",
              "[5 rows x 6 columns]"
            ]
          },
          "metadata": {
            "tags": []
          },
          "execution_count": 73
        }
      ]
    },
    {
      "cell_type": "code",
      "metadata": {
        "id": "8bYOfy2VPQBM",
        "colab": {
          "base_uri": "https://localhost:8080/",
          "height": 112
        },
        "outputId": "5f99dd92-d17d-4908-f139-cd17de9d0e3e"
      },
      "source": [
        "# what if we want to filter 200 or more duration with genre Crime\r\n",
        "movies[(movies.duration >= 200) & (movies.genre=='Crime')]\r\n",
        "# we need to close each condition with parenthesis () with & | operator in between"
      ],
      "execution_count": 74,
      "outputs": [
        {
          "output_type": "execute_result",
          "data": {
            "text/html": [
              "<div>\n",
              "<style scoped>\n",
              "    .dataframe tbody tr th:only-of-type {\n",
              "        vertical-align: middle;\n",
              "    }\n",
              "\n",
              "    .dataframe tbody tr th {\n",
              "        vertical-align: top;\n",
              "    }\n",
              "\n",
              "    .dataframe thead th {\n",
              "        text-align: right;\n",
              "    }\n",
              "</style>\n",
              "<table border=\"1\" class=\"dataframe\">\n",
              "  <thead>\n",
              "    <tr style=\"text-align: right;\">\n",
              "      <th></th>\n",
              "      <th>star_rating</th>\n",
              "      <th>title</th>\n",
              "      <th>content_rating</th>\n",
              "      <th>genre</th>\n",
              "      <th>duration</th>\n",
              "      <th>actors_list</th>\n",
              "    </tr>\n",
              "  </thead>\n",
              "  <tbody>\n",
              "    <tr>\n",
              "      <th>2</th>\n",
              "      <td>9.1</td>\n",
              "      <td>The Godfather: Part II</td>\n",
              "      <td>R</td>\n",
              "      <td>Crime</td>\n",
              "      <td>200</td>\n",
              "      <td>[u'Al Pacino', u'Robert De Niro', u'Robert Duv...</td>\n",
              "    </tr>\n",
              "    <tr>\n",
              "      <th>78</th>\n",
              "      <td>8.4</td>\n",
              "      <td>Once Upon a Time in America</td>\n",
              "      <td>R</td>\n",
              "      <td>Crime</td>\n",
              "      <td>229</td>\n",
              "      <td>[u'Robert De Niro', u'James Woods', u'Elizabet...</td>\n",
              "    </tr>\n",
              "  </tbody>\n",
              "</table>\n",
              "</div>"
            ],
            "text/plain": [
              "    star_rating  ...                                        actors_list\n",
              "2           9.1  ...  [u'Al Pacino', u'Robert De Niro', u'Robert Duv...\n",
              "78          8.4  ...  [u'Robert De Niro', u'James Woods', u'Elizabet...\n",
              "\n",
              "[2 rows x 6 columns]"
            ]
          },
          "metadata": {
            "tags": []
          },
          "execution_count": 74
        }
      ]
    },
    {
      "cell_type": "code",
      "metadata": {
        "id": "HcscWh4dVFWw",
        "colab": {
          "base_uri": "https://localhost:8080/",
          "height": 424
        },
        "outputId": "bef5c1f1-68e5-49cf-cfcb-6f7ac808386a"
      },
      "source": [
        "# for a particular Series there might be multiple conditions\r\n",
        "movies[movies.genre.isin(['Crime', 'Drama', 'Action'])]"
      ],
      "execution_count": 75,
      "outputs": [
        {
          "output_type": "execute_result",
          "data": {
            "text/html": [
              "<div>\n",
              "<style scoped>\n",
              "    .dataframe tbody tr th:only-of-type {\n",
              "        vertical-align: middle;\n",
              "    }\n",
              "\n",
              "    .dataframe tbody tr th {\n",
              "        vertical-align: top;\n",
              "    }\n",
              "\n",
              "    .dataframe thead th {\n",
              "        text-align: right;\n",
              "    }\n",
              "</style>\n",
              "<table border=\"1\" class=\"dataframe\">\n",
              "  <thead>\n",
              "    <tr style=\"text-align: right;\">\n",
              "      <th></th>\n",
              "      <th>star_rating</th>\n",
              "      <th>title</th>\n",
              "      <th>content_rating</th>\n",
              "      <th>genre</th>\n",
              "      <th>duration</th>\n",
              "      <th>actors_list</th>\n",
              "    </tr>\n",
              "  </thead>\n",
              "  <tbody>\n",
              "    <tr>\n",
              "      <th>0</th>\n",
              "      <td>9.3</td>\n",
              "      <td>The Shawshank Redemption</td>\n",
              "      <td>R</td>\n",
              "      <td>Crime</td>\n",
              "      <td>142</td>\n",
              "      <td>[u'Tim Robbins', u'Morgan Freeman', u'Bob Gunt...</td>\n",
              "    </tr>\n",
              "    <tr>\n",
              "      <th>1</th>\n",
              "      <td>9.2</td>\n",
              "      <td>The Godfather</td>\n",
              "      <td>R</td>\n",
              "      <td>Crime</td>\n",
              "      <td>175</td>\n",
              "      <td>[u'Marlon Brando', u'Al Pacino', u'James Caan']</td>\n",
              "    </tr>\n",
              "    <tr>\n",
              "      <th>2</th>\n",
              "      <td>9.1</td>\n",
              "      <td>The Godfather: Part II</td>\n",
              "      <td>R</td>\n",
              "      <td>Crime</td>\n",
              "      <td>200</td>\n",
              "      <td>[u'Al Pacino', u'Robert De Niro', u'Robert Duv...</td>\n",
              "    </tr>\n",
              "    <tr>\n",
              "      <th>3</th>\n",
              "      <td>9.0</td>\n",
              "      <td>The Dark Knight</td>\n",
              "      <td>PG-13</td>\n",
              "      <td>Action</td>\n",
              "      <td>152</td>\n",
              "      <td>[u'Christian Bale', u'Heath Ledger', u'Aaron E...</td>\n",
              "    </tr>\n",
              "    <tr>\n",
              "      <th>4</th>\n",
              "      <td>8.9</td>\n",
              "      <td>Pulp Fiction</td>\n",
              "      <td>R</td>\n",
              "      <td>Crime</td>\n",
              "      <td>154</td>\n",
              "      <td>[u'John Travolta', u'Uma Thurman', u'Samuel L....</td>\n",
              "    </tr>\n",
              "    <tr>\n",
              "      <th>...</th>\n",
              "      <td>...</td>\n",
              "      <td>...</td>\n",
              "      <td>...</td>\n",
              "      <td>...</td>\n",
              "      <td>...</td>\n",
              "      <td>...</td>\n",
              "    </tr>\n",
              "    <tr>\n",
              "      <th>970</th>\n",
              "      <td>7.4</td>\n",
              "      <td>Wonder Boys</td>\n",
              "      <td>R</td>\n",
              "      <td>Drama</td>\n",
              "      <td>107</td>\n",
              "      <td>[u'Michael Douglas', u'Tobey Maguire', u'Franc...</td>\n",
              "    </tr>\n",
              "    <tr>\n",
              "      <th>972</th>\n",
              "      <td>7.4</td>\n",
              "      <td>Blue Valentine</td>\n",
              "      <td>NC-17</td>\n",
              "      <td>Drama</td>\n",
              "      <td>112</td>\n",
              "      <td>[u'Ryan Gosling', u'Michelle Williams', u'John...</td>\n",
              "    </tr>\n",
              "    <tr>\n",
              "      <th>973</th>\n",
              "      <td>7.4</td>\n",
              "      <td>The Cider House Rules</td>\n",
              "      <td>PG-13</td>\n",
              "      <td>Drama</td>\n",
              "      <td>126</td>\n",
              "      <td>[u'Tobey Maguire', u'Charlize Theron', u'Micha...</td>\n",
              "    </tr>\n",
              "    <tr>\n",
              "      <th>976</th>\n",
              "      <td>7.4</td>\n",
              "      <td>Master and Commander: The Far Side of the World</td>\n",
              "      <td>PG-13</td>\n",
              "      <td>Action</td>\n",
              "      <td>138</td>\n",
              "      <td>[u'Russell Crowe', u'Paul Bettany', u'Billy Bo...</td>\n",
              "    </tr>\n",
              "    <tr>\n",
              "      <th>978</th>\n",
              "      <td>7.4</td>\n",
              "      <td>Wall Street</td>\n",
              "      <td>R</td>\n",
              "      <td>Crime</td>\n",
              "      <td>126</td>\n",
              "      <td>[u'Charlie Sheen', u'Michael Douglas', u'Tamar...</td>\n",
              "    </tr>\n",
              "  </tbody>\n",
              "</table>\n",
              "<p>538 rows × 6 columns</p>\n",
              "</div>"
            ],
            "text/plain": [
              "     star_rating  ...                                        actors_list\n",
              "0            9.3  ...  [u'Tim Robbins', u'Morgan Freeman', u'Bob Gunt...\n",
              "1            9.2  ...    [u'Marlon Brando', u'Al Pacino', u'James Caan']\n",
              "2            9.1  ...  [u'Al Pacino', u'Robert De Niro', u'Robert Duv...\n",
              "3            9.0  ...  [u'Christian Bale', u'Heath Ledger', u'Aaron E...\n",
              "4            8.9  ...  [u'John Travolta', u'Uma Thurman', u'Samuel L....\n",
              "..           ...  ...                                                ...\n",
              "970          7.4  ...  [u'Michael Douglas', u'Tobey Maguire', u'Franc...\n",
              "972          7.4  ...  [u'Ryan Gosling', u'Michelle Williams', u'John...\n",
              "973          7.4  ...  [u'Tobey Maguire', u'Charlize Theron', u'Micha...\n",
              "976          7.4  ...  [u'Russell Crowe', u'Paul Bettany', u'Billy Bo...\n",
              "978          7.4  ...  [u'Charlie Sheen', u'Michael Douglas', u'Tamar...\n",
              "\n",
              "[538 rows x 6 columns]"
            ]
          },
          "metadata": {
            "tags": []
          },
          "execution_count": 75
        }
      ]
    },
    {
      "cell_type": "markdown",
      "metadata": {
        "id": "oGM1vzkVV4gx"
      },
      "source": [
        "**How do I drop every non-numeric columns from the dataframe?**"
      ]
    },
    {
      "cell_type": "code",
      "metadata": {
        "id": "1qzxQjvmVeIN"
      },
      "source": [
        "drinks = pd.read_csv('http://bit.ly/drinksbycountry')"
      ],
      "execution_count": 76,
      "outputs": []
    },
    {
      "cell_type": "code",
      "metadata": {
        "id": "KJJ3B_IRWFKC",
        "colab": {
          "base_uri": "https://localhost:8080/"
        },
        "outputId": "1084b508-46ea-4c2e-fd33-09ce4327e02e"
      },
      "source": [
        "drinks.dtypes"
      ],
      "execution_count": 77,
      "outputs": [
        {
          "output_type": "execute_result",
          "data": {
            "text/plain": [
              "country                          object\n",
              "beer_servings                     int64\n",
              "spirit_servings                   int64\n",
              "wine_servings                     int64\n",
              "total_litres_of_pure_alcohol    float64\n",
              "continent                        object\n",
              "dtype: object"
            ]
          },
          "metadata": {
            "tags": []
          },
          "execution_count": 77
        }
      ]
    },
    {
      "cell_type": "code",
      "metadata": {
        "id": "PW6oMKdXWG9r",
        "colab": {
          "base_uri": "https://localhost:8080/",
          "height": 424
        },
        "outputId": "64552f29-e701-4cfa-9388-d093257b590f"
      },
      "source": [
        "# we will use numpy\r\n",
        "import numpy as np\r\n",
        "drinks.select_dtypes(include=[np.number])"
      ],
      "execution_count": 78,
      "outputs": [
        {
          "output_type": "execute_result",
          "data": {
            "text/html": [
              "<div>\n",
              "<style scoped>\n",
              "    .dataframe tbody tr th:only-of-type {\n",
              "        vertical-align: middle;\n",
              "    }\n",
              "\n",
              "    .dataframe tbody tr th {\n",
              "        vertical-align: top;\n",
              "    }\n",
              "\n",
              "    .dataframe thead th {\n",
              "        text-align: right;\n",
              "    }\n",
              "</style>\n",
              "<table border=\"1\" class=\"dataframe\">\n",
              "  <thead>\n",
              "    <tr style=\"text-align: right;\">\n",
              "      <th></th>\n",
              "      <th>beer_servings</th>\n",
              "      <th>spirit_servings</th>\n",
              "      <th>wine_servings</th>\n",
              "      <th>total_litres_of_pure_alcohol</th>\n",
              "    </tr>\n",
              "  </thead>\n",
              "  <tbody>\n",
              "    <tr>\n",
              "      <th>0</th>\n",
              "      <td>0</td>\n",
              "      <td>0</td>\n",
              "      <td>0</td>\n",
              "      <td>0.0</td>\n",
              "    </tr>\n",
              "    <tr>\n",
              "      <th>1</th>\n",
              "      <td>89</td>\n",
              "      <td>132</td>\n",
              "      <td>54</td>\n",
              "      <td>4.9</td>\n",
              "    </tr>\n",
              "    <tr>\n",
              "      <th>2</th>\n",
              "      <td>25</td>\n",
              "      <td>0</td>\n",
              "      <td>14</td>\n",
              "      <td>0.7</td>\n",
              "    </tr>\n",
              "    <tr>\n",
              "      <th>3</th>\n",
              "      <td>245</td>\n",
              "      <td>138</td>\n",
              "      <td>312</td>\n",
              "      <td>12.4</td>\n",
              "    </tr>\n",
              "    <tr>\n",
              "      <th>4</th>\n",
              "      <td>217</td>\n",
              "      <td>57</td>\n",
              "      <td>45</td>\n",
              "      <td>5.9</td>\n",
              "    </tr>\n",
              "    <tr>\n",
              "      <th>...</th>\n",
              "      <td>...</td>\n",
              "      <td>...</td>\n",
              "      <td>...</td>\n",
              "      <td>...</td>\n",
              "    </tr>\n",
              "    <tr>\n",
              "      <th>188</th>\n",
              "      <td>333</td>\n",
              "      <td>100</td>\n",
              "      <td>3</td>\n",
              "      <td>7.7</td>\n",
              "    </tr>\n",
              "    <tr>\n",
              "      <th>189</th>\n",
              "      <td>111</td>\n",
              "      <td>2</td>\n",
              "      <td>1</td>\n",
              "      <td>2.0</td>\n",
              "    </tr>\n",
              "    <tr>\n",
              "      <th>190</th>\n",
              "      <td>6</td>\n",
              "      <td>0</td>\n",
              "      <td>0</td>\n",
              "      <td>0.1</td>\n",
              "    </tr>\n",
              "    <tr>\n",
              "      <th>191</th>\n",
              "      <td>32</td>\n",
              "      <td>19</td>\n",
              "      <td>4</td>\n",
              "      <td>2.5</td>\n",
              "    </tr>\n",
              "    <tr>\n",
              "      <th>192</th>\n",
              "      <td>64</td>\n",
              "      <td>18</td>\n",
              "      <td>4</td>\n",
              "      <td>4.7</td>\n",
              "    </tr>\n",
              "  </tbody>\n",
              "</table>\n",
              "<p>193 rows × 4 columns</p>\n",
              "</div>"
            ],
            "text/plain": [
              "     beer_servings  ...  total_litres_of_pure_alcohol\n",
              "0                0  ...                           0.0\n",
              "1               89  ...                           4.9\n",
              "2               25  ...                           0.7\n",
              "3              245  ...                          12.4\n",
              "4              217  ...                           5.9\n",
              "..             ...  ...                           ...\n",
              "188            333  ...                           7.7\n",
              "189            111  ...                           2.0\n",
              "190              6  ...                           0.1\n",
              "191             32  ...                           2.5\n",
              "192             64  ...                           4.7\n",
              "\n",
              "[193 rows x 4 columns]"
            ]
          },
          "metadata": {
            "tags": []
          },
          "execution_count": 78
        }
      ]
    },
    {
      "cell_type": "code",
      "metadata": {
        "id": "EkPmWUOwWXbR",
        "colab": {
          "base_uri": "https://localhost:8080/"
        },
        "outputId": "a4c3466e-225f-4b18-c5cf-d95b91a870e0"
      },
      "source": [
        "# if we want to find mean of all column\r\n",
        "drinks.mean(axis=0)"
      ],
      "execution_count": 79,
      "outputs": [
        {
          "output_type": "execute_result",
          "data": {
            "text/plain": [
              "beer_servings                   106.160622\n",
              "spirit_servings                  80.994819\n",
              "wine_servings                    49.450777\n",
              "total_litres_of_pure_alcohol      4.717098\n",
              "dtype: float64"
            ]
          },
          "metadata": {
            "tags": []
          },
          "execution_count": 79
        }
      ]
    },
    {
      "cell_type": "markdown",
      "metadata": {
        "id": "FhGVkPloW6sQ"
      },
      "source": [
        "**How do I use string methods in pandas?**"
      ]
    },
    {
      "cell_type": "code",
      "metadata": {
        "id": "LKSEIRqlWwHZ",
        "colab": {
          "base_uri": "https://localhost:8080/",
          "height": 206
        },
        "outputId": "b7a1c390-2b73-49cb-c8a7-62ffb1bc9913"
      },
      "source": [
        "orders = pd.read_table('http://bit.ly/chiporders')\r\n",
        "orders.head()"
      ],
      "execution_count": 80,
      "outputs": [
        {
          "output_type": "execute_result",
          "data": {
            "text/html": [
              "<div>\n",
              "<style scoped>\n",
              "    .dataframe tbody tr th:only-of-type {\n",
              "        vertical-align: middle;\n",
              "    }\n",
              "\n",
              "    .dataframe tbody tr th {\n",
              "        vertical-align: top;\n",
              "    }\n",
              "\n",
              "    .dataframe thead th {\n",
              "        text-align: right;\n",
              "    }\n",
              "</style>\n",
              "<table border=\"1\" class=\"dataframe\">\n",
              "  <thead>\n",
              "    <tr style=\"text-align: right;\">\n",
              "      <th></th>\n",
              "      <th>order_id</th>\n",
              "      <th>quantity</th>\n",
              "      <th>item_name</th>\n",
              "      <th>choice_description</th>\n",
              "      <th>item_price</th>\n",
              "    </tr>\n",
              "  </thead>\n",
              "  <tbody>\n",
              "    <tr>\n",
              "      <th>0</th>\n",
              "      <td>1</td>\n",
              "      <td>1</td>\n",
              "      <td>Chips and Fresh Tomato Salsa</td>\n",
              "      <td>NaN</td>\n",
              "      <td>$2.39</td>\n",
              "    </tr>\n",
              "    <tr>\n",
              "      <th>1</th>\n",
              "      <td>1</td>\n",
              "      <td>1</td>\n",
              "      <td>Izze</td>\n",
              "      <td>[Clementine]</td>\n",
              "      <td>$3.39</td>\n",
              "    </tr>\n",
              "    <tr>\n",
              "      <th>2</th>\n",
              "      <td>1</td>\n",
              "      <td>1</td>\n",
              "      <td>Nantucket Nectar</td>\n",
              "      <td>[Apple]</td>\n",
              "      <td>$3.39</td>\n",
              "    </tr>\n",
              "    <tr>\n",
              "      <th>3</th>\n",
              "      <td>1</td>\n",
              "      <td>1</td>\n",
              "      <td>Chips and Tomatillo-Green Chili Salsa</td>\n",
              "      <td>NaN</td>\n",
              "      <td>$2.39</td>\n",
              "    </tr>\n",
              "    <tr>\n",
              "      <th>4</th>\n",
              "      <td>2</td>\n",
              "      <td>2</td>\n",
              "      <td>Chicken Bowl</td>\n",
              "      <td>[Tomatillo-Red Chili Salsa (Hot), [Black Beans...</td>\n",
              "      <td>$16.98</td>\n",
              "    </tr>\n",
              "  </tbody>\n",
              "</table>\n",
              "</div>"
            ],
            "text/plain": [
              "   order_id  ...  item_price\n",
              "0         1  ...      $2.39 \n",
              "1         1  ...      $3.39 \n",
              "2         1  ...      $3.39 \n",
              "3         1  ...      $2.39 \n",
              "4         2  ...     $16.98 \n",
              "\n",
              "[5 rows x 5 columns]"
            ]
          },
          "metadata": {
            "tags": []
          },
          "execution_count": 80
        }
      ]
    },
    {
      "cell_type": "code",
      "metadata": {
        "id": "WFAWoJ7xXD5w",
        "colab": {
          "base_uri": "https://localhost:8080/"
        },
        "outputId": "278d7f1a-d786-40e8-c186-dd53947f30e8"
      },
      "source": [
        "# if we want to make all items in item_name if uppercase\r\n",
        "orders.item_name.str.upper()"
      ],
      "execution_count": 81,
      "outputs": [
        {
          "output_type": "execute_result",
          "data": {
            "text/plain": [
              "0                CHIPS AND FRESH TOMATO SALSA\n",
              "1                                        IZZE\n",
              "2                            NANTUCKET NECTAR\n",
              "3       CHIPS AND TOMATILLO-GREEN CHILI SALSA\n",
              "4                                CHICKEN BOWL\n",
              "                        ...                  \n",
              "4617                            STEAK BURRITO\n",
              "4618                            STEAK BURRITO\n",
              "4619                       CHICKEN SALAD BOWL\n",
              "4620                       CHICKEN SALAD BOWL\n",
              "4621                       CHICKEN SALAD BOWL\n",
              "Name: item_name, Length: 4622, dtype: object"
            ]
          },
          "metadata": {
            "tags": []
          },
          "execution_count": 81
        }
      ]
    },
    {
      "cell_type": "code",
      "metadata": {
        "id": "O1nf7Tr6XVjh",
        "colab": {
          "base_uri": "https://localhost:8080/"
        },
        "outputId": "49e2c98c-6fce-4d22-c020-5387da323d2b"
      },
      "source": [
        "# if we like to check if the Series has something we want to find\r\n",
        "orders.item_name.str.contains('Chicken')\r\n",
        "# it should give series of booleans "
      ],
      "execution_count": 82,
      "outputs": [
        {
          "output_type": "execute_result",
          "data": {
            "text/plain": [
              "0       False\n",
              "1       False\n",
              "2       False\n",
              "3       False\n",
              "4        True\n",
              "        ...  \n",
              "4617    False\n",
              "4618    False\n",
              "4619     True\n",
              "4620     True\n",
              "4621     True\n",
              "Name: item_name, Length: 4622, dtype: bool"
            ]
          },
          "metadata": {
            "tags": []
          },
          "execution_count": 82
        }
      ]
    },
    {
      "cell_type": "code",
      "metadata": {
        "id": "MzBTrOLbXqB5",
        "colab": {
          "base_uri": "https://localhost:8080/",
          "height": 424
        },
        "outputId": "0aefd996-fe07-46c6-bd18-b686cfad7eb0"
      },
      "source": [
        "# if we mask our df using above boolean, we get all df that has 'Chicken' item in item_name\r\n",
        "orders[orders.item_name.str.contains('Chicken')]"
      ],
      "execution_count": 83,
      "outputs": [
        {
          "output_type": "execute_result",
          "data": {
            "text/html": [
              "<div>\n",
              "<style scoped>\n",
              "    .dataframe tbody tr th:only-of-type {\n",
              "        vertical-align: middle;\n",
              "    }\n",
              "\n",
              "    .dataframe tbody tr th {\n",
              "        vertical-align: top;\n",
              "    }\n",
              "\n",
              "    .dataframe thead th {\n",
              "        text-align: right;\n",
              "    }\n",
              "</style>\n",
              "<table border=\"1\" class=\"dataframe\">\n",
              "  <thead>\n",
              "    <tr style=\"text-align: right;\">\n",
              "      <th></th>\n",
              "      <th>order_id</th>\n",
              "      <th>quantity</th>\n",
              "      <th>item_name</th>\n",
              "      <th>choice_description</th>\n",
              "      <th>item_price</th>\n",
              "    </tr>\n",
              "  </thead>\n",
              "  <tbody>\n",
              "    <tr>\n",
              "      <th>4</th>\n",
              "      <td>2</td>\n",
              "      <td>2</td>\n",
              "      <td>Chicken Bowl</td>\n",
              "      <td>[Tomatillo-Red Chili Salsa (Hot), [Black Beans...</td>\n",
              "      <td>$16.98</td>\n",
              "    </tr>\n",
              "    <tr>\n",
              "      <th>5</th>\n",
              "      <td>3</td>\n",
              "      <td>1</td>\n",
              "      <td>Chicken Bowl</td>\n",
              "      <td>[Fresh Tomato Salsa (Mild), [Rice, Cheese, Sou...</td>\n",
              "      <td>$10.98</td>\n",
              "    </tr>\n",
              "    <tr>\n",
              "      <th>11</th>\n",
              "      <td>6</td>\n",
              "      <td>1</td>\n",
              "      <td>Chicken Crispy Tacos</td>\n",
              "      <td>[Roasted Chili Corn Salsa, [Fajita Vegetables,...</td>\n",
              "      <td>$8.75</td>\n",
              "    </tr>\n",
              "    <tr>\n",
              "      <th>12</th>\n",
              "      <td>6</td>\n",
              "      <td>1</td>\n",
              "      <td>Chicken Soft Tacos</td>\n",
              "      <td>[Roasted Chili Corn Salsa, [Rice, Black Beans,...</td>\n",
              "      <td>$8.75</td>\n",
              "    </tr>\n",
              "    <tr>\n",
              "      <th>13</th>\n",
              "      <td>7</td>\n",
              "      <td>1</td>\n",
              "      <td>Chicken Bowl</td>\n",
              "      <td>[Fresh Tomato Salsa, [Fajita Vegetables, Rice,...</td>\n",
              "      <td>$11.25</td>\n",
              "    </tr>\n",
              "    <tr>\n",
              "      <th>...</th>\n",
              "      <td>...</td>\n",
              "      <td>...</td>\n",
              "      <td>...</td>\n",
              "      <td>...</td>\n",
              "      <td>...</td>\n",
              "    </tr>\n",
              "    <tr>\n",
              "      <th>4604</th>\n",
              "      <td>1828</td>\n",
              "      <td>1</td>\n",
              "      <td>Chicken Bowl</td>\n",
              "      <td>[Fresh Tomato Salsa, [Rice, Black Beans, Chees...</td>\n",
              "      <td>$8.75</td>\n",
              "    </tr>\n",
              "    <tr>\n",
              "      <th>4615</th>\n",
              "      <td>1832</td>\n",
              "      <td>1</td>\n",
              "      <td>Chicken Soft Tacos</td>\n",
              "      <td>[Fresh Tomato Salsa, [Rice, Cheese, Sour Cream]]</td>\n",
              "      <td>$8.75</td>\n",
              "    </tr>\n",
              "    <tr>\n",
              "      <th>4619</th>\n",
              "      <td>1834</td>\n",
              "      <td>1</td>\n",
              "      <td>Chicken Salad Bowl</td>\n",
              "      <td>[Fresh Tomato Salsa, [Fajita Vegetables, Pinto...</td>\n",
              "      <td>$11.25</td>\n",
              "    </tr>\n",
              "    <tr>\n",
              "      <th>4620</th>\n",
              "      <td>1834</td>\n",
              "      <td>1</td>\n",
              "      <td>Chicken Salad Bowl</td>\n",
              "      <td>[Fresh Tomato Salsa, [Fajita Vegetables, Lettu...</td>\n",
              "      <td>$8.75</td>\n",
              "    </tr>\n",
              "    <tr>\n",
              "      <th>4621</th>\n",
              "      <td>1834</td>\n",
              "      <td>1</td>\n",
              "      <td>Chicken Salad Bowl</td>\n",
              "      <td>[Fresh Tomato Salsa, [Fajita Vegetables, Pinto...</td>\n",
              "      <td>$8.75</td>\n",
              "    </tr>\n",
              "  </tbody>\n",
              "</table>\n",
              "<p>1560 rows × 5 columns</p>\n",
              "</div>"
            ],
            "text/plain": [
              "      order_id  ...  item_price\n",
              "4            2  ...     $16.98 \n",
              "5            3  ...     $10.98 \n",
              "11           6  ...      $8.75 \n",
              "12           6  ...      $8.75 \n",
              "13           7  ...     $11.25 \n",
              "...        ...  ...         ...\n",
              "4604      1828  ...      $8.75 \n",
              "4615      1832  ...      $8.75 \n",
              "4619      1834  ...     $11.25 \n",
              "4620      1834  ...      $8.75 \n",
              "4621      1834  ...      $8.75 \n",
              "\n",
              "[1560 rows x 5 columns]"
            ]
          },
          "metadata": {
            "tags": []
          },
          "execution_count": 83
        }
      ]
    },
    {
      "cell_type": "code",
      "metadata": {
        "id": "jUz39AV2X4aG",
        "colab": {
          "base_uri": "https://localhost:8080/"
        },
        "outputId": "b979923d-961b-4cc9-8a66-6f31ba259110"
      },
      "source": [
        "# we can even use series of string method one after another\r\n",
        "# lets say we want to remove both [ and ] from choice_description column\r\n",
        "orders.choice_description.str.replace('[','').str.replace(']','').str.upper()"
      ],
      "execution_count": 84,
      "outputs": [
        {
          "output_type": "execute_result",
          "data": {
            "text/plain": [
              "0                                                     NaN\n",
              "1                                              CLEMENTINE\n",
              "2                                                   APPLE\n",
              "3                                                     NaN\n",
              "4       TOMATILLO-RED CHILI SALSA (HOT), BLACK BEANS, ...\n",
              "                              ...                        \n",
              "4617    FRESH TOMATO SALSA, RICE, BLACK BEANS, SOUR CR...\n",
              "4618    FRESH TOMATO SALSA, RICE, SOUR CREAM, CHEESE, ...\n",
              "4619    FRESH TOMATO SALSA, FAJITA VEGETABLES, PINTO B...\n",
              "4620       FRESH TOMATO SALSA, FAJITA VEGETABLES, LETTUCE\n",
              "4621    FRESH TOMATO SALSA, FAJITA VEGETABLES, PINTO B...\n",
              "Name: choice_description, Length: 4622, dtype: object"
            ]
          },
          "metadata": {
            "tags": []
          },
          "execution_count": 84
        }
      ]
    },
    {
      "cell_type": "code",
      "metadata": {
        "id": "DGvV6Rd6YYRG",
        "colab": {
          "base_uri": "https://localhost:8080/"
        },
        "outputId": "fac53dd2-d1a5-4ad3-8b5c-ebc219f192a0"
      },
      "source": [
        "# we can even use regex\r\n",
        "orders.choice_description.str.replace('[\\[\\]]','')\r\n",
        "# brackets used to define the character class"
      ],
      "execution_count": 85,
      "outputs": [
        {
          "output_type": "execute_result",
          "data": {
            "text/plain": [
              "0                                                     NaN\n",
              "1                                              Clementine\n",
              "2                                                   Apple\n",
              "3                                                     NaN\n",
              "4       Tomatillo-Red Chili Salsa (Hot), Black Beans, ...\n",
              "                              ...                        \n",
              "4617    Fresh Tomato Salsa, Rice, Black Beans, Sour Cr...\n",
              "4618    Fresh Tomato Salsa, Rice, Sour Cream, Cheese, ...\n",
              "4619    Fresh Tomato Salsa, Fajita Vegetables, Pinto B...\n",
              "4620       Fresh Tomato Salsa, Fajita Vegetables, Lettuce\n",
              "4621    Fresh Tomato Salsa, Fajita Vegetables, Pinto B...\n",
              "Name: choice_description, Length: 4622, dtype: object"
            ]
          },
          "metadata": {
            "tags": []
          },
          "execution_count": 85
        }
      ]
    },
    {
      "cell_type": "markdown",
      "metadata": {
        "id": "zcIkTUQjprfd"
      },
      "source": [
        "**How do I change the data type of the pandas Series?**"
      ]
    },
    {
      "cell_type": "code",
      "metadata": {
        "id": "Vg9Zv_eGYzfG",
        "colab": {
          "base_uri": "https://localhost:8080/",
          "height": 206
        },
        "outputId": "5aa070f8-98bc-44f8-c0b6-2bf3aeee9843"
      },
      "source": [
        "drinks = pd.read_csv('http://bit.ly/drinksbycountry')\r\n",
        "drinks.head()"
      ],
      "execution_count": 86,
      "outputs": [
        {
          "output_type": "execute_result",
          "data": {
            "text/html": [
              "<div>\n",
              "<style scoped>\n",
              "    .dataframe tbody tr th:only-of-type {\n",
              "        vertical-align: middle;\n",
              "    }\n",
              "\n",
              "    .dataframe tbody tr th {\n",
              "        vertical-align: top;\n",
              "    }\n",
              "\n",
              "    .dataframe thead th {\n",
              "        text-align: right;\n",
              "    }\n",
              "</style>\n",
              "<table border=\"1\" class=\"dataframe\">\n",
              "  <thead>\n",
              "    <tr style=\"text-align: right;\">\n",
              "      <th></th>\n",
              "      <th>country</th>\n",
              "      <th>beer_servings</th>\n",
              "      <th>spirit_servings</th>\n",
              "      <th>wine_servings</th>\n",
              "      <th>total_litres_of_pure_alcohol</th>\n",
              "      <th>continent</th>\n",
              "    </tr>\n",
              "  </thead>\n",
              "  <tbody>\n",
              "    <tr>\n",
              "      <th>0</th>\n",
              "      <td>Afghanistan</td>\n",
              "      <td>0</td>\n",
              "      <td>0</td>\n",
              "      <td>0</td>\n",
              "      <td>0.0</td>\n",
              "      <td>Asia</td>\n",
              "    </tr>\n",
              "    <tr>\n",
              "      <th>1</th>\n",
              "      <td>Albania</td>\n",
              "      <td>89</td>\n",
              "      <td>132</td>\n",
              "      <td>54</td>\n",
              "      <td>4.9</td>\n",
              "      <td>Europe</td>\n",
              "    </tr>\n",
              "    <tr>\n",
              "      <th>2</th>\n",
              "      <td>Algeria</td>\n",
              "      <td>25</td>\n",
              "      <td>0</td>\n",
              "      <td>14</td>\n",
              "      <td>0.7</td>\n",
              "      <td>Africa</td>\n",
              "    </tr>\n",
              "    <tr>\n",
              "      <th>3</th>\n",
              "      <td>Andorra</td>\n",
              "      <td>245</td>\n",
              "      <td>138</td>\n",
              "      <td>312</td>\n",
              "      <td>12.4</td>\n",
              "      <td>Europe</td>\n",
              "    </tr>\n",
              "    <tr>\n",
              "      <th>4</th>\n",
              "      <td>Angola</td>\n",
              "      <td>217</td>\n",
              "      <td>57</td>\n",
              "      <td>45</td>\n",
              "      <td>5.9</td>\n",
              "      <td>Africa</td>\n",
              "    </tr>\n",
              "  </tbody>\n",
              "</table>\n",
              "</div>"
            ],
            "text/plain": [
              "       country  beer_servings  ...  total_litres_of_pure_alcohol  continent\n",
              "0  Afghanistan              0  ...                           0.0       Asia\n",
              "1      Albania             89  ...                           4.9     Europe\n",
              "2      Algeria             25  ...                           0.7     Africa\n",
              "3      Andorra            245  ...                          12.4     Europe\n",
              "4       Angola            217  ...                           5.9     Africa\n",
              "\n",
              "[5 rows x 6 columns]"
            ]
          },
          "metadata": {
            "tags": []
          },
          "execution_count": 86
        }
      ]
    },
    {
      "cell_type": "code",
      "metadata": {
        "id": "j5st1zi0p4sP",
        "colab": {
          "base_uri": "https://localhost:8080/"
        },
        "outputId": "327f2103-0a52-4e77-881d-51beeee60712"
      },
      "source": [
        "drinks.dtypes"
      ],
      "execution_count": 87,
      "outputs": [
        {
          "output_type": "execute_result",
          "data": {
            "text/plain": [
              "country                          object\n",
              "beer_servings                     int64\n",
              "spirit_servings                   int64\n",
              "wine_servings                     int64\n",
              "total_litres_of_pure_alcohol    float64\n",
              "continent                        object\n",
              "dtype: object"
            ]
          },
          "metadata": {
            "tags": []
          },
          "execution_count": 87
        }
      ]
    },
    {
      "cell_type": "code",
      "metadata": {
        "id": "ISq63hIjp6xh"
      },
      "source": [
        "# lets say we wan to change the beer_servings columns from int64 to float64\r\n",
        "drinks['beer_servings'] = drinks.beer_servings.astype(float)"
      ],
      "execution_count": 88,
      "outputs": []
    },
    {
      "cell_type": "code",
      "metadata": {
        "id": "hEjNEzQaqKbi",
        "colab": {
          "base_uri": "https://localhost:8080/"
        },
        "outputId": "09dde2dc-6c1b-40fc-b988-c6f468c41347"
      },
      "source": [
        "drinks.dtypes"
      ],
      "execution_count": 89,
      "outputs": [
        {
          "output_type": "execute_result",
          "data": {
            "text/plain": [
              "country                          object\n",
              "beer_servings                   float64\n",
              "spirit_servings                   int64\n",
              "wine_servings                     int64\n",
              "total_litres_of_pure_alcohol    float64\n",
              "continent                        object\n",
              "dtype: object"
            ]
          },
          "metadata": {
            "tags": []
          },
          "execution_count": 89
        }
      ]
    },
    {
      "cell_type": "code",
      "metadata": {
        "id": "cgV3acPyqL3y",
        "colab": {
          "base_uri": "https://localhost:8080/",
          "height": 206
        },
        "outputId": "43b6ee2b-64d5-4cd4-d07e-a78b0d209721"
      },
      "source": [
        "orders = pd.read_table('http://bit.ly/chiporders')\r\n",
        "orders.head()"
      ],
      "execution_count": 90,
      "outputs": [
        {
          "output_type": "execute_result",
          "data": {
            "text/html": [
              "<div>\n",
              "<style scoped>\n",
              "    .dataframe tbody tr th:only-of-type {\n",
              "        vertical-align: middle;\n",
              "    }\n",
              "\n",
              "    .dataframe tbody tr th {\n",
              "        vertical-align: top;\n",
              "    }\n",
              "\n",
              "    .dataframe thead th {\n",
              "        text-align: right;\n",
              "    }\n",
              "</style>\n",
              "<table border=\"1\" class=\"dataframe\">\n",
              "  <thead>\n",
              "    <tr style=\"text-align: right;\">\n",
              "      <th></th>\n",
              "      <th>order_id</th>\n",
              "      <th>quantity</th>\n",
              "      <th>item_name</th>\n",
              "      <th>choice_description</th>\n",
              "      <th>item_price</th>\n",
              "    </tr>\n",
              "  </thead>\n",
              "  <tbody>\n",
              "    <tr>\n",
              "      <th>0</th>\n",
              "      <td>1</td>\n",
              "      <td>1</td>\n",
              "      <td>Chips and Fresh Tomato Salsa</td>\n",
              "      <td>NaN</td>\n",
              "      <td>$2.39</td>\n",
              "    </tr>\n",
              "    <tr>\n",
              "      <th>1</th>\n",
              "      <td>1</td>\n",
              "      <td>1</td>\n",
              "      <td>Izze</td>\n",
              "      <td>[Clementine]</td>\n",
              "      <td>$3.39</td>\n",
              "    </tr>\n",
              "    <tr>\n",
              "      <th>2</th>\n",
              "      <td>1</td>\n",
              "      <td>1</td>\n",
              "      <td>Nantucket Nectar</td>\n",
              "      <td>[Apple]</td>\n",
              "      <td>$3.39</td>\n",
              "    </tr>\n",
              "    <tr>\n",
              "      <th>3</th>\n",
              "      <td>1</td>\n",
              "      <td>1</td>\n",
              "      <td>Chips and Tomatillo-Green Chili Salsa</td>\n",
              "      <td>NaN</td>\n",
              "      <td>$2.39</td>\n",
              "    </tr>\n",
              "    <tr>\n",
              "      <th>4</th>\n",
              "      <td>2</td>\n",
              "      <td>2</td>\n",
              "      <td>Chicken Bowl</td>\n",
              "      <td>[Tomatillo-Red Chili Salsa (Hot), [Black Beans...</td>\n",
              "      <td>$16.98</td>\n",
              "    </tr>\n",
              "  </tbody>\n",
              "</table>\n",
              "</div>"
            ],
            "text/plain": [
              "   order_id  ...  item_price\n",
              "0         1  ...      $2.39 \n",
              "1         1  ...      $3.39 \n",
              "2         1  ...      $3.39 \n",
              "3         1  ...      $2.39 \n",
              "4         2  ...     $16.98 \n",
              "\n",
              "[5 rows x 5 columns]"
            ]
          },
          "metadata": {
            "tags": []
          },
          "execution_count": 90
        }
      ]
    },
    {
      "cell_type": "code",
      "metadata": {
        "id": "axpfzzswqZMJ",
        "colab": {
          "base_uri": "https://localhost:8080/"
        },
        "outputId": "b8a84a12-04c8-4ef3-b65c-091a18a1ab81"
      },
      "source": [
        "# lets remove $ sign from item_price and change it to float and find mean\r\n",
        "orders.item_price.str.replace('$','').astype(float).mean()"
      ],
      "execution_count": 91,
      "outputs": [
        {
          "output_type": "execute_result",
          "data": {
            "text/plain": [
              "7.464335785374397"
            ]
          },
          "metadata": {
            "tags": []
          },
          "execution_count": 91
        }
      ]
    },
    {
      "cell_type": "markdown",
      "metadata": {
        "id": "AEKV9u57q2q-"
      },
      "source": [
        "**When should I use groupby?**"
      ]
    },
    {
      "cell_type": "code",
      "metadata": {
        "id": "TtZu5OmIqtTg",
        "colab": {
          "base_uri": "https://localhost:8080/",
          "height": 206
        },
        "outputId": "9c74fab7-5a38-4987-eb7d-a2b685cb586b"
      },
      "source": [
        "drinks.head()"
      ],
      "execution_count": 92,
      "outputs": [
        {
          "output_type": "execute_result",
          "data": {
            "text/html": [
              "<div>\n",
              "<style scoped>\n",
              "    .dataframe tbody tr th:only-of-type {\n",
              "        vertical-align: middle;\n",
              "    }\n",
              "\n",
              "    .dataframe tbody tr th {\n",
              "        vertical-align: top;\n",
              "    }\n",
              "\n",
              "    .dataframe thead th {\n",
              "        text-align: right;\n",
              "    }\n",
              "</style>\n",
              "<table border=\"1\" class=\"dataframe\">\n",
              "  <thead>\n",
              "    <tr style=\"text-align: right;\">\n",
              "      <th></th>\n",
              "      <th>country</th>\n",
              "      <th>beer_servings</th>\n",
              "      <th>spirit_servings</th>\n",
              "      <th>wine_servings</th>\n",
              "      <th>total_litres_of_pure_alcohol</th>\n",
              "      <th>continent</th>\n",
              "    </tr>\n",
              "  </thead>\n",
              "  <tbody>\n",
              "    <tr>\n",
              "      <th>0</th>\n",
              "      <td>Afghanistan</td>\n",
              "      <td>0.0</td>\n",
              "      <td>0</td>\n",
              "      <td>0</td>\n",
              "      <td>0.0</td>\n",
              "      <td>Asia</td>\n",
              "    </tr>\n",
              "    <tr>\n",
              "      <th>1</th>\n",
              "      <td>Albania</td>\n",
              "      <td>89.0</td>\n",
              "      <td>132</td>\n",
              "      <td>54</td>\n",
              "      <td>4.9</td>\n",
              "      <td>Europe</td>\n",
              "    </tr>\n",
              "    <tr>\n",
              "      <th>2</th>\n",
              "      <td>Algeria</td>\n",
              "      <td>25.0</td>\n",
              "      <td>0</td>\n",
              "      <td>14</td>\n",
              "      <td>0.7</td>\n",
              "      <td>Africa</td>\n",
              "    </tr>\n",
              "    <tr>\n",
              "      <th>3</th>\n",
              "      <td>Andorra</td>\n",
              "      <td>245.0</td>\n",
              "      <td>138</td>\n",
              "      <td>312</td>\n",
              "      <td>12.4</td>\n",
              "      <td>Europe</td>\n",
              "    </tr>\n",
              "    <tr>\n",
              "      <th>4</th>\n",
              "      <td>Angola</td>\n",
              "      <td>217.0</td>\n",
              "      <td>57</td>\n",
              "      <td>45</td>\n",
              "      <td>5.9</td>\n",
              "      <td>Africa</td>\n",
              "    </tr>\n",
              "  </tbody>\n",
              "</table>\n",
              "</div>"
            ],
            "text/plain": [
              "       country  beer_servings  ...  total_litres_of_pure_alcohol  continent\n",
              "0  Afghanistan            0.0  ...                           0.0       Asia\n",
              "1      Albania           89.0  ...                           4.9     Europe\n",
              "2      Algeria           25.0  ...                           0.7     Africa\n",
              "3      Andorra          245.0  ...                          12.4     Europe\n",
              "4       Angola          217.0  ...                           5.9     Africa\n",
              "\n",
              "[5 rows x 6 columns]"
            ]
          },
          "metadata": {
            "tags": []
          },
          "execution_count": 92
        }
      ]
    },
    {
      "cell_type": "code",
      "metadata": {
        "id": "7hQO7-i4q9Hv",
        "colab": {
          "base_uri": "https://localhost:8080/"
        },
        "outputId": "afd0c50b-a652-4490-9f92-1cf82d78542c"
      },
      "source": [
        "drinks.dtypes"
      ],
      "execution_count": 93,
      "outputs": [
        {
          "output_type": "execute_result",
          "data": {
            "text/plain": [
              "country                          object\n",
              "beer_servings                   float64\n",
              "spirit_servings                   int64\n",
              "wine_servings                     int64\n",
              "total_litres_of_pure_alcohol    float64\n",
              "continent                        object\n",
              "dtype: object"
            ]
          },
          "metadata": {
            "tags": []
          },
          "execution_count": 93
        }
      ]
    },
    {
      "cell_type": "code",
      "metadata": {
        "id": "gFk1yAjSrAUo"
      },
      "source": [
        "drinks['beer_servings'] = drinks.beer_servings.astype(int)"
      ],
      "execution_count": 94,
      "outputs": []
    },
    {
      "cell_type": "code",
      "metadata": {
        "id": "OopCKsm9rG85",
        "colab": {
          "base_uri": "https://localhost:8080/",
          "height": 206
        },
        "outputId": "2c51afc4-af21-47f0-86b3-49d113be770b"
      },
      "source": [
        "drinks.head()"
      ],
      "execution_count": 95,
      "outputs": [
        {
          "output_type": "execute_result",
          "data": {
            "text/html": [
              "<div>\n",
              "<style scoped>\n",
              "    .dataframe tbody tr th:only-of-type {\n",
              "        vertical-align: middle;\n",
              "    }\n",
              "\n",
              "    .dataframe tbody tr th {\n",
              "        vertical-align: top;\n",
              "    }\n",
              "\n",
              "    .dataframe thead th {\n",
              "        text-align: right;\n",
              "    }\n",
              "</style>\n",
              "<table border=\"1\" class=\"dataframe\">\n",
              "  <thead>\n",
              "    <tr style=\"text-align: right;\">\n",
              "      <th></th>\n",
              "      <th>country</th>\n",
              "      <th>beer_servings</th>\n",
              "      <th>spirit_servings</th>\n",
              "      <th>wine_servings</th>\n",
              "      <th>total_litres_of_pure_alcohol</th>\n",
              "      <th>continent</th>\n",
              "    </tr>\n",
              "  </thead>\n",
              "  <tbody>\n",
              "    <tr>\n",
              "      <th>0</th>\n",
              "      <td>Afghanistan</td>\n",
              "      <td>0</td>\n",
              "      <td>0</td>\n",
              "      <td>0</td>\n",
              "      <td>0.0</td>\n",
              "      <td>Asia</td>\n",
              "    </tr>\n",
              "    <tr>\n",
              "      <th>1</th>\n",
              "      <td>Albania</td>\n",
              "      <td>89</td>\n",
              "      <td>132</td>\n",
              "      <td>54</td>\n",
              "      <td>4.9</td>\n",
              "      <td>Europe</td>\n",
              "    </tr>\n",
              "    <tr>\n",
              "      <th>2</th>\n",
              "      <td>Algeria</td>\n",
              "      <td>25</td>\n",
              "      <td>0</td>\n",
              "      <td>14</td>\n",
              "      <td>0.7</td>\n",
              "      <td>Africa</td>\n",
              "    </tr>\n",
              "    <tr>\n",
              "      <th>3</th>\n",
              "      <td>Andorra</td>\n",
              "      <td>245</td>\n",
              "      <td>138</td>\n",
              "      <td>312</td>\n",
              "      <td>12.4</td>\n",
              "      <td>Europe</td>\n",
              "    </tr>\n",
              "    <tr>\n",
              "      <th>4</th>\n",
              "      <td>Angola</td>\n",
              "      <td>217</td>\n",
              "      <td>57</td>\n",
              "      <td>45</td>\n",
              "      <td>5.9</td>\n",
              "      <td>Africa</td>\n",
              "    </tr>\n",
              "  </tbody>\n",
              "</table>\n",
              "</div>"
            ],
            "text/plain": [
              "       country  beer_servings  ...  total_litres_of_pure_alcohol  continent\n",
              "0  Afghanistan              0  ...                           0.0       Asia\n",
              "1      Albania             89  ...                           4.9     Europe\n",
              "2      Algeria             25  ...                           0.7     Africa\n",
              "3      Andorra            245  ...                          12.4     Europe\n",
              "4       Angola            217  ...                           5.9     Africa\n",
              "\n",
              "[5 rows x 6 columns]"
            ]
          },
          "metadata": {
            "tags": []
          },
          "execution_count": 95
        }
      ]
    },
    {
      "cell_type": "code",
      "metadata": {
        "id": "XXz2ySfarIDO",
        "colab": {
          "base_uri": "https://localhost:8080/"
        },
        "outputId": "8dab0d0a-1c96-46df-9098-d987e5fb838f"
      },
      "source": [
        "# to find average beer_servings across all countries\r\n",
        "drinks.beer_servings.mean(axis=0)"
      ],
      "execution_count": 96,
      "outputs": [
        {
          "output_type": "execute_result",
          "data": {
            "text/plain": [
              "106.16062176165804"
            ]
          },
          "metadata": {
            "tags": []
          },
          "execution_count": 96
        }
      ]
    },
    {
      "cell_type": "code",
      "metadata": {
        "id": "aAvrowNmrY6K",
        "colab": {
          "base_uri": "https://localhost:8080/"
        },
        "outputId": "b99c227d-2df9-4afd-d64d-82d92d2a0b4d"
      },
      "source": [
        "# BUT, if we want to know how beer_servings varies by continent, groupby comes into play\r\n",
        "# anytime we need answer like: for each sth. what is the agg function on another column\r\n",
        "# For each continent what is the average beer_servings?\r\n",
        "drinks.groupby('continent').beer_servings.mean()"
      ],
      "execution_count": 97,
      "outputs": [
        {
          "output_type": "execute_result",
          "data": {
            "text/plain": [
              "continent\n",
              "Africa            61.471698\n",
              "Asia              37.045455\n",
              "Europe           193.777778\n",
              "North America    145.434783\n",
              "Oceania           89.687500\n",
              "South America    175.083333\n",
              "Name: beer_servings, dtype: float64"
            ]
          },
          "metadata": {
            "tags": []
          },
          "execution_count": 97
        }
      ]
    },
    {
      "cell_type": "code",
      "metadata": {
        "id": "jpUF7tcCsCNt",
        "colab": {
          "base_uri": "https://localhost:8080/",
          "height": 269
        },
        "outputId": "39958453-e50f-4357-fbcb-0cd48e12e58f"
      },
      "source": [
        "# we could do multiple agg function using groupby\r\n",
        "drinks.groupby('continent').beer_servings.agg(['count','min','max','mean'])"
      ],
      "execution_count": 98,
      "outputs": [
        {
          "output_type": "execute_result",
          "data": {
            "text/html": [
              "<div>\n",
              "<style scoped>\n",
              "    .dataframe tbody tr th:only-of-type {\n",
              "        vertical-align: middle;\n",
              "    }\n",
              "\n",
              "    .dataframe tbody tr th {\n",
              "        vertical-align: top;\n",
              "    }\n",
              "\n",
              "    .dataframe thead th {\n",
              "        text-align: right;\n",
              "    }\n",
              "</style>\n",
              "<table border=\"1\" class=\"dataframe\">\n",
              "  <thead>\n",
              "    <tr style=\"text-align: right;\">\n",
              "      <th></th>\n",
              "      <th>count</th>\n",
              "      <th>min</th>\n",
              "      <th>max</th>\n",
              "      <th>mean</th>\n",
              "    </tr>\n",
              "    <tr>\n",
              "      <th>continent</th>\n",
              "      <th></th>\n",
              "      <th></th>\n",
              "      <th></th>\n",
              "      <th></th>\n",
              "    </tr>\n",
              "  </thead>\n",
              "  <tbody>\n",
              "    <tr>\n",
              "      <th>Africa</th>\n",
              "      <td>53</td>\n",
              "      <td>0</td>\n",
              "      <td>376</td>\n",
              "      <td>61.471698</td>\n",
              "    </tr>\n",
              "    <tr>\n",
              "      <th>Asia</th>\n",
              "      <td>44</td>\n",
              "      <td>0</td>\n",
              "      <td>247</td>\n",
              "      <td>37.045455</td>\n",
              "    </tr>\n",
              "    <tr>\n",
              "      <th>Europe</th>\n",
              "      <td>45</td>\n",
              "      <td>0</td>\n",
              "      <td>361</td>\n",
              "      <td>193.777778</td>\n",
              "    </tr>\n",
              "    <tr>\n",
              "      <th>North America</th>\n",
              "      <td>23</td>\n",
              "      <td>1</td>\n",
              "      <td>285</td>\n",
              "      <td>145.434783</td>\n",
              "    </tr>\n",
              "    <tr>\n",
              "      <th>Oceania</th>\n",
              "      <td>16</td>\n",
              "      <td>0</td>\n",
              "      <td>306</td>\n",
              "      <td>89.687500</td>\n",
              "    </tr>\n",
              "    <tr>\n",
              "      <th>South America</th>\n",
              "      <td>12</td>\n",
              "      <td>93</td>\n",
              "      <td>333</td>\n",
              "      <td>175.083333</td>\n",
              "    </tr>\n",
              "  </tbody>\n",
              "</table>\n",
              "</div>"
            ],
            "text/plain": [
              "               count  min  max        mean\n",
              "continent                                 \n",
              "Africa            53    0  376   61.471698\n",
              "Asia              44    0  247   37.045455\n",
              "Europe            45    0  361  193.777778\n",
              "North America     23    1  285  145.434783\n",
              "Oceania           16    0  306   89.687500\n",
              "South America     12   93  333  175.083333"
            ]
          },
          "metadata": {
            "tags": []
          },
          "execution_count": 98
        }
      ]
    },
    {
      "cell_type": "code",
      "metadata": {
        "id": "gzsVM4ZrsS_E",
        "colab": {
          "base_uri": "https://localhost:8080/",
          "height": 269
        },
        "outputId": "5debfb3f-21b2-418b-f811-29a1050f96c1"
      },
      "source": [
        "# actually, we don't even need to specify any column after groupby\r\n",
        "drinks.groupby('continent').mean()"
      ],
      "execution_count": 99,
      "outputs": [
        {
          "output_type": "execute_result",
          "data": {
            "text/html": [
              "<div>\n",
              "<style scoped>\n",
              "    .dataframe tbody tr th:only-of-type {\n",
              "        vertical-align: middle;\n",
              "    }\n",
              "\n",
              "    .dataframe tbody tr th {\n",
              "        vertical-align: top;\n",
              "    }\n",
              "\n",
              "    .dataframe thead th {\n",
              "        text-align: right;\n",
              "    }\n",
              "</style>\n",
              "<table border=\"1\" class=\"dataframe\">\n",
              "  <thead>\n",
              "    <tr style=\"text-align: right;\">\n",
              "      <th></th>\n",
              "      <th>beer_servings</th>\n",
              "      <th>spirit_servings</th>\n",
              "      <th>wine_servings</th>\n",
              "      <th>total_litres_of_pure_alcohol</th>\n",
              "    </tr>\n",
              "    <tr>\n",
              "      <th>continent</th>\n",
              "      <th></th>\n",
              "      <th></th>\n",
              "      <th></th>\n",
              "      <th></th>\n",
              "    </tr>\n",
              "  </thead>\n",
              "  <tbody>\n",
              "    <tr>\n",
              "      <th>Africa</th>\n",
              "      <td>61.471698</td>\n",
              "      <td>16.339623</td>\n",
              "      <td>16.264151</td>\n",
              "      <td>3.007547</td>\n",
              "    </tr>\n",
              "    <tr>\n",
              "      <th>Asia</th>\n",
              "      <td>37.045455</td>\n",
              "      <td>60.840909</td>\n",
              "      <td>9.068182</td>\n",
              "      <td>2.170455</td>\n",
              "    </tr>\n",
              "    <tr>\n",
              "      <th>Europe</th>\n",
              "      <td>193.777778</td>\n",
              "      <td>132.555556</td>\n",
              "      <td>142.222222</td>\n",
              "      <td>8.617778</td>\n",
              "    </tr>\n",
              "    <tr>\n",
              "      <th>North America</th>\n",
              "      <td>145.434783</td>\n",
              "      <td>165.739130</td>\n",
              "      <td>24.521739</td>\n",
              "      <td>5.995652</td>\n",
              "    </tr>\n",
              "    <tr>\n",
              "      <th>Oceania</th>\n",
              "      <td>89.687500</td>\n",
              "      <td>58.437500</td>\n",
              "      <td>35.625000</td>\n",
              "      <td>3.381250</td>\n",
              "    </tr>\n",
              "    <tr>\n",
              "      <th>South America</th>\n",
              "      <td>175.083333</td>\n",
              "      <td>114.750000</td>\n",
              "      <td>62.416667</td>\n",
              "      <td>6.308333</td>\n",
              "    </tr>\n",
              "  </tbody>\n",
              "</table>\n",
              "</div>"
            ],
            "text/plain": [
              "               beer_servings  ...  total_litres_of_pure_alcohol\n",
              "continent                     ...                              \n",
              "Africa             61.471698  ...                      3.007547\n",
              "Asia               37.045455  ...                      2.170455\n",
              "Europe            193.777778  ...                      8.617778\n",
              "North America     145.434783  ...                      5.995652\n",
              "Oceania            89.687500  ...                      3.381250\n",
              "South America     175.083333  ...                      6.308333\n",
              "\n",
              "[6 rows x 4 columns]"
            ]
          },
          "metadata": {
            "tags": []
          },
          "execution_count": 99
        }
      ]
    },
    {
      "cell_type": "code",
      "metadata": {
        "id": "oXcz_oBVskK0"
      },
      "source": [
        "%matplotlib inline"
      ],
      "execution_count": 100,
      "outputs": []
    },
    {
      "cell_type": "code",
      "metadata": {
        "id": "ap-_yCCcsnHl",
        "colab": {
          "base_uri": "https://localhost:8080/",
          "height": 361
        },
        "outputId": "86886d4c-a275-42b5-acde-a54cbf755548"
      },
      "source": [
        "drinks.groupby('continent').mean().plot(kind='bar')"
      ],
      "execution_count": 101,
      "outputs": [
        {
          "output_type": "execute_result",
          "data": {
            "text/plain": [
              "<matplotlib.axes._subplots.AxesSubplot at 0x7f4f1ba51358>"
            ]
          },
          "metadata": {
            "tags": []
          },
          "execution_count": 101
        },
        {
          "output_type": "display_data",
          "data": {
            "image/png": "[encoded data removed]",
            "text/plain": [
              "<Figure size 432x288 with 1 Axes>"
            ]
          },
          "metadata": {
            "tags": [],
            "needs_background": "light"
          }
        }
      ]
    },
    {
      "cell_type": "markdown",
      "metadata": {
        "id": "qvJuilOcs-DX"
      },
      "source": [
        "**How do I explore a pandas Series?**"
      ]
    },
    {
      "cell_type": "code",
      "metadata": {
        "id": "YV6DkA8PsuUs",
        "colab": {
          "base_uri": "https://localhost:8080/",
          "height": 206
        },
        "outputId": "08dac926-d17a-4d6b-d2a7-9ffe61b9342f"
      },
      "source": [
        "movies = pd.read_csv('http://bit.ly/imdbratings')\r\n",
        "movies.head()"
      ],
      "execution_count": 102,
      "outputs": [
        {
          "output_type": "execute_result",
          "data": {
            "text/html": [
              "<div>\n",
              "<style scoped>\n",
              "    .dataframe tbody tr th:only-of-type {\n",
              "        vertical-align: middle;\n",
              "    }\n",
              "\n",
              "    .dataframe tbody tr th {\n",
              "        vertical-align: top;\n",
              "    }\n",
              "\n",
              "    .dataframe thead th {\n",
              "        text-align: right;\n",
              "    }\n",
              "</style>\n",
              "<table border=\"1\" class=\"dataframe\">\n",
              "  <thead>\n",
              "    <tr style=\"text-align: right;\">\n",
              "      <th></th>\n",
              "      <th>star_rating</th>\n",
              "      <th>title</th>\n",
              "      <th>content_rating</th>\n",
              "      <th>genre</th>\n",
              "      <th>duration</th>\n",
              "      <th>actors_list</th>\n",
              "    </tr>\n",
              "  </thead>\n",
              "  <tbody>\n",
              "    <tr>\n",
              "      <th>0</th>\n",
              "      <td>9.3</td>\n",
              "      <td>The Shawshank Redemption</td>\n",
              "      <td>R</td>\n",
              "      <td>Crime</td>\n",
              "      <td>142</td>\n",
              "      <td>[u'Tim Robbins', u'Morgan Freeman', u'Bob Gunt...</td>\n",
              "    </tr>\n",
              "    <tr>\n",
              "      <th>1</th>\n",
              "      <td>9.2</td>\n",
              "      <td>The Godfather</td>\n",
              "      <td>R</td>\n",
              "      <td>Crime</td>\n",
              "      <td>175</td>\n",
              "      <td>[u'Marlon Brando', u'Al Pacino', u'James Caan']</td>\n",
              "    </tr>\n",
              "    <tr>\n",
              "      <th>2</th>\n",
              "      <td>9.1</td>\n",
              "      <td>The Godfather: Part II</td>\n",
              "      <td>R</td>\n",
              "      <td>Crime</td>\n",
              "      <td>200</td>\n",
              "      <td>[u'Al Pacino', u'Robert De Niro', u'Robert Duv...</td>\n",
              "    </tr>\n",
              "    <tr>\n",
              "      <th>3</th>\n",
              "      <td>9.0</td>\n",
              "      <td>The Dark Knight</td>\n",
              "      <td>PG-13</td>\n",
              "      <td>Action</td>\n",
              "      <td>152</td>\n",
              "      <td>[u'Christian Bale', u'Heath Ledger', u'Aaron E...</td>\n",
              "    </tr>\n",
              "    <tr>\n",
              "      <th>4</th>\n",
              "      <td>8.9</td>\n",
              "      <td>Pulp Fiction</td>\n",
              "      <td>R</td>\n",
              "      <td>Crime</td>\n",
              "      <td>154</td>\n",
              "      <td>[u'John Travolta', u'Uma Thurman', u'Samuel L....</td>\n",
              "    </tr>\n",
              "  </tbody>\n",
              "</table>\n",
              "</div>"
            ],
            "text/plain": [
              "   star_rating  ...                                        actors_list\n",
              "0          9.3  ...  [u'Tim Robbins', u'Morgan Freeman', u'Bob Gunt...\n",
              "1          9.2  ...    [u'Marlon Brando', u'Al Pacino', u'James Caan']\n",
              "2          9.1  ...  [u'Al Pacino', u'Robert De Niro', u'Robert Duv...\n",
              "3          9.0  ...  [u'Christian Bale', u'Heath Ledger', u'Aaron E...\n",
              "4          8.9  ...  [u'John Travolta', u'Uma Thurman', u'Samuel L....\n",
              "\n",
              "[5 rows x 6 columns]"
            ]
          },
          "metadata": {
            "tags": []
          },
          "execution_count": 102
        }
      ]
    },
    {
      "cell_type": "code",
      "metadata": {
        "id": "uLDCdXgQtIEZ",
        "colab": {
          "base_uri": "https://localhost:8080/"
        },
        "outputId": "4f5987d5-93ac-4821-fa24-15786792aa14"
      },
      "source": [
        "movies.dtypes"
      ],
      "execution_count": 103,
      "outputs": [
        {
          "output_type": "execute_result",
          "data": {
            "text/plain": [
              "star_rating       float64\n",
              "title              object\n",
              "content_rating     object\n",
              "genre              object\n",
              "duration            int64\n",
              "actors_list        object\n",
              "dtype: object"
            ]
          },
          "metadata": {
            "tags": []
          },
          "execution_count": 103
        }
      ]
    },
    {
      "cell_type": "code",
      "metadata": {
        "id": "zZSJOO0NtKSi",
        "colab": {
          "base_uri": "https://localhost:8080/"
        },
        "outputId": "42b63353-3e5f-45b4-c9b0-86782138e8e2"
      },
      "source": [
        "movies.genre.describe()"
      ],
      "execution_count": 104,
      "outputs": [
        {
          "output_type": "execute_result",
          "data": {
            "text/plain": [
              "count       979\n",
              "unique       16\n",
              "top       Drama\n",
              "freq        278\n",
              "Name: genre, dtype: object"
            ]
          },
          "metadata": {
            "tags": []
          },
          "execution_count": 104
        }
      ]
    },
    {
      "cell_type": "code",
      "metadata": {
        "id": "7RhjWGhXtPkD",
        "colab": {
          "base_uri": "https://localhost:8080/"
        },
        "outputId": "be2a04b3-c03d-4660-8fb4-43198fc51e59"
      },
      "source": [
        "# count how many times each values occurs\r\n",
        "movies.genre.value_counts()"
      ],
      "execution_count": 105,
      "outputs": [
        {
          "output_type": "execute_result",
          "data": {
            "text/plain": [
              "Drama        278\n",
              "Comedy       156\n",
              "Action       136\n",
              "Crime        124\n",
              "Biography     77\n",
              "Adventure     75\n",
              "Animation     62\n",
              "Horror        29\n",
              "Mystery       16\n",
              "Western        9\n",
              "Thriller       5\n",
              "Sci-Fi         5\n",
              "Film-Noir      3\n",
              "Family         2\n",
              "Fantasy        1\n",
              "History        1\n",
              "Name: genre, dtype: int64"
            ]
          },
          "metadata": {
            "tags": []
          },
          "execution_count": 105
        }
      ]
    },
    {
      "cell_type": "code",
      "metadata": {
        "id": "q4rZt5M1ta2R",
        "colab": {
          "base_uri": "https://localhost:8080/"
        },
        "outputId": "716e4ea7-547d-477c-8e98-81e90009f50b"
      },
      "source": [
        "# normalized values are more appropriate\r\n",
        "movies.genre.value_counts(normalize=True)"
      ],
      "execution_count": 106,
      "outputs": [
        {
          "output_type": "execute_result",
          "data": {
            "text/plain": [
              "Drama        0.283963\n",
              "Comedy       0.159346\n",
              "Action       0.138917\n",
              "Crime        0.126660\n",
              "Biography    0.078652\n",
              "Adventure    0.076609\n",
              "Animation    0.063330\n",
              "Horror       0.029622\n",
              "Mystery      0.016343\n",
              "Western      0.009193\n",
              "Thriller     0.005107\n",
              "Sci-Fi       0.005107\n",
              "Film-Noir    0.003064\n",
              "Family       0.002043\n",
              "Fantasy      0.001021\n",
              "History      0.001021\n",
              "Name: genre, dtype: float64"
            ]
          },
          "metadata": {
            "tags": []
          },
          "execution_count": 106
        }
      ]
    },
    {
      "cell_type": "code",
      "metadata": {
        "id": "tb8HISHhtkv4",
        "colab": {
          "base_uri": "https://localhost:8080/"
        },
        "outputId": "a1dfcd98-2c1b-4ac1-d8f5-d41fddfa1a18"
      },
      "source": [
        "# to see unique values\r\n",
        "movies.genre.unique()"
      ],
      "execution_count": 107,
      "outputs": [
        {
          "output_type": "execute_result",
          "data": {
            "text/plain": [
              "array(['Crime', 'Action', 'Drama', 'Western', 'Adventure', 'Biography',\n",
              "       'Comedy', 'Animation', 'Mystery', 'Horror', 'Film-Noir', 'Sci-Fi',\n",
              "       'History', 'Thriller', 'Family', 'Fantasy'], dtype=object)"
            ]
          },
          "metadata": {
            "tags": []
          },
          "execution_count": 107
        }
      ]
    },
    {
      "cell_type": "code",
      "metadata": {
        "id": "3fdpKEOutrF0",
        "colab": {
          "base_uri": "https://localhost:8080/"
        },
        "outputId": "d1615ed5-6f07-4fb2-f9a0-1893363fd823"
      },
      "source": [
        "# same thing to numeric column\r\n",
        "movies.duration.describe()"
      ],
      "execution_count": 108,
      "outputs": [
        {
          "output_type": "execute_result",
          "data": {
            "text/plain": [
              "count    979.000000\n",
              "mean     120.979571\n",
              "std       26.218010\n",
              "min       64.000000\n",
              "25%      102.000000\n",
              "50%      117.000000\n",
              "75%      134.000000\n",
              "max      242.000000\n",
              "Name: duration, dtype: float64"
            ]
          },
          "metadata": {
            "tags": []
          },
          "execution_count": 108
        }
      ]
    },
    {
      "cell_type": "code",
      "metadata": {
        "id": "AvnVVRB1t2K3",
        "colab": {
          "base_uri": "https://localhost:8080/",
          "height": 283
        },
        "outputId": "0bf39d92-05b3-419a-eeee-1d2fbfd8ef6a"
      },
      "source": [
        "# plot a column\r\n",
        "movies.duration.plot(kind='hist')"
      ],
      "execution_count": 109,
      "outputs": [
        {
          "output_type": "execute_result",
          "data": {
            "text/plain": [
              "<matplotlib.axes._subplots.AxesSubplot at 0x7f4f1b8f5e48>"
            ]
          },
          "metadata": {
            "tags": []
          },
          "execution_count": 109
        },
        {
          "output_type": "display_data",
          "data": {
            "image/png": "[encoded data removed]",
            "text/plain": [
              "<Figure size 432x288 with 1 Axes>"
            ]
          },
          "metadata": {
            "tags": [],
            "needs_background": "light"
          }
        }
      ]
    },
    {
      "cell_type": "code",
      "metadata": {
        "id": "WOeGK5t0uEs3",
        "colab": {
          "base_uri": "https://localhost:8080/",
          "height": 325
        },
        "outputId": "ff386d8b-eada-4864-d371-11df1d0b9a86"
      },
      "source": [
        "movies.genre.value_counts().plot(kind='bar')"
      ],
      "execution_count": 110,
      "outputs": [
        {
          "output_type": "execute_result",
          "data": {
            "text/plain": [
              "<matplotlib.axes._subplots.AxesSubplot at 0x7f4f1b87fef0>"
            ]
          },
          "metadata": {
            "tags": []
          },
          "execution_count": 110
        },
        {
          "output_type": "display_data",
          "data": {
            "image/png": "[encoded data removed]",
            "text/plain": [
              "<Figure size 432x288 with 1 Axes>"
            ]
          },
          "metadata": {
            "tags": [],
            "needs_background": "light"
          }
        }
      ]
    },
    {
      "cell_type": "markdown",
      "metadata": {
        "id": "SveZicHZuPyP"
      },
      "source": [
        "**How do I handle missing values in pandas?**"
      ]
    },
    {
      "cell_type": "code",
      "metadata": {
        "id": "FGojMeVvuLo4",
        "colab": {
          "base_uri": "https://localhost:8080/",
          "height": 206
        },
        "outputId": "fcb5c2fd-f1b7-4965-a46e-69aa7dd31850"
      },
      "source": [
        "ufo = pd.read_csv('http://bit.ly/uforeports')\r\n",
        "ufo.tail()"
      ],
      "execution_count": 111,
      "outputs": [
        {
          "output_type": "execute_result",
          "data": {
            "text/html": [
              "<div>\n",
              "<style scoped>\n",
              "    .dataframe tbody tr th:only-of-type {\n",
              "        vertical-align: middle;\n",
              "    }\n",
              "\n",
              "    .dataframe tbody tr th {\n",
              "        vertical-align: top;\n",
              "    }\n",
              "\n",
              "    .dataframe thead th {\n",
              "        text-align: right;\n",
              "    }\n",
              "</style>\n",
              "<table border=\"1\" class=\"dataframe\">\n",
              "  <thead>\n",
              "    <tr style=\"text-align: right;\">\n",
              "      <th></th>\n",
              "      <th>City</th>\n",
              "      <th>Colors Reported</th>\n",
              "      <th>Shape Reported</th>\n",
              "      <th>State</th>\n",
              "      <th>Time</th>\n",
              "    </tr>\n",
              "  </thead>\n",
              "  <tbody>\n",
              "    <tr>\n",
              "      <th>18236</th>\n",
              "      <td>Grant Park</td>\n",
              "      <td>NaN</td>\n",
              "      <td>TRIANGLE</td>\n",
              "      <td>IL</td>\n",
              "      <td>12/31/2000 23:00</td>\n",
              "    </tr>\n",
              "    <tr>\n",
              "      <th>18237</th>\n",
              "      <td>Spirit Lake</td>\n",
              "      <td>NaN</td>\n",
              "      <td>DISK</td>\n",
              "      <td>IA</td>\n",
              "      <td>12/31/2000 23:00</td>\n",
              "    </tr>\n",
              "    <tr>\n",
              "      <th>18238</th>\n",
              "      <td>Eagle River</td>\n",
              "      <td>NaN</td>\n",
              "      <td>NaN</td>\n",
              "      <td>WI</td>\n",
              "      <td>12/31/2000 23:45</td>\n",
              "    </tr>\n",
              "    <tr>\n",
              "      <th>18239</th>\n",
              "      <td>Eagle River</td>\n",
              "      <td>RED</td>\n",
              "      <td>LIGHT</td>\n",
              "      <td>WI</td>\n",
              "      <td>12/31/2000 23:45</td>\n",
              "    </tr>\n",
              "    <tr>\n",
              "      <th>18240</th>\n",
              "      <td>Ybor</td>\n",
              "      <td>NaN</td>\n",
              "      <td>OVAL</td>\n",
              "      <td>FL</td>\n",
              "      <td>12/31/2000 23:59</td>\n",
              "    </tr>\n",
              "  </tbody>\n",
              "</table>\n",
              "</div>"
            ],
            "text/plain": [
              "              City Colors Reported Shape Reported State              Time\n",
              "18236   Grant Park             NaN       TRIANGLE    IL  12/31/2000 23:00\n",
              "18237  Spirit Lake             NaN           DISK    IA  12/31/2000 23:00\n",
              "18238  Eagle River             NaN            NaN    WI  12/31/2000 23:45\n",
              "18239  Eagle River             RED          LIGHT    WI  12/31/2000 23:45\n",
              "18240         Ybor             NaN           OVAL    FL  12/31/2000 23:59"
            ]
          },
          "metadata": {
            "tags": []
          },
          "execution_count": 111
        }
      ]
    },
    {
      "cell_type": "code",
      "metadata": {
        "id": "FSxxR6_WuU-f",
        "colab": {
          "base_uri": "https://localhost:8080/",
          "height": 206
        },
        "outputId": "1675eccb-a29b-4b98-d621-d960b4d653b7"
      },
      "source": [
        "# bunch of NaN are missing values places\r\n",
        "ufo.isna().tail()\r\n",
        "# this tells me True/False df"
      ],
      "execution_count": 112,
      "outputs": [
        {
          "output_type": "execute_result",
          "data": {
            "text/html": [
              "<div>\n",
              "<style scoped>\n",
              "    .dataframe tbody tr th:only-of-type {\n",
              "        vertical-align: middle;\n",
              "    }\n",
              "\n",
              "    .dataframe tbody tr th {\n",
              "        vertical-align: top;\n",
              "    }\n",
              "\n",
              "    .dataframe thead th {\n",
              "        text-align: right;\n",
              "    }\n",
              "</style>\n",
              "<table border=\"1\" class=\"dataframe\">\n",
              "  <thead>\n",
              "    <tr style=\"text-align: right;\">\n",
              "      <th></th>\n",
              "      <th>City</th>\n",
              "      <th>Colors Reported</th>\n",
              "      <th>Shape Reported</th>\n",
              "      <th>State</th>\n",
              "      <th>Time</th>\n",
              "    </tr>\n",
              "  </thead>\n",
              "  <tbody>\n",
              "    <tr>\n",
              "      <th>18236</th>\n",
              "      <td>False</td>\n",
              "      <td>True</td>\n",
              "      <td>False</td>\n",
              "      <td>False</td>\n",
              "      <td>False</td>\n",
              "    </tr>\n",
              "    <tr>\n",
              "      <th>18237</th>\n",
              "      <td>False</td>\n",
              "      <td>True</td>\n",
              "      <td>False</td>\n",
              "      <td>False</td>\n",
              "      <td>False</td>\n",
              "    </tr>\n",
              "    <tr>\n",
              "      <th>18238</th>\n",
              "      <td>False</td>\n",
              "      <td>True</td>\n",
              "      <td>True</td>\n",
              "      <td>False</td>\n",
              "      <td>False</td>\n",
              "    </tr>\n",
              "    <tr>\n",
              "      <th>18239</th>\n",
              "      <td>False</td>\n",
              "      <td>False</td>\n",
              "      <td>False</td>\n",
              "      <td>False</td>\n",
              "      <td>False</td>\n",
              "    </tr>\n",
              "    <tr>\n",
              "      <th>18240</th>\n",
              "      <td>False</td>\n",
              "      <td>True</td>\n",
              "      <td>False</td>\n",
              "      <td>False</td>\n",
              "      <td>False</td>\n",
              "    </tr>\n",
              "  </tbody>\n",
              "</table>\n",
              "</div>"
            ],
            "text/plain": [
              "        City  Colors Reported  Shape Reported  State   Time\n",
              "18236  False             True           False  False  False\n",
              "18237  False             True           False  False  False\n",
              "18238  False             True            True  False  False\n",
              "18239  False            False           False  False  False\n",
              "18240  False             True           False  False  False"
            ]
          },
          "metadata": {
            "tags": []
          },
          "execution_count": 112
        }
      ]
    },
    {
      "cell_type": "code",
      "metadata": {
        "id": "6Os8LOKGuk9u",
        "colab": {
          "base_uri": "https://localhost:8080/"
        },
        "outputId": "801e3cac-56c0-4266-e32a-671953c7c543"
      },
      "source": [
        "# if we want to count how many nulls are there in each column\r\n",
        "ufo.isna().sum()"
      ],
      "execution_count": 113,
      "outputs": [
        {
          "output_type": "execute_result",
          "data": {
            "text/plain": [
              "City                  25\n",
              "Colors Reported    15359\n",
              "Shape Reported      2644\n",
              "State                  0\n",
              "Time                   0\n",
              "dtype: int64"
            ]
          },
          "metadata": {
            "tags": []
          },
          "execution_count": 113
        }
      ]
    },
    {
      "cell_type": "code",
      "metadata": {
        "id": "yr3bSUO6uzX-",
        "colab": {
          "base_uri": "https://localhost:8080/"
        },
        "outputId": "dc136690-ae73-4f2b-8bd3-2a6350327494"
      },
      "source": [
        "ufo.shape"
      ],
      "execution_count": 114,
      "outputs": [
        {
          "output_type": "execute_result",
          "data": {
            "text/plain": [
              "(18241, 5)"
            ]
          },
          "metadata": {
            "tags": []
          },
          "execution_count": 114
        }
      ]
    },
    {
      "cell_type": "code",
      "metadata": {
        "id": "X5dzeBeCu4A_",
        "colab": {
          "base_uri": "https://localhost:8080/",
          "height": 834
        },
        "outputId": "faed63b5-0ce7-40a2-a4aa-3651001f2926"
      },
      "source": [
        "# lets mask the df where City has nulls\r\n",
        "ufo[ufo.City.isna()]"
      ],
      "execution_count": 115,
      "outputs": [
        {
          "output_type": "execute_result",
          "data": {
            "text/html": [
              "<div>\n",
              "<style scoped>\n",
              "    .dataframe tbody tr th:only-of-type {\n",
              "        vertical-align: middle;\n",
              "    }\n",
              "\n",
              "    .dataframe tbody tr th {\n",
              "        vertical-align: top;\n",
              "    }\n",
              "\n",
              "    .dataframe thead th {\n",
              "        text-align: right;\n",
              "    }\n",
              "</style>\n",
              "<table border=\"1\" class=\"dataframe\">\n",
              "  <thead>\n",
              "    <tr style=\"text-align: right;\">\n",
              "      <th></th>\n",
              "      <th>City</th>\n",
              "      <th>Colors Reported</th>\n",
              "      <th>Shape Reported</th>\n",
              "      <th>State</th>\n",
              "      <th>Time</th>\n",
              "    </tr>\n",
              "  </thead>\n",
              "  <tbody>\n",
              "    <tr>\n",
              "      <th>21</th>\n",
              "      <td>NaN</td>\n",
              "      <td>NaN</td>\n",
              "      <td>NaN</td>\n",
              "      <td>LA</td>\n",
              "      <td>8/15/1943 0:00</td>\n",
              "    </tr>\n",
              "    <tr>\n",
              "      <th>22</th>\n",
              "      <td>NaN</td>\n",
              "      <td>NaN</td>\n",
              "      <td>LIGHT</td>\n",
              "      <td>LA</td>\n",
              "      <td>8/15/1943 0:00</td>\n",
              "    </tr>\n",
              "    <tr>\n",
              "      <th>204</th>\n",
              "      <td>NaN</td>\n",
              "      <td>NaN</td>\n",
              "      <td>DISK</td>\n",
              "      <td>CA</td>\n",
              "      <td>7/15/1952 12:30</td>\n",
              "    </tr>\n",
              "    <tr>\n",
              "      <th>241</th>\n",
              "      <td>NaN</td>\n",
              "      <td>BLUE</td>\n",
              "      <td>DISK</td>\n",
              "      <td>MT</td>\n",
              "      <td>7/4/1953 14:00</td>\n",
              "    </tr>\n",
              "    <tr>\n",
              "      <th>613</th>\n",
              "      <td>NaN</td>\n",
              "      <td>NaN</td>\n",
              "      <td>DISK</td>\n",
              "      <td>NV</td>\n",
              "      <td>7/1/1960 12:00</td>\n",
              "    </tr>\n",
              "    <tr>\n",
              "      <th>1877</th>\n",
              "      <td>NaN</td>\n",
              "      <td>YELLOW</td>\n",
              "      <td>CIRCLE</td>\n",
              "      <td>AZ</td>\n",
              "      <td>8/15/1969 1:00</td>\n",
              "    </tr>\n",
              "    <tr>\n",
              "      <th>2013</th>\n",
              "      <td>NaN</td>\n",
              "      <td>NaN</td>\n",
              "      <td>NaN</td>\n",
              "      <td>NH</td>\n",
              "      <td>8/1/1970 9:30</td>\n",
              "    </tr>\n",
              "    <tr>\n",
              "      <th>2546</th>\n",
              "      <td>NaN</td>\n",
              "      <td>NaN</td>\n",
              "      <td>FIREBALL</td>\n",
              "      <td>OH</td>\n",
              "      <td>10/25/1973 23:30</td>\n",
              "    </tr>\n",
              "    <tr>\n",
              "      <th>3123</th>\n",
              "      <td>NaN</td>\n",
              "      <td>RED</td>\n",
              "      <td>TRIANGLE</td>\n",
              "      <td>WV</td>\n",
              "      <td>11/25/1975 23:00</td>\n",
              "    </tr>\n",
              "    <tr>\n",
              "      <th>4736</th>\n",
              "      <td>NaN</td>\n",
              "      <td>NaN</td>\n",
              "      <td>SPHERE</td>\n",
              "      <td>CA</td>\n",
              "      <td>6/23/1982 23:00</td>\n",
              "    </tr>\n",
              "    <tr>\n",
              "      <th>5269</th>\n",
              "      <td>NaN</td>\n",
              "      <td>NaN</td>\n",
              "      <td>NaN</td>\n",
              "      <td>AZ</td>\n",
              "      <td>6/30/1985 21:30</td>\n",
              "    </tr>\n",
              "    <tr>\n",
              "      <th>6735</th>\n",
              "      <td>NaN</td>\n",
              "      <td>NaN</td>\n",
              "      <td>FORMATION</td>\n",
              "      <td>TX</td>\n",
              "      <td>4/1/1992 2:00</td>\n",
              "    </tr>\n",
              "    <tr>\n",
              "      <th>7208</th>\n",
              "      <td>NaN</td>\n",
              "      <td>NaN</td>\n",
              "      <td>CIRCLE</td>\n",
              "      <td>MI</td>\n",
              "      <td>10/4/1993 17:30</td>\n",
              "    </tr>\n",
              "    <tr>\n",
              "      <th>8828</th>\n",
              "      <td>NaN</td>\n",
              "      <td>NaN</td>\n",
              "      <td>TRIANGLE</td>\n",
              "      <td>WA</td>\n",
              "      <td>10/30/1995 21:30</td>\n",
              "    </tr>\n",
              "    <tr>\n",
              "      <th>8967</th>\n",
              "      <td>NaN</td>\n",
              "      <td>NaN</td>\n",
              "      <td>VARIOUS</td>\n",
              "      <td>CA</td>\n",
              "      <td>12/8/1995 18:00</td>\n",
              "    </tr>\n",
              "    <tr>\n",
              "      <th>9273</th>\n",
              "      <td>NaN</td>\n",
              "      <td>NaN</td>\n",
              "      <td>TRIANGLE</td>\n",
              "      <td>OH</td>\n",
              "      <td>5/1/1996 3:00</td>\n",
              "    </tr>\n",
              "    <tr>\n",
              "      <th>9388</th>\n",
              "      <td>NaN</td>\n",
              "      <td>NaN</td>\n",
              "      <td>OVAL</td>\n",
              "      <td>CA</td>\n",
              "      <td>6/12/1996 12:00</td>\n",
              "    </tr>\n",
              "    <tr>\n",
              "      <th>9587</th>\n",
              "      <td>NaN</td>\n",
              "      <td>NaN</td>\n",
              "      <td>EGG</td>\n",
              "      <td>FL</td>\n",
              "      <td>8/24/1996 15:00</td>\n",
              "    </tr>\n",
              "    <tr>\n",
              "      <th>10399</th>\n",
              "      <td>NaN</td>\n",
              "      <td>NaN</td>\n",
              "      <td>TRIANGLE</td>\n",
              "      <td>IL</td>\n",
              "      <td>6/15/1997 23:00</td>\n",
              "    </tr>\n",
              "    <tr>\n",
              "      <th>11625</th>\n",
              "      <td>NaN</td>\n",
              "      <td>NaN</td>\n",
              "      <td>CIRCLE</td>\n",
              "      <td>TX</td>\n",
              "      <td>6/7/1998 7:00</td>\n",
              "    </tr>\n",
              "    <tr>\n",
              "      <th>12441</th>\n",
              "      <td>NaN</td>\n",
              "      <td>RED</td>\n",
              "      <td>FIREBALL</td>\n",
              "      <td>WA</td>\n",
              "      <td>10/26/1998 17:58</td>\n",
              "    </tr>\n",
              "    <tr>\n",
              "      <th>15767</th>\n",
              "      <td>NaN</td>\n",
              "      <td>NaN</td>\n",
              "      <td>RECTANGLE</td>\n",
              "      <td>NV</td>\n",
              "      <td>1/21/2000 11:30</td>\n",
              "    </tr>\n",
              "    <tr>\n",
              "      <th>15812</th>\n",
              "      <td>NaN</td>\n",
              "      <td>NaN</td>\n",
              "      <td>LIGHT</td>\n",
              "      <td>NV</td>\n",
              "      <td>2/2/2000 3:00</td>\n",
              "    </tr>\n",
              "    <tr>\n",
              "      <th>16054</th>\n",
              "      <td>NaN</td>\n",
              "      <td>GREEN</td>\n",
              "      <td>NaN</td>\n",
              "      <td>FL</td>\n",
              "      <td>3/11/2000 3:30</td>\n",
              "    </tr>\n",
              "    <tr>\n",
              "      <th>16608</th>\n",
              "      <td>NaN</td>\n",
              "      <td>NaN</td>\n",
              "      <td>SPHERE</td>\n",
              "      <td>NY</td>\n",
              "      <td>6/15/2000 15:00</td>\n",
              "    </tr>\n",
              "  </tbody>\n",
              "</table>\n",
              "</div>"
            ],
            "text/plain": [
              "      City Colors Reported Shape Reported State              Time\n",
              "21     NaN             NaN            NaN    LA    8/15/1943 0:00\n",
              "22     NaN             NaN          LIGHT    LA    8/15/1943 0:00\n",
              "204    NaN             NaN           DISK    CA   7/15/1952 12:30\n",
              "241    NaN            BLUE           DISK    MT    7/4/1953 14:00\n",
              "613    NaN             NaN           DISK    NV    7/1/1960 12:00\n",
              "1877   NaN          YELLOW         CIRCLE    AZ    8/15/1969 1:00\n",
              "2013   NaN             NaN            NaN    NH     8/1/1970 9:30\n",
              "2546   NaN             NaN       FIREBALL    OH  10/25/1973 23:30\n",
              "3123   NaN             RED       TRIANGLE    WV  11/25/1975 23:00\n",
              "4736   NaN             NaN         SPHERE    CA   6/23/1982 23:00\n",
              "5269   NaN             NaN            NaN    AZ   6/30/1985 21:30\n",
              "6735   NaN             NaN      FORMATION    TX     4/1/1992 2:00\n",
              "7208   NaN             NaN         CIRCLE    MI   10/4/1993 17:30\n",
              "8828   NaN             NaN       TRIANGLE    WA  10/30/1995 21:30\n",
              "8967   NaN             NaN        VARIOUS    CA   12/8/1995 18:00\n",
              "9273   NaN             NaN       TRIANGLE    OH     5/1/1996 3:00\n",
              "9388   NaN             NaN           OVAL    CA   6/12/1996 12:00\n",
              "9587   NaN             NaN            EGG    FL   8/24/1996 15:00\n",
              "10399  NaN             NaN       TRIANGLE    IL   6/15/1997 23:00\n",
              "11625  NaN             NaN         CIRCLE    TX     6/7/1998 7:00\n",
              "12441  NaN             RED       FIREBALL    WA  10/26/1998 17:58\n",
              "15767  NaN             NaN      RECTANGLE    NV   1/21/2000 11:30\n",
              "15812  NaN             NaN          LIGHT    NV     2/2/2000 3:00\n",
              "16054  NaN           GREEN            NaN    FL    3/11/2000 3:30\n",
              "16608  NaN             NaN         SPHERE    NY   6/15/2000 15:00"
            ]
          },
          "metadata": {
            "tags": []
          },
          "execution_count": 115
        }
      ]
    },
    {
      "cell_type": "code",
      "metadata": {
        "id": "fRQ_EFVrvmnI",
        "colab": {
          "base_uri": "https://localhost:8080/"
        },
        "outputId": "caa31fa5-e405-42b2-878c-d8fcb88f110e"
      },
      "source": [
        "ufo.shape"
      ],
      "execution_count": 116,
      "outputs": [
        {
          "output_type": "execute_result",
          "data": {
            "text/plain": [
              "(18241, 5)"
            ]
          },
          "metadata": {
            "tags": []
          },
          "execution_count": 116
        }
      ]
    },
    {
      "cell_type": "code",
      "metadata": {
        "id": "cqvE-46SvJfE",
        "colab": {
          "base_uri": "https://localhost:8080/"
        },
        "outputId": "ea7ad41b-81d4-4ec4-d75c-86dd0424c3ee"
      },
      "source": [
        "# How should we deal with those missing values?\r\n",
        "# One way is to drop those rows that contains NaNs\r\n",
        "# dropna() with how='any' drops any rows if any value in that row is missing\r\n",
        "ufo.dropna(how='any').shape"
      ],
      "execution_count": 117,
      "outputs": [
        {
          "output_type": "execute_result",
          "data": {
            "text/plain": [
              "(2486, 5)"
            ]
          },
          "metadata": {
            "tags": []
          },
          "execution_count": 117
        }
      ]
    },
    {
      "cell_type": "code",
      "metadata": {
        "id": "zbYA9NWCvrJS",
        "colab": {
          "base_uri": "https://localhost:8080/"
        },
        "outputId": "6c0556e6-5422-403b-a3ee-0b59fd627aeb"
      },
      "source": [
        "# sometimes we don't want to drop like that\r\n",
        "# only if certian columns has missing values\r\n",
        "ufo.dropna(subset=['City','Shape Reported'], how='any').shape"
      ],
      "execution_count": 118,
      "outputs": [
        {
          "output_type": "execute_result",
          "data": {
            "text/plain": [
              "(15576, 5)"
            ]
          },
          "metadata": {
            "tags": []
          },
          "execution_count": 118
        }
      ]
    },
    {
      "cell_type": "code",
      "metadata": {
        "id": "UOIrLHdawBI0"
      },
      "source": [
        "# Other times; we don't want to remove rows \r\n",
        "# instead we want to fill with sth\r\n",
        "ufo['Shape Reported'].fillna(value='Various', inplace=True)"
      ],
      "execution_count": 119,
      "outputs": []
    },
    {
      "cell_type": "code",
      "metadata": {
        "id": "7FRBbsyYwVsR",
        "colab": {
          "base_uri": "https://localhost:8080/"
        },
        "outputId": "b55619a4-9dc4-4f47-aaa4-6f00cefe9409"
      },
      "source": [
        "ufo['Shape Reported'].value_counts(dropna=False)\r\n",
        "# this time we should also see Various counts instead of NaNs"
      ],
      "execution_count": 120,
      "outputs": [
        {
          "output_type": "execute_result",
          "data": {
            "text/plain": [
              "LIGHT        2803\n",
              "Various      2644\n",
              "DISK         2122\n",
              "TRIANGLE     1889\n",
              "OTHER        1402\n",
              "CIRCLE       1365\n",
              "SPHERE       1054\n",
              "FIREBALL     1039\n",
              "OVAL          845\n",
              "CIGAR         617\n",
              "FORMATION     434\n",
              "VARIOUS       333\n",
              "RECTANGLE     303\n",
              "CYLINDER      294\n",
              "CHEVRON       248\n",
              "DIAMOND       234\n",
              "EGG           197\n",
              "FLASH         188\n",
              "TEARDROP      119\n",
              "CONE           60\n",
              "CROSS          36\n",
              "DELTA           7\n",
              "ROUND           2\n",
              "CRESCENT        2\n",
              "FLARE           1\n",
              "PYRAMID         1\n",
              "HEXAGON         1\n",
              "DOME            1\n",
              "Name: Shape Reported, dtype: int64"
            ]
          },
          "metadata": {
            "tags": []
          },
          "execution_count": 120
        }
      ]
    },
    {
      "cell_type": "markdown",
      "metadata": {
        "id": "s1hvTkthwxqB"
      },
      "source": [
        "**Selecting in DataFrame using loc**"
      ]
    },
    {
      "cell_type": "code",
      "metadata": {
        "id": "eSH-wezSwhSQ",
        "colab": {
          "base_uri": "https://localhost:8080/",
          "height": 206
        },
        "outputId": "0ac98ec1-3d72-4c95-ce5b-c3f3e3a7b2b8"
      },
      "source": [
        "drinks.head()"
      ],
      "execution_count": 121,
      "outputs": [
        {
          "output_type": "execute_result",
          "data": {
            "text/html": [
              "<div>\n",
              "<style scoped>\n",
              "    .dataframe tbody tr th:only-of-type {\n",
              "        vertical-align: middle;\n",
              "    }\n",
              "\n",
              "    .dataframe tbody tr th {\n",
              "        vertical-align: top;\n",
              "    }\n",
              "\n",
              "    .dataframe thead th {\n",
              "        text-align: right;\n",
              "    }\n",
              "</style>\n",
              "<table border=\"1\" class=\"dataframe\">\n",
              "  <thead>\n",
              "    <tr style=\"text-align: right;\">\n",
              "      <th></th>\n",
              "      <th>country</th>\n",
              "      <th>beer_servings</th>\n",
              "      <th>spirit_servings</th>\n",
              "      <th>wine_servings</th>\n",
              "      <th>total_litres_of_pure_alcohol</th>\n",
              "      <th>continent</th>\n",
              "    </tr>\n",
              "  </thead>\n",
              "  <tbody>\n",
              "    <tr>\n",
              "      <th>0</th>\n",
              "      <td>Afghanistan</td>\n",
              "      <td>0</td>\n",
              "      <td>0</td>\n",
              "      <td>0</td>\n",
              "      <td>0.0</td>\n",
              "      <td>Asia</td>\n",
              "    </tr>\n",
              "    <tr>\n",
              "      <th>1</th>\n",
              "      <td>Albania</td>\n",
              "      <td>89</td>\n",
              "      <td>132</td>\n",
              "      <td>54</td>\n",
              "      <td>4.9</td>\n",
              "      <td>Europe</td>\n",
              "    </tr>\n",
              "    <tr>\n",
              "      <th>2</th>\n",
              "      <td>Algeria</td>\n",
              "      <td>25</td>\n",
              "      <td>0</td>\n",
              "      <td>14</td>\n",
              "      <td>0.7</td>\n",
              "      <td>Africa</td>\n",
              "    </tr>\n",
              "    <tr>\n",
              "      <th>3</th>\n",
              "      <td>Andorra</td>\n",
              "      <td>245</td>\n",
              "      <td>138</td>\n",
              "      <td>312</td>\n",
              "      <td>12.4</td>\n",
              "      <td>Europe</td>\n",
              "    </tr>\n",
              "    <tr>\n",
              "      <th>4</th>\n",
              "      <td>Angola</td>\n",
              "      <td>217</td>\n",
              "      <td>57</td>\n",
              "      <td>45</td>\n",
              "      <td>5.9</td>\n",
              "      <td>Africa</td>\n",
              "    </tr>\n",
              "  </tbody>\n",
              "</table>\n",
              "</div>"
            ],
            "text/plain": [
              "       country  beer_servings  ...  total_litres_of_pure_alcohol  continent\n",
              "0  Afghanistan              0  ...                           0.0       Asia\n",
              "1      Albania             89  ...                           4.9     Europe\n",
              "2      Algeria             25  ...                           0.7     Africa\n",
              "3      Andorra            245  ...                          12.4     Europe\n",
              "4       Angola            217  ...                           5.9     Africa\n",
              "\n",
              "[5 rows x 6 columns]"
            ]
          },
          "metadata": {
            "tags": []
          },
          "execution_count": 121
        }
      ]
    },
    {
      "cell_type": "code",
      "metadata": {
        "id": "gjsWPavZw2vg",
        "colab": {
          "base_uri": "https://localhost:8080/"
        },
        "outputId": "17da26c8-d261-4acc-c1ce-eac6dbaf0c1c"
      },
      "source": [
        "# lets say I want to select row 3 and column beer_serving\r\n",
        "drinks.loc[3,'beer_servings']\r\n",
        "# this works as loc[row_pos, col_pos]"
      ],
      "execution_count": 122,
      "outputs": [
        {
          "output_type": "execute_result",
          "data": {
            "text/plain": [
              "245"
            ]
          },
          "metadata": {
            "tags": []
          },
          "execution_count": 122
        }
      ]
    },
    {
      "cell_type": "code",
      "metadata": {
        "id": "VvE8cROLxFjD",
        "colab": {
          "base_uri": "https://localhost:8080/",
          "height": 238
        },
        "outputId": "d896065f-ccba-4355-a36f-db3939e0c792"
      },
      "source": [
        "# if we change our index it becomes easier to locate values\r\n",
        "drinks.set_index('country', inplace=True)\r\n",
        "drinks.head()"
      ],
      "execution_count": 123,
      "outputs": [
        {
          "output_type": "execute_result",
          "data": {
            "text/html": [
              "<div>\n",
              "<style scoped>\n",
              "    .dataframe tbody tr th:only-of-type {\n",
              "        vertical-align: middle;\n",
              "    }\n",
              "\n",
              "    .dataframe tbody tr th {\n",
              "        vertical-align: top;\n",
              "    }\n",
              "\n",
              "    .dataframe thead th {\n",
              "        text-align: right;\n",
              "    }\n",
              "</style>\n",
              "<table border=\"1\" class=\"dataframe\">\n",
              "  <thead>\n",
              "    <tr style=\"text-align: right;\">\n",
              "      <th></th>\n",
              "      <th>beer_servings</th>\n",
              "      <th>spirit_servings</th>\n",
              "      <th>wine_servings</th>\n",
              "      <th>total_litres_of_pure_alcohol</th>\n",
              "      <th>continent</th>\n",
              "    </tr>\n",
              "    <tr>\n",
              "      <th>country</th>\n",
              "      <th></th>\n",
              "      <th></th>\n",
              "      <th></th>\n",
              "      <th></th>\n",
              "      <th></th>\n",
              "    </tr>\n",
              "  </thead>\n",
              "  <tbody>\n",
              "    <tr>\n",
              "      <th>Afghanistan</th>\n",
              "      <td>0</td>\n",
              "      <td>0</td>\n",
              "      <td>0</td>\n",
              "      <td>0.0</td>\n",
              "      <td>Asia</td>\n",
              "    </tr>\n",
              "    <tr>\n",
              "      <th>Albania</th>\n",
              "      <td>89</td>\n",
              "      <td>132</td>\n",
              "      <td>54</td>\n",
              "      <td>4.9</td>\n",
              "      <td>Europe</td>\n",
              "    </tr>\n",
              "    <tr>\n",
              "      <th>Algeria</th>\n",
              "      <td>25</td>\n",
              "      <td>0</td>\n",
              "      <td>14</td>\n",
              "      <td>0.7</td>\n",
              "      <td>Africa</td>\n",
              "    </tr>\n",
              "    <tr>\n",
              "      <th>Andorra</th>\n",
              "      <td>245</td>\n",
              "      <td>138</td>\n",
              "      <td>312</td>\n",
              "      <td>12.4</td>\n",
              "      <td>Europe</td>\n",
              "    </tr>\n",
              "    <tr>\n",
              "      <th>Angola</th>\n",
              "      <td>217</td>\n",
              "      <td>57</td>\n",
              "      <td>45</td>\n",
              "      <td>5.9</td>\n",
              "      <td>Africa</td>\n",
              "    </tr>\n",
              "  </tbody>\n",
              "</table>\n",
              "</div>"
            ],
            "text/plain": [
              "             beer_servings  ...  continent\n",
              "country                     ...           \n",
              "Afghanistan              0  ...       Asia\n",
              "Albania                 89  ...     Europe\n",
              "Algeria                 25  ...     Africa\n",
              "Andorra                245  ...     Europe\n",
              "Angola                 217  ...     Africa\n",
              "\n",
              "[5 rows x 5 columns]"
            ]
          },
          "metadata": {
            "tags": []
          },
          "execution_count": 123
        }
      ]
    },
    {
      "cell_type": "code",
      "metadata": {
        "id": "sA7aS4_lxf6-",
        "colab": {
          "base_uri": "https://localhost:8080/"
        },
        "outputId": "4bf89f9f-e8d4-4728-bc91-91c627013970"
      },
      "source": [
        "# now selecting becomes more sensible\r\n",
        "drinks.loc['Andorra','beer_servings']"
      ],
      "execution_count": 124,
      "outputs": [
        {
          "output_type": "execute_result",
          "data": {
            "text/plain": [
              "245"
            ]
          },
          "metadata": {
            "tags": []
          },
          "execution_count": 124
        }
      ]
    },
    {
      "cell_type": "code",
      "metadata": {
        "id": "UmWMx6VNxpEH"
      },
      "source": [
        "# now lets reset the index as earlier\r\n",
        "drinks.reset_index(inplace=True)"
      ],
      "execution_count": 125,
      "outputs": []
    },
    {
      "cell_type": "code",
      "metadata": {
        "id": "tMI8s3OIxy83",
        "colab": {
          "base_uri": "https://localhost:8080/",
          "height": 206
        },
        "outputId": "f97e5b54-a2e2-4827-ee9c-ee9654b4e2ad"
      },
      "source": [
        "drinks.head()"
      ],
      "execution_count": 126,
      "outputs": [
        {
          "output_type": "execute_result",
          "data": {
            "text/html": [
              "<div>\n",
              "<style scoped>\n",
              "    .dataframe tbody tr th:only-of-type {\n",
              "        vertical-align: middle;\n",
              "    }\n",
              "\n",
              "    .dataframe tbody tr th {\n",
              "        vertical-align: top;\n",
              "    }\n",
              "\n",
              "    .dataframe thead th {\n",
              "        text-align: right;\n",
              "    }\n",
              "</style>\n",
              "<table border=\"1\" class=\"dataframe\">\n",
              "  <thead>\n",
              "    <tr style=\"text-align: right;\">\n",
              "      <th></th>\n",
              "      <th>country</th>\n",
              "      <th>beer_servings</th>\n",
              "      <th>spirit_servings</th>\n",
              "      <th>wine_servings</th>\n",
              "      <th>total_litres_of_pure_alcohol</th>\n",
              "      <th>continent</th>\n",
              "    </tr>\n",
              "  </thead>\n",
              "  <tbody>\n",
              "    <tr>\n",
              "      <th>0</th>\n",
              "      <td>Afghanistan</td>\n",
              "      <td>0</td>\n",
              "      <td>0</td>\n",
              "      <td>0</td>\n",
              "      <td>0.0</td>\n",
              "      <td>Asia</td>\n",
              "    </tr>\n",
              "    <tr>\n",
              "      <th>1</th>\n",
              "      <td>Albania</td>\n",
              "      <td>89</td>\n",
              "      <td>132</td>\n",
              "      <td>54</td>\n",
              "      <td>4.9</td>\n",
              "      <td>Europe</td>\n",
              "    </tr>\n",
              "    <tr>\n",
              "      <th>2</th>\n",
              "      <td>Algeria</td>\n",
              "      <td>25</td>\n",
              "      <td>0</td>\n",
              "      <td>14</td>\n",
              "      <td>0.7</td>\n",
              "      <td>Africa</td>\n",
              "    </tr>\n",
              "    <tr>\n",
              "      <th>3</th>\n",
              "      <td>Andorra</td>\n",
              "      <td>245</td>\n",
              "      <td>138</td>\n",
              "      <td>312</td>\n",
              "      <td>12.4</td>\n",
              "      <td>Europe</td>\n",
              "    </tr>\n",
              "    <tr>\n",
              "      <th>4</th>\n",
              "      <td>Angola</td>\n",
              "      <td>217</td>\n",
              "      <td>57</td>\n",
              "      <td>45</td>\n",
              "      <td>5.9</td>\n",
              "      <td>Africa</td>\n",
              "    </tr>\n",
              "  </tbody>\n",
              "</table>\n",
              "</div>"
            ],
            "text/plain": [
              "       country  beer_servings  ...  total_litres_of_pure_alcohol  continent\n",
              "0  Afghanistan              0  ...                           0.0       Asia\n",
              "1      Albania             89  ...                           4.9     Europe\n",
              "2      Algeria             25  ...                           0.7     Africa\n",
              "3      Andorra            245  ...                          12.4     Europe\n",
              "4       Angola            217  ...                           5.9     Africa\n",
              "\n",
              "[5 rows x 6 columns]"
            ]
          },
          "metadata": {
            "tags": []
          },
          "execution_count": 126
        }
      ]
    },
    {
      "cell_type": "code",
      "metadata": {
        "id": "DQvRRzSRx3Is",
        "colab": {
          "base_uri": "https://localhost:8080/"
        },
        "outputId": "90e2b1cf-fc6f-4271-bf78-e46b63523c4b"
      },
      "source": [
        "# lets do some math using mapping function\r\n",
        "people = pd.Series([30000, 5000],index=['Albania','Andorra'],name='population')\r\n",
        "people"
      ],
      "execution_count": 127,
      "outputs": [
        {
          "output_type": "execute_result",
          "data": {
            "text/plain": [
              "Albania    30000\n",
              "Andorra     5000\n",
              "Name: population, dtype: int64"
            ]
          },
          "metadata": {
            "tags": []
          },
          "execution_count": 127
        }
      ]
    },
    {
      "cell_type": "code",
      "metadata": {
        "id": "hhEjv87dypO1",
        "colab": {
          "base_uri": "https://localhost:8080/",
          "height": 238
        },
        "outputId": "f70ca86c-2417-4982-d2f2-60ef6f2e35a4"
      },
      "source": [
        "# first set index with country again\r\n",
        "drinks.set_index('country',inplace=True)\r\n",
        "drinks.head()"
      ],
      "execution_count": 128,
      "outputs": [
        {
          "output_type": "execute_result",
          "data": {
            "text/html": [
              "<div>\n",
              "<style scoped>\n",
              "    .dataframe tbody tr th:only-of-type {\n",
              "        vertical-align: middle;\n",
              "    }\n",
              "\n",
              "    .dataframe tbody tr th {\n",
              "        vertical-align: top;\n",
              "    }\n",
              "\n",
              "    .dataframe thead th {\n",
              "        text-align: right;\n",
              "    }\n",
              "</style>\n",
              "<table border=\"1\" class=\"dataframe\">\n",
              "  <thead>\n",
              "    <tr style=\"text-align: right;\">\n",
              "      <th></th>\n",
              "      <th>beer_servings</th>\n",
              "      <th>spirit_servings</th>\n",
              "      <th>wine_servings</th>\n",
              "      <th>total_litres_of_pure_alcohol</th>\n",
              "      <th>continent</th>\n",
              "    </tr>\n",
              "    <tr>\n",
              "      <th>country</th>\n",
              "      <th></th>\n",
              "      <th></th>\n",
              "      <th></th>\n",
              "      <th></th>\n",
              "      <th></th>\n",
              "    </tr>\n",
              "  </thead>\n",
              "  <tbody>\n",
              "    <tr>\n",
              "      <th>Afghanistan</th>\n",
              "      <td>0</td>\n",
              "      <td>0</td>\n",
              "      <td>0</td>\n",
              "      <td>0.0</td>\n",
              "      <td>Asia</td>\n",
              "    </tr>\n",
              "    <tr>\n",
              "      <th>Albania</th>\n",
              "      <td>89</td>\n",
              "      <td>132</td>\n",
              "      <td>54</td>\n",
              "      <td>4.9</td>\n",
              "      <td>Europe</td>\n",
              "    </tr>\n",
              "    <tr>\n",
              "      <th>Algeria</th>\n",
              "      <td>25</td>\n",
              "      <td>0</td>\n",
              "      <td>14</td>\n",
              "      <td>0.7</td>\n",
              "      <td>Africa</td>\n",
              "    </tr>\n",
              "    <tr>\n",
              "      <th>Andorra</th>\n",
              "      <td>245</td>\n",
              "      <td>138</td>\n",
              "      <td>312</td>\n",
              "      <td>12.4</td>\n",
              "      <td>Europe</td>\n",
              "    </tr>\n",
              "    <tr>\n",
              "      <th>Angola</th>\n",
              "      <td>217</td>\n",
              "      <td>57</td>\n",
              "      <td>45</td>\n",
              "      <td>5.9</td>\n",
              "      <td>Africa</td>\n",
              "    </tr>\n",
              "  </tbody>\n",
              "</table>\n",
              "</div>"
            ],
            "text/plain": [
              "             beer_servings  ...  continent\n",
              "country                     ...           \n",
              "Afghanistan              0  ...       Asia\n",
              "Albania                 89  ...     Europe\n",
              "Algeria                 25  ...     Africa\n",
              "Andorra                245  ...     Europe\n",
              "Angola                 217  ...     Africa\n",
              "\n",
              "[5 rows x 5 columns]"
            ]
          },
          "metadata": {
            "tags": []
          },
          "execution_count": 128
        }
      ]
    },
    {
      "cell_type": "code",
      "metadata": {
        "id": "ZR8rNx3dy2BT",
        "colab": {
          "base_uri": "https://localhost:8080/"
        },
        "outputId": "54da51dd-30cd-4f27-fec1-599b28a7a273"
      },
      "source": [
        "# I can just use people series and multiply with df' series\r\n",
        "drinks.beer_servings * people\r\n",
        "# It automatically finds the matching index"
      ],
      "execution_count": 129,
      "outputs": [
        {
          "output_type": "execute_result",
          "data": {
            "text/plain": [
              "Afghanistan          NaN\n",
              "Albania        2670000.0\n",
              "Algeria              NaN\n",
              "Andorra        1225000.0\n",
              "Angola               NaN\n",
              "                 ...    \n",
              "Venezuela            NaN\n",
              "Vietnam              NaN\n",
              "Yemen                NaN\n",
              "Zambia               NaN\n",
              "Zimbabwe             NaN\n",
              "Length: 193, dtype: float64"
            ]
          },
          "metadata": {
            "tags": []
          },
          "execution_count": 129
        }
      ]
    },
    {
      "cell_type": "code",
      "metadata": {
        "id": "SRQF6AqIy_5i",
        "colab": {
          "base_uri": "https://localhost:8080/",
          "height": 206
        },
        "outputId": "e0de3edb-4f02-47ff-e9bd-e54eb9097f96"
      },
      "source": [
        "# we can concat Series in vertical column\r\n",
        "pd.concat([drinks,people],axis=1).head()"
      ],
      "execution_count": 130,
      "outputs": [
        {
          "output_type": "execute_result",
          "data": {
            "text/html": [
              "<div>\n",
              "<style scoped>\n",
              "    .dataframe tbody tr th:only-of-type {\n",
              "        vertical-align: middle;\n",
              "    }\n",
              "\n",
              "    .dataframe tbody tr th {\n",
              "        vertical-align: top;\n",
              "    }\n",
              "\n",
              "    .dataframe thead th {\n",
              "        text-align: right;\n",
              "    }\n",
              "</style>\n",
              "<table border=\"1\" class=\"dataframe\">\n",
              "  <thead>\n",
              "    <tr style=\"text-align: right;\">\n",
              "      <th></th>\n",
              "      <th>beer_servings</th>\n",
              "      <th>spirit_servings</th>\n",
              "      <th>wine_servings</th>\n",
              "      <th>total_litres_of_pure_alcohol</th>\n",
              "      <th>continent</th>\n",
              "      <th>population</th>\n",
              "    </tr>\n",
              "  </thead>\n",
              "  <tbody>\n",
              "    <tr>\n",
              "      <th>Afghanistan</th>\n",
              "      <td>0</td>\n",
              "      <td>0</td>\n",
              "      <td>0</td>\n",
              "      <td>0.0</td>\n",
              "      <td>Asia</td>\n",
              "      <td>NaN</td>\n",
              "    </tr>\n",
              "    <tr>\n",
              "      <th>Albania</th>\n",
              "      <td>89</td>\n",
              "      <td>132</td>\n",
              "      <td>54</td>\n",
              "      <td>4.9</td>\n",
              "      <td>Europe</td>\n",
              "      <td>30000.0</td>\n",
              "    </tr>\n",
              "    <tr>\n",
              "      <th>Algeria</th>\n",
              "      <td>25</td>\n",
              "      <td>0</td>\n",
              "      <td>14</td>\n",
              "      <td>0.7</td>\n",
              "      <td>Africa</td>\n",
              "      <td>NaN</td>\n",
              "    </tr>\n",
              "    <tr>\n",
              "      <th>Andorra</th>\n",
              "      <td>245</td>\n",
              "      <td>138</td>\n",
              "      <td>312</td>\n",
              "      <td>12.4</td>\n",
              "      <td>Europe</td>\n",
              "      <td>5000.0</td>\n",
              "    </tr>\n",
              "    <tr>\n",
              "      <th>Angola</th>\n",
              "      <td>217</td>\n",
              "      <td>57</td>\n",
              "      <td>45</td>\n",
              "      <td>5.9</td>\n",
              "      <td>Africa</td>\n",
              "      <td>NaN</td>\n",
              "    </tr>\n",
              "  </tbody>\n",
              "</table>\n",
              "</div>"
            ],
            "text/plain": [
              "             beer_servings  spirit_servings  ...  continent  population\n",
              "Afghanistan              0                0  ...       Asia         NaN\n",
              "Albania                 89              132  ...     Europe     30000.0\n",
              "Algeria                 25                0  ...     Africa         NaN\n",
              "Andorra                245              138  ...     Europe      5000.0\n",
              "Angola                 217               57  ...     Africa         NaN\n",
              "\n",
              "[5 rows x 6 columns]"
            ]
          },
          "metadata": {
            "tags": []
          },
          "execution_count": 130
        }
      ]
    },
    {
      "cell_type": "markdown",
      "metadata": {
        "id": "8eU-ko6Jzhuk"
      },
      "source": [
        "**How do I select multiple rows and columns from a pandas DataFrame?**"
      ]
    },
    {
      "cell_type": "code",
      "metadata": {
        "id": "6hyBfOWzzXpN",
        "colab": {
          "base_uri": "https://localhost:8080/",
          "height": 206
        },
        "outputId": "1771dc1f-fb76-4ff4-b0cf-a151359be149"
      },
      "source": [
        "ufo = pd.read_csv('http://bit.ly/uforeports')\r\n",
        "ufo.head()"
      ],
      "execution_count": 131,
      "outputs": [
        {
          "output_type": "execute_result",
          "data": {
            "text/html": [
              "<div>\n",
              "<style scoped>\n",
              "    .dataframe tbody tr th:only-of-type {\n",
              "        vertical-align: middle;\n",
              "    }\n",
              "\n",
              "    .dataframe tbody tr th {\n",
              "        vertical-align: top;\n",
              "    }\n",
              "\n",
              "    .dataframe thead th {\n",
              "        text-align: right;\n",
              "    }\n",
              "</style>\n",
              "<table border=\"1\" class=\"dataframe\">\n",
              "  <thead>\n",
              "    <tr style=\"text-align: right;\">\n",
              "      <th></th>\n",
              "      <th>City</th>\n",
              "      <th>Colors Reported</th>\n",
              "      <th>Shape Reported</th>\n",
              "      <th>State</th>\n",
              "      <th>Time</th>\n",
              "    </tr>\n",
              "  </thead>\n",
              "  <tbody>\n",
              "    <tr>\n",
              "      <th>0</th>\n",
              "      <td>Ithaca</td>\n",
              "      <td>NaN</td>\n",
              "      <td>TRIANGLE</td>\n",
              "      <td>NY</td>\n",
              "      <td>6/1/1930 22:00</td>\n",
              "    </tr>\n",
              "    <tr>\n",
              "      <th>1</th>\n",
              "      <td>Willingboro</td>\n",
              "      <td>NaN</td>\n",
              "      <td>OTHER</td>\n",
              "      <td>NJ</td>\n",
              "      <td>6/30/1930 20:00</td>\n",
              "    </tr>\n",
              "    <tr>\n",
              "      <th>2</th>\n",
              "      <td>Holyoke</td>\n",
              "      <td>NaN</td>\n",
              "      <td>OVAL</td>\n",
              "      <td>CO</td>\n",
              "      <td>2/15/1931 14:00</td>\n",
              "    </tr>\n",
              "    <tr>\n",
              "      <th>3</th>\n",
              "      <td>Abilene</td>\n",
              "      <td>NaN</td>\n",
              "      <td>DISK</td>\n",
              "      <td>KS</td>\n",
              "      <td>6/1/1931 13:00</td>\n",
              "    </tr>\n",
              "    <tr>\n",
              "      <th>4</th>\n",
              "      <td>New York Worlds Fair</td>\n",
              "      <td>NaN</td>\n",
              "      <td>LIGHT</td>\n",
              "      <td>NY</td>\n",
              "      <td>4/18/1933 19:00</td>\n",
              "    </tr>\n",
              "  </tbody>\n",
              "</table>\n",
              "</div>"
            ],
            "text/plain": [
              "                   City Colors Reported Shape Reported State             Time\n",
              "0                Ithaca             NaN       TRIANGLE    NY   6/1/1930 22:00\n",
              "1           Willingboro             NaN          OTHER    NJ  6/30/1930 20:00\n",
              "2               Holyoke             NaN           OVAL    CO  2/15/1931 14:00\n",
              "3               Abilene             NaN           DISK    KS   6/1/1931 13:00\n",
              "4  New York Worlds Fair             NaN          LIGHT    NY  4/18/1933 19:00"
            ]
          },
          "metadata": {
            "tags": []
          },
          "execution_count": 131
        }
      ]
    },
    {
      "cell_type": "code",
      "metadata": {
        "id": "Sfu5zRikzpJO",
        "colab": {
          "base_uri": "https://localhost:8080/"
        },
        "outputId": "88a701fb-ae2e-47db-9b55-e6fe9a2dfaad"
      },
      "source": [
        "ufo.loc[0,:]\r\n",
        "# zeroth row, all columns"
      ],
      "execution_count": 132,
      "outputs": [
        {
          "output_type": "execute_result",
          "data": {
            "text/plain": [
              "City                       Ithaca\n",
              "Colors Reported               NaN\n",
              "Shape Reported           TRIANGLE\n",
              "State                          NY\n",
              "Time               6/1/1930 22:00\n",
              "Name: 0, dtype: object"
            ]
          },
          "metadata": {
            "tags": []
          },
          "execution_count": 132
        }
      ]
    },
    {
      "cell_type": "code",
      "metadata": {
        "id": "1BrDh_Nnzw6j",
        "colab": {
          "base_uri": "https://localhost:8080/",
          "height": 143
        },
        "outputId": "189c94af-9faf-4acd-ec06-2ce83216c79a"
      },
      "source": [
        "ufo.loc[[0,2,3],:]\r\n",
        "# 0, 2,3 rows and all columns"
      ],
      "execution_count": 133,
      "outputs": [
        {
          "output_type": "execute_result",
          "data": {
            "text/html": [
              "<div>\n",
              "<style scoped>\n",
              "    .dataframe tbody tr th:only-of-type {\n",
              "        vertical-align: middle;\n",
              "    }\n",
              "\n",
              "    .dataframe tbody tr th {\n",
              "        vertical-align: top;\n",
              "    }\n",
              "\n",
              "    .dataframe thead th {\n",
              "        text-align: right;\n",
              "    }\n",
              "</style>\n",
              "<table border=\"1\" class=\"dataframe\">\n",
              "  <thead>\n",
              "    <tr style=\"text-align: right;\">\n",
              "      <th></th>\n",
              "      <th>City</th>\n",
              "      <th>Colors Reported</th>\n",
              "      <th>Shape Reported</th>\n",
              "      <th>State</th>\n",
              "      <th>Time</th>\n",
              "    </tr>\n",
              "  </thead>\n",
              "  <tbody>\n",
              "    <tr>\n",
              "      <th>0</th>\n",
              "      <td>Ithaca</td>\n",
              "      <td>NaN</td>\n",
              "      <td>TRIANGLE</td>\n",
              "      <td>NY</td>\n",
              "      <td>6/1/1930 22:00</td>\n",
              "    </tr>\n",
              "    <tr>\n",
              "      <th>2</th>\n",
              "      <td>Holyoke</td>\n",
              "      <td>NaN</td>\n",
              "      <td>OVAL</td>\n",
              "      <td>CO</td>\n",
              "      <td>2/15/1931 14:00</td>\n",
              "    </tr>\n",
              "    <tr>\n",
              "      <th>3</th>\n",
              "      <td>Abilene</td>\n",
              "      <td>NaN</td>\n",
              "      <td>DISK</td>\n",
              "      <td>KS</td>\n",
              "      <td>6/1/1931 13:00</td>\n",
              "    </tr>\n",
              "  </tbody>\n",
              "</table>\n",
              "</div>"
            ],
            "text/plain": [
              "      City Colors Reported Shape Reported State             Time\n",
              "0   Ithaca             NaN       TRIANGLE    NY   6/1/1930 22:00\n",
              "2  Holyoke             NaN           OVAL    CO  2/15/1931 14:00\n",
              "3  Abilene             NaN           DISK    KS   6/1/1931 13:00"
            ]
          },
          "metadata": {
            "tags": []
          },
          "execution_count": 133
        }
      ]
    },
    {
      "cell_type": "code",
      "metadata": {
        "id": "mzY1NmmTz4ek",
        "colab": {
          "base_uri": "https://localhost:8080/",
          "height": 143
        },
        "outputId": "a24b687a-5817-479f-88a4-298ffa850e80"
      },
      "source": [
        "ufo.loc[0:2,:]"
      ],
      "execution_count": 134,
      "outputs": [
        {
          "output_type": "execute_result",
          "data": {
            "text/html": [
              "<div>\n",
              "<style scoped>\n",
              "    .dataframe tbody tr th:only-of-type {\n",
              "        vertical-align: middle;\n",
              "    }\n",
              "\n",
              "    .dataframe tbody tr th {\n",
              "        vertical-align: top;\n",
              "    }\n",
              "\n",
              "    .dataframe thead th {\n",
              "        text-align: right;\n",
              "    }\n",
              "</style>\n",
              "<table border=\"1\" class=\"dataframe\">\n",
              "  <thead>\n",
              "    <tr style=\"text-align: right;\">\n",
              "      <th></th>\n",
              "      <th>City</th>\n",
              "      <th>Colors Reported</th>\n",
              "      <th>Shape Reported</th>\n",
              "      <th>State</th>\n",
              "      <th>Time</th>\n",
              "    </tr>\n",
              "  </thead>\n",
              "  <tbody>\n",
              "    <tr>\n",
              "      <th>0</th>\n",
              "      <td>Ithaca</td>\n",
              "      <td>NaN</td>\n",
              "      <td>TRIANGLE</td>\n",
              "      <td>NY</td>\n",
              "      <td>6/1/1930 22:00</td>\n",
              "    </tr>\n",
              "    <tr>\n",
              "      <th>1</th>\n",
              "      <td>Willingboro</td>\n",
              "      <td>NaN</td>\n",
              "      <td>OTHER</td>\n",
              "      <td>NJ</td>\n",
              "      <td>6/30/1930 20:00</td>\n",
              "    </tr>\n",
              "    <tr>\n",
              "      <th>2</th>\n",
              "      <td>Holyoke</td>\n",
              "      <td>NaN</td>\n",
              "      <td>OVAL</td>\n",
              "      <td>CO</td>\n",
              "      <td>2/15/1931 14:00</td>\n",
              "    </tr>\n",
              "  </tbody>\n",
              "</table>\n",
              "</div>"
            ],
            "text/plain": [
              "          City Colors Reported Shape Reported State             Time\n",
              "0       Ithaca             NaN       TRIANGLE    NY   6/1/1930 22:00\n",
              "1  Willingboro             NaN          OTHER    NJ  6/30/1930 20:00\n",
              "2      Holyoke             NaN           OVAL    CO  2/15/1931 14:00"
            ]
          },
          "metadata": {
            "tags": []
          },
          "execution_count": 134
        }
      ]
    },
    {
      "cell_type": "code",
      "metadata": {
        "id": "jaA4fVUxz_Ir",
        "colab": {
          "base_uri": "https://localhost:8080/"
        },
        "outputId": "2c6beb4e-9b89-4b23-dc9c-a9a88ea11f42"
      },
      "source": [
        "# column selection\r\n",
        "ufo.loc[:,'City']"
      ],
      "execution_count": 135,
      "outputs": [
        {
          "output_type": "execute_result",
          "data": {
            "text/plain": [
              "0                      Ithaca\n",
              "1                 Willingboro\n",
              "2                     Holyoke\n",
              "3                     Abilene\n",
              "4        New York Worlds Fair\n",
              "                 ...         \n",
              "18236              Grant Park\n",
              "18237             Spirit Lake\n",
              "18238             Eagle River\n",
              "18239             Eagle River\n",
              "18240                    Ybor\n",
              "Name: City, Length: 18241, dtype: object"
            ]
          },
          "metadata": {
            "tags": []
          },
          "execution_count": 135
        }
      ]
    },
    {
      "cell_type": "code",
      "metadata": {
        "id": "EC8wtrrI0FpC",
        "colab": {
          "base_uri": "https://localhost:8080/",
          "height": 424
        },
        "outputId": "897aca7b-60ab-4512-9817-46e41064d58d"
      },
      "source": [
        "ufo.loc[:,['City','State']]"
      ],
      "execution_count": 136,
      "outputs": [
        {
          "output_type": "execute_result",
          "data": {
            "text/html": [
              "<div>\n",
              "<style scoped>\n",
              "    .dataframe tbody tr th:only-of-type {\n",
              "        vertical-align: middle;\n",
              "    }\n",
              "\n",
              "    .dataframe tbody tr th {\n",
              "        vertical-align: top;\n",
              "    }\n",
              "\n",
              "    .dataframe thead th {\n",
              "        text-align: right;\n",
              "    }\n",
              "</style>\n",
              "<table border=\"1\" class=\"dataframe\">\n",
              "  <thead>\n",
              "    <tr style=\"text-align: right;\">\n",
              "      <th></th>\n",
              "      <th>City</th>\n",
              "      <th>State</th>\n",
              "    </tr>\n",
              "  </thead>\n",
              "  <tbody>\n",
              "    <tr>\n",
              "      <th>0</th>\n",
              "      <td>Ithaca</td>\n",
              "      <td>NY</td>\n",
              "    </tr>\n",
              "    <tr>\n",
              "      <th>1</th>\n",
              "      <td>Willingboro</td>\n",
              "      <td>NJ</td>\n",
              "    </tr>\n",
              "    <tr>\n",
              "      <th>2</th>\n",
              "      <td>Holyoke</td>\n",
              "      <td>CO</td>\n",
              "    </tr>\n",
              "    <tr>\n",
              "      <th>3</th>\n",
              "      <td>Abilene</td>\n",
              "      <td>KS</td>\n",
              "    </tr>\n",
              "    <tr>\n",
              "      <th>4</th>\n",
              "      <td>New York Worlds Fair</td>\n",
              "      <td>NY</td>\n",
              "    </tr>\n",
              "    <tr>\n",
              "      <th>...</th>\n",
              "      <td>...</td>\n",
              "      <td>...</td>\n",
              "    </tr>\n",
              "    <tr>\n",
              "      <th>18236</th>\n",
              "      <td>Grant Park</td>\n",
              "      <td>IL</td>\n",
              "    </tr>\n",
              "    <tr>\n",
              "      <th>18237</th>\n",
              "      <td>Spirit Lake</td>\n",
              "      <td>IA</td>\n",
              "    </tr>\n",
              "    <tr>\n",
              "      <th>18238</th>\n",
              "      <td>Eagle River</td>\n",
              "      <td>WI</td>\n",
              "    </tr>\n",
              "    <tr>\n",
              "      <th>18239</th>\n",
              "      <td>Eagle River</td>\n",
              "      <td>WI</td>\n",
              "    </tr>\n",
              "    <tr>\n",
              "      <th>18240</th>\n",
              "      <td>Ybor</td>\n",
              "      <td>FL</td>\n",
              "    </tr>\n",
              "  </tbody>\n",
              "</table>\n",
              "<p>18241 rows × 2 columns</p>\n",
              "</div>"
            ],
            "text/plain": [
              "                       City State\n",
              "0                    Ithaca    NY\n",
              "1               Willingboro    NJ\n",
              "2                   Holyoke    CO\n",
              "3                   Abilene    KS\n",
              "4      New York Worlds Fair    NY\n",
              "...                     ...   ...\n",
              "18236            Grant Park    IL\n",
              "18237           Spirit Lake    IA\n",
              "18238           Eagle River    WI\n",
              "18239           Eagle River    WI\n",
              "18240                  Ybor    FL\n",
              "\n",
              "[18241 rows x 2 columns]"
            ]
          },
          "metadata": {
            "tags": []
          },
          "execution_count": 136
        }
      ]
    },
    {
      "cell_type": "code",
      "metadata": {
        "id": "P8YgtZg00Uu-",
        "colab": {
          "base_uri": "https://localhost:8080/",
          "height": 424
        },
        "outputId": "7608cdd2-a02c-4299-8760-8aa4b7323cfe"
      },
      "source": [
        "ufo.loc[:,'City':'State']"
      ],
      "execution_count": 137,
      "outputs": [
        {
          "output_type": "execute_result",
          "data": {
            "text/html": [
              "<div>\n",
              "<style scoped>\n",
              "    .dataframe tbody tr th:only-of-type {\n",
              "        vertical-align: middle;\n",
              "    }\n",
              "\n",
              "    .dataframe tbody tr th {\n",
              "        vertical-align: top;\n",
              "    }\n",
              "\n",
              "    .dataframe thead th {\n",
              "        text-align: right;\n",
              "    }\n",
              "</style>\n",
              "<table border=\"1\" class=\"dataframe\">\n",
              "  <thead>\n",
              "    <tr style=\"text-align: right;\">\n",
              "      <th></th>\n",
              "      <th>City</th>\n",
              "      <th>Colors Reported</th>\n",
              "      <th>Shape Reported</th>\n",
              "      <th>State</th>\n",
              "    </tr>\n",
              "  </thead>\n",
              "  <tbody>\n",
              "    <tr>\n",
              "      <th>0</th>\n",
              "      <td>Ithaca</td>\n",
              "      <td>NaN</td>\n",
              "      <td>TRIANGLE</td>\n",
              "      <td>NY</td>\n",
              "    </tr>\n",
              "    <tr>\n",
              "      <th>1</th>\n",
              "      <td>Willingboro</td>\n",
              "      <td>NaN</td>\n",
              "      <td>OTHER</td>\n",
              "      <td>NJ</td>\n",
              "    </tr>\n",
              "    <tr>\n",
              "      <th>2</th>\n",
              "      <td>Holyoke</td>\n",
              "      <td>NaN</td>\n",
              "      <td>OVAL</td>\n",
              "      <td>CO</td>\n",
              "    </tr>\n",
              "    <tr>\n",
              "      <th>3</th>\n",
              "      <td>Abilene</td>\n",
              "      <td>NaN</td>\n",
              "      <td>DISK</td>\n",
              "      <td>KS</td>\n",
              "    </tr>\n",
              "    <tr>\n",
              "      <th>4</th>\n",
              "      <td>New York Worlds Fair</td>\n",
              "      <td>NaN</td>\n",
              "      <td>LIGHT</td>\n",
              "      <td>NY</td>\n",
              "    </tr>\n",
              "    <tr>\n",
              "      <th>...</th>\n",
              "      <td>...</td>\n",
              "      <td>...</td>\n",
              "      <td>...</td>\n",
              "      <td>...</td>\n",
              "    </tr>\n",
              "    <tr>\n",
              "      <th>18236</th>\n",
              "      <td>Grant Park</td>\n",
              "      <td>NaN</td>\n",
              "      <td>TRIANGLE</td>\n",
              "      <td>IL</td>\n",
              "    </tr>\n",
              "    <tr>\n",
              "      <th>18237</th>\n",
              "      <td>Spirit Lake</td>\n",
              "      <td>NaN</td>\n",
              "      <td>DISK</td>\n",
              "      <td>IA</td>\n",
              "    </tr>\n",
              "    <tr>\n",
              "      <th>18238</th>\n",
              "      <td>Eagle River</td>\n",
              "      <td>NaN</td>\n",
              "      <td>NaN</td>\n",
              "      <td>WI</td>\n",
              "    </tr>\n",
              "    <tr>\n",
              "      <th>18239</th>\n",
              "      <td>Eagle River</td>\n",
              "      <td>RED</td>\n",
              "      <td>LIGHT</td>\n",
              "      <td>WI</td>\n",
              "    </tr>\n",
              "    <tr>\n",
              "      <th>18240</th>\n",
              "      <td>Ybor</td>\n",
              "      <td>NaN</td>\n",
              "      <td>OVAL</td>\n",
              "      <td>FL</td>\n",
              "    </tr>\n",
              "  </tbody>\n",
              "</table>\n",
              "<p>18241 rows × 4 columns</p>\n",
              "</div>"
            ],
            "text/plain": [
              "                       City Colors Reported Shape Reported State\n",
              "0                    Ithaca             NaN       TRIANGLE    NY\n",
              "1               Willingboro             NaN          OTHER    NJ\n",
              "2                   Holyoke             NaN           OVAL    CO\n",
              "3                   Abilene             NaN           DISK    KS\n",
              "4      New York Worlds Fair             NaN          LIGHT    NY\n",
              "...                     ...             ...            ...   ...\n",
              "18236            Grant Park             NaN       TRIANGLE    IL\n",
              "18237           Spirit Lake             NaN           DISK    IA\n",
              "18238           Eagle River             NaN            NaN    WI\n",
              "18239           Eagle River             RED          LIGHT    WI\n",
              "18240                  Ybor             NaN           OVAL    FL\n",
              "\n",
              "[18241 rows x 4 columns]"
            ]
          },
          "metadata": {
            "tags": []
          },
          "execution_count": 137
        }
      ]
    },
    {
      "cell_type": "code",
      "metadata": {
        "id": "JbtV9Riw0YIQ",
        "colab": {
          "base_uri": "https://localhost:8080/",
          "height": 143
        },
        "outputId": "b6bb730b-32da-4d95-8dfe-cc50c89f664c"
      },
      "source": [
        "ufo.loc[0:2,'City':'State']"
      ],
      "execution_count": 138,
      "outputs": [
        {
          "output_type": "execute_result",
          "data": {
            "text/html": [
              "<div>\n",
              "<style scoped>\n",
              "    .dataframe tbody tr th:only-of-type {\n",
              "        vertical-align: middle;\n",
              "    }\n",
              "\n",
              "    .dataframe tbody tr th {\n",
              "        vertical-align: top;\n",
              "    }\n",
              "\n",
              "    .dataframe thead th {\n",
              "        text-align: right;\n",
              "    }\n",
              "</style>\n",
              "<table border=\"1\" class=\"dataframe\">\n",
              "  <thead>\n",
              "    <tr style=\"text-align: right;\">\n",
              "      <th></th>\n",
              "      <th>City</th>\n",
              "      <th>Colors Reported</th>\n",
              "      <th>Shape Reported</th>\n",
              "      <th>State</th>\n",
              "    </tr>\n",
              "  </thead>\n",
              "  <tbody>\n",
              "    <tr>\n",
              "      <th>0</th>\n",
              "      <td>Ithaca</td>\n",
              "      <td>NaN</td>\n",
              "      <td>TRIANGLE</td>\n",
              "      <td>NY</td>\n",
              "    </tr>\n",
              "    <tr>\n",
              "      <th>1</th>\n",
              "      <td>Willingboro</td>\n",
              "      <td>NaN</td>\n",
              "      <td>OTHER</td>\n",
              "      <td>NJ</td>\n",
              "    </tr>\n",
              "    <tr>\n",
              "      <th>2</th>\n",
              "      <td>Holyoke</td>\n",
              "      <td>NaN</td>\n",
              "      <td>OVAL</td>\n",
              "      <td>CO</td>\n",
              "    </tr>\n",
              "  </tbody>\n",
              "</table>\n",
              "</div>"
            ],
            "text/plain": [
              "          City Colors Reported Shape Reported State\n",
              "0       Ithaca             NaN       TRIANGLE    NY\n",
              "1  Willingboro             NaN          OTHER    NJ\n",
              "2      Holyoke             NaN           OVAL    CO"
            ]
          },
          "metadata": {
            "tags": []
          },
          "execution_count": 138
        }
      ]
    },
    {
      "cell_type": "code",
      "metadata": {
        "id": "W6t7nGQC0a35",
        "colab": {
          "base_uri": "https://localhost:8080/",
          "height": 457
        },
        "outputId": "62e1fef8-38c3-49b5-ba1d-c8bc8bd3f4af"
      },
      "source": [
        "# we can even use mask using loc\r\n",
        "ufo.loc[ufo.City=='Oakland',:]"
      ],
      "execution_count": 139,
      "outputs": [
        {
          "output_type": "execute_result",
          "data": {
            "text/html": [
              "<div>\n",
              "<style scoped>\n",
              "    .dataframe tbody tr th:only-of-type {\n",
              "        vertical-align: middle;\n",
              "    }\n",
              "\n",
              "    .dataframe tbody tr th {\n",
              "        vertical-align: top;\n",
              "    }\n",
              "\n",
              "    .dataframe thead th {\n",
              "        text-align: right;\n",
              "    }\n",
              "</style>\n",
              "<table border=\"1\" class=\"dataframe\">\n",
              "  <thead>\n",
              "    <tr style=\"text-align: right;\">\n",
              "      <th></th>\n",
              "      <th>City</th>\n",
              "      <th>Colors Reported</th>\n",
              "      <th>Shape Reported</th>\n",
              "      <th>State</th>\n",
              "      <th>Time</th>\n",
              "    </tr>\n",
              "  </thead>\n",
              "  <tbody>\n",
              "    <tr>\n",
              "      <th>1694</th>\n",
              "      <td>Oakland</td>\n",
              "      <td>NaN</td>\n",
              "      <td>CIGAR</td>\n",
              "      <td>CA</td>\n",
              "      <td>7/21/1968 14:00</td>\n",
              "    </tr>\n",
              "    <tr>\n",
              "      <th>2144</th>\n",
              "      <td>Oakland</td>\n",
              "      <td>NaN</td>\n",
              "      <td>DISK</td>\n",
              "      <td>CA</td>\n",
              "      <td>8/19/1971 0:00</td>\n",
              "    </tr>\n",
              "    <tr>\n",
              "      <th>4686</th>\n",
              "      <td>Oakland</td>\n",
              "      <td>NaN</td>\n",
              "      <td>LIGHT</td>\n",
              "      <td>MD</td>\n",
              "      <td>6/1/1982 0:00</td>\n",
              "    </tr>\n",
              "    <tr>\n",
              "      <th>7293</th>\n",
              "      <td>Oakland</td>\n",
              "      <td>NaN</td>\n",
              "      <td>LIGHT</td>\n",
              "      <td>CA</td>\n",
              "      <td>3/28/1994 17:00</td>\n",
              "    </tr>\n",
              "    <tr>\n",
              "      <th>8488</th>\n",
              "      <td>Oakland</td>\n",
              "      <td>NaN</td>\n",
              "      <td>NaN</td>\n",
              "      <td>CA</td>\n",
              "      <td>8/10/1995 21:45</td>\n",
              "    </tr>\n",
              "    <tr>\n",
              "      <th>8768</th>\n",
              "      <td>Oakland</td>\n",
              "      <td>NaN</td>\n",
              "      <td>NaN</td>\n",
              "      <td>CA</td>\n",
              "      <td>10/10/1995 22:40</td>\n",
              "    </tr>\n",
              "    <tr>\n",
              "      <th>10816</th>\n",
              "      <td>Oakland</td>\n",
              "      <td>NaN</td>\n",
              "      <td>LIGHT</td>\n",
              "      <td>OR</td>\n",
              "      <td>10/1/1997 21:30</td>\n",
              "    </tr>\n",
              "    <tr>\n",
              "      <th>10948</th>\n",
              "      <td>Oakland</td>\n",
              "      <td>NaN</td>\n",
              "      <td>DISK</td>\n",
              "      <td>CA</td>\n",
              "      <td>11/14/1997 19:55</td>\n",
              "    </tr>\n",
              "    <tr>\n",
              "      <th>11045</th>\n",
              "      <td>Oakland</td>\n",
              "      <td>NaN</td>\n",
              "      <td>TRIANGLE</td>\n",
              "      <td>CA</td>\n",
              "      <td>12/10/1997 1:30</td>\n",
              "    </tr>\n",
              "    <tr>\n",
              "      <th>12322</th>\n",
              "      <td>Oakland</td>\n",
              "      <td>NaN</td>\n",
              "      <td>FIREBALL</td>\n",
              "      <td>CA</td>\n",
              "      <td>10/9/1998 19:40</td>\n",
              "    </tr>\n",
              "    <tr>\n",
              "      <th>12941</th>\n",
              "      <td>Oakland</td>\n",
              "      <td>NaN</td>\n",
              "      <td>CYLINDER</td>\n",
              "      <td>CA</td>\n",
              "      <td>1/23/1999 21:30</td>\n",
              "    </tr>\n",
              "    <tr>\n",
              "      <th>16803</th>\n",
              "      <td>Oakland</td>\n",
              "      <td>NaN</td>\n",
              "      <td>TRIANGLE</td>\n",
              "      <td>MD</td>\n",
              "      <td>7/4/2000 23:00</td>\n",
              "    </tr>\n",
              "    <tr>\n",
              "      <th>17322</th>\n",
              "      <td>Oakland</td>\n",
              "      <td>NaN</td>\n",
              "      <td>CYLINDER</td>\n",
              "      <td>CA</td>\n",
              "      <td>9/1/2000 21:35</td>\n",
              "    </tr>\n",
              "  </tbody>\n",
              "</table>\n",
              "</div>"
            ],
            "text/plain": [
              "          City Colors Reported Shape Reported State              Time\n",
              "1694   Oakland             NaN          CIGAR    CA   7/21/1968 14:00\n",
              "2144   Oakland             NaN           DISK    CA    8/19/1971 0:00\n",
              "4686   Oakland             NaN          LIGHT    MD     6/1/1982 0:00\n",
              "7293   Oakland             NaN          LIGHT    CA   3/28/1994 17:00\n",
              "8488   Oakland             NaN            NaN    CA   8/10/1995 21:45\n",
              "8768   Oakland             NaN            NaN    CA  10/10/1995 22:40\n",
              "10816  Oakland             NaN          LIGHT    OR   10/1/1997 21:30\n",
              "10948  Oakland             NaN           DISK    CA  11/14/1997 19:55\n",
              "11045  Oakland             NaN       TRIANGLE    CA   12/10/1997 1:30\n",
              "12322  Oakland             NaN       FIREBALL    CA   10/9/1998 19:40\n",
              "12941  Oakland             NaN       CYLINDER    CA   1/23/1999 21:30\n",
              "16803  Oakland             NaN       TRIANGLE    MD    7/4/2000 23:00\n",
              "17322  Oakland             NaN       CYLINDER    CA    9/1/2000 21:35"
            ]
          },
          "metadata": {
            "tags": []
          },
          "execution_count": 139
        }
      ]
    },
    {
      "cell_type": "code",
      "metadata": {
        "id": "emEM5p1t0kZx",
        "colab": {
          "base_uri": "https://localhost:8080/"
        },
        "outputId": "34f406bc-8da1-462a-de9d-6cf74c628cf0"
      },
      "source": [
        "ufo.loc[ufo.City=='Oakland','State']"
      ],
      "execution_count": 140,
      "outputs": [
        {
          "output_type": "execute_result",
          "data": {
            "text/plain": [
              "1694     CA\n",
              "2144     CA\n",
              "4686     MD\n",
              "7293     CA\n",
              "8488     CA\n",
              "8768     CA\n",
              "10816    OR\n",
              "10948    CA\n",
              "11045    CA\n",
              "12322    CA\n",
              "12941    CA\n",
              "16803    MD\n",
              "17322    CA\n",
              "Name: State, dtype: object"
            ]
          },
          "metadata": {
            "tags": []
          },
          "execution_count": 140
        }
      ]
    },
    {
      "cell_type": "markdown",
      "metadata": {
        "id": "mXamjRsm01zI"
      },
      "source": [
        "**How to use pandas for Kaggle submission?**"
      ]
    },
    {
      "cell_type": "code",
      "metadata": {
        "id": "I8hwIvak0pgB",
        "colab": {
          "base_uri": "https://localhost:8080/",
          "height": 206
        },
        "outputId": "d89fe03b-9a90-4aba-dfce-b76bade3dbec"
      },
      "source": [
        "train = pd.read_csv('http://bit.ly/kaggletrain')\r\n",
        "train.head()\r\n",
        "# titanic training datset from kaggle"
      ],
      "execution_count": 141,
      "outputs": [
        {
          "output_type": "execute_result",
          "data": {
            "text/html": [
              "<div>\n",
              "<style scoped>\n",
              "    .dataframe tbody tr th:only-of-type {\n",
              "        vertical-align: middle;\n",
              "    }\n",
              "\n",
              "    .dataframe tbody tr th {\n",
              "        vertical-align: top;\n",
              "    }\n",
              "\n",
              "    .dataframe thead th {\n",
              "        text-align: right;\n",
              "    }\n",
              "</style>\n",
              "<table border=\"1\" class=\"dataframe\">\n",
              "  <thead>\n",
              "    <tr style=\"text-align: right;\">\n",
              "      <th></th>\n",
              "      <th>PassengerId</th>\n",
              "      <th>Survived</th>\n",
              "      <th>Pclass</th>\n",
              "      <th>Name</th>\n",
              "      <th>Sex</th>\n",
              "      <th>Age</th>\n",
              "      <th>SibSp</th>\n",
              "      <th>Parch</th>\n",
              "      <th>Ticket</th>\n",
              "      <th>Fare</th>\n",
              "      <th>Cabin</th>\n",
              "      <th>Embarked</th>\n",
              "    </tr>\n",
              "  </thead>\n",
              "  <tbody>\n",
              "    <tr>\n",
              "      <th>0</th>\n",
              "      <td>1</td>\n",
              "      <td>0</td>\n",
              "      <td>3</td>\n",
              "      <td>Braund, Mr. Owen Harris</td>\n",
              "      <td>male</td>\n",
              "      <td>22.0</td>\n",
              "      <td>1</td>\n",
              "      <td>0</td>\n",
              "      <td>A/5 21171</td>\n",
              "      <td>7.2500</td>\n",
              "      <td>NaN</td>\n",
              "      <td>S</td>\n",
              "    </tr>\n",
              "    <tr>\n",
              "      <th>1</th>\n",
              "      <td>2</td>\n",
              "      <td>1</td>\n",
              "      <td>1</td>\n",
              "      <td>Cumings, Mrs. John Bradley (Florence Briggs Th...</td>\n",
              "      <td>female</td>\n",
              "      <td>38.0</td>\n",
              "      <td>1</td>\n",
              "      <td>0</td>\n",
              "      <td>PC 17599</td>\n",
              "      <td>71.2833</td>\n",
              "      <td>C85</td>\n",
              "      <td>C</td>\n",
              "    </tr>\n",
              "    <tr>\n",
              "      <th>2</th>\n",
              "      <td>3</td>\n",
              "      <td>1</td>\n",
              "      <td>3</td>\n",
              "      <td>Heikkinen, Miss. Laina</td>\n",
              "      <td>female</td>\n",
              "      <td>26.0</td>\n",
              "      <td>0</td>\n",
              "      <td>0</td>\n",
              "      <td>STON/O2. 3101282</td>\n",
              "      <td>7.9250</td>\n",
              "      <td>NaN</td>\n",
              "      <td>S</td>\n",
              "    </tr>\n",
              "    <tr>\n",
              "      <th>3</th>\n",
              "      <td>4</td>\n",
              "      <td>1</td>\n",
              "      <td>1</td>\n",
              "      <td>Futrelle, Mrs. Jacques Heath (Lily May Peel)</td>\n",
              "      <td>female</td>\n",
              "      <td>35.0</td>\n",
              "      <td>1</td>\n",
              "      <td>0</td>\n",
              "      <td>113803</td>\n",
              "      <td>53.1000</td>\n",
              "      <td>C123</td>\n",
              "      <td>S</td>\n",
              "    </tr>\n",
              "    <tr>\n",
              "      <th>4</th>\n",
              "      <td>5</td>\n",
              "      <td>0</td>\n",
              "      <td>3</td>\n",
              "      <td>Allen, Mr. William Henry</td>\n",
              "      <td>male</td>\n",
              "      <td>35.0</td>\n",
              "      <td>0</td>\n",
              "      <td>0</td>\n",
              "      <td>373450</td>\n",
              "      <td>8.0500</td>\n",
              "      <td>NaN</td>\n",
              "      <td>S</td>\n",
              "    </tr>\n",
              "  </tbody>\n",
              "</table>\n",
              "</div>"
            ],
            "text/plain": [
              "   PassengerId  Survived  Pclass  ...     Fare Cabin  Embarked\n",
              "0            1         0       3  ...   7.2500   NaN         S\n",
              "1            2         1       1  ...  71.2833   C85         C\n",
              "2            3         1       3  ...   7.9250   NaN         S\n",
              "3            4         1       1  ...  53.1000  C123         S\n",
              "4            5         0       3  ...   8.0500   NaN         S\n",
              "\n",
              "[5 rows x 12 columns]"
            ]
          },
          "metadata": {
            "tags": []
          },
          "execution_count": 141
        }
      ]
    },
    {
      "cell_type": "code",
      "metadata": {
        "id": "5p3wtIRD1Fu-"
      },
      "source": [
        "# lets make our feature columns\r\n",
        "feature_cols = ['Pclass', 'Parch']"
      ],
      "execution_count": 142,
      "outputs": []
    },
    {
      "cell_type": "code",
      "metadata": {
        "id": "yhcX0toU1eVn"
      },
      "source": [
        "X = train.loc[:,feature_cols]"
      ],
      "execution_count": 143,
      "outputs": []
    },
    {
      "cell_type": "code",
      "metadata": {
        "id": "_j9zK-g11kgk",
        "colab": {
          "base_uri": "https://localhost:8080/"
        },
        "outputId": "1f93fb2f-68b6-4b22-facf-dbd82e2d3ec2"
      },
      "source": [
        "X.shape"
      ],
      "execution_count": 144,
      "outputs": [
        {
          "output_type": "execute_result",
          "data": {
            "text/plain": [
              "(891, 2)"
            ]
          },
          "metadata": {
            "tags": []
          },
          "execution_count": 144
        }
      ]
    },
    {
      "cell_type": "code",
      "metadata": {
        "id": "AhlAJfkf2Gq9"
      },
      "source": [
        "y = train.Survived"
      ],
      "execution_count": 145,
      "outputs": []
    },
    {
      "cell_type": "code",
      "metadata": {
        "id": "KQY3RVX42LQt",
        "colab": {
          "base_uri": "https://localhost:8080/"
        },
        "outputId": "f49ae47c-0967-4238-f765-3694b596f27b"
      },
      "source": [
        "y.shape"
      ],
      "execution_count": 146,
      "outputs": [
        {
          "output_type": "execute_result",
          "data": {
            "text/plain": [
              "(891,)"
            ]
          },
          "metadata": {
            "tags": []
          },
          "execution_count": 146
        }
      ]
    },
    {
      "cell_type": "code",
      "metadata": {
        "id": "X8nxzXHQ2MO6",
        "colab": {
          "base_uri": "https://localhost:8080/"
        },
        "outputId": "86412056-9aaf-4a01-c8ff-7ab23a241caa"
      },
      "source": [
        "from sklearn.linear_model import LogisticRegression\r\n",
        "logreg = LogisticRegression()\r\n",
        "logreg.fit(X,y)\r\n",
        "# refer to scikit learn tutorial to understand these lines"
      ],
      "execution_count": 147,
      "outputs": [
        {
          "output_type": "execute_result",
          "data": {
            "text/plain": [
              "LogisticRegression(C=1.0, class_weight=None, dual=False, fit_intercept=True,\n",
              "                   intercept_scaling=1, l1_ratio=None, max_iter=100,\n",
              "                   multi_class='auto', n_jobs=None, penalty='l2',\n",
              "                   random_state=None, solver='lbfgs', tol=0.0001, verbose=0,\n",
              "                   warm_start=False)"
            ]
          },
          "metadata": {
            "tags": []
          },
          "execution_count": 147
        }
      ]
    },
    {
      "cell_type": "code",
      "metadata": {
        "id": "pOBXPqrZ2U_z",
        "colab": {
          "base_uri": "https://localhost:8080/",
          "height": 206
        },
        "outputId": "c5aab852-2530-4c3e-ea70-405b0435938e"
      },
      "source": [
        "test = pd.read_csv('http://bit.ly/kaggletest')\r\n",
        "test.head()"
      ],
      "execution_count": 148,
      "outputs": [
        {
          "output_type": "execute_result",
          "data": {
            "text/html": [
              "<div>\n",
              "<style scoped>\n",
              "    .dataframe tbody tr th:only-of-type {\n",
              "        vertical-align: middle;\n",
              "    }\n",
              "\n",
              "    .dataframe tbody tr th {\n",
              "        vertical-align: top;\n",
              "    }\n",
              "\n",
              "    .dataframe thead th {\n",
              "        text-align: right;\n",
              "    }\n",
              "</style>\n",
              "<table border=\"1\" class=\"dataframe\">\n",
              "  <thead>\n",
              "    <tr style=\"text-align: right;\">\n",
              "      <th></th>\n",
              "      <th>PassengerId</th>\n",
              "      <th>Pclass</th>\n",
              "      <th>Name</th>\n",
              "      <th>Sex</th>\n",
              "      <th>Age</th>\n",
              "      <th>SibSp</th>\n",
              "      <th>Parch</th>\n",
              "      <th>Ticket</th>\n",
              "      <th>Fare</th>\n",
              "      <th>Cabin</th>\n",
              "      <th>Embarked</th>\n",
              "    </tr>\n",
              "  </thead>\n",
              "  <tbody>\n",
              "    <tr>\n",
              "      <th>0</th>\n",
              "      <td>892</td>\n",
              "      <td>3</td>\n",
              "      <td>Kelly, Mr. James</td>\n",
              "      <td>male</td>\n",
              "      <td>34.5</td>\n",
              "      <td>0</td>\n",
              "      <td>0</td>\n",
              "      <td>330911</td>\n",
              "      <td>7.8292</td>\n",
              "      <td>NaN</td>\n",
              "      <td>Q</td>\n",
              "    </tr>\n",
              "    <tr>\n",
              "      <th>1</th>\n",
              "      <td>893</td>\n",
              "      <td>3</td>\n",
              "      <td>Wilkes, Mrs. James (Ellen Needs)</td>\n",
              "      <td>female</td>\n",
              "      <td>47.0</td>\n",
              "      <td>1</td>\n",
              "      <td>0</td>\n",
              "      <td>363272</td>\n",
              "      <td>7.0000</td>\n",
              "      <td>NaN</td>\n",
              "      <td>S</td>\n",
              "    </tr>\n",
              "    <tr>\n",
              "      <th>2</th>\n",
              "      <td>894</td>\n",
              "      <td>2</td>\n",
              "      <td>Myles, Mr. Thomas Francis</td>\n",
              "      <td>male</td>\n",
              "      <td>62.0</td>\n",
              "      <td>0</td>\n",
              "      <td>0</td>\n",
              "      <td>240276</td>\n",
              "      <td>9.6875</td>\n",
              "      <td>NaN</td>\n",
              "      <td>Q</td>\n",
              "    </tr>\n",
              "    <tr>\n",
              "      <th>3</th>\n",
              "      <td>895</td>\n",
              "      <td>3</td>\n",
              "      <td>Wirz, Mr. Albert</td>\n",
              "      <td>male</td>\n",
              "      <td>27.0</td>\n",
              "      <td>0</td>\n",
              "      <td>0</td>\n",
              "      <td>315154</td>\n",
              "      <td>8.6625</td>\n",
              "      <td>NaN</td>\n",
              "      <td>S</td>\n",
              "    </tr>\n",
              "    <tr>\n",
              "      <th>4</th>\n",
              "      <td>896</td>\n",
              "      <td>3</td>\n",
              "      <td>Hirvonen, Mrs. Alexander (Helga E Lindqvist)</td>\n",
              "      <td>female</td>\n",
              "      <td>22.0</td>\n",
              "      <td>1</td>\n",
              "      <td>1</td>\n",
              "      <td>3101298</td>\n",
              "      <td>12.2875</td>\n",
              "      <td>NaN</td>\n",
              "      <td>S</td>\n",
              "    </tr>\n",
              "  </tbody>\n",
              "</table>\n",
              "</div>"
            ],
            "text/plain": [
              "   PassengerId  Pclass  ... Cabin Embarked\n",
              "0          892       3  ...   NaN        Q\n",
              "1          893       3  ...   NaN        S\n",
              "2          894       2  ...   NaN        Q\n",
              "3          895       3  ...   NaN        S\n",
              "4          896       3  ...   NaN        S\n",
              "\n",
              "[5 rows x 11 columns]"
            ]
          },
          "metadata": {
            "tags": []
          },
          "execution_count": 148
        }
      ]
    },
    {
      "cell_type": "code",
      "metadata": {
        "id": "CQMYleum2XtU",
        "colab": {
          "base_uri": "https://localhost:8080/"
        },
        "outputId": "b2f86e02-71f8-4963-8828-40dfc9dc6f1b"
      },
      "source": [
        "X_new = test.loc[:,feature_cols]\r\n",
        "X_new.shape"
      ],
      "execution_count": 149,
      "outputs": [
        {
          "output_type": "execute_result",
          "data": {
            "text/plain": [
              "(418, 2)"
            ]
          },
          "metadata": {
            "tags": []
          },
          "execution_count": 149
        }
      ]
    },
    {
      "cell_type": "code",
      "metadata": {
        "id": "bV8cOyOH2dTf"
      },
      "source": [
        "new_pred_class = logreg.predict(X_new)"
      ],
      "execution_count": 150,
      "outputs": []
    },
    {
      "cell_type": "code",
      "metadata": {
        "id": "GwvGeDTI2gKq",
        "colab": {
          "base_uri": "https://localhost:8080/"
        },
        "outputId": "240f3452-4213-440d-953d-82a2bbb639e0"
      },
      "source": [
        "test.PassengerId"
      ],
      "execution_count": 151,
      "outputs": [
        {
          "output_type": "execute_result",
          "data": {
            "text/plain": [
              "0       892\n",
              "1       893\n",
              "2       894\n",
              "3       895\n",
              "4       896\n",
              "       ... \n",
              "413    1305\n",
              "414    1306\n",
              "415    1307\n",
              "416    1308\n",
              "417    1309\n",
              "Name: PassengerId, Length: 418, dtype: int64"
            ]
          },
          "metadata": {
            "tags": []
          },
          "execution_count": 151
        }
      ]
    },
    {
      "cell_type": "code",
      "metadata": {
        "id": "2Hlkq99O2jxy",
        "colab": {
          "base_uri": "https://localhost:8080/"
        },
        "outputId": "9203f8fe-5c9f-448c-feda-fb9ad1e696d8"
      },
      "source": [
        "new_pred_class"
      ],
      "execution_count": 152,
      "outputs": [
        {
          "output_type": "execute_result",
          "data": {
            "text/plain": [
              "array([0, 0, 0, 0, 0, 0, 0, 0, 0, 0, 0, 1, 1, 0, 1, 0, 0, 0, 0, 0, 1, 0,\n",
              "       1, 1, 1, 0, 1, 0, 1, 0, 0, 0, 0, 0, 1, 0, 0, 0, 0, 0, 0, 1, 0, 0,\n",
              "       1, 0, 1, 0, 1, 0, 1, 0, 0, 1, 0, 0, 0, 0, 0, 1, 0, 0, 0, 0, 1, 0,\n",
              "       0, 1, 1, 1, 0, 0, 0, 1, 1, 1, 0, 1, 0, 0, 0, 1, 1, 0, 0, 0, 0, 0,\n",
              "       0, 0, 0, 0, 1, 0, 1, 0, 1, 0, 0, 0, 1, 0, 0, 0, 0, 0, 0, 0, 0, 0,\n",
              "       0, 0, 1, 0, 1, 0, 0, 0, 1, 0, 0, 0, 1, 0, 0, 0, 0, 0, 0, 0, 0, 1,\n",
              "       0, 0, 0, 0, 0, 0, 0, 1, 0, 1, 1, 0, 1, 0, 1, 0, 1, 0, 1, 0, 0, 0,\n",
              "       0, 0, 1, 0, 1, 0, 0, 0, 0, 0, 0, 0, 1, 0, 1, 0, 0, 0, 0, 0, 1, 1,\n",
              "       0, 1, 1, 1, 0, 1, 1, 0, 1, 0, 0, 0, 0, 0, 0, 1, 0, 0, 1, 0, 1, 0,\n",
              "       0, 0, 0, 0, 1, 0, 0, 1, 0, 0, 1, 0, 0, 0, 0, 0, 0, 1, 0, 1, 1, 0,\n",
              "       0, 0, 0, 0, 1, 0, 0, 0, 0, 0, 0, 1, 0, 0, 1, 0, 1, 0, 0, 1, 1, 1,\n",
              "       1, 0, 0, 1, 0, 0, 0, 0, 1, 0, 1, 0, 0, 0, 0, 0, 0, 0, 0, 0, 1, 0,\n",
              "       0, 0, 1, 0, 0, 0, 1, 0, 1, 0, 0, 0, 0, 0, 0, 0, 0, 0, 0, 0, 0, 0,\n",
              "       0, 1, 0, 0, 1, 0, 0, 1, 0, 0, 1, 0, 1, 0, 0, 0, 0, 0, 0, 1, 1, 0,\n",
              "       1, 0, 0, 0, 0, 0, 1, 0, 1, 0, 0, 0, 0, 0, 0, 1, 1, 0, 0, 1, 0, 0,\n",
              "       1, 1, 0, 0, 0, 1, 0, 0, 0, 0, 0, 0, 1, 1, 0, 0, 0, 0, 0, 0, 1, 0,\n",
              "       0, 1, 0, 1, 1, 0, 0, 0, 0, 0, 0, 0, 1, 1, 0, 0, 1, 0, 0, 1, 1, 0,\n",
              "       1, 1, 0, 0, 1, 0, 0, 0, 0, 0, 0, 1, 0, 0, 0, 0, 1, 1, 0, 0, 0, 1,\n",
              "       0, 1, 0, 0, 1, 0, 1, 1, 1, 0, 0, 1, 0, 0, 0, 1, 0, 0, 1, 0, 0, 0])"
            ]
          },
          "metadata": {
            "tags": []
          },
          "execution_count": 152
        }
      ]
    },
    {
      "cell_type": "code",
      "metadata": {
        "id": "DIBDAGLS2mKZ"
      },
      "source": [
        "pd.DataFrame({'PassengerId':test.PassengerId,\r\n",
        "              'Survived':new_pred_class}).set_index('PassengerId').to_csv('sub.csv')"
      ],
      "execution_count": 153,
      "outputs": []
    },
    {
      "cell_type": "code",
      "metadata": {
        "id": "V49BvXit4d_S"
      },
      "source": [
        "# bonus:\r\n",
        "# how do you save the dataframe object from the python to save to flash drive\r\n",
        "# lets pickle it\r\n",
        "# lets save the train data set\r\n",
        "train.to_pickle('train.pkl')"
      ],
      "execution_count": 154,
      "outputs": []
    },
    {
      "cell_type": "code",
      "metadata": {
        "id": "Yo7OSp8y4gE9",
        "colab": {
          "base_uri": "https://localhost:8080/",
          "height": 459
        },
        "outputId": "5ddbe419-2fcd-48d2-af71-6d90fc6b6459"
      },
      "source": [
        "pd.read_pickle('train.pkl')"
      ],
      "execution_count": 155,
      "outputs": [
        {
          "output_type": "execute_result",
          "data": {
            "text/html": [
              "<div>\n",
              "<style scoped>\n",
              "    .dataframe tbody tr th:only-of-type {\n",
              "        vertical-align: middle;\n",
              "    }\n",
              "\n",
              "    .dataframe tbody tr th {\n",
              "        vertical-align: top;\n",
              "    }\n",
              "\n",
              "    .dataframe thead th {\n",
              "        text-align: right;\n",
              "    }\n",
              "</style>\n",
              "<table border=\"1\" class=\"dataframe\">\n",
              "  <thead>\n",
              "    <tr style=\"text-align: right;\">\n",
              "      <th></th>\n",
              "      <th>PassengerId</th>\n",
              "      <th>Survived</th>\n",
              "      <th>Pclass</th>\n",
              "      <th>Name</th>\n",
              "      <th>Sex</th>\n",
              "      <th>Age</th>\n",
              "      <th>SibSp</th>\n",
              "      <th>Parch</th>\n",
              "      <th>Ticket</th>\n",
              "      <th>Fare</th>\n",
              "      <th>Cabin</th>\n",
              "      <th>Embarked</th>\n",
              "    </tr>\n",
              "  </thead>\n",
              "  <tbody>\n",
              "    <tr>\n",
              "      <th>0</th>\n",
              "      <td>1</td>\n",
              "      <td>0</td>\n",
              "      <td>3</td>\n",
              "      <td>Braund, Mr. Owen Harris</td>\n",
              "      <td>male</td>\n",
              "      <td>22.0</td>\n",
              "      <td>1</td>\n",
              "      <td>0</td>\n",
              "      <td>A/5 21171</td>\n",
              "      <td>7.2500</td>\n",
              "      <td>NaN</td>\n",
              "      <td>S</td>\n",
              "    </tr>\n",
              "    <tr>\n",
              "      <th>1</th>\n",
              "      <td>2</td>\n",
              "      <td>1</td>\n",
              "      <td>1</td>\n",
              "      <td>Cumings, Mrs. John Bradley (Florence Briggs Th...</td>\n",
              "      <td>female</td>\n",
              "      <td>38.0</td>\n",
              "      <td>1</td>\n",
              "      <td>0</td>\n",
              "      <td>PC 17599</td>\n",
              "      <td>71.2833</td>\n",
              "      <td>C85</td>\n",
              "      <td>C</td>\n",
              "    </tr>\n",
              "    <tr>\n",
              "      <th>2</th>\n",
              "      <td>3</td>\n",
              "      <td>1</td>\n",
              "      <td>3</td>\n",
              "      <td>Heikkinen, Miss. Laina</td>\n",
              "      <td>female</td>\n",
              "      <td>26.0</td>\n",
              "      <td>0</td>\n",
              "      <td>0</td>\n",
              "      <td>STON/O2. 3101282</td>\n",
              "      <td>7.9250</td>\n",
              "      <td>NaN</td>\n",
              "      <td>S</td>\n",
              "    </tr>\n",
              "    <tr>\n",
              "      <th>3</th>\n",
              "      <td>4</td>\n",
              "      <td>1</td>\n",
              "      <td>1</td>\n",
              "      <td>Futrelle, Mrs. Jacques Heath (Lily May Peel)</td>\n",
              "      <td>female</td>\n",
              "      <td>35.0</td>\n",
              "      <td>1</td>\n",
              "      <td>0</td>\n",
              "      <td>113803</td>\n",
              "      <td>53.1000</td>\n",
              "      <td>C123</td>\n",
              "      <td>S</td>\n",
              "    </tr>\n",
              "    <tr>\n",
              "      <th>4</th>\n",
              "      <td>5</td>\n",
              "      <td>0</td>\n",
              "      <td>3</td>\n",
              "      <td>Allen, Mr. William Henry</td>\n",
              "      <td>male</td>\n",
              "      <td>35.0</td>\n",
              "      <td>0</td>\n",
              "      <td>0</td>\n",
              "      <td>373450</td>\n",
              "      <td>8.0500</td>\n",
              "      <td>NaN</td>\n",
              "      <td>S</td>\n",
              "    </tr>\n",
              "    <tr>\n",
              "      <th>...</th>\n",
              "      <td>...</td>\n",
              "      <td>...</td>\n",
              "      <td>...</td>\n",
              "      <td>...</td>\n",
              "      <td>...</td>\n",
              "      <td>...</td>\n",
              "      <td>...</td>\n",
              "      <td>...</td>\n",
              "      <td>...</td>\n",
              "      <td>...</td>\n",
              "      <td>...</td>\n",
              "      <td>...</td>\n",
              "    </tr>\n",
              "    <tr>\n",
              "      <th>886</th>\n",
              "      <td>887</td>\n",
              "      <td>0</td>\n",
              "      <td>2</td>\n",
              "      <td>Montvila, Rev. Juozas</td>\n",
              "      <td>male</td>\n",
              "      <td>27.0</td>\n",
              "      <td>0</td>\n",
              "      <td>0</td>\n",
              "      <td>211536</td>\n",
              "      <td>13.0000</td>\n",
              "      <td>NaN</td>\n",
              "      <td>S</td>\n",
              "    </tr>\n",
              "    <tr>\n",
              "      <th>887</th>\n",
              "      <td>888</td>\n",
              "      <td>1</td>\n",
              "      <td>1</td>\n",
              "      <td>Graham, Miss. Margaret Edith</td>\n",
              "      <td>female</td>\n",
              "      <td>19.0</td>\n",
              "      <td>0</td>\n",
              "      <td>0</td>\n",
              "      <td>112053</td>\n",
              "      <td>30.0000</td>\n",
              "      <td>B42</td>\n",
              "      <td>S</td>\n",
              "    </tr>\n",
              "    <tr>\n",
              "      <th>888</th>\n",
              "      <td>889</td>\n",
              "      <td>0</td>\n",
              "      <td>3</td>\n",
              "      <td>Johnston, Miss. Catherine Helen \"Carrie\"</td>\n",
              "      <td>female</td>\n",
              "      <td>NaN</td>\n",
              "      <td>1</td>\n",
              "      <td>2</td>\n",
              "      <td>W./C. 6607</td>\n",
              "      <td>23.4500</td>\n",
              "      <td>NaN</td>\n",
              "      <td>S</td>\n",
              "    </tr>\n",
              "    <tr>\n",
              "      <th>889</th>\n",
              "      <td>890</td>\n",
              "      <td>1</td>\n",
              "      <td>1</td>\n",
              "      <td>Behr, Mr. Karl Howell</td>\n",
              "      <td>male</td>\n",
              "      <td>26.0</td>\n",
              "      <td>0</td>\n",
              "      <td>0</td>\n",
              "      <td>111369</td>\n",
              "      <td>30.0000</td>\n",
              "      <td>C148</td>\n",
              "      <td>C</td>\n",
              "    </tr>\n",
              "    <tr>\n",
              "      <th>890</th>\n",
              "      <td>891</td>\n",
              "      <td>0</td>\n",
              "      <td>3</td>\n",
              "      <td>Dooley, Mr. Patrick</td>\n",
              "      <td>male</td>\n",
              "      <td>32.0</td>\n",
              "      <td>0</td>\n",
              "      <td>0</td>\n",
              "      <td>370376</td>\n",
              "      <td>7.7500</td>\n",
              "      <td>NaN</td>\n",
              "      <td>Q</td>\n",
              "    </tr>\n",
              "  </tbody>\n",
              "</table>\n",
              "<p>891 rows × 12 columns</p>\n",
              "</div>"
            ],
            "text/plain": [
              "     PassengerId  Survived  Pclass  ...     Fare Cabin  Embarked\n",
              "0              1         0       3  ...   7.2500   NaN         S\n",
              "1              2         1       1  ...  71.2833   C85         C\n",
              "2              3         1       3  ...   7.9250   NaN         S\n",
              "3              4         1       1  ...  53.1000  C123         S\n",
              "4              5         0       3  ...   8.0500   NaN         S\n",
              "..           ...       ...     ...  ...      ...   ...       ...\n",
              "886          887         0       2  ...  13.0000   NaN         S\n",
              "887          888         1       1  ...  30.0000   B42         S\n",
              "888          889         0       3  ...  23.4500   NaN         S\n",
              "889          890         1       1  ...  30.0000  C148         C\n",
              "890          891         0       3  ...   7.7500   NaN         Q\n",
              "\n",
              "[891 rows x 12 columns]"
            ]
          },
          "metadata": {
            "tags": []
          },
          "execution_count": 155
        }
      ]
    },
    {
      "cell_type": "code",
      "metadata": {
        "id": "Z1M0ERR14lx4",
        "colab": {
          "base_uri": "https://localhost:8080/",
          "height": 143
        },
        "outputId": "486222b6-7383-4d04-b272-cc8bf2ffe680"
      },
      "source": [
        "# to get the random sample from the large dataset\r\n",
        "ufo.sample(n=3, random_state=42)"
      ],
      "execution_count": 156,
      "outputs": [
        {
          "output_type": "execute_result",
          "data": {
            "text/html": [
              "<div>\n",
              "<style scoped>\n",
              "    .dataframe tbody tr th:only-of-type {\n",
              "        vertical-align: middle;\n",
              "    }\n",
              "\n",
              "    .dataframe tbody tr th {\n",
              "        vertical-align: top;\n",
              "    }\n",
              "\n",
              "    .dataframe thead th {\n",
              "        text-align: right;\n",
              "    }\n",
              "</style>\n",
              "<table border=\"1\" class=\"dataframe\">\n",
              "  <thead>\n",
              "    <tr style=\"text-align: right;\">\n",
              "      <th></th>\n",
              "      <th>City</th>\n",
              "      <th>Colors Reported</th>\n",
              "      <th>Shape Reported</th>\n",
              "      <th>State</th>\n",
              "      <th>Time</th>\n",
              "    </tr>\n",
              "  </thead>\n",
              "  <tbody>\n",
              "    <tr>\n",
              "      <th>217</th>\n",
              "      <td>Norridgewock</td>\n",
              "      <td>NaN</td>\n",
              "      <td>DISK</td>\n",
              "      <td>ME</td>\n",
              "      <td>9/15/1952 14:00</td>\n",
              "    </tr>\n",
              "    <tr>\n",
              "      <th>12282</th>\n",
              "      <td>Ipava</td>\n",
              "      <td>NaN</td>\n",
              "      <td>TRIANGLE</td>\n",
              "      <td>IL</td>\n",
              "      <td>10/1/1998 21:15</td>\n",
              "    </tr>\n",
              "    <tr>\n",
              "      <th>17933</th>\n",
              "      <td>Ellinwood</td>\n",
              "      <td>NaN</td>\n",
              "      <td>FIREBALL</td>\n",
              "      <td>KS</td>\n",
              "      <td>11/13/2000 22:00</td>\n",
              "    </tr>\n",
              "  </tbody>\n",
              "</table>\n",
              "</div>"
            ],
            "text/plain": [
              "               City Colors Reported Shape Reported State              Time\n",
              "217    Norridgewock             NaN           DISK    ME   9/15/1952 14:00\n",
              "12282         Ipava             NaN       TRIANGLE    IL   10/1/1998 21:15\n",
              "17933     Ellinwood             NaN       FIREBALL    KS  11/13/2000 22:00"
            ]
          },
          "metadata": {
            "tags": []
          },
          "execution_count": 156
        }
      ]
    },
    {
      "cell_type": "code",
      "metadata": {
        "id": "dytq69BJ4q0I"
      },
      "source": [
        "# we can even specify the percentage of samples\r\n",
        "train = ufo.sample(frac=0.75,random_state=99)"
      ],
      "execution_count": 157,
      "outputs": []
    },
    {
      "cell_type": "code",
      "metadata": {
        "id": "3P0948Ie4xS-"
      },
      "source": [
        "# making train test split for the ML\r\n",
        "test = ufo.loc[ ~ufo.index.isin(train.index),:]\r\n",
        "# this will select all the other 25% of rows that is not in the test set"
      ],
      "execution_count": 158,
      "outputs": []
    },
    {
      "cell_type": "markdown",
      "metadata": {
        "id": "IXoPKcof9NPD"
      },
      "source": [
        "**How do I create dummy variable in pandas?**"
      ]
    },
    {
      "cell_type": "code",
      "metadata": {
        "id": "TVr91rQ_46yu",
        "colab": {
          "base_uri": "https://localhost:8080/",
          "height": 206
        },
        "outputId": "44cbbd33-ef12-42a5-f277-7578423bbd1e"
      },
      "source": [
        "train = pd.read_csv('http://bit.ly/kaggletrain')\r\n",
        "train.head()"
      ],
      "execution_count": 159,
      "outputs": [
        {
          "output_type": "execute_result",
          "data": {
            "text/html": [
              "<div>\n",
              "<style scoped>\n",
              "    .dataframe tbody tr th:only-of-type {\n",
              "        vertical-align: middle;\n",
              "    }\n",
              "\n",
              "    .dataframe tbody tr th {\n",
              "        vertical-align: top;\n",
              "    }\n",
              "\n",
              "    .dataframe thead th {\n",
              "        text-align: right;\n",
              "    }\n",
              "</style>\n",
              "<table border=\"1\" class=\"dataframe\">\n",
              "  <thead>\n",
              "    <tr style=\"text-align: right;\">\n",
              "      <th></th>\n",
              "      <th>PassengerId</th>\n",
              "      <th>Survived</th>\n",
              "      <th>Pclass</th>\n",
              "      <th>Name</th>\n",
              "      <th>Sex</th>\n",
              "      <th>Age</th>\n",
              "      <th>SibSp</th>\n",
              "      <th>Parch</th>\n",
              "      <th>Ticket</th>\n",
              "      <th>Fare</th>\n",
              "      <th>Cabin</th>\n",
              "      <th>Embarked</th>\n",
              "    </tr>\n",
              "  </thead>\n",
              "  <tbody>\n",
              "    <tr>\n",
              "      <th>0</th>\n",
              "      <td>1</td>\n",
              "      <td>0</td>\n",
              "      <td>3</td>\n",
              "      <td>Braund, Mr. Owen Harris</td>\n",
              "      <td>male</td>\n",
              "      <td>22.0</td>\n",
              "      <td>1</td>\n",
              "      <td>0</td>\n",
              "      <td>A/5 21171</td>\n",
              "      <td>7.2500</td>\n",
              "      <td>NaN</td>\n",
              "      <td>S</td>\n",
              "    </tr>\n",
              "    <tr>\n",
              "      <th>1</th>\n",
              "      <td>2</td>\n",
              "      <td>1</td>\n",
              "      <td>1</td>\n",
              "      <td>Cumings, Mrs. John Bradley (Florence Briggs Th...</td>\n",
              "      <td>female</td>\n",
              "      <td>38.0</td>\n",
              "      <td>1</td>\n",
              "      <td>0</td>\n",
              "      <td>PC 17599</td>\n",
              "      <td>71.2833</td>\n",
              "      <td>C85</td>\n",
              "      <td>C</td>\n",
              "    </tr>\n",
              "    <tr>\n",
              "      <th>2</th>\n",
              "      <td>3</td>\n",
              "      <td>1</td>\n",
              "      <td>3</td>\n",
              "      <td>Heikkinen, Miss. Laina</td>\n",
              "      <td>female</td>\n",
              "      <td>26.0</td>\n",
              "      <td>0</td>\n",
              "      <td>0</td>\n",
              "      <td>STON/O2. 3101282</td>\n",
              "      <td>7.9250</td>\n",
              "      <td>NaN</td>\n",
              "      <td>S</td>\n",
              "    </tr>\n",
              "    <tr>\n",
              "      <th>3</th>\n",
              "      <td>4</td>\n",
              "      <td>1</td>\n",
              "      <td>1</td>\n",
              "      <td>Futrelle, Mrs. Jacques Heath (Lily May Peel)</td>\n",
              "      <td>female</td>\n",
              "      <td>35.0</td>\n",
              "      <td>1</td>\n",
              "      <td>0</td>\n",
              "      <td>113803</td>\n",
              "      <td>53.1000</td>\n",
              "      <td>C123</td>\n",
              "      <td>S</td>\n",
              "    </tr>\n",
              "    <tr>\n",
              "      <th>4</th>\n",
              "      <td>5</td>\n",
              "      <td>0</td>\n",
              "      <td>3</td>\n",
              "      <td>Allen, Mr. William Henry</td>\n",
              "      <td>male</td>\n",
              "      <td>35.0</td>\n",
              "      <td>0</td>\n",
              "      <td>0</td>\n",
              "      <td>373450</td>\n",
              "      <td>8.0500</td>\n",
              "      <td>NaN</td>\n",
              "      <td>S</td>\n",
              "    </tr>\n",
              "  </tbody>\n",
              "</table>\n",
              "</div>"
            ],
            "text/plain": [
              "   PassengerId  Survived  Pclass  ...     Fare Cabin  Embarked\n",
              "0            1         0       3  ...   7.2500   NaN         S\n",
              "1            2         1       1  ...  71.2833   C85         C\n",
              "2            3         1       3  ...   7.9250   NaN         S\n",
              "3            4         1       1  ...  53.1000  C123         S\n",
              "4            5         0       3  ...   8.0500   NaN         S\n",
              "\n",
              "[5 rows x 12 columns]"
            ]
          },
          "metadata": {
            "tags": []
          },
          "execution_count": 159
        }
      ]
    },
    {
      "cell_type": "code",
      "metadata": {
        "id": "evu-i0U29UqD"
      },
      "source": [
        "# now lets say we want to create the dummy variables for the Sex column\r\n",
        "# lets say male 1 and female 0\r\n",
        "train['sex_male_female'] = train.Sex.map({'male':1,'female':0})"
      ],
      "execution_count": 160,
      "outputs": []
    },
    {
      "cell_type": "code",
      "metadata": {
        "id": "wdQ6PT8o-_a9",
        "colab": {
          "base_uri": "https://localhost:8080/",
          "height": 258
        },
        "outputId": "fa694606-6b15-4fa0-f0a4-9cba130c2855"
      },
      "source": [
        "train.head()"
      ],
      "execution_count": 161,
      "outputs": [
        {
          "output_type": "execute_result",
          "data": {
            "text/html": [
              "<div>\n",
              "<style scoped>\n",
              "    .dataframe tbody tr th:only-of-type {\n",
              "        vertical-align: middle;\n",
              "    }\n",
              "\n",
              "    .dataframe tbody tr th {\n",
              "        vertical-align: top;\n",
              "    }\n",
              "\n",
              "    .dataframe thead th {\n",
              "        text-align: right;\n",
              "    }\n",
              "</style>\n",
              "<table border=\"1\" class=\"dataframe\">\n",
              "  <thead>\n",
              "    <tr style=\"text-align: right;\">\n",
              "      <th></th>\n",
              "      <th>PassengerId</th>\n",
              "      <th>Survived</th>\n",
              "      <th>Pclass</th>\n",
              "      <th>Name</th>\n",
              "      <th>Sex</th>\n",
              "      <th>Age</th>\n",
              "      <th>SibSp</th>\n",
              "      <th>Parch</th>\n",
              "      <th>Ticket</th>\n",
              "      <th>Fare</th>\n",
              "      <th>Cabin</th>\n",
              "      <th>Embarked</th>\n",
              "      <th>sex_male_female</th>\n",
              "    </tr>\n",
              "  </thead>\n",
              "  <tbody>\n",
              "    <tr>\n",
              "      <th>0</th>\n",
              "      <td>1</td>\n",
              "      <td>0</td>\n",
              "      <td>3</td>\n",
              "      <td>Braund, Mr. Owen Harris</td>\n",
              "      <td>male</td>\n",
              "      <td>22.0</td>\n",
              "      <td>1</td>\n",
              "      <td>0</td>\n",
              "      <td>A/5 21171</td>\n",
              "      <td>7.2500</td>\n",
              "      <td>NaN</td>\n",
              "      <td>S</td>\n",
              "      <td>1</td>\n",
              "    </tr>\n",
              "    <tr>\n",
              "      <th>1</th>\n",
              "      <td>2</td>\n",
              "      <td>1</td>\n",
              "      <td>1</td>\n",
              "      <td>Cumings, Mrs. John Bradley (Florence Briggs Th...</td>\n",
              "      <td>female</td>\n",
              "      <td>38.0</td>\n",
              "      <td>1</td>\n",
              "      <td>0</td>\n",
              "      <td>PC 17599</td>\n",
              "      <td>71.2833</td>\n",
              "      <td>C85</td>\n",
              "      <td>C</td>\n",
              "      <td>0</td>\n",
              "    </tr>\n",
              "    <tr>\n",
              "      <th>2</th>\n",
              "      <td>3</td>\n",
              "      <td>1</td>\n",
              "      <td>3</td>\n",
              "      <td>Heikkinen, Miss. Laina</td>\n",
              "      <td>female</td>\n",
              "      <td>26.0</td>\n",
              "      <td>0</td>\n",
              "      <td>0</td>\n",
              "      <td>STON/O2. 3101282</td>\n",
              "      <td>7.9250</td>\n",
              "      <td>NaN</td>\n",
              "      <td>S</td>\n",
              "      <td>0</td>\n",
              "    </tr>\n",
              "    <tr>\n",
              "      <th>3</th>\n",
              "      <td>4</td>\n",
              "      <td>1</td>\n",
              "      <td>1</td>\n",
              "      <td>Futrelle, Mrs. Jacques Heath (Lily May Peel)</td>\n",
              "      <td>female</td>\n",
              "      <td>35.0</td>\n",
              "      <td>1</td>\n",
              "      <td>0</td>\n",
              "      <td>113803</td>\n",
              "      <td>53.1000</td>\n",
              "      <td>C123</td>\n",
              "      <td>S</td>\n",
              "      <td>0</td>\n",
              "    </tr>\n",
              "    <tr>\n",
              "      <th>4</th>\n",
              "      <td>5</td>\n",
              "      <td>0</td>\n",
              "      <td>3</td>\n",
              "      <td>Allen, Mr. William Henry</td>\n",
              "      <td>male</td>\n",
              "      <td>35.0</td>\n",
              "      <td>0</td>\n",
              "      <td>0</td>\n",
              "      <td>373450</td>\n",
              "      <td>8.0500</td>\n",
              "      <td>NaN</td>\n",
              "      <td>S</td>\n",
              "      <td>1</td>\n",
              "    </tr>\n",
              "  </tbody>\n",
              "</table>\n",
              "</div>"
            ],
            "text/plain": [
              "   PassengerId  Survived  Pclass  ... Cabin Embarked  sex_male_female\n",
              "0            1         0       3  ...   NaN        S                1\n",
              "1            2         1       1  ...   C85        C                0\n",
              "2            3         1       3  ...   NaN        S                0\n",
              "3            4         1       1  ...  C123        S                0\n",
              "4            5         0       3  ...   NaN        S                1\n",
              "\n",
              "[5 rows x 13 columns]"
            ]
          },
          "metadata": {
            "tags": []
          },
          "execution_count": 161
        }
      ]
    },
    {
      "cell_type": "code",
      "metadata": {
        "id": "IaT9B62H_BxO",
        "colab": {
          "base_uri": "https://localhost:8080/"
        },
        "outputId": "f9feb001-6f51-4364-ceee-9f5dc2cfc178"
      },
      "source": [
        "train.Embarked.value_counts()"
      ],
      "execution_count": 162,
      "outputs": [
        {
          "output_type": "execute_result",
          "data": {
            "text/plain": [
              "S    644\n",
              "C    168\n",
              "Q     77\n",
              "Name: Embarked, dtype: int64"
            ]
          },
          "metadata": {
            "tags": []
          },
          "execution_count": 162
        }
      ]
    },
    {
      "cell_type": "code",
      "metadata": {
        "id": "whKOUqWIC1Bo"
      },
      "source": [
        "embarked_dummies = pd.get_dummies(train.Embarked,prefix='Embarked').iloc[:, 1:]"
      ],
      "execution_count": 163,
      "outputs": []
    },
    {
      "cell_type": "code",
      "metadata": {
        "id": "ujTyLNCnC3zc",
        "colab": {
          "base_uri": "https://localhost:8080/",
          "height": 947
        },
        "outputId": "d6b17c26-c99b-4637-83c2-1d9fec992da6"
      },
      "source": [
        "pd.concat([train, embarked_dummies], axis=1)"
      ],
      "execution_count": 164,
      "outputs": [
        {
          "output_type": "execute_result",
          "data": {
            "text/html": [
              "<div>\n",
              "<style scoped>\n",
              "    .dataframe tbody tr th:only-of-type {\n",
              "        vertical-align: middle;\n",
              "    }\n",
              "\n",
              "    .dataframe tbody tr th {\n",
              "        vertical-align: top;\n",
              "    }\n",
              "\n",
              "    .dataframe thead th {\n",
              "        text-align: right;\n",
              "    }\n",
              "</style>\n",
              "<table border=\"1\" class=\"dataframe\">\n",
              "  <thead>\n",
              "    <tr style=\"text-align: right;\">\n",
              "      <th></th>\n",
              "      <th>PassengerId</th>\n",
              "      <th>Survived</th>\n",
              "      <th>Pclass</th>\n",
              "      <th>Name</th>\n",
              "      <th>Sex</th>\n",
              "      <th>Age</th>\n",
              "      <th>SibSp</th>\n",
              "      <th>Parch</th>\n",
              "      <th>Ticket</th>\n",
              "      <th>Fare</th>\n",
              "      <th>Cabin</th>\n",
              "      <th>Embarked</th>\n",
              "      <th>sex_male_female</th>\n",
              "      <th>Embarked_Q</th>\n",
              "      <th>Embarked_S</th>\n",
              "    </tr>\n",
              "  </thead>\n",
              "  <tbody>\n",
              "    <tr>\n",
              "      <th>0</th>\n",
              "      <td>1</td>\n",
              "      <td>0</td>\n",
              "      <td>3</td>\n",
              "      <td>Braund, Mr. Owen Harris</td>\n",
              "      <td>male</td>\n",
              "      <td>22.0</td>\n",
              "      <td>1</td>\n",
              "      <td>0</td>\n",
              "      <td>A/5 21171</td>\n",
              "      <td>7.2500</td>\n",
              "      <td>NaN</td>\n",
              "      <td>S</td>\n",
              "      <td>1</td>\n",
              "      <td>0</td>\n",
              "      <td>1</td>\n",
              "    </tr>\n",
              "    <tr>\n",
              "      <th>1</th>\n",
              "      <td>2</td>\n",
              "      <td>1</td>\n",
              "      <td>1</td>\n",
              "      <td>Cumings, Mrs. John Bradley (Florence Briggs Th...</td>\n",
              "      <td>female</td>\n",
              "      <td>38.0</td>\n",
              "      <td>1</td>\n",
              "      <td>0</td>\n",
              "      <td>PC 17599</td>\n",
              "      <td>71.2833</td>\n",
              "      <td>C85</td>\n",
              "      <td>C</td>\n",
              "      <td>0</td>\n",
              "      <td>0</td>\n",
              "      <td>0</td>\n",
              "    </tr>\n",
              "    <tr>\n",
              "      <th>2</th>\n",
              "      <td>3</td>\n",
              "      <td>1</td>\n",
              "      <td>3</td>\n",
              "      <td>Heikkinen, Miss. Laina</td>\n",
              "      <td>female</td>\n",
              "      <td>26.0</td>\n",
              "      <td>0</td>\n",
              "      <td>0</td>\n",
              "      <td>STON/O2. 3101282</td>\n",
              "      <td>7.9250</td>\n",
              "      <td>NaN</td>\n",
              "      <td>S</td>\n",
              "      <td>0</td>\n",
              "      <td>0</td>\n",
              "      <td>1</td>\n",
              "    </tr>\n",
              "    <tr>\n",
              "      <th>3</th>\n",
              "      <td>4</td>\n",
              "      <td>1</td>\n",
              "      <td>1</td>\n",
              "      <td>Futrelle, Mrs. Jacques Heath (Lily May Peel)</td>\n",
              "      <td>female</td>\n",
              "      <td>35.0</td>\n",
              "      <td>1</td>\n",
              "      <td>0</td>\n",
              "      <td>113803</td>\n",
              "      <td>53.1000</td>\n",
              "      <td>C123</td>\n",
              "      <td>S</td>\n",
              "      <td>0</td>\n",
              "      <td>0</td>\n",
              "      <td>1</td>\n",
              "    </tr>\n",
              "    <tr>\n",
              "      <th>4</th>\n",
              "      <td>5</td>\n",
              "      <td>0</td>\n",
              "      <td>3</td>\n",
              "      <td>Allen, Mr. William Henry</td>\n",
              "      <td>male</td>\n",
              "      <td>35.0</td>\n",
              "      <td>0</td>\n",
              "      <td>0</td>\n",
              "      <td>373450</td>\n",
              "      <td>8.0500</td>\n",
              "      <td>NaN</td>\n",
              "      <td>S</td>\n",
              "      <td>1</td>\n",
              "      <td>0</td>\n",
              "      <td>1</td>\n",
              "    </tr>\n",
              "    <tr>\n",
              "      <th>...</th>\n",
              "      <td>...</td>\n",
              "      <td>...</td>\n",
              "      <td>...</td>\n",
              "      <td>...</td>\n",
              "      <td>...</td>\n",
              "      <td>...</td>\n",
              "      <td>...</td>\n",
              "      <td>...</td>\n",
              "      <td>...</td>\n",
              "      <td>...</td>\n",
              "      <td>...</td>\n",
              "      <td>...</td>\n",
              "      <td>...</td>\n",
              "      <td>...</td>\n",
              "      <td>...</td>\n",
              "    </tr>\n",
              "    <tr>\n",
              "      <th>886</th>\n",
              "      <td>887</td>\n",
              "      <td>0</td>\n",
              "      <td>2</td>\n",
              "      <td>Montvila, Rev. Juozas</td>\n",
              "      <td>male</td>\n",
              "      <td>27.0</td>\n",
              "      <td>0</td>\n",
              "      <td>0</td>\n",
              "      <td>211536</td>\n",
              "      <td>13.0000</td>\n",
              "      <td>NaN</td>\n",
              "      <td>S</td>\n",
              "      <td>1</td>\n",
              "      <td>0</td>\n",
              "      <td>1</td>\n",
              "    </tr>\n",
              "    <tr>\n",
              "      <th>887</th>\n",
              "      <td>888</td>\n",
              "      <td>1</td>\n",
              "      <td>1</td>\n",
              "      <td>Graham, Miss. Margaret Edith</td>\n",
              "      <td>female</td>\n",
              "      <td>19.0</td>\n",
              "      <td>0</td>\n",
              "      <td>0</td>\n",
              "      <td>112053</td>\n",
              "      <td>30.0000</td>\n",
              "      <td>B42</td>\n",
              "      <td>S</td>\n",
              "      <td>0</td>\n",
              "      <td>0</td>\n",
              "      <td>1</td>\n",
              "    </tr>\n",
              "    <tr>\n",
              "      <th>888</th>\n",
              "      <td>889</td>\n",
              "      <td>0</td>\n",
              "      <td>3</td>\n",
              "      <td>Johnston, Miss. Catherine Helen \"Carrie\"</td>\n",
              "      <td>female</td>\n",
              "      <td>NaN</td>\n",
              "      <td>1</td>\n",
              "      <td>2</td>\n",
              "      <td>W./C. 6607</td>\n",
              "      <td>23.4500</td>\n",
              "      <td>NaN</td>\n",
              "      <td>S</td>\n",
              "      <td>0</td>\n",
              "      <td>0</td>\n",
              "      <td>1</td>\n",
              "    </tr>\n",
              "    <tr>\n",
              "      <th>889</th>\n",
              "      <td>890</td>\n",
              "      <td>1</td>\n",
              "      <td>1</td>\n",
              "      <td>Behr, Mr. Karl Howell</td>\n",
              "      <td>male</td>\n",
              "      <td>26.0</td>\n",
              "      <td>0</td>\n",
              "      <td>0</td>\n",
              "      <td>111369</td>\n",
              "      <td>30.0000</td>\n",
              "      <td>C148</td>\n",
              "      <td>C</td>\n",
              "      <td>1</td>\n",
              "      <td>0</td>\n",
              "      <td>0</td>\n",
              "    </tr>\n",
              "    <tr>\n",
              "      <th>890</th>\n",
              "      <td>891</td>\n",
              "      <td>0</td>\n",
              "      <td>3</td>\n",
              "      <td>Dooley, Mr. Patrick</td>\n",
              "      <td>male</td>\n",
              "      <td>32.0</td>\n",
              "      <td>0</td>\n",
              "      <td>0</td>\n",
              "      <td>370376</td>\n",
              "      <td>7.7500</td>\n",
              "      <td>NaN</td>\n",
              "      <td>Q</td>\n",
              "      <td>1</td>\n",
              "      <td>1</td>\n",
              "      <td>0</td>\n",
              "    </tr>\n",
              "  </tbody>\n",
              "</table>\n",
              "<p>891 rows × 15 columns</p>\n",
              "</div>"
            ],
            "text/plain": [
              "     PassengerId  Survived  Pclass  ... sex_male_female Embarked_Q  Embarked_S\n",
              "0              1         0       3  ...               1          0           1\n",
              "1              2         1       1  ...               0          0           0\n",
              "2              3         1       3  ...               0          0           1\n",
              "3              4         1       1  ...               0          0           1\n",
              "4              5         0       3  ...               1          0           1\n",
              "..           ...       ...     ...  ...             ...        ...         ...\n",
              "886          887         0       2  ...               1          0           1\n",
              "887          888         1       1  ...               0          0           1\n",
              "888          889         0       3  ...               0          0           1\n",
              "889          890         1       1  ...               1          0           0\n",
              "890          891         0       3  ...               1          1           0\n",
              "\n",
              "[891 rows x 15 columns]"
            ]
          },
          "metadata": {
            "tags": []
          },
          "execution_count": 164
        }
      ]
    },
    {
      "cell_type": "code",
      "metadata": {
        "id": "dHVVI_GwC7QE",
        "colab": {
          "base_uri": "https://localhost:8080/",
          "height": 424
        },
        "outputId": "22463aca-8bcb-43e6-f80b-5b73e2e9910d"
      },
      "source": [
        "# next way\r\n",
        "pd.get_dummies(train.Sex).iloc[:, 1:]"
      ],
      "execution_count": 165,
      "outputs": [
        {
          "output_type": "execute_result",
          "data": {
            "text/html": [
              "<div>\n",
              "<style scoped>\n",
              "    .dataframe tbody tr th:only-of-type {\n",
              "        vertical-align: middle;\n",
              "    }\n",
              "\n",
              "    .dataframe tbody tr th {\n",
              "        vertical-align: top;\n",
              "    }\n",
              "\n",
              "    .dataframe thead th {\n",
              "        text-align: right;\n",
              "    }\n",
              "</style>\n",
              "<table border=\"1\" class=\"dataframe\">\n",
              "  <thead>\n",
              "    <tr style=\"text-align: right;\">\n",
              "      <th></th>\n",
              "      <th>male</th>\n",
              "    </tr>\n",
              "  </thead>\n",
              "  <tbody>\n",
              "    <tr>\n",
              "      <th>0</th>\n",
              "      <td>1</td>\n",
              "    </tr>\n",
              "    <tr>\n",
              "      <th>1</th>\n",
              "      <td>0</td>\n",
              "    </tr>\n",
              "    <tr>\n",
              "      <th>2</th>\n",
              "      <td>0</td>\n",
              "    </tr>\n",
              "    <tr>\n",
              "      <th>3</th>\n",
              "      <td>0</td>\n",
              "    </tr>\n",
              "    <tr>\n",
              "      <th>4</th>\n",
              "      <td>1</td>\n",
              "    </tr>\n",
              "    <tr>\n",
              "      <th>...</th>\n",
              "      <td>...</td>\n",
              "    </tr>\n",
              "    <tr>\n",
              "      <th>886</th>\n",
              "      <td>1</td>\n",
              "    </tr>\n",
              "    <tr>\n",
              "      <th>887</th>\n",
              "      <td>0</td>\n",
              "    </tr>\n",
              "    <tr>\n",
              "      <th>888</th>\n",
              "      <td>0</td>\n",
              "    </tr>\n",
              "    <tr>\n",
              "      <th>889</th>\n",
              "      <td>1</td>\n",
              "    </tr>\n",
              "    <tr>\n",
              "      <th>890</th>\n",
              "      <td>1</td>\n",
              "    </tr>\n",
              "  </tbody>\n",
              "</table>\n",
              "<p>891 rows × 1 columns</p>\n",
              "</div>"
            ],
            "text/plain": [
              "     male\n",
              "0       1\n",
              "1       0\n",
              "2       0\n",
              "3       0\n",
              "4       1\n",
              "..    ...\n",
              "886     1\n",
              "887     0\n",
              "888     0\n",
              "889     1\n",
              "890     1\n",
              "\n",
              "[891 rows x 1 columns]"
            ]
          },
          "metadata": {
            "tags": []
          },
          "execution_count": 165
        }
      ]
    },
    {
      "cell_type": "markdown",
      "metadata": {
        "id": "keW90doIEB6F"
      },
      "source": [
        "**How do I work with dates and times in pandas?**"
      ]
    },
    {
      "cell_type": "code",
      "metadata": {
        "id": "RQb_vUNiC_7V",
        "colab": {
          "base_uri": "https://localhost:8080/",
          "height": 206
        },
        "outputId": "ab83e40a-6f79-412d-acfe-5203c1cabd40"
      },
      "source": [
        "ufo = pd.read_csv('http://bit.ly/uforeports')\r\n",
        "ufo.head()"
      ],
      "execution_count": 166,
      "outputs": [
        {
          "output_type": "execute_result",
          "data": {
            "text/html": [
              "<div>\n",
              "<style scoped>\n",
              "    .dataframe tbody tr th:only-of-type {\n",
              "        vertical-align: middle;\n",
              "    }\n",
              "\n",
              "    .dataframe tbody tr th {\n",
              "        vertical-align: top;\n",
              "    }\n",
              "\n",
              "    .dataframe thead th {\n",
              "        text-align: right;\n",
              "    }\n",
              "</style>\n",
              "<table border=\"1\" class=\"dataframe\">\n",
              "  <thead>\n",
              "    <tr style=\"text-align: right;\">\n",
              "      <th></th>\n",
              "      <th>City</th>\n",
              "      <th>Colors Reported</th>\n",
              "      <th>Shape Reported</th>\n",
              "      <th>State</th>\n",
              "      <th>Time</th>\n",
              "    </tr>\n",
              "  </thead>\n",
              "  <tbody>\n",
              "    <tr>\n",
              "      <th>0</th>\n",
              "      <td>Ithaca</td>\n",
              "      <td>NaN</td>\n",
              "      <td>TRIANGLE</td>\n",
              "      <td>NY</td>\n",
              "      <td>6/1/1930 22:00</td>\n",
              "    </tr>\n",
              "    <tr>\n",
              "      <th>1</th>\n",
              "      <td>Willingboro</td>\n",
              "      <td>NaN</td>\n",
              "      <td>OTHER</td>\n",
              "      <td>NJ</td>\n",
              "      <td>6/30/1930 20:00</td>\n",
              "    </tr>\n",
              "    <tr>\n",
              "      <th>2</th>\n",
              "      <td>Holyoke</td>\n",
              "      <td>NaN</td>\n",
              "      <td>OVAL</td>\n",
              "      <td>CO</td>\n",
              "      <td>2/15/1931 14:00</td>\n",
              "    </tr>\n",
              "    <tr>\n",
              "      <th>3</th>\n",
              "      <td>Abilene</td>\n",
              "      <td>NaN</td>\n",
              "      <td>DISK</td>\n",
              "      <td>KS</td>\n",
              "      <td>6/1/1931 13:00</td>\n",
              "    </tr>\n",
              "    <tr>\n",
              "      <th>4</th>\n",
              "      <td>New York Worlds Fair</td>\n",
              "      <td>NaN</td>\n",
              "      <td>LIGHT</td>\n",
              "      <td>NY</td>\n",
              "      <td>4/18/1933 19:00</td>\n",
              "    </tr>\n",
              "  </tbody>\n",
              "</table>\n",
              "</div>"
            ],
            "text/plain": [
              "                   City Colors Reported Shape Reported State             Time\n",
              "0                Ithaca             NaN       TRIANGLE    NY   6/1/1930 22:00\n",
              "1           Willingboro             NaN          OTHER    NJ  6/30/1930 20:00\n",
              "2               Holyoke             NaN           OVAL    CO  2/15/1931 14:00\n",
              "3               Abilene             NaN           DISK    KS   6/1/1931 13:00\n",
              "4  New York Worlds Fair             NaN          LIGHT    NY  4/18/1933 19:00"
            ]
          },
          "metadata": {
            "tags": []
          },
          "execution_count": 166
        }
      ]
    },
    {
      "cell_type": "code",
      "metadata": {
        "id": "P34ULmMCEXHV",
        "colab": {
          "base_uri": "https://localhost:8080/"
        },
        "outputId": "a5089d11-eaae-43c3-d331-a9aec2a5e253"
      },
      "source": [
        "ufo.dtypes"
      ],
      "execution_count": 167,
      "outputs": [
        {
          "output_type": "execute_result",
          "data": {
            "text/plain": [
              "City               object\n",
              "Colors Reported    object\n",
              "Shape Reported     object\n",
              "State              object\n",
              "Time               object\n",
              "dtype: object"
            ]
          },
          "metadata": {
            "tags": []
          },
          "execution_count": 167
        }
      ]
    },
    {
      "cell_type": "code",
      "metadata": {
        "id": "fafkeYN-EaEl"
      },
      "source": [
        "# Time column in object\r\n",
        "# we can change it to datetime\r\n",
        "ufo['Time'] = pd.to_datetime(ufo.Time)"
      ],
      "execution_count": 168,
      "outputs": []
    },
    {
      "cell_type": "code",
      "metadata": {
        "id": "jA6dynhaEkaA",
        "colab": {
          "base_uri": "https://localhost:8080/",
          "height": 206
        },
        "outputId": "18f72bfc-4dae-41e7-e659-3697c51bb9ec"
      },
      "source": [
        "ufo.head()"
      ],
      "execution_count": 169,
      "outputs": [
        {
          "output_type": "execute_result",
          "data": {
            "text/html": [
              "<div>\n",
              "<style scoped>\n",
              "    .dataframe tbody tr th:only-of-type {\n",
              "        vertical-align: middle;\n",
              "    }\n",
              "\n",
              "    .dataframe tbody tr th {\n",
              "        vertical-align: top;\n",
              "    }\n",
              "\n",
              "    .dataframe thead th {\n",
              "        text-align: right;\n",
              "    }\n",
              "</style>\n",
              "<table border=\"1\" class=\"dataframe\">\n",
              "  <thead>\n",
              "    <tr style=\"text-align: right;\">\n",
              "      <th></th>\n",
              "      <th>City</th>\n",
              "      <th>Colors Reported</th>\n",
              "      <th>Shape Reported</th>\n",
              "      <th>State</th>\n",
              "      <th>Time</th>\n",
              "    </tr>\n",
              "  </thead>\n",
              "  <tbody>\n",
              "    <tr>\n",
              "      <th>0</th>\n",
              "      <td>Ithaca</td>\n",
              "      <td>NaN</td>\n",
              "      <td>TRIANGLE</td>\n",
              "      <td>NY</td>\n",
              "      <td>1930-06-01 22:00:00</td>\n",
              "    </tr>\n",
              "    <tr>\n",
              "      <th>1</th>\n",
              "      <td>Willingboro</td>\n",
              "      <td>NaN</td>\n",
              "      <td>OTHER</td>\n",
              "      <td>NJ</td>\n",
              "      <td>1930-06-30 20:00:00</td>\n",
              "    </tr>\n",
              "    <tr>\n",
              "      <th>2</th>\n",
              "      <td>Holyoke</td>\n",
              "      <td>NaN</td>\n",
              "      <td>OVAL</td>\n",
              "      <td>CO</td>\n",
              "      <td>1931-02-15 14:00:00</td>\n",
              "    </tr>\n",
              "    <tr>\n",
              "      <th>3</th>\n",
              "      <td>Abilene</td>\n",
              "      <td>NaN</td>\n",
              "      <td>DISK</td>\n",
              "      <td>KS</td>\n",
              "      <td>1931-06-01 13:00:00</td>\n",
              "    </tr>\n",
              "    <tr>\n",
              "      <th>4</th>\n",
              "      <td>New York Worlds Fair</td>\n",
              "      <td>NaN</td>\n",
              "      <td>LIGHT</td>\n",
              "      <td>NY</td>\n",
              "      <td>1933-04-18 19:00:00</td>\n",
              "    </tr>\n",
              "  </tbody>\n",
              "</table>\n",
              "</div>"
            ],
            "text/plain": [
              "                   City Colors Reported  ... State                Time\n",
              "0                Ithaca             NaN  ...    NY 1930-06-01 22:00:00\n",
              "1           Willingboro             NaN  ...    NJ 1930-06-30 20:00:00\n",
              "2               Holyoke             NaN  ...    CO 1931-02-15 14:00:00\n",
              "3               Abilene             NaN  ...    KS 1931-06-01 13:00:00\n",
              "4  New York Worlds Fair             NaN  ...    NY 1933-04-18 19:00:00\n",
              "\n",
              "[5 rows x 5 columns]"
            ]
          },
          "metadata": {
            "tags": []
          },
          "execution_count": 169
        }
      ]
    },
    {
      "cell_type": "code",
      "metadata": {
        "id": "bN_XLl7kEmUe",
        "colab": {
          "base_uri": "https://localhost:8080/"
        },
        "outputId": "98c3eb35-cd3b-4aec-f61f-a6e88c013062"
      },
      "source": [
        "ufo.dtypes"
      ],
      "execution_count": 170,
      "outputs": [
        {
          "output_type": "execute_result",
          "data": {
            "text/plain": [
              "City                       object\n",
              "Colors Reported            object\n",
              "Shape Reported             object\n",
              "State                      object\n",
              "Time               datetime64[ns]\n",
              "dtype: object"
            ]
          },
          "metadata": {
            "tags": []
          },
          "execution_count": 170
        }
      ]
    },
    {
      "cell_type": "code",
      "metadata": {
        "id": "IQNnwndBEobm",
        "colab": {
          "base_uri": "https://localhost:8080/"
        },
        "outputId": "39d66619-62c7-4cc7-ff37-b7e38daae667"
      },
      "source": [
        "# This will unlock several pandas datetime object features\r\n",
        "ufo.Time.dt.hour"
      ],
      "execution_count": 171,
      "outputs": [
        {
          "output_type": "execute_result",
          "data": {
            "text/plain": [
              "0        22\n",
              "1        20\n",
              "2        14\n",
              "3        13\n",
              "4        19\n",
              "         ..\n",
              "18236    23\n",
              "18237    23\n",
              "18238    23\n",
              "18239    23\n",
              "18240    23\n",
              "Name: Time, Length: 18241, dtype: int64"
            ]
          },
          "metadata": {
            "tags": []
          },
          "execution_count": 171
        }
      ]
    },
    {
      "cell_type": "code",
      "metadata": {
        "id": "pC_DAH65E8mZ"
      },
      "source": [
        "ts = pd.to_datetime('1/1/1990')\r\n",
        "# my timestamp for reference"
      ],
      "execution_count": 172,
      "outputs": []
    },
    {
      "cell_type": "code",
      "metadata": {
        "id": "RItOrSCBExVg",
        "colab": {
          "base_uri": "https://localhost:8080/",
          "height": 206
        },
        "outputId": "63ff9f44-cdde-4cd0-c336-9f051ae359ae"
      },
      "source": [
        "# We can do masking as well\r\n",
        "ufo.loc[ufo.Time > ts,:].head()"
      ],
      "execution_count": 173,
      "outputs": [
        {
          "output_type": "execute_result",
          "data": {
            "text/html": [
              "<div>\n",
              "<style scoped>\n",
              "    .dataframe tbody tr th:only-of-type {\n",
              "        vertical-align: middle;\n",
              "    }\n",
              "\n",
              "    .dataframe tbody tr th {\n",
              "        vertical-align: top;\n",
              "    }\n",
              "\n",
              "    .dataframe thead th {\n",
              "        text-align: right;\n",
              "    }\n",
              "</style>\n",
              "<table border=\"1\" class=\"dataframe\">\n",
              "  <thead>\n",
              "    <tr style=\"text-align: right;\">\n",
              "      <th></th>\n",
              "      <th>City</th>\n",
              "      <th>Colors Reported</th>\n",
              "      <th>Shape Reported</th>\n",
              "      <th>State</th>\n",
              "      <th>Time</th>\n",
              "    </tr>\n",
              "  </thead>\n",
              "  <tbody>\n",
              "    <tr>\n",
              "      <th>6258</th>\n",
              "      <td>no data</td>\n",
              "      <td>NaN</td>\n",
              "      <td>NaN</td>\n",
              "      <td>NV</td>\n",
              "      <td>1990-01-01 23:00:00</td>\n",
              "    </tr>\n",
              "    <tr>\n",
              "      <th>6259</th>\n",
              "      <td>Barkhamsted</td>\n",
              "      <td>NaN</td>\n",
              "      <td>NaN</td>\n",
              "      <td>CT</td>\n",
              "      <td>1990-01-03 20:00:00</td>\n",
              "    </tr>\n",
              "    <tr>\n",
              "      <th>6260</th>\n",
              "      <td>New Orleans</td>\n",
              "      <td>NaN</td>\n",
              "      <td>DISK</td>\n",
              "      <td>LA</td>\n",
              "      <td>1990-01-06 22:00:00</td>\n",
              "    </tr>\n",
              "    <tr>\n",
              "      <th>6261</th>\n",
              "      <td>Sutton</td>\n",
              "      <td>NaN</td>\n",
              "      <td>VARIOUS</td>\n",
              "      <td>AK</td>\n",
              "      <td>1990-01-07 09:00:00</td>\n",
              "    </tr>\n",
              "    <tr>\n",
              "      <th>6262</th>\n",
              "      <td>Americus</td>\n",
              "      <td>NaN</td>\n",
              "      <td>OVAL</td>\n",
              "      <td>IN</td>\n",
              "      <td>1990-01-11 03:30:00</td>\n",
              "    </tr>\n",
              "  </tbody>\n",
              "</table>\n",
              "</div>"
            ],
            "text/plain": [
              "             City Colors Reported Shape Reported State                Time\n",
              "6258      no data             NaN            NaN    NV 1990-01-01 23:00:00\n",
              "6259  Barkhamsted             NaN            NaN    CT 1990-01-03 20:00:00\n",
              "6260  New Orleans             NaN           DISK    LA 1990-01-06 22:00:00\n",
              "6261       Sutton             NaN        VARIOUS    AK 1990-01-07 09:00:00\n",
              "6262     Americus             NaN           OVAL    IN 1990-01-11 03:30:00"
            ]
          },
          "metadata": {
            "tags": []
          },
          "execution_count": 173
        }
      ]
    },
    {
      "cell_type": "code",
      "metadata": {
        "id": "oxvBJD0oFEQt",
        "colab": {
          "base_uri": "https://localhost:8080/"
        },
        "outputId": "e70fe44a-94ca-438d-e0b9-a9e00473ba13"
      },
      "source": [
        "# we can even do math with time series\r\n",
        "ufo.Time.max() - ufo.Time.min()"
      ],
      "execution_count": 174,
      "outputs": [
        {
          "output_type": "execute_result",
          "data": {
            "text/plain": [
              "Timedelta('25781 days 01:59:00')"
            ]
          },
          "metadata": {
            "tags": []
          },
          "execution_count": 174
        }
      ]
    },
    {
      "cell_type": "code",
      "metadata": {
        "id": "W0rQ_lKGFgqd",
        "colab": {
          "base_uri": "https://localhost:8080/"
        },
        "outputId": "1476e9c9-4105-4a82-a7a8-22ec6db52526"
      },
      "source": [
        "(ufo.Time.max() - ufo.Time.min()).days"
      ],
      "execution_count": 175,
      "outputs": [
        {
          "output_type": "execute_result",
          "data": {
            "text/plain": [
              "25781"
            ]
          },
          "metadata": {
            "tags": []
          },
          "execution_count": 175
        }
      ]
    },
    {
      "cell_type": "code",
      "metadata": {
        "id": "o448YOgzFkgm"
      },
      "source": [
        "ufo['Year'] = ufo.Time.dt.year"
      ],
      "execution_count": 176,
      "outputs": []
    },
    {
      "cell_type": "code",
      "metadata": {
        "id": "p7Xf0B0rGfUr",
        "colab": {
          "base_uri": "https://localhost:8080/",
          "height": 206
        },
        "outputId": "3d917929-7e59-4c4a-8141-1685bba7582d"
      },
      "source": [
        "ufo.head()"
      ],
      "execution_count": 177,
      "outputs": [
        {
          "output_type": "execute_result",
          "data": {
            "text/html": [
              "<div>\n",
              "<style scoped>\n",
              "    .dataframe tbody tr th:only-of-type {\n",
              "        vertical-align: middle;\n",
              "    }\n",
              "\n",
              "    .dataframe tbody tr th {\n",
              "        vertical-align: top;\n",
              "    }\n",
              "\n",
              "    .dataframe thead th {\n",
              "        text-align: right;\n",
              "    }\n",
              "</style>\n",
              "<table border=\"1\" class=\"dataframe\">\n",
              "  <thead>\n",
              "    <tr style=\"text-align: right;\">\n",
              "      <th></th>\n",
              "      <th>City</th>\n",
              "      <th>Colors Reported</th>\n",
              "      <th>Shape Reported</th>\n",
              "      <th>State</th>\n",
              "      <th>Time</th>\n",
              "      <th>Year</th>\n",
              "    </tr>\n",
              "  </thead>\n",
              "  <tbody>\n",
              "    <tr>\n",
              "      <th>0</th>\n",
              "      <td>Ithaca</td>\n",
              "      <td>NaN</td>\n",
              "      <td>TRIANGLE</td>\n",
              "      <td>NY</td>\n",
              "      <td>1930-06-01 22:00:00</td>\n",
              "      <td>1930</td>\n",
              "    </tr>\n",
              "    <tr>\n",
              "      <th>1</th>\n",
              "      <td>Willingboro</td>\n",
              "      <td>NaN</td>\n",
              "      <td>OTHER</td>\n",
              "      <td>NJ</td>\n",
              "      <td>1930-06-30 20:00:00</td>\n",
              "      <td>1930</td>\n",
              "    </tr>\n",
              "    <tr>\n",
              "      <th>2</th>\n",
              "      <td>Holyoke</td>\n",
              "      <td>NaN</td>\n",
              "      <td>OVAL</td>\n",
              "      <td>CO</td>\n",
              "      <td>1931-02-15 14:00:00</td>\n",
              "      <td>1931</td>\n",
              "    </tr>\n",
              "    <tr>\n",
              "      <th>3</th>\n",
              "      <td>Abilene</td>\n",
              "      <td>NaN</td>\n",
              "      <td>DISK</td>\n",
              "      <td>KS</td>\n",
              "      <td>1931-06-01 13:00:00</td>\n",
              "      <td>1931</td>\n",
              "    </tr>\n",
              "    <tr>\n",
              "      <th>4</th>\n",
              "      <td>New York Worlds Fair</td>\n",
              "      <td>NaN</td>\n",
              "      <td>LIGHT</td>\n",
              "      <td>NY</td>\n",
              "      <td>1933-04-18 19:00:00</td>\n",
              "      <td>1933</td>\n",
              "    </tr>\n",
              "  </tbody>\n",
              "</table>\n",
              "</div>"
            ],
            "text/plain": [
              "                   City Colors Reported  ...                Time  Year\n",
              "0                Ithaca             NaN  ... 1930-06-01 22:00:00  1930\n",
              "1           Willingboro             NaN  ... 1930-06-30 20:00:00  1930\n",
              "2               Holyoke             NaN  ... 1931-02-15 14:00:00  1931\n",
              "3               Abilene             NaN  ... 1931-06-01 13:00:00  1931\n",
              "4  New York Worlds Fair             NaN  ... 1933-04-18 19:00:00  1933\n",
              "\n",
              "[5 rows x 6 columns]"
            ]
          },
          "metadata": {
            "tags": []
          },
          "execution_count": 177
        }
      ]
    },
    {
      "cell_type": "code",
      "metadata": {
        "id": "M3HikaOJGiOy",
        "colab": {
          "base_uri": "https://localhost:8080/",
          "height": 283
        },
        "outputId": "a1eaab1a-9d81-4e67-d166-5e0db22b5910"
      },
      "source": [
        "ufo.Year.value_counts().sort_index().plot()"
      ],
      "execution_count": 178,
      "outputs": [
        {
          "output_type": "execute_result",
          "data": {
            "text/plain": [
              "<matplotlib.axes._subplots.AxesSubplot at 0x7f4f09e19748>"
            ]
          },
          "metadata": {
            "tags": []
          },
          "execution_count": 178
        },
        {
          "output_type": "display_data",
          "data": {
            "image/png": "[encoded data removed]",
            "text/plain": [
              "<Figure size 432x288 with 1 Axes>"
            ]
          },
          "metadata": {
            "tags": [],
            "needs_background": "light"
          }
        }
      ]
    },
    {
      "cell_type": "markdown",
      "metadata": {
        "id": "u-yqDw6EGrBc"
      },
      "source": [
        "**How do I remove duplicate rows in pandas?**"
      ]
    },
    {
      "cell_type": "code",
      "metadata": {
        "id": "kAWB-msNGlxo"
      },
      "source": [
        "user_cols = ['user_id','age','gender','occupation','zip_code']\r\n",
        "users = pd.read_table('http://bit.ly/movieusers', sep='|', header=None, names=user_cols)"
      ],
      "execution_count": 179,
      "outputs": []
    },
    {
      "cell_type": "code",
      "metadata": {
        "id": "qSmYZ09dHPJE",
        "colab": {
          "base_uri": "https://localhost:8080/",
          "height": 206
        },
        "outputId": "23c833d1-3600-477e-e7b3-128756cd8707"
      },
      "source": [
        "users.head()"
      ],
      "execution_count": 180,
      "outputs": [
        {
          "output_type": "execute_result",
          "data": {
            "text/html": [
              "<div>\n",
              "<style scoped>\n",
              "    .dataframe tbody tr th:only-of-type {\n",
              "        vertical-align: middle;\n",
              "    }\n",
              "\n",
              "    .dataframe tbody tr th {\n",
              "        vertical-align: top;\n",
              "    }\n",
              "\n",
              "    .dataframe thead th {\n",
              "        text-align: right;\n",
              "    }\n",
              "</style>\n",
              "<table border=\"1\" class=\"dataframe\">\n",
              "  <thead>\n",
              "    <tr style=\"text-align: right;\">\n",
              "      <th></th>\n",
              "      <th>user_id</th>\n",
              "      <th>age</th>\n",
              "      <th>gender</th>\n",
              "      <th>occupation</th>\n",
              "      <th>zip_code</th>\n",
              "    </tr>\n",
              "  </thead>\n",
              "  <tbody>\n",
              "    <tr>\n",
              "      <th>0</th>\n",
              "      <td>1</td>\n",
              "      <td>24</td>\n",
              "      <td>M</td>\n",
              "      <td>technician</td>\n",
              "      <td>85711</td>\n",
              "    </tr>\n",
              "    <tr>\n",
              "      <th>1</th>\n",
              "      <td>2</td>\n",
              "      <td>53</td>\n",
              "      <td>F</td>\n",
              "      <td>other</td>\n",
              "      <td>94043</td>\n",
              "    </tr>\n",
              "    <tr>\n",
              "      <th>2</th>\n",
              "      <td>3</td>\n",
              "      <td>23</td>\n",
              "      <td>M</td>\n",
              "      <td>writer</td>\n",
              "      <td>32067</td>\n",
              "    </tr>\n",
              "    <tr>\n",
              "      <th>3</th>\n",
              "      <td>4</td>\n",
              "      <td>24</td>\n",
              "      <td>M</td>\n",
              "      <td>technician</td>\n",
              "      <td>43537</td>\n",
              "    </tr>\n",
              "    <tr>\n",
              "      <th>4</th>\n",
              "      <td>5</td>\n",
              "      <td>33</td>\n",
              "      <td>F</td>\n",
              "      <td>other</td>\n",
              "      <td>15213</td>\n",
              "    </tr>\n",
              "  </tbody>\n",
              "</table>\n",
              "</div>"
            ],
            "text/plain": [
              "   user_id  age gender  occupation zip_code\n",
              "0        1   24      M  technician    85711\n",
              "1        2   53      F       other    94043\n",
              "2        3   23      M      writer    32067\n",
              "3        4   24      M  technician    43537\n",
              "4        5   33      F       other    15213"
            ]
          },
          "metadata": {
            "tags": []
          },
          "execution_count": 180
        }
      ]
    },
    {
      "cell_type": "code",
      "metadata": {
        "id": "tagp6SAMHRTg",
        "colab": {
          "base_uri": "https://localhost:8080/",
          "height": 238
        },
        "outputId": "9c3996b4-b4c7-4697-e08c-8f7e99c96fc2"
      },
      "source": [
        "users.set_index('user_id').head()"
      ],
      "execution_count": 181,
      "outputs": [
        {
          "output_type": "execute_result",
          "data": {
            "text/html": [
              "<div>\n",
              "<style scoped>\n",
              "    .dataframe tbody tr th:only-of-type {\n",
              "        vertical-align: middle;\n",
              "    }\n",
              "\n",
              "    .dataframe tbody tr th {\n",
              "        vertical-align: top;\n",
              "    }\n",
              "\n",
              "    .dataframe thead th {\n",
              "        text-align: right;\n",
              "    }\n",
              "</style>\n",
              "<table border=\"1\" class=\"dataframe\">\n",
              "  <thead>\n",
              "    <tr style=\"text-align: right;\">\n",
              "      <th></th>\n",
              "      <th>age</th>\n",
              "      <th>gender</th>\n",
              "      <th>occupation</th>\n",
              "      <th>zip_code</th>\n",
              "    </tr>\n",
              "    <tr>\n",
              "      <th>user_id</th>\n",
              "      <th></th>\n",
              "      <th></th>\n",
              "      <th></th>\n",
              "      <th></th>\n",
              "    </tr>\n",
              "  </thead>\n",
              "  <tbody>\n",
              "    <tr>\n",
              "      <th>1</th>\n",
              "      <td>24</td>\n",
              "      <td>M</td>\n",
              "      <td>technician</td>\n",
              "      <td>85711</td>\n",
              "    </tr>\n",
              "    <tr>\n",
              "      <th>2</th>\n",
              "      <td>53</td>\n",
              "      <td>F</td>\n",
              "      <td>other</td>\n",
              "      <td>94043</td>\n",
              "    </tr>\n",
              "    <tr>\n",
              "      <th>3</th>\n",
              "      <td>23</td>\n",
              "      <td>M</td>\n",
              "      <td>writer</td>\n",
              "      <td>32067</td>\n",
              "    </tr>\n",
              "    <tr>\n",
              "      <th>4</th>\n",
              "      <td>24</td>\n",
              "      <td>M</td>\n",
              "      <td>technician</td>\n",
              "      <td>43537</td>\n",
              "    </tr>\n",
              "    <tr>\n",
              "      <th>5</th>\n",
              "      <td>33</td>\n",
              "      <td>F</td>\n",
              "      <td>other</td>\n",
              "      <td>15213</td>\n",
              "    </tr>\n",
              "  </tbody>\n",
              "</table>\n",
              "</div>"
            ],
            "text/plain": [
              "         age gender  occupation zip_code\n",
              "user_id                                 \n",
              "1         24      M  technician    85711\n",
              "2         53      F       other    94043\n",
              "3         23      M      writer    32067\n",
              "4         24      M  technician    43537\n",
              "5         33      F       other    15213"
            ]
          },
          "metadata": {
            "tags": []
          },
          "execution_count": 181
        }
      ]
    },
    {
      "cell_type": "code",
      "metadata": {
        "id": "HCLMhr6RHVfL",
        "colab": {
          "base_uri": "https://localhost:8080/"
        },
        "outputId": "252ed7d2-7d38-40dc-c18f-a269797156c3"
      },
      "source": [
        "users.shape"
      ],
      "execution_count": 182,
      "outputs": [
        {
          "output_type": "execute_result",
          "data": {
            "text/plain": [
              "(943, 5)"
            ]
          },
          "metadata": {
            "tags": []
          },
          "execution_count": 182
        }
      ]
    },
    {
      "cell_type": "code",
      "metadata": {
        "id": "rQlIuqIpHYHT",
        "colab": {
          "base_uri": "https://localhost:8080/"
        },
        "outputId": "cbb1a348-e4e9-466b-9ba7-bd3d01a2cc95"
      },
      "source": [
        "users.zip_code.duplicated().sum()\r\n",
        "# counts the number of duplicate values in zip_code column\r\n",
        "# since zip code will have same values most of the times"
      ],
      "execution_count": 183,
      "outputs": [
        {
          "output_type": "execute_result",
          "data": {
            "text/plain": [
              "148"
            ]
          },
          "metadata": {
            "tags": []
          },
          "execution_count": 183
        }
      ]
    },
    {
      "cell_type": "markdown",
      "metadata": {
        "id": "lVjPj9kBIWL-"
      },
      "source": [
        "**Merging DataFrame in pandas**"
      ]
    },
    {
      "cell_type": "code",
      "metadata": {
        "id": "jEG9MdM8HkM6"
      },
      "source": [
        "# Some of the functions that are frequently used in Merging the dataframes:\r\n",
        "# df1.append(df2)  : stacking vertically\r\n",
        "# pd.concat([df1,df2]) : stacking horizontally or vertically\r\n",
        "# df1.join(df2)  : inner/outer/left/right joins on indexs\r\n",
        "# pd.merge([df1,df2]) : many joins on multiple columns"
      ],
      "execution_count": 184,
      "outputs": []
    },
    {
      "cell_type": "markdown",
      "metadata": {
        "id": "kp6BSRxtI9T1"
      },
      "source": [
        "\r\n",
        "pd.merge() basically all we need to learn.\r\n",
        "\r\n",
        "pd.merge(df1,df2) merges all column with the same name. It went from left and trying to find every instance available in df2 with merging column\r\n",
        "\r\n",
        "pd.merge(df1,df2, left_on = 'specify_col_for left_df', right_on='coln_name_for_right_df')\r\n",
        "\r\n",
        "pd.merge(df1,df2, left_index=True, right_on='col_name') if left df is merged using the index rather than the column\r\n",
        "\r\n",
        "pd.merge(df1,df2, how='inner') matches coln name to join and only joins that your join on is present on both dfs\r\n",
        "\r\n",
        "pd.merge(df1,df2, how='outer') this time includes all the rows from both dfs\r\n",
        "\r\n",
        "pd.merge(df1,df2, how='left') keeps all keys of left df at least\r\n",
        "\r\n",
        "pd.merge(df1,df2, how='right') keeps all keys of right df at least\r\n"
      ]
    },
    {
      "cell_type": "markdown",
      "metadata": {
        "id": "sSnDSMP2JIea"
      },
      "source": [
        "**How do I apply a function to a pandas Series or DataFrame?**"
      ]
    },
    {
      "cell_type": "code",
      "metadata": {
        "id": "mMGu3cPJI4wF",
        "colab": {
          "base_uri": "https://localhost:8080/",
          "height": 206
        },
        "outputId": "1713fa95-9fef-4f5b-f95f-7492cd002312"
      },
      "source": [
        "train = pd.read_csv('http://bit.ly/kaggletrain')\r\n",
        "train.head()"
      ],
      "execution_count": 185,
      "outputs": [
        {
          "output_type": "execute_result",
          "data": {
            "text/html": [
              "<div>\n",
              "<style scoped>\n",
              "    .dataframe tbody tr th:only-of-type {\n",
              "        vertical-align: middle;\n",
              "    }\n",
              "\n",
              "    .dataframe tbody tr th {\n",
              "        vertical-align: top;\n",
              "    }\n",
              "\n",
              "    .dataframe thead th {\n",
              "        text-align: right;\n",
              "    }\n",
              "</style>\n",
              "<table border=\"1\" class=\"dataframe\">\n",
              "  <thead>\n",
              "    <tr style=\"text-align: right;\">\n",
              "      <th></th>\n",
              "      <th>PassengerId</th>\n",
              "      <th>Survived</th>\n",
              "      <th>Pclass</th>\n",
              "      <th>Name</th>\n",
              "      <th>Sex</th>\n",
              "      <th>Age</th>\n",
              "      <th>SibSp</th>\n",
              "      <th>Parch</th>\n",
              "      <th>Ticket</th>\n",
              "      <th>Fare</th>\n",
              "      <th>Cabin</th>\n",
              "      <th>Embarked</th>\n",
              "    </tr>\n",
              "  </thead>\n",
              "  <tbody>\n",
              "    <tr>\n",
              "      <th>0</th>\n",
              "      <td>1</td>\n",
              "      <td>0</td>\n",
              "      <td>3</td>\n",
              "      <td>Braund, Mr. Owen Harris</td>\n",
              "      <td>male</td>\n",
              "      <td>22.0</td>\n",
              "      <td>1</td>\n",
              "      <td>0</td>\n",
              "      <td>A/5 21171</td>\n",
              "      <td>7.2500</td>\n",
              "      <td>NaN</td>\n",
              "      <td>S</td>\n",
              "    </tr>\n",
              "    <tr>\n",
              "      <th>1</th>\n",
              "      <td>2</td>\n",
              "      <td>1</td>\n",
              "      <td>1</td>\n",
              "      <td>Cumings, Mrs. John Bradley (Florence Briggs Th...</td>\n",
              "      <td>female</td>\n",
              "      <td>38.0</td>\n",
              "      <td>1</td>\n",
              "      <td>0</td>\n",
              "      <td>PC 17599</td>\n",
              "      <td>71.2833</td>\n",
              "      <td>C85</td>\n",
              "      <td>C</td>\n",
              "    </tr>\n",
              "    <tr>\n",
              "      <th>2</th>\n",
              "      <td>3</td>\n",
              "      <td>1</td>\n",
              "      <td>3</td>\n",
              "      <td>Heikkinen, Miss. Laina</td>\n",
              "      <td>female</td>\n",
              "      <td>26.0</td>\n",
              "      <td>0</td>\n",
              "      <td>0</td>\n",
              "      <td>STON/O2. 3101282</td>\n",
              "      <td>7.9250</td>\n",
              "      <td>NaN</td>\n",
              "      <td>S</td>\n",
              "    </tr>\n",
              "    <tr>\n",
              "      <th>3</th>\n",
              "      <td>4</td>\n",
              "      <td>1</td>\n",
              "      <td>1</td>\n",
              "      <td>Futrelle, Mrs. Jacques Heath (Lily May Peel)</td>\n",
              "      <td>female</td>\n",
              "      <td>35.0</td>\n",
              "      <td>1</td>\n",
              "      <td>0</td>\n",
              "      <td>113803</td>\n",
              "      <td>53.1000</td>\n",
              "      <td>C123</td>\n",
              "      <td>S</td>\n",
              "    </tr>\n",
              "    <tr>\n",
              "      <th>4</th>\n",
              "      <td>5</td>\n",
              "      <td>0</td>\n",
              "      <td>3</td>\n",
              "      <td>Allen, Mr. William Henry</td>\n",
              "      <td>male</td>\n",
              "      <td>35.0</td>\n",
              "      <td>0</td>\n",
              "      <td>0</td>\n",
              "      <td>373450</td>\n",
              "      <td>8.0500</td>\n",
              "      <td>NaN</td>\n",
              "      <td>S</td>\n",
              "    </tr>\n",
              "  </tbody>\n",
              "</table>\n",
              "</div>"
            ],
            "text/plain": [
              "   PassengerId  Survived  Pclass  ...     Fare Cabin  Embarked\n",
              "0            1         0       3  ...   7.2500   NaN         S\n",
              "1            2         1       1  ...  71.2833   C85         C\n",
              "2            3         1       3  ...   7.9250   NaN         S\n",
              "3            4         1       1  ...  53.1000  C123         S\n",
              "4            5         0       3  ...   8.0500   NaN         S\n",
              "\n",
              "[5 rows x 12 columns]"
            ]
          },
          "metadata": {
            "tags": []
          },
          "execution_count": 185
        }
      ]
    },
    {
      "cell_type": "code",
      "metadata": {
        "id": "WS2IkHJ6JUr0"
      },
      "source": [
        "# map() is a Series method\r\n",
        "# In this case, lets say we want to create a dummy variable for the Seris Sex values i.e. 1 for male and 0 for female"
      ],
      "execution_count": 186,
      "outputs": []
    },
    {
      "cell_type": "code",
      "metadata": {
        "id": "bVmZYlmlK3Cu"
      },
      "source": [
        "train['Sex_num'] = train.Sex.map({'male':1,'female':0})"
      ],
      "execution_count": 187,
      "outputs": []
    },
    {
      "cell_type": "code",
      "metadata": {
        "id": "Aome9diVK6Xx",
        "colab": {
          "base_uri": "https://localhost:8080/",
          "height": 206
        },
        "outputId": "239ca57d-8e27-4b39-c8c1-bd25eb6e9743"
      },
      "source": [
        "train.loc[0:4,['Sex','Sex_num']]"
      ],
      "execution_count": 188,
      "outputs": [
        {
          "output_type": "execute_result",
          "data": {
            "text/html": [
              "<div>\n",
              "<style scoped>\n",
              "    .dataframe tbody tr th:only-of-type {\n",
              "        vertical-align: middle;\n",
              "    }\n",
              "\n",
              "    .dataframe tbody tr th {\n",
              "        vertical-align: top;\n",
              "    }\n",
              "\n",
              "    .dataframe thead th {\n",
              "        text-align: right;\n",
              "    }\n",
              "</style>\n",
              "<table border=\"1\" class=\"dataframe\">\n",
              "  <thead>\n",
              "    <tr style=\"text-align: right;\">\n",
              "      <th></th>\n",
              "      <th>Sex</th>\n",
              "      <th>Sex_num</th>\n",
              "    </tr>\n",
              "  </thead>\n",
              "  <tbody>\n",
              "    <tr>\n",
              "      <th>0</th>\n",
              "      <td>male</td>\n",
              "      <td>1</td>\n",
              "    </tr>\n",
              "    <tr>\n",
              "      <th>1</th>\n",
              "      <td>female</td>\n",
              "      <td>0</td>\n",
              "    </tr>\n",
              "    <tr>\n",
              "      <th>2</th>\n",
              "      <td>female</td>\n",
              "      <td>0</td>\n",
              "    </tr>\n",
              "    <tr>\n",
              "      <th>3</th>\n",
              "      <td>female</td>\n",
              "      <td>0</td>\n",
              "    </tr>\n",
              "    <tr>\n",
              "      <th>4</th>\n",
              "      <td>male</td>\n",
              "      <td>1</td>\n",
              "    </tr>\n",
              "  </tbody>\n",
              "</table>\n",
              "</div>"
            ],
            "text/plain": [
              "      Sex  Sex_num\n",
              "0    male        1\n",
              "1  female        0\n",
              "2  female        0\n",
              "3  female        0\n",
              "4    male        1"
            ]
          },
          "metadata": {
            "tags": []
          },
          "execution_count": 188
        }
      ]
    },
    {
      "cell_type": "code",
      "metadata": {
        "id": "uiTP9TckLCYn"
      },
      "source": [
        "# apply() method applies a function to each element in the Series\r\n",
        "train['Name_length'] = train.Name.apply(len)"
      ],
      "execution_count": 189,
      "outputs": []
    },
    {
      "cell_type": "code",
      "metadata": {
        "id": "ZskSqb8zLHvx",
        "colab": {
          "base_uri": "https://localhost:8080/",
          "height": 206
        },
        "outputId": "8cd4f0d3-1427-4b7c-cb90-eb2f1e8ec393"
      },
      "source": [
        "train.loc[0:4,['Name','Name_length']]"
      ],
      "execution_count": 190,
      "outputs": [
        {
          "output_type": "execute_result",
          "data": {
            "text/html": [
              "<div>\n",
              "<style scoped>\n",
              "    .dataframe tbody tr th:only-of-type {\n",
              "        vertical-align: middle;\n",
              "    }\n",
              "\n",
              "    .dataframe tbody tr th {\n",
              "        vertical-align: top;\n",
              "    }\n",
              "\n",
              "    .dataframe thead th {\n",
              "        text-align: right;\n",
              "    }\n",
              "</style>\n",
              "<table border=\"1\" class=\"dataframe\">\n",
              "  <thead>\n",
              "    <tr style=\"text-align: right;\">\n",
              "      <th></th>\n",
              "      <th>Name</th>\n",
              "      <th>Name_length</th>\n",
              "    </tr>\n",
              "  </thead>\n",
              "  <tbody>\n",
              "    <tr>\n",
              "      <th>0</th>\n",
              "      <td>Braund, Mr. Owen Harris</td>\n",
              "      <td>23</td>\n",
              "    </tr>\n",
              "    <tr>\n",
              "      <th>1</th>\n",
              "      <td>Cumings, Mrs. John Bradley (Florence Briggs Th...</td>\n",
              "      <td>51</td>\n",
              "    </tr>\n",
              "    <tr>\n",
              "      <th>2</th>\n",
              "      <td>Heikkinen, Miss. Laina</td>\n",
              "      <td>22</td>\n",
              "    </tr>\n",
              "    <tr>\n",
              "      <th>3</th>\n",
              "      <td>Futrelle, Mrs. Jacques Heath (Lily May Peel)</td>\n",
              "      <td>44</td>\n",
              "    </tr>\n",
              "    <tr>\n",
              "      <th>4</th>\n",
              "      <td>Allen, Mr. William Henry</td>\n",
              "      <td>24</td>\n",
              "    </tr>\n",
              "  </tbody>\n",
              "</table>\n",
              "</div>"
            ],
            "text/plain": [
              "                                                Name  Name_length\n",
              "0                            Braund, Mr. Owen Harris           23\n",
              "1  Cumings, Mrs. John Bradley (Florence Briggs Th...           51\n",
              "2                             Heikkinen, Miss. Laina           22\n",
              "3       Futrelle, Mrs. Jacques Heath (Lily May Peel)           44\n",
              "4                           Allen, Mr. William Henry           24"
            ]
          },
          "metadata": {
            "tags": []
          },
          "execution_count": 190
        }
      ]
    },
    {
      "cell_type": "code",
      "metadata": {
        "id": "BJzutV45LLB_"
      },
      "source": [
        "# lets use apply() to more complicated task.\r\n",
        "# lets say we want to get only the last names from the Name column and create new column for it\r\n",
        "# lets create our function that does this job and later we will apply this function to the required Series"
      ],
      "execution_count": 191,
      "outputs": []
    },
    {
      "cell_type": "code",
      "metadata": {
        "id": "A2JqdIvyLOxR"
      },
      "source": [
        "def get_last_name(my_list,position):\r\n",
        "  return my_list[position]"
      ],
      "execution_count": 192,
      "outputs": []
    },
    {
      "cell_type": "code",
      "metadata": {
        "id": "ZgRbc6MmLRKn",
        "colab": {
          "base_uri": "https://localhost:8080/"
        },
        "outputId": "2ceba488-4df6-4ac7-86e6-26cf440094e2"
      },
      "source": [
        "train.Name.str.split(',').apply(get_last_name,position=0) # we first split the list element"
      ],
      "execution_count": 193,
      "outputs": [
        {
          "output_type": "execute_result",
          "data": {
            "text/plain": [
              "0         Braund\n",
              "1        Cumings\n",
              "2      Heikkinen\n",
              "3       Futrelle\n",
              "4          Allen\n",
              "         ...    \n",
              "886     Montvila\n",
              "887       Graham\n",
              "888     Johnston\n",
              "889         Behr\n",
              "890       Dooley\n",
              "Name: Name, Length: 891, dtype: object"
            ]
          },
          "metadata": {
            "tags": []
          },
          "execution_count": 193
        }
      ]
    },
    {
      "cell_type": "code",
      "metadata": {
        "id": "k_CTu8ONLT_S",
        "colab": {
          "base_uri": "https://localhost:8080/"
        },
        "outputId": "ed832c4b-cd18-4c67-f520-6e8e56058a60"
      },
      "source": [
        "# using lambda function in such cases is common, because you don't need to make your small function everytime\r\n",
        "train.Name.str.split(',').apply(lambda x:x[0]).head()"
      ],
      "execution_count": 194,
      "outputs": [
        {
          "output_type": "execute_result",
          "data": {
            "text/plain": [
              "0       Braund\n",
              "1      Cumings\n",
              "2    Heikkinen\n",
              "3     Futrelle\n",
              "4        Allen\n",
              "Name: Name, dtype: object"
            ]
          },
          "metadata": {
            "tags": []
          },
          "execution_count": 194
        }
      ]
    },
    {
      "cell_type": "code",
      "metadata": {
        "id": "RteUzF0-LYoP",
        "colab": {
          "base_uri": "https://localhost:8080/"
        },
        "outputId": "c5b8575c-e44e-429c-9fe5-db426e39f56f"
      },
      "source": [
        "# lets say I want to know maximum values in beer_servings through wine_servings coln\r\n",
        "drinks.loc[:,'beer_servings':'wine_servings'].apply(max,axis=0)"
      ],
      "execution_count": 195,
      "outputs": [
        {
          "output_type": "execute_result",
          "data": {
            "text/plain": [
              "beer_servings      376\n",
              "spirit_servings    438\n",
              "wine_servings      370\n",
              "dtype: int64"
            ]
          },
          "metadata": {
            "tags": []
          },
          "execution_count": 195
        }
      ]
    },
    {
      "cell_type": "markdown",
      "metadata": {
        "id": "UkVHwOKEL9G5"
      },
      "source": [
        "**How do I create a pandas DataFrame from another object?**"
      ]
    },
    {
      "cell_type": "code",
      "metadata": {
        "id": "cI52MEEWLmHB"
      },
      "source": [
        "# lets first create using Dictionary\r\n",
        "# keys become a column names, and values become in order values in df\r\n",
        "df = pd.DataFrame({'id':[100,101,102], 'color':['red','blue','red']},columns=['id','color'],index=['a','b','c'])"
      ],
      "execution_count": 196,
      "outputs": []
    },
    {
      "cell_type": "code",
      "metadata": {
        "id": "5obNyXWlMGe0",
        "colab": {
          "base_uri": "https://localhost:8080/",
          "height": 143
        },
        "outputId": "90c00234-3ad7-45c9-ede1-4915727b24b1"
      },
      "source": [
        "df"
      ],
      "execution_count": 197,
      "outputs": [
        {
          "output_type": "execute_result",
          "data": {
            "text/html": [
              "<div>\n",
              "<style scoped>\n",
              "    .dataframe tbody tr th:only-of-type {\n",
              "        vertical-align: middle;\n",
              "    }\n",
              "\n",
              "    .dataframe tbody tr th {\n",
              "        vertical-align: top;\n",
              "    }\n",
              "\n",
              "    .dataframe thead th {\n",
              "        text-align: right;\n",
              "    }\n",
              "</style>\n",
              "<table border=\"1\" class=\"dataframe\">\n",
              "  <thead>\n",
              "    <tr style=\"text-align: right;\">\n",
              "      <th></th>\n",
              "      <th>id</th>\n",
              "      <th>color</th>\n",
              "    </tr>\n",
              "  </thead>\n",
              "  <tbody>\n",
              "    <tr>\n",
              "      <th>a</th>\n",
              "      <td>100</td>\n",
              "      <td>red</td>\n",
              "    </tr>\n",
              "    <tr>\n",
              "      <th>b</th>\n",
              "      <td>101</td>\n",
              "      <td>blue</td>\n",
              "    </tr>\n",
              "    <tr>\n",
              "      <th>c</th>\n",
              "      <td>102</td>\n",
              "      <td>red</td>\n",
              "    </tr>\n",
              "  </tbody>\n",
              "</table>\n",
              "</div>"
            ],
            "text/plain": [
              "    id color\n",
              "a  100   red\n",
              "b  101  blue\n",
              "c  102   red"
            ]
          },
          "metadata": {
            "tags": []
          },
          "execution_count": 197
        }
      ]
    },
    {
      "cell_type": "code",
      "metadata": {
        "id": "xCrLXoFzMKTT",
        "colab": {
          "base_uri": "https://localhost:8080/",
          "height": 143
        },
        "outputId": "85cc9568-d807-442b-af95-b8197d3a2124"
      },
      "source": [
        "# Second way: list of lists. Each inner list becomes one row and they stack on top of each other\r\n",
        "pd.DataFrame([[100,'red'], [101,'blue'], [102,'red']], columns=['id','color'])"
      ],
      "execution_count": 198,
      "outputs": [
        {
          "output_type": "execute_result",
          "data": {
            "text/html": [
              "<div>\n",
              "<style scoped>\n",
              "    .dataframe tbody tr th:only-of-type {\n",
              "        vertical-align: middle;\n",
              "    }\n",
              "\n",
              "    .dataframe tbody tr th {\n",
              "        vertical-align: top;\n",
              "    }\n",
              "\n",
              "    .dataframe thead th {\n",
              "        text-align: right;\n",
              "    }\n",
              "</style>\n",
              "<table border=\"1\" class=\"dataframe\">\n",
              "  <thead>\n",
              "    <tr style=\"text-align: right;\">\n",
              "      <th></th>\n",
              "      <th>id</th>\n",
              "      <th>color</th>\n",
              "    </tr>\n",
              "  </thead>\n",
              "  <tbody>\n",
              "    <tr>\n",
              "      <th>0</th>\n",
              "      <td>100</td>\n",
              "      <td>red</td>\n",
              "    </tr>\n",
              "    <tr>\n",
              "      <th>1</th>\n",
              "      <td>101</td>\n",
              "      <td>blue</td>\n",
              "    </tr>\n",
              "    <tr>\n",
              "      <th>2</th>\n",
              "      <td>102</td>\n",
              "      <td>red</td>\n",
              "    </tr>\n",
              "  </tbody>\n",
              "</table>\n",
              "</div>"
            ],
            "text/plain": [
              "    id color\n",
              "0  100   red\n",
              "1  101  blue\n",
              "2  102   red"
            ]
          },
          "metadata": {
            "tags": []
          },
          "execution_count": 198
        }
      ]
    },
    {
      "cell_type": "code",
      "metadata": {
        "id": "rgiBP-Y1MM_2",
        "colab": {
          "base_uri": "https://localhost:8080/"
        },
        "outputId": "4cb28763-9191-4752-f8c5-f2f4fff8fe25"
      },
      "source": [
        "# third way: converting numpy array to dataframe\r\n",
        "import numpy as np\r\n",
        "arr = np.random.rand(4,2) # creates 4 by 2 numpy array of random numbers\r\n",
        "arr"
      ],
      "execution_count": 199,
      "outputs": [
        {
          "output_type": "execute_result",
          "data": {
            "text/plain": [
              "array([[0.12804236, 0.41085105],\n",
              "       [0.30417477, 0.71073328],\n",
              "       [0.119254  , 0.4767758 ],\n",
              "       [0.558412  , 0.6907905 ]])"
            ]
          },
          "metadata": {
            "tags": []
          },
          "execution_count": 199
        }
      ]
    },
    {
      "cell_type": "code",
      "metadata": {
        "id": "MchrJ7bINupN",
        "colab": {
          "base_uri": "https://localhost:8080/",
          "height": 394
        },
        "outputId": "a40b40e8-6463-46a3-db19-cbb05d2eb53c"
      },
      "source": [
        "# making larger dataframe\r\n",
        "pd.DataFrame({'student':np.arange(100,110,1),'test':np.random.randint(60,101,10)}).set_index('student')"
      ],
      "execution_count": 200,
      "outputs": [
        {
          "output_type": "execute_result",
          "data": {
            "text/html": [
              "<div>\n",
              "<style scoped>\n",
              "    .dataframe tbody tr th:only-of-type {\n",
              "        vertical-align: middle;\n",
              "    }\n",
              "\n",
              "    .dataframe tbody tr th {\n",
              "        vertical-align: top;\n",
              "    }\n",
              "\n",
              "    .dataframe thead th {\n",
              "        text-align: right;\n",
              "    }\n",
              "</style>\n",
              "<table border=\"1\" class=\"dataframe\">\n",
              "  <thead>\n",
              "    <tr style=\"text-align: right;\">\n",
              "      <th></th>\n",
              "      <th>test</th>\n",
              "    </tr>\n",
              "    <tr>\n",
              "      <th>student</th>\n",
              "      <th></th>\n",
              "    </tr>\n",
              "  </thead>\n",
              "  <tbody>\n",
              "    <tr>\n",
              "      <th>100</th>\n",
              "      <td>88</td>\n",
              "    </tr>\n",
              "    <tr>\n",
              "      <th>101</th>\n",
              "      <td>70</td>\n",
              "    </tr>\n",
              "    <tr>\n",
              "      <th>102</th>\n",
              "      <td>61</td>\n",
              "    </tr>\n",
              "    <tr>\n",
              "      <th>103</th>\n",
              "      <td>77</td>\n",
              "    </tr>\n",
              "    <tr>\n",
              "      <th>104</th>\n",
              "      <td>68</td>\n",
              "    </tr>\n",
              "    <tr>\n",
              "      <th>105</th>\n",
              "      <td>86</td>\n",
              "    </tr>\n",
              "    <tr>\n",
              "      <th>106</th>\n",
              "      <td>73</td>\n",
              "    </tr>\n",
              "    <tr>\n",
              "      <th>107</th>\n",
              "      <td>86</td>\n",
              "    </tr>\n",
              "    <tr>\n",
              "      <th>108</th>\n",
              "      <td>67</td>\n",
              "    </tr>\n",
              "    <tr>\n",
              "      <th>109</th>\n",
              "      <td>74</td>\n",
              "    </tr>\n",
              "  </tbody>\n",
              "</table>\n",
              "</div>"
            ],
            "text/plain": [
              "         test\n",
              "student      \n",
              "100        88\n",
              "101        70\n",
              "102        61\n",
              "103        77\n",
              "104        68\n",
              "105        86\n",
              "106        73\n",
              "107        86\n",
              "108        67\n",
              "109        74"
            ]
          },
          "metadata": {
            "tags": []
          },
          "execution_count": 200
        }
      ]
    },
    {
      "cell_type": "code",
      "metadata": {
        "id": "_O58ZaD1NzZ5",
        "colab": {
          "base_uri": "https://localhost:8080/"
        },
        "outputId": "25baa320-0a22-4e6f-e35d-931bd8c13e20"
      },
      "source": [
        "s = pd.Series(['round','square'],index=['c','b'],name='shape')\r\n",
        "s"
      ],
      "execution_count": 201,
      "outputs": [
        {
          "output_type": "execute_result",
          "data": {
            "text/plain": [
              "c     round\n",
              "b    square\n",
              "Name: shape, dtype: object"
            ]
          },
          "metadata": {
            "tags": []
          },
          "execution_count": 201
        }
      ]
    },
    {
      "cell_type": "code",
      "metadata": {
        "id": "xf6OjuOoN6CC",
        "colab": {
          "base_uri": "https://localhost:8080/",
          "height": 143
        },
        "outputId": "c55c332d-1fd5-4511-855f-9b58f77db504"
      },
      "source": [
        "pd.concat([df,s],axis=1)"
      ],
      "execution_count": 202,
      "outputs": [
        {
          "output_type": "execute_result",
          "data": {
            "text/html": [
              "<div>\n",
              "<style scoped>\n",
              "    .dataframe tbody tr th:only-of-type {\n",
              "        vertical-align: middle;\n",
              "    }\n",
              "\n",
              "    .dataframe tbody tr th {\n",
              "        vertical-align: top;\n",
              "    }\n",
              "\n",
              "    .dataframe thead th {\n",
              "        text-align: right;\n",
              "    }\n",
              "</style>\n",
              "<table border=\"1\" class=\"dataframe\">\n",
              "  <thead>\n",
              "    <tr style=\"text-align: right;\">\n",
              "      <th></th>\n",
              "      <th>id</th>\n",
              "      <th>color</th>\n",
              "      <th>shape</th>\n",
              "    </tr>\n",
              "  </thead>\n",
              "  <tbody>\n",
              "    <tr>\n",
              "      <th>a</th>\n",
              "      <td>100</td>\n",
              "      <td>red</td>\n",
              "      <td>NaN</td>\n",
              "    </tr>\n",
              "    <tr>\n",
              "      <th>b</th>\n",
              "      <td>101</td>\n",
              "      <td>blue</td>\n",
              "      <td>square</td>\n",
              "    </tr>\n",
              "    <tr>\n",
              "      <th>c</th>\n",
              "      <td>102</td>\n",
              "      <td>red</td>\n",
              "      <td>round</td>\n",
              "    </tr>\n",
              "  </tbody>\n",
              "</table>\n",
              "</div>"
            ],
            "text/plain": [
              "    id color   shape\n",
              "a  100   red     NaN\n",
              "b  101  blue  square\n",
              "c  102   red   round"
            ]
          },
          "metadata": {
            "tags": []
          },
          "execution_count": 202
        }
      ]
    },
    {
      "cell_type": "code",
      "metadata": {
        "id": "tQad7ggmN81x",
        "colab": {
          "base_uri": "https://localhost:8080/",
          "height": 206
        },
        "outputId": "f714c7da-860a-4b60-f69e-a828973842c5"
      },
      "source": [
        "train = pd.read_csv('http://bit.ly/kaggletrain')\r\n",
        "train.head()"
      ],
      "execution_count": 203,
      "outputs": [
        {
          "output_type": "execute_result",
          "data": {
            "text/html": [
              "<div>\n",
              "<style scoped>\n",
              "    .dataframe tbody tr th:only-of-type {\n",
              "        vertical-align: middle;\n",
              "    }\n",
              "\n",
              "    .dataframe tbody tr th {\n",
              "        vertical-align: top;\n",
              "    }\n",
              "\n",
              "    .dataframe thead th {\n",
              "        text-align: right;\n",
              "    }\n",
              "</style>\n",
              "<table border=\"1\" class=\"dataframe\">\n",
              "  <thead>\n",
              "    <tr style=\"text-align: right;\">\n",
              "      <th></th>\n",
              "      <th>PassengerId</th>\n",
              "      <th>Survived</th>\n",
              "      <th>Pclass</th>\n",
              "      <th>Name</th>\n",
              "      <th>Sex</th>\n",
              "      <th>Age</th>\n",
              "      <th>SibSp</th>\n",
              "      <th>Parch</th>\n",
              "      <th>Ticket</th>\n",
              "      <th>Fare</th>\n",
              "      <th>Cabin</th>\n",
              "      <th>Embarked</th>\n",
              "    </tr>\n",
              "  </thead>\n",
              "  <tbody>\n",
              "    <tr>\n",
              "      <th>0</th>\n",
              "      <td>1</td>\n",
              "      <td>0</td>\n",
              "      <td>3</td>\n",
              "      <td>Braund, Mr. Owen Harris</td>\n",
              "      <td>male</td>\n",
              "      <td>22.0</td>\n",
              "      <td>1</td>\n",
              "      <td>0</td>\n",
              "      <td>A/5 21171</td>\n",
              "      <td>7.2500</td>\n",
              "      <td>NaN</td>\n",
              "      <td>S</td>\n",
              "    </tr>\n",
              "    <tr>\n",
              "      <th>1</th>\n",
              "      <td>2</td>\n",
              "      <td>1</td>\n",
              "      <td>1</td>\n",
              "      <td>Cumings, Mrs. John Bradley (Florence Briggs Th...</td>\n",
              "      <td>female</td>\n",
              "      <td>38.0</td>\n",
              "      <td>1</td>\n",
              "      <td>0</td>\n",
              "      <td>PC 17599</td>\n",
              "      <td>71.2833</td>\n",
              "      <td>C85</td>\n",
              "      <td>C</td>\n",
              "    </tr>\n",
              "    <tr>\n",
              "      <th>2</th>\n",
              "      <td>3</td>\n",
              "      <td>1</td>\n",
              "      <td>3</td>\n",
              "      <td>Heikkinen, Miss. Laina</td>\n",
              "      <td>female</td>\n",
              "      <td>26.0</td>\n",
              "      <td>0</td>\n",
              "      <td>0</td>\n",
              "      <td>STON/O2. 3101282</td>\n",
              "      <td>7.9250</td>\n",
              "      <td>NaN</td>\n",
              "      <td>S</td>\n",
              "    </tr>\n",
              "    <tr>\n",
              "      <th>3</th>\n",
              "      <td>4</td>\n",
              "      <td>1</td>\n",
              "      <td>1</td>\n",
              "      <td>Futrelle, Mrs. Jacques Heath (Lily May Peel)</td>\n",
              "      <td>female</td>\n",
              "      <td>35.0</td>\n",
              "      <td>1</td>\n",
              "      <td>0</td>\n",
              "      <td>113803</td>\n",
              "      <td>53.1000</td>\n",
              "      <td>C123</td>\n",
              "      <td>S</td>\n",
              "    </tr>\n",
              "    <tr>\n",
              "      <th>4</th>\n",
              "      <td>5</td>\n",
              "      <td>0</td>\n",
              "      <td>3</td>\n",
              "      <td>Allen, Mr. William Henry</td>\n",
              "      <td>male</td>\n",
              "      <td>35.0</td>\n",
              "      <td>0</td>\n",
              "      <td>0</td>\n",
              "      <td>373450</td>\n",
              "      <td>8.0500</td>\n",
              "      <td>NaN</td>\n",
              "      <td>S</td>\n",
              "    </tr>\n",
              "  </tbody>\n",
              "</table>\n",
              "</div>"
            ],
            "text/plain": [
              "   PassengerId  Survived  Pclass  ...     Fare Cabin  Embarked\n",
              "0            1         0       3  ...   7.2500   NaN         S\n",
              "1            2         1       1  ...  71.2833   C85         C\n",
              "2            3         1       3  ...   7.9250   NaN         S\n",
              "3            4         1       1  ...  53.1000  C123         S\n",
              "4            5         0       3  ...   8.0500   NaN         S\n",
              "\n",
              "[5 rows x 12 columns]"
            ]
          },
          "metadata": {
            "tags": []
          },
          "execution_count": 203
        }
      ]
    },
    {
      "cell_type": "code",
      "metadata": {
        "id": "9f6b1LS9OCdZ",
        "colab": {
          "base_uri": "https://localhost:8080/"
        },
        "outputId": "aac6dacf-424c-4170-defd-dd6532314aaa"
      },
      "source": [
        "train.Name.apply(len).head()"
      ],
      "execution_count": 204,
      "outputs": [
        {
          "output_type": "execute_result",
          "data": {
            "text/plain": [
              "0    23\n",
              "1    51\n",
              "2    22\n",
              "3    44\n",
              "4    24\n",
              "Name: Name, dtype: int64"
            ]
          },
          "metadata": {
            "tags": []
          },
          "execution_count": 204
        }
      ]
    },
    {
      "cell_type": "markdown",
      "metadata": {
        "id": "3ZLBB8qfTdEq"
      },
      "source": [
        "**Multi-index in pandas**"
      ]
    },
    {
      "cell_type": "code",
      "metadata": {
        "id": "j8t2JZFWOEqY"
      },
      "source": [
        "stocks = pd.read_csv('http://bit.ly/smallstocks')"
      ],
      "execution_count": 205,
      "outputs": []
    },
    {
      "cell_type": "code",
      "metadata": {
        "id": "-j88-z74Ti2c",
        "colab": {
          "base_uri": "https://localhost:8080/",
          "height": 332
        },
        "outputId": "eade2103-7a52-4cc8-af56-b87e56d21a14"
      },
      "source": [
        "stocks"
      ],
      "execution_count": 206,
      "outputs": [
        {
          "output_type": "execute_result",
          "data": {
            "text/html": [
              "<div>\n",
              "<style scoped>\n",
              "    .dataframe tbody tr th:only-of-type {\n",
              "        vertical-align: middle;\n",
              "    }\n",
              "\n",
              "    .dataframe tbody tr th {\n",
              "        vertical-align: top;\n",
              "    }\n",
              "\n",
              "    .dataframe thead th {\n",
              "        text-align: right;\n",
              "    }\n",
              "</style>\n",
              "<table border=\"1\" class=\"dataframe\">\n",
              "  <thead>\n",
              "    <tr style=\"text-align: right;\">\n",
              "      <th></th>\n",
              "      <th>Date</th>\n",
              "      <th>Close</th>\n",
              "      <th>Volume</th>\n",
              "      <th>Symbol</th>\n",
              "    </tr>\n",
              "  </thead>\n",
              "  <tbody>\n",
              "    <tr>\n",
              "      <th>0</th>\n",
              "      <td>2016-10-03</td>\n",
              "      <td>31.50</td>\n",
              "      <td>14070500</td>\n",
              "      <td>CSCO</td>\n",
              "    </tr>\n",
              "    <tr>\n",
              "      <th>1</th>\n",
              "      <td>2016-10-03</td>\n",
              "      <td>112.52</td>\n",
              "      <td>21701800</td>\n",
              "      <td>AAPL</td>\n",
              "    </tr>\n",
              "    <tr>\n",
              "      <th>2</th>\n",
              "      <td>2016-10-03</td>\n",
              "      <td>57.42</td>\n",
              "      <td>19189500</td>\n",
              "      <td>MSFT</td>\n",
              "    </tr>\n",
              "    <tr>\n",
              "      <th>3</th>\n",
              "      <td>2016-10-04</td>\n",
              "      <td>113.00</td>\n",
              "      <td>29736800</td>\n",
              "      <td>AAPL</td>\n",
              "    </tr>\n",
              "    <tr>\n",
              "      <th>4</th>\n",
              "      <td>2016-10-04</td>\n",
              "      <td>57.24</td>\n",
              "      <td>20085900</td>\n",
              "      <td>MSFT</td>\n",
              "    </tr>\n",
              "    <tr>\n",
              "      <th>5</th>\n",
              "      <td>2016-10-04</td>\n",
              "      <td>31.35</td>\n",
              "      <td>18460400</td>\n",
              "      <td>CSCO</td>\n",
              "    </tr>\n",
              "    <tr>\n",
              "      <th>6</th>\n",
              "      <td>2016-10-05</td>\n",
              "      <td>57.64</td>\n",
              "      <td>16726400</td>\n",
              "      <td>MSFT</td>\n",
              "    </tr>\n",
              "    <tr>\n",
              "      <th>7</th>\n",
              "      <td>2016-10-05</td>\n",
              "      <td>31.59</td>\n",
              "      <td>11808600</td>\n",
              "      <td>CSCO</td>\n",
              "    </tr>\n",
              "    <tr>\n",
              "      <th>8</th>\n",
              "      <td>2016-10-05</td>\n",
              "      <td>113.05</td>\n",
              "      <td>21453100</td>\n",
              "      <td>AAPL</td>\n",
              "    </tr>\n",
              "  </tbody>\n",
              "</table>\n",
              "</div>"
            ],
            "text/plain": [
              "         Date   Close    Volume Symbol\n",
              "0  2016-10-03   31.50  14070500   CSCO\n",
              "1  2016-10-03  112.52  21701800   AAPL\n",
              "2  2016-10-03   57.42  19189500   MSFT\n",
              "3  2016-10-04  113.00  29736800   AAPL\n",
              "4  2016-10-04   57.24  20085900   MSFT\n",
              "5  2016-10-04   31.35  18460400   CSCO\n",
              "6  2016-10-05   57.64  16726400   MSFT\n",
              "7  2016-10-05   31.59  11808600   CSCO\n",
              "8  2016-10-05  113.05  21453100   AAPL"
            ]
          },
          "metadata": {
            "tags": []
          },
          "execution_count": 206
        }
      ]
    },
    {
      "cell_type": "code",
      "metadata": {
        "id": "i8XWWpA1Tkm7",
        "colab": {
          "base_uri": "https://localhost:8080/"
        },
        "outputId": "698e0979-7a0f-43f2-c0bd-84824680911d"
      },
      "source": [
        "# this what we did down is a Series and it is a Multiindex Series\r\n",
        "ser = stocks.groupby(['Symbol','Date']).Close.mean()\r\n",
        "ser.index"
      ],
      "execution_count": 207,
      "outputs": [
        {
          "output_type": "execute_result",
          "data": {
            "text/plain": [
              "MultiIndex([('AAPL', '2016-10-03'),\n",
              "            ('AAPL', '2016-10-04'),\n",
              "            ('AAPL', '2016-10-05'),\n",
              "            ('CSCO', '2016-10-03'),\n",
              "            ('CSCO', '2016-10-04'),\n",
              "            ('CSCO', '2016-10-05'),\n",
              "            ('MSFT', '2016-10-03'),\n",
              "            ('MSFT', '2016-10-04'),\n",
              "            ('MSFT', '2016-10-05')],\n",
              "           names=['Symbol', 'Date'])"
            ]
          },
          "metadata": {
            "tags": []
          },
          "execution_count": 207
        }
      ]
    },
    {
      "cell_type": "code",
      "metadata": {
        "id": "I3HRhCaDTm07",
        "colab": {
          "base_uri": "https://localhost:8080/",
          "height": 175
        },
        "outputId": "4f4e004b-0ff0-44d8-90ca-aaa6cc081f88"
      },
      "source": [
        "# unstack() changes the multiindex Series into a dataframe\r\n",
        "ser.unstack()"
      ],
      "execution_count": 208,
      "outputs": [
        {
          "output_type": "execute_result",
          "data": {
            "text/html": [
              "<div>\n",
              "<style scoped>\n",
              "    .dataframe tbody tr th:only-of-type {\n",
              "        vertical-align: middle;\n",
              "    }\n",
              "\n",
              "    .dataframe tbody tr th {\n",
              "        vertical-align: top;\n",
              "    }\n",
              "\n",
              "    .dataframe thead th {\n",
              "        text-align: right;\n",
              "    }\n",
              "</style>\n",
              "<table border=\"1\" class=\"dataframe\">\n",
              "  <thead>\n",
              "    <tr style=\"text-align: right;\">\n",
              "      <th>Date</th>\n",
              "      <th>2016-10-03</th>\n",
              "      <th>2016-10-04</th>\n",
              "      <th>2016-10-05</th>\n",
              "    </tr>\n",
              "    <tr>\n",
              "      <th>Symbol</th>\n",
              "      <th></th>\n",
              "      <th></th>\n",
              "      <th></th>\n",
              "    </tr>\n",
              "  </thead>\n",
              "  <tbody>\n",
              "    <tr>\n",
              "      <th>AAPL</th>\n",
              "      <td>112.52</td>\n",
              "      <td>113.00</td>\n",
              "      <td>113.05</td>\n",
              "    </tr>\n",
              "    <tr>\n",
              "      <th>CSCO</th>\n",
              "      <td>31.50</td>\n",
              "      <td>31.35</td>\n",
              "      <td>31.59</td>\n",
              "    </tr>\n",
              "    <tr>\n",
              "      <th>MSFT</th>\n",
              "      <td>57.42</td>\n",
              "      <td>57.24</td>\n",
              "      <td>57.64</td>\n",
              "    </tr>\n",
              "  </tbody>\n",
              "</table>\n",
              "</div>"
            ],
            "text/plain": [
              "Date    2016-10-03  2016-10-04  2016-10-05\n",
              "Symbol                                    \n",
              "AAPL        112.52      113.00      113.05\n",
              "CSCO         31.50       31.35       31.59\n",
              "MSFT         57.42       57.24       57.64"
            ]
          },
          "metadata": {
            "tags": []
          },
          "execution_count": 208
        }
      ]
    },
    {
      "cell_type": "code",
      "metadata": {
        "id": "c9Zp_EDaTrD8",
        "colab": {
          "base_uri": "https://localhost:8080/",
          "height": 175
        },
        "outputId": "5dba5e12-ba82-4d23-fb3b-3ac717e0da26"
      },
      "source": [
        "# the above thing could have been achieved by using pivot_table() dataframe method\r\n",
        "stocks.pivot_table(values='Close',index='Symbol',columns='Date')"
      ],
      "execution_count": 209,
      "outputs": [
        {
          "output_type": "execute_result",
          "data": {
            "text/html": [
              "<div>\n",
              "<style scoped>\n",
              "    .dataframe tbody tr th:only-of-type {\n",
              "        vertical-align: middle;\n",
              "    }\n",
              "\n",
              "    .dataframe tbody tr th {\n",
              "        vertical-align: top;\n",
              "    }\n",
              "\n",
              "    .dataframe thead th {\n",
              "        text-align: right;\n",
              "    }\n",
              "</style>\n",
              "<table border=\"1\" class=\"dataframe\">\n",
              "  <thead>\n",
              "    <tr style=\"text-align: right;\">\n",
              "      <th>Date</th>\n",
              "      <th>2016-10-03</th>\n",
              "      <th>2016-10-04</th>\n",
              "      <th>2016-10-05</th>\n",
              "    </tr>\n",
              "    <tr>\n",
              "      <th>Symbol</th>\n",
              "      <th></th>\n",
              "      <th></th>\n",
              "      <th></th>\n",
              "    </tr>\n",
              "  </thead>\n",
              "  <tbody>\n",
              "    <tr>\n",
              "      <th>AAPL</th>\n",
              "      <td>112.52</td>\n",
              "      <td>113.00</td>\n",
              "      <td>113.05</td>\n",
              "    </tr>\n",
              "    <tr>\n",
              "      <th>CSCO</th>\n",
              "      <td>31.50</td>\n",
              "      <td>31.35</td>\n",
              "      <td>31.59</td>\n",
              "    </tr>\n",
              "    <tr>\n",
              "      <th>MSFT</th>\n",
              "      <td>57.42</td>\n",
              "      <td>57.24</td>\n",
              "      <td>57.64</td>\n",
              "    </tr>\n",
              "  </tbody>\n",
              "</table>\n",
              "</div>"
            ],
            "text/plain": [
              "Date    2016-10-03  2016-10-04  2016-10-05\n",
              "Symbol                                    \n",
              "AAPL        112.52      113.00      113.05\n",
              "CSCO         31.50       31.35       31.59\n",
              "MSFT         57.42       57.24       57.64"
            ]
          },
          "metadata": {
            "tags": []
          },
          "execution_count": 209
        }
      ]
    },
    {
      "cell_type": "code",
      "metadata": {
        "id": "Lf58qnbQTttM",
        "colab": {
          "base_uri": "https://localhost:8080/",
          "height": 363
        },
        "outputId": "287fa369-3917-4cad-abac-6ebe30850ca5"
      },
      "source": [
        "stocks.set_index(['Symbol','Date'],inplace=True)\r\n",
        "stocks"
      ],
      "execution_count": 210,
      "outputs": [
        {
          "output_type": "execute_result",
          "data": {
            "text/html": [
              "<div>\n",
              "<style scoped>\n",
              "    .dataframe tbody tr th:only-of-type {\n",
              "        vertical-align: middle;\n",
              "    }\n",
              "\n",
              "    .dataframe tbody tr th {\n",
              "        vertical-align: top;\n",
              "    }\n",
              "\n",
              "    .dataframe thead th {\n",
              "        text-align: right;\n",
              "    }\n",
              "</style>\n",
              "<table border=\"1\" class=\"dataframe\">\n",
              "  <thead>\n",
              "    <tr style=\"text-align: right;\">\n",
              "      <th></th>\n",
              "      <th></th>\n",
              "      <th>Close</th>\n",
              "      <th>Volume</th>\n",
              "    </tr>\n",
              "    <tr>\n",
              "      <th>Symbol</th>\n",
              "      <th>Date</th>\n",
              "      <th></th>\n",
              "      <th></th>\n",
              "    </tr>\n",
              "  </thead>\n",
              "  <tbody>\n",
              "    <tr>\n",
              "      <th>CSCO</th>\n",
              "      <th>2016-10-03</th>\n",
              "      <td>31.50</td>\n",
              "      <td>14070500</td>\n",
              "    </tr>\n",
              "    <tr>\n",
              "      <th>AAPL</th>\n",
              "      <th>2016-10-03</th>\n",
              "      <td>112.52</td>\n",
              "      <td>21701800</td>\n",
              "    </tr>\n",
              "    <tr>\n",
              "      <th>MSFT</th>\n",
              "      <th>2016-10-03</th>\n",
              "      <td>57.42</td>\n",
              "      <td>19189500</td>\n",
              "    </tr>\n",
              "    <tr>\n",
              "      <th>AAPL</th>\n",
              "      <th>2016-10-04</th>\n",
              "      <td>113.00</td>\n",
              "      <td>29736800</td>\n",
              "    </tr>\n",
              "    <tr>\n",
              "      <th>MSFT</th>\n",
              "      <th>2016-10-04</th>\n",
              "      <td>57.24</td>\n",
              "      <td>20085900</td>\n",
              "    </tr>\n",
              "    <tr>\n",
              "      <th>CSCO</th>\n",
              "      <th>2016-10-04</th>\n",
              "      <td>31.35</td>\n",
              "      <td>18460400</td>\n",
              "    </tr>\n",
              "    <tr>\n",
              "      <th>MSFT</th>\n",
              "      <th>2016-10-05</th>\n",
              "      <td>57.64</td>\n",
              "      <td>16726400</td>\n",
              "    </tr>\n",
              "    <tr>\n",
              "      <th>CSCO</th>\n",
              "      <th>2016-10-05</th>\n",
              "      <td>31.59</td>\n",
              "      <td>11808600</td>\n",
              "    </tr>\n",
              "    <tr>\n",
              "      <th>AAPL</th>\n",
              "      <th>2016-10-05</th>\n",
              "      <td>113.05</td>\n",
              "      <td>21453100</td>\n",
              "    </tr>\n",
              "  </tbody>\n",
              "</table>\n",
              "</div>"
            ],
            "text/plain": [
              "                    Close    Volume\n",
              "Symbol Date                        \n",
              "CSCO   2016-10-03   31.50  14070500\n",
              "AAPL   2016-10-03  112.52  21701800\n",
              "MSFT   2016-10-03   57.42  19189500\n",
              "AAPL   2016-10-04  113.00  29736800\n",
              "MSFT   2016-10-04   57.24  20085900\n",
              "CSCO   2016-10-04   31.35  18460400\n",
              "MSFT   2016-10-05   57.64  16726400\n",
              "CSCO   2016-10-05   31.59  11808600\n",
              "AAPL   2016-10-05  113.05  21453100"
            ]
          },
          "metadata": {
            "tags": []
          },
          "execution_count": 210
        }
      ]
    },
    {
      "cell_type": "code",
      "metadata": {
        "id": "2U32PshLTxIX"
      },
      "source": [
        "stocks.sort_index(inplace=True)"
      ],
      "execution_count": 211,
      "outputs": []
    },
    {
      "cell_type": "code",
      "metadata": {
        "id": "OkppYo4QUNWL",
        "colab": {
          "base_uri": "https://localhost:8080/",
          "height": 363
        },
        "outputId": "98094741-47ef-4b43-ff68-ee59f4a79b31"
      },
      "source": [
        "stocks"
      ],
      "execution_count": 212,
      "outputs": [
        {
          "output_type": "execute_result",
          "data": {
            "text/html": [
              "<div>\n",
              "<style scoped>\n",
              "    .dataframe tbody tr th:only-of-type {\n",
              "        vertical-align: middle;\n",
              "    }\n",
              "\n",
              "    .dataframe tbody tr th {\n",
              "        vertical-align: top;\n",
              "    }\n",
              "\n",
              "    .dataframe thead th {\n",
              "        text-align: right;\n",
              "    }\n",
              "</style>\n",
              "<table border=\"1\" class=\"dataframe\">\n",
              "  <thead>\n",
              "    <tr style=\"text-align: right;\">\n",
              "      <th></th>\n",
              "      <th></th>\n",
              "      <th>Close</th>\n",
              "      <th>Volume</th>\n",
              "    </tr>\n",
              "    <tr>\n",
              "      <th>Symbol</th>\n",
              "      <th>Date</th>\n",
              "      <th></th>\n",
              "      <th></th>\n",
              "    </tr>\n",
              "  </thead>\n",
              "  <tbody>\n",
              "    <tr>\n",
              "      <th rowspan=\"3\" valign=\"top\">AAPL</th>\n",
              "      <th>2016-10-03</th>\n",
              "      <td>112.52</td>\n",
              "      <td>21701800</td>\n",
              "    </tr>\n",
              "    <tr>\n",
              "      <th>2016-10-04</th>\n",
              "      <td>113.00</td>\n",
              "      <td>29736800</td>\n",
              "    </tr>\n",
              "    <tr>\n",
              "      <th>2016-10-05</th>\n",
              "      <td>113.05</td>\n",
              "      <td>21453100</td>\n",
              "    </tr>\n",
              "    <tr>\n",
              "      <th rowspan=\"3\" valign=\"top\">CSCO</th>\n",
              "      <th>2016-10-03</th>\n",
              "      <td>31.50</td>\n",
              "      <td>14070500</td>\n",
              "    </tr>\n",
              "    <tr>\n",
              "      <th>2016-10-04</th>\n",
              "      <td>31.35</td>\n",
              "      <td>18460400</td>\n",
              "    </tr>\n",
              "    <tr>\n",
              "      <th>2016-10-05</th>\n",
              "      <td>31.59</td>\n",
              "      <td>11808600</td>\n",
              "    </tr>\n",
              "    <tr>\n",
              "      <th rowspan=\"3\" valign=\"top\">MSFT</th>\n",
              "      <th>2016-10-03</th>\n",
              "      <td>57.42</td>\n",
              "      <td>19189500</td>\n",
              "    </tr>\n",
              "    <tr>\n",
              "      <th>2016-10-04</th>\n",
              "      <td>57.24</td>\n",
              "      <td>20085900</td>\n",
              "    </tr>\n",
              "    <tr>\n",
              "      <th>2016-10-05</th>\n",
              "      <td>57.64</td>\n",
              "      <td>16726400</td>\n",
              "    </tr>\n",
              "  </tbody>\n",
              "</table>\n",
              "</div>"
            ],
            "text/plain": [
              "                    Close    Volume\n",
              "Symbol Date                        \n",
              "AAPL   2016-10-03  112.52  21701800\n",
              "       2016-10-04  113.00  29736800\n",
              "       2016-10-05  113.05  21453100\n",
              "CSCO   2016-10-03   31.50  14070500\n",
              "       2016-10-04   31.35  18460400\n",
              "       2016-10-05   31.59  11808600\n",
              "MSFT   2016-10-03   57.42  19189500\n",
              "       2016-10-04   57.24  20085900\n",
              "       2016-10-05   57.64  16726400"
            ]
          },
          "metadata": {
            "tags": []
          },
          "execution_count": 212
        }
      ]
    },
    {
      "cell_type": "code",
      "metadata": {
        "id": "1UQrrve2UOq4",
        "colab": {
          "base_uri": "https://localhost:8080/",
          "height": 175
        },
        "outputId": "bc18cbc9-ab02-4f91-d3ce-98e4e313c652"
      },
      "source": [
        "stocks.loc['AAPL']"
      ],
      "execution_count": 213,
      "outputs": [
        {
          "output_type": "execute_result",
          "data": {
            "text/html": [
              "<div>\n",
              "<style scoped>\n",
              "    .dataframe tbody tr th:only-of-type {\n",
              "        vertical-align: middle;\n",
              "    }\n",
              "\n",
              "    .dataframe tbody tr th {\n",
              "        vertical-align: top;\n",
              "    }\n",
              "\n",
              "    .dataframe thead th {\n",
              "        text-align: right;\n",
              "    }\n",
              "</style>\n",
              "<table border=\"1\" class=\"dataframe\">\n",
              "  <thead>\n",
              "    <tr style=\"text-align: right;\">\n",
              "      <th></th>\n",
              "      <th>Close</th>\n",
              "      <th>Volume</th>\n",
              "    </tr>\n",
              "    <tr>\n",
              "      <th>Date</th>\n",
              "      <th></th>\n",
              "      <th></th>\n",
              "    </tr>\n",
              "  </thead>\n",
              "  <tbody>\n",
              "    <tr>\n",
              "      <th>2016-10-03</th>\n",
              "      <td>112.52</td>\n",
              "      <td>21701800</td>\n",
              "    </tr>\n",
              "    <tr>\n",
              "      <th>2016-10-04</th>\n",
              "      <td>113.00</td>\n",
              "      <td>29736800</td>\n",
              "    </tr>\n",
              "    <tr>\n",
              "      <th>2016-10-05</th>\n",
              "      <td>113.05</td>\n",
              "      <td>21453100</td>\n",
              "    </tr>\n",
              "  </tbody>\n",
              "</table>\n",
              "</div>"
            ],
            "text/plain": [
              "             Close    Volume\n",
              "Date                        \n",
              "2016-10-03  112.52  21701800\n",
              "2016-10-04  113.00  29736800\n",
              "2016-10-05  113.05  21453100"
            ]
          },
          "metadata": {
            "tags": []
          },
          "execution_count": 213
        }
      ]
    },
    {
      "cell_type": "code",
      "metadata": {
        "id": "uu8KNLLzWqul",
        "colab": {
          "base_uri": "https://localhost:8080/"
        },
        "outputId": "b3e3c9d8-9371-4d03-daeb-436462628b2a"
      },
      "source": [
        "stocks.loc[('AAPL','2016-10-03'),:]"
      ],
      "execution_count": 214,
      "outputs": [
        {
          "output_type": "execute_result",
          "data": {
            "text/plain": [
              "Close          112.52\n",
              "Volume    21701800.00\n",
              "Name: (AAPL, 2016-10-03), dtype: float64"
            ]
          },
          "metadata": {
            "tags": []
          },
          "execution_count": 214
        }
      ]
    },
    {
      "cell_type": "code",
      "metadata": {
        "id": "_1sPLdZzWthE",
        "colab": {
          "base_uri": "https://localhost:8080/",
          "height": 143
        },
        "outputId": "c6deff4f-b316-40f2-d20d-4480b6601d05"
      },
      "source": [
        "stocks.loc[(['AAPL','MSFT'],'2016-10-03'),:]"
      ],
      "execution_count": 215,
      "outputs": [
        {
          "output_type": "execute_result",
          "data": {
            "text/html": [
              "<div>\n",
              "<style scoped>\n",
              "    .dataframe tbody tr th:only-of-type {\n",
              "        vertical-align: middle;\n",
              "    }\n",
              "\n",
              "    .dataframe tbody tr th {\n",
              "        vertical-align: top;\n",
              "    }\n",
              "\n",
              "    .dataframe thead th {\n",
              "        text-align: right;\n",
              "    }\n",
              "</style>\n",
              "<table border=\"1\" class=\"dataframe\">\n",
              "  <thead>\n",
              "    <tr style=\"text-align: right;\">\n",
              "      <th></th>\n",
              "      <th></th>\n",
              "      <th>Close</th>\n",
              "      <th>Volume</th>\n",
              "    </tr>\n",
              "    <tr>\n",
              "      <th>Symbol</th>\n",
              "      <th>Date</th>\n",
              "      <th></th>\n",
              "      <th></th>\n",
              "    </tr>\n",
              "  </thead>\n",
              "  <tbody>\n",
              "    <tr>\n",
              "      <th>AAPL</th>\n",
              "      <th>2016-10-03</th>\n",
              "      <td>112.52</td>\n",
              "      <td>21701800</td>\n",
              "    </tr>\n",
              "    <tr>\n",
              "      <th>MSFT</th>\n",
              "      <th>2016-10-03</th>\n",
              "      <td>57.42</td>\n",
              "      <td>19189500</td>\n",
              "    </tr>\n",
              "  </tbody>\n",
              "</table>\n",
              "</div>"
            ],
            "text/plain": [
              "                    Close    Volume\n",
              "Symbol Date                        \n",
              "AAPL   2016-10-03  112.52  21701800\n",
              "MSFT   2016-10-03   57.42  19189500"
            ]
          },
          "metadata": {
            "tags": []
          },
          "execution_count": 215
        }
      ]
    },
    {
      "cell_type": "code",
      "metadata": {
        "id": "AVMTl411Wv6a",
        "colab": {
          "base_uri": "https://localhost:8080/",
          "height": 269
        },
        "outputId": "519f418c-c5dd-49b3-dfa9-7d8b3d87d878"
      },
      "source": [
        "stocks.loc[(['AAPL','MSFT','CSCO'],['2016-10-03','2016-10-04']),:]"
      ],
      "execution_count": 216,
      "outputs": [
        {
          "output_type": "execute_result",
          "data": {
            "text/html": [
              "<div>\n",
              "<style scoped>\n",
              "    .dataframe tbody tr th:only-of-type {\n",
              "        vertical-align: middle;\n",
              "    }\n",
              "\n",
              "    .dataframe tbody tr th {\n",
              "        vertical-align: top;\n",
              "    }\n",
              "\n",
              "    .dataframe thead th {\n",
              "        text-align: right;\n",
              "    }\n",
              "</style>\n",
              "<table border=\"1\" class=\"dataframe\">\n",
              "  <thead>\n",
              "    <tr style=\"text-align: right;\">\n",
              "      <th></th>\n",
              "      <th></th>\n",
              "      <th>Close</th>\n",
              "      <th>Volume</th>\n",
              "    </tr>\n",
              "    <tr>\n",
              "      <th>Symbol</th>\n",
              "      <th>Date</th>\n",
              "      <th></th>\n",
              "      <th></th>\n",
              "    </tr>\n",
              "  </thead>\n",
              "  <tbody>\n",
              "    <tr>\n",
              "      <th rowspan=\"2\" valign=\"top\">AAPL</th>\n",
              "      <th>2016-10-03</th>\n",
              "      <td>112.52</td>\n",
              "      <td>21701800</td>\n",
              "    </tr>\n",
              "    <tr>\n",
              "      <th>2016-10-04</th>\n",
              "      <td>113.00</td>\n",
              "      <td>29736800</td>\n",
              "    </tr>\n",
              "    <tr>\n",
              "      <th rowspan=\"2\" valign=\"top\">MSFT</th>\n",
              "      <th>2016-10-03</th>\n",
              "      <td>57.42</td>\n",
              "      <td>19189500</td>\n",
              "    </tr>\n",
              "    <tr>\n",
              "      <th>2016-10-04</th>\n",
              "      <td>57.24</td>\n",
              "      <td>20085900</td>\n",
              "    </tr>\n",
              "    <tr>\n",
              "      <th rowspan=\"2\" valign=\"top\">CSCO</th>\n",
              "      <th>2016-10-03</th>\n",
              "      <td>31.50</td>\n",
              "      <td>14070500</td>\n",
              "    </tr>\n",
              "    <tr>\n",
              "      <th>2016-10-04</th>\n",
              "      <td>31.35</td>\n",
              "      <td>18460400</td>\n",
              "    </tr>\n",
              "  </tbody>\n",
              "</table>\n",
              "</div>"
            ],
            "text/plain": [
              "                    Close    Volume\n",
              "Symbol Date                        \n",
              "AAPL   2016-10-03  112.52  21701800\n",
              "       2016-10-04  113.00  29736800\n",
              "MSFT   2016-10-03   57.42  19189500\n",
              "       2016-10-04   57.24  20085900\n",
              "CSCO   2016-10-03   31.50  14070500\n",
              "       2016-10-04   31.35  18460400"
            ]
          },
          "metadata": {
            "tags": []
          },
          "execution_count": 216
        }
      ]
    },
    {
      "cell_type": "code",
      "metadata": {
        "id": "mb5EHzrOW3hz",
        "colab": {
          "base_uri": "https://localhost:8080/",
          "height": 112
        },
        "outputId": "5ea8cdd4-235b-49eb-8a4c-8835e8f00e24"
      },
      "source": [
        "# to make example DataFrame to work on:\r\n",
        "df = pd.DataFrame({'col one':[100,200],\r\n",
        "                   'col two':[300,400]})\r\n",
        "df"
      ],
      "execution_count": 217,
      "outputs": [
        {
          "output_type": "execute_result",
          "data": {
            "text/html": [
              "<div>\n",
              "<style scoped>\n",
              "    .dataframe tbody tr th:only-of-type {\n",
              "        vertical-align: middle;\n",
              "    }\n",
              "\n",
              "    .dataframe tbody tr th {\n",
              "        vertical-align: top;\n",
              "    }\n",
              "\n",
              "    .dataframe thead th {\n",
              "        text-align: right;\n",
              "    }\n",
              "</style>\n",
              "<table border=\"1\" class=\"dataframe\">\n",
              "  <thead>\n",
              "    <tr style=\"text-align: right;\">\n",
              "      <th></th>\n",
              "      <th>col one</th>\n",
              "      <th>col two</th>\n",
              "    </tr>\n",
              "  </thead>\n",
              "  <tbody>\n",
              "    <tr>\n",
              "      <th>0</th>\n",
              "      <td>100</td>\n",
              "      <td>300</td>\n",
              "    </tr>\n",
              "    <tr>\n",
              "      <th>1</th>\n",
              "      <td>200</td>\n",
              "      <td>400</td>\n",
              "    </tr>\n",
              "  </tbody>\n",
              "</table>\n",
              "</div>"
            ],
            "text/plain": [
              "   col one  col two\n",
              "0      100      300\n",
              "1      200      400"
            ]
          },
          "metadata": {
            "tags": []
          },
          "execution_count": 217
        }
      ]
    },
    {
      "cell_type": "code",
      "metadata": {
        "id": "E4PQ7yzdZlG2"
      },
      "source": [
        "# to quickly rename all the column names\r\n",
        "df.columns = df.columns.str.replace(' ','_')"
      ],
      "execution_count": 218,
      "outputs": []
    },
    {
      "cell_type": "code",
      "metadata": {
        "id": "sMX6wvYyZvyx",
        "colab": {
          "base_uri": "https://localhost:8080/",
          "height": 112
        },
        "outputId": "ef905f42-259a-4500-c53f-97c9e1fb93f7"
      },
      "source": [
        "df"
      ],
      "execution_count": 219,
      "outputs": [
        {
          "output_type": "execute_result",
          "data": {
            "text/html": [
              "<div>\n",
              "<style scoped>\n",
              "    .dataframe tbody tr th:only-of-type {\n",
              "        vertical-align: middle;\n",
              "    }\n",
              "\n",
              "    .dataframe tbody tr th {\n",
              "        vertical-align: top;\n",
              "    }\n",
              "\n",
              "    .dataframe thead th {\n",
              "        text-align: right;\n",
              "    }\n",
              "</style>\n",
              "<table border=\"1\" class=\"dataframe\">\n",
              "  <thead>\n",
              "    <tr style=\"text-align: right;\">\n",
              "      <th></th>\n",
              "      <th>col_one</th>\n",
              "      <th>col_two</th>\n",
              "    </tr>\n",
              "  </thead>\n",
              "  <tbody>\n",
              "    <tr>\n",
              "      <th>0</th>\n",
              "      <td>100</td>\n",
              "      <td>300</td>\n",
              "    </tr>\n",
              "    <tr>\n",
              "      <th>1</th>\n",
              "      <td>200</td>\n",
              "      <td>400</td>\n",
              "    </tr>\n",
              "  </tbody>\n",
              "</table>\n",
              "</div>"
            ],
            "text/plain": [
              "   col_one  col_two\n",
              "0      100      300\n",
              "1      200      400"
            ]
          },
          "metadata": {
            "tags": []
          },
          "execution_count": 219
        }
      ]
    },
    {
      "cell_type": "code",
      "metadata": {
        "id": "mZq7B7GMZz5L",
        "colab": {
          "base_uri": "https://localhost:8080/",
          "height": 175
        },
        "outputId": "502fe739-e8ba-4aa9-c2ee-e6e16ed42091"
      },
      "source": [
        "# to make larger DataFrame\r\n",
        "pd.DataFrame(np.random.rand(4,8))"
      ],
      "execution_count": 220,
      "outputs": [
        {
          "output_type": "execute_result",
          "data": {
            "text/html": [
              "<div>\n",
              "<style scoped>\n",
              "    .dataframe tbody tr th:only-of-type {\n",
              "        vertical-align: middle;\n",
              "    }\n",
              "\n",
              "    .dataframe tbody tr th {\n",
              "        vertical-align: top;\n",
              "    }\n",
              "\n",
              "    .dataframe thead th {\n",
              "        text-align: right;\n",
              "    }\n",
              "</style>\n",
              "<table border=\"1\" class=\"dataframe\">\n",
              "  <thead>\n",
              "    <tr style=\"text-align: right;\">\n",
              "      <th></th>\n",
              "      <th>0</th>\n",
              "      <th>1</th>\n",
              "      <th>2</th>\n",
              "      <th>3</th>\n",
              "      <th>4</th>\n",
              "      <th>5</th>\n",
              "      <th>6</th>\n",
              "      <th>7</th>\n",
              "    </tr>\n",
              "  </thead>\n",
              "  <tbody>\n",
              "    <tr>\n",
              "      <th>0</th>\n",
              "      <td>0.826771</td>\n",
              "      <td>0.059938</td>\n",
              "      <td>0.275163</td>\n",
              "      <td>0.391028</td>\n",
              "      <td>0.247350</td>\n",
              "      <td>0.057853</td>\n",
              "      <td>0.916356</td>\n",
              "      <td>0.229518</td>\n",
              "    </tr>\n",
              "    <tr>\n",
              "      <th>1</th>\n",
              "      <td>0.585770</td>\n",
              "      <td>0.128821</td>\n",
              "      <td>0.748252</td>\n",
              "      <td>0.274234</td>\n",
              "      <td>0.675654</td>\n",
              "      <td>0.790273</td>\n",
              "      <td>0.369918</td>\n",
              "      <td>0.441912</td>\n",
              "    </tr>\n",
              "    <tr>\n",
              "      <th>2</th>\n",
              "      <td>0.468480</td>\n",
              "      <td>0.550359</td>\n",
              "      <td>0.065624</td>\n",
              "      <td>0.208156</td>\n",
              "      <td>0.393787</td>\n",
              "      <td>0.897133</td>\n",
              "      <td>0.334837</td>\n",
              "      <td>0.836763</td>\n",
              "    </tr>\n",
              "    <tr>\n",
              "      <th>3</th>\n",
              "      <td>0.830537</td>\n",
              "      <td>0.750522</td>\n",
              "      <td>0.563817</td>\n",
              "      <td>0.220376</td>\n",
              "      <td>0.655227</td>\n",
              "      <td>0.529117</td>\n",
              "      <td>0.475933</td>\n",
              "      <td>0.540202</td>\n",
              "    </tr>\n",
              "  </tbody>\n",
              "</table>\n",
              "</div>"
            ],
            "text/plain": [
              "          0         1         2  ...         5         6         7\n",
              "0  0.826771  0.059938  0.275163  ...  0.057853  0.916356  0.229518\n",
              "1  0.585770  0.128821  0.748252  ...  0.790273  0.369918  0.441912\n",
              "2  0.468480  0.550359  0.065624  ...  0.897133  0.334837  0.836763\n",
              "3  0.830537  0.750522  0.563817  ...  0.529117  0.475933  0.540202\n",
              "\n",
              "[4 rows x 8 columns]"
            ]
          },
          "metadata": {
            "tags": []
          },
          "execution_count": 220
        }
      ]
    },
    {
      "cell_type": "code",
      "metadata": {
        "id": "QnlSAVW4Z3RM",
        "colab": {
          "base_uri": "https://localhost:8080/",
          "height": 175
        },
        "outputId": "703130b5-d49c-46fd-81e0-c1bf8277f6b4"
      },
      "source": [
        "pd.DataFrame(np.random.rand(4,8),columns=list('abcdefgh'))"
      ],
      "execution_count": 221,
      "outputs": [
        {
          "output_type": "execute_result",
          "data": {
            "text/html": [
              "<div>\n",
              "<style scoped>\n",
              "    .dataframe tbody tr th:only-of-type {\n",
              "        vertical-align: middle;\n",
              "    }\n",
              "\n",
              "    .dataframe tbody tr th {\n",
              "        vertical-align: top;\n",
              "    }\n",
              "\n",
              "    .dataframe thead th {\n",
              "        text-align: right;\n",
              "    }\n",
              "</style>\n",
              "<table border=\"1\" class=\"dataframe\">\n",
              "  <thead>\n",
              "    <tr style=\"text-align: right;\">\n",
              "      <th></th>\n",
              "      <th>a</th>\n",
              "      <th>b</th>\n",
              "      <th>c</th>\n",
              "      <th>d</th>\n",
              "      <th>e</th>\n",
              "      <th>f</th>\n",
              "      <th>g</th>\n",
              "      <th>h</th>\n",
              "    </tr>\n",
              "  </thead>\n",
              "  <tbody>\n",
              "    <tr>\n",
              "      <th>0</th>\n",
              "      <td>0.338975</td>\n",
              "      <td>0.194719</td>\n",
              "      <td>0.511150</td>\n",
              "      <td>0.006973</td>\n",
              "      <td>0.786025</td>\n",
              "      <td>0.483602</td>\n",
              "      <td>0.968227</td>\n",
              "      <td>0.365518</td>\n",
              "    </tr>\n",
              "    <tr>\n",
              "      <th>1</th>\n",
              "      <td>0.456429</td>\n",
              "      <td>0.025993</td>\n",
              "      <td>0.020160</td>\n",
              "      <td>0.797554</td>\n",
              "      <td>0.493169</td>\n",
              "      <td>0.160118</td>\n",
              "      <td>0.439870</td>\n",
              "      <td>0.919563</td>\n",
              "    </tr>\n",
              "    <tr>\n",
              "      <th>2</th>\n",
              "      <td>0.672581</td>\n",
              "      <td>0.166311</td>\n",
              "      <td>0.741697</td>\n",
              "      <td>0.206674</td>\n",
              "      <td>0.806761</td>\n",
              "      <td>0.062177</td>\n",
              "      <td>0.196361</td>\n",
              "      <td>0.343675</td>\n",
              "    </tr>\n",
              "    <tr>\n",
              "      <th>3</th>\n",
              "      <td>0.571340</td>\n",
              "      <td>0.420973</td>\n",
              "      <td>0.921111</td>\n",
              "      <td>0.769760</td>\n",
              "      <td>0.926747</td>\n",
              "      <td>0.377103</td>\n",
              "      <td>0.210203</td>\n",
              "      <td>0.962958</td>\n",
              "    </tr>\n",
              "  </tbody>\n",
              "</table>\n",
              "</div>"
            ],
            "text/plain": [
              "          a         b         c  ...         f         g         h\n",
              "0  0.338975  0.194719  0.511150  ...  0.483602  0.968227  0.365518\n",
              "1  0.456429  0.025993  0.020160  ...  0.160118  0.439870  0.919563\n",
              "2  0.672581  0.166311  0.741697  ...  0.062177  0.196361  0.343675\n",
              "3  0.571340  0.420973  0.921111  ...  0.377103  0.210203  0.962958\n",
              "\n",
              "[4 rows x 8 columns]"
            ]
          },
          "metadata": {
            "tags": []
          },
          "execution_count": 221
        }
      ]
    },
    {
      "cell_type": "markdown",
      "metadata": {
        "id": "58cyVaiEDrnZ"
      },
      "source": [
        "<u>**The materials below will be from CodeCademy.**</u>"
      ]
    },
    {
      "cell_type": "code",
      "metadata": {
        "id": "UYQx8qtGZ6G9"
      },
      "source": [
        "# the first task is as always load the pandas module.\r\n",
        "import pandas as pd"
      ],
      "execution_count": 223,
      "outputs": []
    },
    {
      "cell_type": "markdown",
      "metadata": {
        "id": "1KaVN_s0EKLG"
      },
      "source": [
        "**Create a DataFrame I**\r\n",
        "\r\n",
        "A DataFrame is an object that stores data as rows and columns (like a spreadsheet or as a SQL table). You can manually create a DataFrame or fill it with data from a CSV, and excel sheet, or SQL query.\r\n",
        "\r\n",
        "DataFrames have rows and columns. Each column has a name, which is a string. Each row has an index, which is an integer, normally. DataFrames can contain many different data types: strings, ints, floats, tuples, etc.\r\n",
        "\r\n",
        "You can pass in a Dictionary to `pd.DataFrame()`. Each `key` is a column name and each value is a list of column values. The columns must all be the same length or you will get an error."
      ]
    },
    {
      "cell_type": "code",
      "metadata": {
        "id": "Q6txtv2LD_Zv"
      },
      "source": [
        "# example:\r\n",
        "df1 = pd.DataFrame({'name': ['John Smith','Jane Doe', 'Joe Schmo'],\r\n",
        "                    'address': ['123 Main St.','456 Maple Avn.', '789 Boradway'],\r\n",
        "                    'age': [34, 28, 51]})"
      ],
      "execution_count": 224,
      "outputs": []
    },
    {
      "cell_type": "code",
      "metadata": {
        "id": "Y01ip-PsFi9B",
        "outputId": "d989299c-4d0b-4e39-c3ae-b309f90b835c",
        "colab": {
          "base_uri": "https://localhost:8080/",
          "height": 143
        }
      },
      "source": [
        "# lets examine df1\r\n",
        "df1"
      ],
      "execution_count": 225,
      "outputs": [
        {
          "output_type": "execute_result",
          "data": {
            "text/html": [
              "<div>\n",
              "<style scoped>\n",
              "    .dataframe tbody tr th:only-of-type {\n",
              "        vertical-align: middle;\n",
              "    }\n",
              "\n",
              "    .dataframe tbody tr th {\n",
              "        vertical-align: top;\n",
              "    }\n",
              "\n",
              "    .dataframe thead th {\n",
              "        text-align: right;\n",
              "    }\n",
              "</style>\n",
              "<table border=\"1\" class=\"dataframe\">\n",
              "  <thead>\n",
              "    <tr style=\"text-align: right;\">\n",
              "      <th></th>\n",
              "      <th>name</th>\n",
              "      <th>address</th>\n",
              "      <th>age</th>\n",
              "    </tr>\n",
              "  </thead>\n",
              "  <tbody>\n",
              "    <tr>\n",
              "      <th>0</th>\n",
              "      <td>John Smith</td>\n",
              "      <td>123 Main St.</td>\n",
              "      <td>34</td>\n",
              "    </tr>\n",
              "    <tr>\n",
              "      <th>1</th>\n",
              "      <td>Jane Doe</td>\n",
              "      <td>456 Maple Avn.</td>\n",
              "      <td>28</td>\n",
              "    </tr>\n",
              "    <tr>\n",
              "      <th>2</th>\n",
              "      <td>Joe Schmo</td>\n",
              "      <td>789 Boradway</td>\n",
              "      <td>51</td>\n",
              "    </tr>\n",
              "  </tbody>\n",
              "</table>\n",
              "</div>"
            ],
            "text/plain": [
              "         name         address  age\n",
              "0  John Smith    123 Main St.   34\n",
              "1    Jane Doe  456 Maple Avn.   28\n",
              "2   Joe Schmo    789 Boradway   51"
            ]
          },
          "metadata": {
            "tags": []
          },
          "execution_count": 225
        }
      ]
    },
    {
      "cell_type": "markdown",
      "metadata": {
        "id": "ixX_3ld6FwqJ"
      },
      "source": [
        "**Create a DataFrame II**\r\n",
        "\r\n",
        "You can also add data using lists. For example: You can pass list of lists, where each one represent a row of data. Use the keyword argument `columns=` to pass a list of column names."
      ]
    },
    {
      "cell_type": "code",
      "metadata": {
        "id": "Q-KCz62VFlmd"
      },
      "source": [
        "# lets see how:\r\n",
        "df2 = pd.DataFrame([\r\n",
        "                    ['John Smith', '123 Main St.', 34],\r\n",
        "                    ['Jane Doe', '456 Maple Avn.', 28],\r\n",
        "                    ['Joe Schmo', '789 Broadway', 51]\r\n",
        "], columns=['name','address', 'age'])"
      ],
      "execution_count": 226,
      "outputs": []
    },
    {
      "cell_type": "code",
      "metadata": {
        "id": "16gYOSIVGtvY",
        "outputId": "d892a023-3fad-4aa7-bfb0-fe22370be1f7",
        "colab": {
          "base_uri": "https://localhost:8080/",
          "height": 143
        }
      },
      "source": [
        "df2"
      ],
      "execution_count": 227,
      "outputs": [
        {
          "output_type": "execute_result",
          "data": {
            "text/html": [
              "<div>\n",
              "<style scoped>\n",
              "    .dataframe tbody tr th:only-of-type {\n",
              "        vertical-align: middle;\n",
              "    }\n",
              "\n",
              "    .dataframe tbody tr th {\n",
              "        vertical-align: top;\n",
              "    }\n",
              "\n",
              "    .dataframe thead th {\n",
              "        text-align: right;\n",
              "    }\n",
              "</style>\n",
              "<table border=\"1\" class=\"dataframe\">\n",
              "  <thead>\n",
              "    <tr style=\"text-align: right;\">\n",
              "      <th></th>\n",
              "      <th>name</th>\n",
              "      <th>address</th>\n",
              "      <th>age</th>\n",
              "    </tr>\n",
              "  </thead>\n",
              "  <tbody>\n",
              "    <tr>\n",
              "      <th>0</th>\n",
              "      <td>John Smith</td>\n",
              "      <td>123 Main St.</td>\n",
              "      <td>34</td>\n",
              "    </tr>\n",
              "    <tr>\n",
              "      <th>1</th>\n",
              "      <td>Jane Doe</td>\n",
              "      <td>456 Maple Avn.</td>\n",
              "      <td>28</td>\n",
              "    </tr>\n",
              "    <tr>\n",
              "      <th>2</th>\n",
              "      <td>Joe Schmo</td>\n",
              "      <td>789 Broadway</td>\n",
              "      <td>51</td>\n",
              "    </tr>\n",
              "  </tbody>\n",
              "</table>\n",
              "</div>"
            ],
            "text/plain": [
              "         name         address  age\n",
              "0  John Smith    123 Main St.   34\n",
              "1    Jane Doe  456 Maple Avn.   28\n",
              "2   Joe Schmo    789 Broadway   51"
            ]
          },
          "metadata": {
            "tags": []
          },
          "execution_count": 227
        }
      ]
    },
    {
      "cell_type": "markdown",
      "metadata": {
        "id": "IiKWwrhvHhus"
      },
      "source": [
        "**Loading and Saving CSVs**\r\n",
        "\r\n",
        "Most of the time we don't have to make our own dataset, luckily. One of the common form of available data is in `csv` format. We load csv into dataframe as:\r\n",
        "`df = pd.read_csv('filename.csv')` and we can save our data back to csv as:\r\n",
        "`df.to_csv('new_csv_name.csv')`. Here, we passed to_csv to df."
      ]
    },
    {
      "cell_type": "markdown",
      "metadata": {
        "id": "xq7LYHLJIvUg"
      },
      "source": [
        "**Inspect a DataFrame**\r\n",
        "\r\n",
        "If df is small, we can easily do `print(df)`, but if it is large, we may just want to view first 5 or last five rows or some fixed rows for inspection.\r\n",
        "\r\n",
        "`head()` gives first 5 rows\r\n",
        "\r\n",
        "`tail()` gives last 5 rows\r\n",
        "\r\n",
        "`head(10)` gives first 10 rows \r\n",
        "\r\n",
        "`df.info()` gives some statistics for each column"
      ]
    },
    {
      "cell_type": "markdown",
      "metadata": {
        "id": "WSP2Yde0Jb8r"
      },
      "source": [
        "**Select columns**\r\n",
        "\r\n",
        "Two ways to select columns:\r\n",
        "\r\n",
        "1. brackete notation `df[column_name]`\r\n",
        "2. dot notatin `df.column_name`\r\n",
        "\r\n",
        "Note, when we select a single column, the result we get is a `Series`.\r\n",
        "\r\n",
        "To get **multiple** columns: we use list of lists for bracket notation\r\n",
        "\r\n",
        "`new_df = df[[column_1, column_2, column_3]]`"
      ]
    },
    {
      "cell_type": "markdown",
      "metadata": {
        "id": "1iuaa3sGKbuV"
      },
      "source": [
        "**Select Rows**\r\n",
        "\r\n",
        "Rows and columns of the dataframes starts with 0,so they are zero-indexed. Using `iloc` if we know the index position of rows we want, we can do easily.\r\n",
        "\r\n",
        "`df.iloc[rows, columns]`\r\n",
        "\r\n",
        "`df.iloc[3:7,:]`\r\n",
        "\r\n",
        "`df.iloc[:4, :]` or equvalently we can omit column : if we want all\r\n",
        "\r\n",
        "`df.iloc[-3:]`"
      ]
    },
    {
      "cell_type": "markdown",
      "metadata": {
        "id": "LwIIca7DLMXs"
      },
      "source": [
        "**Selecting rows with logic I**\r\n",
        "\r\n",
        "You could also select a subset of DataFrame by using logical statements.\r\n",
        "\r\n",
        "`df[df.col_name == some_values]]` we can think of inner part of that expression as being a mask to filter outer df to only see that part from bigger df.\r\n",
        "\r\n",
        "To make logical statements we oftern end up using following comparator operators: `>, <, >=, <=, !=, ==`\r\n",
        "\r\n",
        "**Selecting rows with logic II**\r\n",
        "\r\n",
        "You could also combine the multiple logical statements, as long as each statements is in parenthesis () and that order of parnthesis also matters, so be careful which logical statements you want to filter your data first and so on.\r\n",
        "\r\n",
        "For this task, we often combine: `and &, or |` operations.\r\n",
        "\r\n",
        "Example: `df[(df.col_1 < 30) | (df.col_2 == 'Merry')]`\r\n",
        "\r\n",
        "**Selecting rows with Logic III**\r\n",
        "\r\n",
        "We could use `isin()` command to make multiple checking conditions within a single condition above.\r\n",
        "\r\n",
        "example: `df[(df.col_1 < 30) | (df.col_2.isin(['Merry', 'Sam', 'John']))]`\r\n"
      ]
    },
    {
      "cell_type": "markdown",
      "metadata": {
        "id": "6qrdEXsQNrIy"
      },
      "source": [
        "`reset_index()` helps to make the rows indices arrange from 0 again, since after selecting rows we mess up rows indices.\r\n",
        "\r\n",
        "`reset_index()` returns the new df, but we generally wants to modify the existing ones, so we use `inplac=True` arguments inside of it"
      ]
    },
    {
      "cell_type": "markdown",
      "metadata": {
        "id": "Kwm8t6P-OHho"
      },
      "source": [
        "**Adding a column I**\r\n",
        "\r\n",
        "One easy way to add new column is by giving a list of same length as existing df. \r\n",
        "`df[new_col] = [data1, data2, ...]` same lenght as others\r\n",
        "\r\n",
        "**Adding a column II**\r\n",
        "\r\n",
        "If we know all of the values in that column are same.\r\n",
        "`df[new_col] = True` will create new_col in df that has True value all.\r\n",
        "\r\n",
        "**Adding a column III**\r\n",
        "\r\n",
        "We can add a new column by performing a function on the existing columns.\r\n",
        "`df[new_col] = df.old_col * 0.05`\r\n",
        "\r\n",
        "We can use `apply()` function to every value in a particular column.\r\n",
        "\r\n",
        "`df[new_col] = df.old_col.apply(some_function)` some function could be `len` to find the length of string, for instance. Lambda function comes handy when we use `apply()` to put function inside of it as argument.\r\n",
        "\r\n",
        "Lambda function can have multiple parameters, but only on expression. It is used for single task.\r\n",
        "\r\n",
        "Exmaple: \r\n",
        "\r\n",
        "```python\r\n",
        "def myfunction(x):\r\n",
        "  if x > 40:\r\n",
        "    return 40 + (x-40)*1.50\r\n",
        "  else:\r\n",
        "    return x\r\n",
        "\r\n",
        "myfunction = lambda x: 40 + (x-40)*1.5 if x > 40 else x\r\n",
        "```\r\n",
        "\r\n",
        "**Applying lambda to column of df**\r\n",
        "\r\n",
        "`df[new_col] = df.old_col.apply( lambda x: x.split('@')[-1])` \r\n",
        "\r\n",
        "to get text after @ from email\r\n",
        "\r\n",
        "`df['price with Tax'] = df.apply(lambda row: row['Price'] * 1.075\r\n",
        "if row['Is taxed?'] == 'Yes'\r\n",
        "else row['Price'], axis=1)`\r\n",
        "\r\n",
        "`row[col_name]` to access particular values of the row with col_name"
      ]
    },
    {
      "cell_type": "markdown",
      "metadata": {
        "id": "8cm49dumaWsl"
      },
      "source": [
        "**Renaming columns**\r\n",
        "\r\n",
        "1. `df.columns = ['col1', 'col2', ...]`\r\n",
        "\r\n",
        "2. `df.rename(columns={'old':'new'}, inplace=True)`\r\n"
      ]
    },
    {
      "cell_type": "markdown",
      "metadata": {
        "id": "mVzeWKv0bfv9"
      },
      "source": [
        "<u>**Aggregates in pandas**</u>\r\n",
        "\r\n",
        "We can combine all of the values from a column for a single calculation.\r\n",
        "\r\n",
        "* To find median age from a column age\r\n",
        "`df.age.median()`\r\n",
        "* To know the unique number in a column that has repititious values\r\n",
        "`df.col_name.nunique()`\r\n",
        "* To get just the unique quantities and not numbers of its counts\r\n",
        "`df.col_name.unique()`\r\n",
        "\r\n",
        "General syntax: `df.col_name.command()`\r\n",
        "\r\n",
        "Some of the commands:\r\n",
        "`mean(), min(), max(), std(), count()`"
      ]
    },
    {
      "cell_type": "markdown",
      "metadata": {
        "id": "4G71eNJudRUi"
      },
      "source": [
        "**Calculating Aggregate Functions I**\r\n",
        "\r\n",
        "`df.groupby('col_1').col_2.agg_function()`\r\n",
        "\r\n",
        "`df.goupby('student').grad.mean()`\r\n",
        "\r\n",
        "**Pivot tables:**\r\n",
        "\r\n",
        "Reorganizing a table in a different format so that it becomes easier to analyze is what pivot table does.\r\n",
        "\r\n",
        "`df.pivot(columns='ColsToPivot',\r\n",
        "          index= 'ColsToBeRows',\r\n",
        "          values= 'ColsToBeValues')`\r\n",
        "\r\n",
        "reset_index() to make rows index better."
      ]
    },
    {
      "cell_type": "markdown",
      "metadata": {
        "id": "OQy2LEUte_bV"
      },
      "source": [
        "**merge**\r\n",
        "\r\n",
        "`left, right, how=inner, outer`\r\n",
        "\r\n",
        "**concat**\r\n",
        "\r\n",
        "`pd.concat([df1, df2,...])`\r\n",
        "\r\n",
        "**map**\r\n",
        "\r\n",
        "`df[col_name].map({'male':0\r\n",
        "                    'female':1})`\r\n",
        "\r\n",
        "**fillna**\r\n",
        "\r\n",
        "Fills values in missing places\r\n",
        "\r\n",
        "`df[col_name].fillna(inplace=True, value= df[col_name].mean())`\r\n",
        "\r\n",
        "**dropna**\r\n",
        "\r\n",
        "To get rid of NaN from a column\r\n",
        "\r\n",
        "`df = df.dropna(col_name)`\r\n"
      ]
    },
    {
      "cell_type": "code",
      "metadata": {
        "id": "auoL1YbgGu5I"
      },
      "source": [
        ""
      ],
      "execution_count": null,
      "outputs": []
    }
  ]
}